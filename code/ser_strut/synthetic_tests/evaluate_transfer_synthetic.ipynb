{
 "cells": [
  {
   "cell_type": "code",
   "execution_count": 69,
   "metadata": {
    "collapsed": true
   },
   "outputs": [],
   "source": [
    "%matplotlib inline"
   ]
  },
  {
   "cell_type": "code",
   "execution_count": 1,
   "metadata": {
    "collapsed": true
   },
   "outputs": [],
   "source": [
    "import pickle\n",
    "import pandas as pd\n",
    "import numpy as np\n",
    "import matplotlib.pyplot as plt\n",
    "import seaborn as sns\n",
    "from sklearn import tree"
   ]
  },
  {
   "cell_type": "code",
   "execution_count": 4,
   "metadata": {
    "collapsed": true
   },
   "outputs": [],
   "source": [
    "import graphviz \n",
    "def plot_tree(clf,feature_names, class_names):\n",
    "    dot_data = tree.export_graphviz(clf, out_file=None, \n",
    "                             feature_names=feature_names,  \n",
    "                             class_names=class_names,  \n",
    "                             filled=True,rounded=True,  \n",
    "                             special_characters=True)  \n",
    "    graph = graphviz.Source(dot_data)  \n",
    "    return graph\n",
    "def save_tree(graph,name):\n",
    "    graph.render(name, view=False)"
   ]
  },
  {
   "cell_type": "markdown",
   "metadata": {},
   "source": [
    "# Load source model"
   ]
  },
  {
   "cell_type": "code",
   "execution_count": 2,
   "metadata": {
    "collapsed": true
   },
   "outputs": [],
   "source": [
    "source_model = pickle.load(open(\"source_models/source_D10_C10_Projected_8-10_model.pickle\",\"rb\"))"
   ]
  },
  {
   "cell_type": "markdown",
   "metadata": {},
   "source": [
    "# Test Transfer\n",
    "+ Load data: 4000 to transfer, 1000 to test quality\n",
    "+ Transfer\n",
    "+ Compute Quality Scores\n",
    "+ Save Model, Quality and Plots"
   ]
  },
  {
   "cell_type": "code",
   "execution_count": 15,
   "metadata": {
    "collapsed": true
   },
   "outputs": [],
   "source": [
    "from os import listdir\n",
    "from os.path import join,isfile\n",
    "import copy\n",
    "import sys"
   ]
  },
  {
   "cell_type": "code",
   "execution_count": 16,
   "metadata": {
    "collapsed": true
   },
   "outputs": [],
   "source": [
    "sys.path.append(\"..\")"
   ]
  },
  {
   "cell_type": "code",
   "execution_count": 6,
   "metadata": {},
   "outputs": [],
   "source": [
    "from sklearn.metrics import recall_score,precision_score,f1_score,accuracy_score"
   ]
  },
  {
   "cell_type": "code",
   "execution_count": 27,
   "metadata": {
    "collapsed": true
   },
   "outputs": [],
   "source": [
    "from SER_rec import SER\n",
    "from STRUT import STRUT"
   ]
  },
  {
   "cell_type": "code",
   "execution_count": 31,
   "metadata": {
    "collapsed": true
   },
   "outputs": [],
   "source": [
    "def full_evaluation(clf,X_test,Y_test):\n",
    "    Y_pred = clf.predict(X_test)\n",
    "    recall = recall_score(y_pred=Y_pred,y_true=Y_test,average='weighted')\n",
    "    precision = precision_score(y_pred=Y_pred,y_true=Y_test,average='weighted')\n",
    "    f1 = f1_score(y_pred=Y_pred,y_true=Y_test,average='weighted')\n",
    "    accuracy = accuracy_score(y_pred=Y_pred,y_true=Y_test)\n",
    "    return {\"recall\":recall,\"precision\":precision,\"f1\":f1,\"accuracy\":accuracy}"
   ]
  },
  {
   "cell_type": "markdown",
   "metadata": {},
   "source": [
    "# Use a large sample"
   ]
  },
  {
   "cell_type": "code",
   "execution_count": 45,
   "metadata": {},
   "outputs": [
    {
     "name": "stdout",
     "output_type": "stream",
     "text": [
      ".DS_Store\n",
      "target_D10_C10_Projected_8-10_df_bigger_cluster_0.csv\n",
      "target_D10_C10_Projected_8-10_df_bigger_cluster_1.csv\n",
      "target_D10_C10_Projected_8-10_df_bigger_cluster_2.csv\n",
      "target_D10_C10_Projected_8-10_df_bigger_cluster_3.csv\n",
      "target_D10_C10_Projected_8-10_df_bigger_cluster_4.csv\n",
      "target_D10_C10_Projected_8-10_df_bigger_cluster_5.csv\n",
      "target_D10_C10_Projected_8-10_df_bigger_cluster_6.csv\n",
      "target_D10_C10_Projected_8-10_df_bigger_cluster_7.csv\n",
      "target_D10_C10_Projected_8-10_df_bigger_cluster_8.csv\n",
      "target_D10_C10_Projected_8-10_df_bigger_cluster_9.csv\n",
      "target_D10_C10_Projected_8-10_df_density_feature_0.csv\n",
      "target_D10_C10_Projected_8-10_df_density_feature_1.csv\n",
      "target_D10_C10_Projected_8-10_df_density_feature_2.csv\n",
      "target_D10_C10_Projected_8-10_df_density_feature_3.csv\n",
      "target_D10_C10_Projected_8-10_df_density_feature_4.csv\n",
      "target_D10_C10_Projected_8-10_df_density_feature_5.csv\n",
      "target_D10_C10_Projected_8-10_df_density_feature_6.csv\n",
      "target_D10_C10_Projected_8-10_df_density_feature_7.csv\n",
      "target_D10_C10_Projected_8-10_df_density_feature_8.csv\n",
      "target_D10_C10_Projected_8-10_df_density_feature_9.csv\n",
      "target_D10_C10_Projected_8-10_df_drift_feature_0.csv\n",
      "target_D10_C10_Projected_8-10_df_drift_feature_1.csv\n",
      "target_D10_C10_Projected_8-10_df_drift_feature_2.csv\n",
      "target_D10_C10_Projected_8-10_df_drift_feature_3.csv\n",
      "target_D10_C10_Projected_8-10_df_drift_feature_4.csv\n",
      "target_D10_C10_Projected_8-10_df_drift_feature_5.csv\n",
      "target_D10_C10_Projected_8-10_df_drift_feature_6.csv\n",
      "target_D10_C10_Projected_8-10_df_drift_feature_7.csv\n",
      "target_D10_C10_Projected_8-10_df_drift_feature_8.csv\n",
      "target_D10_C10_Projected_8-10_df_drift_feature_9.csv\n",
      "target_D10_C10_Projected_8-10_df_erase_feature_0.csv\n",
      "target_D10_C10_Projected_8-10_df_erase_feature_1.csv\n",
      "target_D10_C10_Projected_8-10_df_erase_feature_2.csv\n",
      "target_D10_C10_Projected_8-10_df_erase_feature_3.csv\n",
      "target_D10_C10_Projected_8-10_df_erase_feature_4.csv\n",
      "target_D10_C10_Projected_8-10_df_erase_feature_5.csv\n",
      "target_D10_C10_Projected_8-10_df_erase_feature_6.csv\n",
      "target_D10_C10_Projected_8-10_df_erase_feature_7.csv\n",
      "target_D10_C10_Projected_8-10_df_erase_feature_8.csv\n",
      "target_D10_C10_Projected_8-10_df_erase_feature_9.csv\n",
      "target_D10_C10_Projected_8-10_df_gain_feature_0.csv\n",
      "target_D10_C10_Projected_8-10_df_gain_feature_1.csv\n",
      "target_D10_C10_Projected_8-10_df_gain_feature_2.csv\n",
      "target_D10_C10_Projected_8-10_df_gain_feature_3.csv\n",
      "target_D10_C10_Projected_8-10_df_gain_feature_4.csv\n",
      "target_D10_C10_Projected_8-10_df_gain_feature_5.csv\n",
      "target_D10_C10_Projected_8-10_df_gain_feature_6.csv\n",
      "target_D10_C10_Projected_8-10_df_gain_feature_7.csv\n",
      "target_D10_C10_Projected_8-10_df_gain_feature_8.csv\n",
      "target_D10_C10_Projected_8-10_df_gain_feature_9.csv\n",
      "target_D10_C10_Projected_8-10_df_smaller_cluster_0.csv\n",
      "target_D10_C10_Projected_8-10_df_smaller_cluster_1.csv\n",
      "target_D10_C10_Projected_8-10_df_smaller_cluster_2.csv\n",
      "target_D10_C10_Projected_8-10_df_smaller_cluster_3.csv\n",
      "target_D10_C10_Projected_8-10_df_smaller_cluster_4.csv\n",
      "target_D10_C10_Projected_8-10_df_smaller_cluster_5.csv\n",
      "target_D10_C10_Projected_8-10_df_smaller_cluster_6.csv\n",
      "target_D10_C10_Projected_8-10_df_smaller_cluster_7.csv\n",
      "target_D10_C10_Projected_8-10_df_smaller_cluster_8.csv\n",
      "target_D10_C10_Projected_8-10_df_smaller_cluster_9.csv\n",
      "target_generator_bigger_cluster_0.pickle\n",
      "target_generator_bigger_cluster_1.pickle\n",
      "target_generator_bigger_cluster_2.pickle\n",
      "target_generator_bigger_cluster_3.pickle\n",
      "target_generator_bigger_cluster_4.pickle\n",
      "target_generator_bigger_cluster_5.pickle\n",
      "target_generator_bigger_cluster_6.pickle\n",
      "target_generator_bigger_cluster_7.pickle\n",
      "target_generator_bigger_cluster_8.pickle\n",
      "target_generator_bigger_cluster_9.pickle\n",
      "target_generator_density_feature_0.pickle\n",
      "target_generator_density_feature_1.pickle\n",
      "target_generator_density_feature_2.pickle\n",
      "target_generator_density_feature_3.pickle\n",
      "target_generator_density_feature_4.pickle\n",
      "target_generator_density_feature_5.pickle\n",
      "target_generator_density_feature_6.pickle\n",
      "target_generator_density_feature_7.pickle\n",
      "target_generator_density_feature_8.pickle\n",
      "target_generator_density_feature_9.pickle\n",
      "target_generator_drift_feature_0.pickle\n",
      "target_generator_drift_feature_1.pickle\n",
      "target_generator_drift_feature_2.pickle\n",
      "target_generator_drift_feature_3.pickle\n",
      "target_generator_drift_feature_4.pickle\n",
      "target_generator_drift_feature_5.pickle\n",
      "target_generator_drift_feature_6.pickle\n",
      "target_generator_drift_feature_7.pickle\n",
      "target_generator_drift_feature_8.pickle\n",
      "target_generator_drift_feature_9.pickle\n",
      "target_generator_erase_feature_0.pickle\n",
      "target_generator_erase_feature_1.pickle\n",
      "target_generator_erase_feature_2.pickle\n",
      "target_generator_erase_feature_3.pickle\n",
      "target_generator_erase_feature_4.pickle\n",
      "target_generator_erase_feature_5.pickle\n",
      "target_generator_erase_feature_6.pickle\n",
      "target_generator_erase_feature_7.pickle\n",
      "target_generator_erase_feature_8.pickle\n",
      "target_generator_erase_feature_9.pickle\n",
      "target_generator_gain_feature_0.pickle\n",
      "target_generator_gain_feature_1.pickle\n",
      "target_generator_gain_feature_2.pickle\n",
      "target_generator_gain_feature_3.pickle\n",
      "target_generator_gain_feature_4.pickle\n",
      "target_generator_gain_feature_5.pickle\n",
      "target_generator_gain_feature_6.pickle\n",
      "target_generator_gain_feature_7.pickle\n",
      "target_generator_gain_feature_8.pickle\n",
      "target_generator_gain_feature_9.pickle\n",
      "target_generator_smaller_cluster_0.pickle\n",
      "target_generator_smaller_cluster_1.pickle\n",
      "target_generator_smaller_cluster_2.pickle\n",
      "target_generator_smaller_cluster_3.pickle\n",
      "target_generator_smaller_cluster_4.pickle\n",
      "target_generator_smaller_cluster_5.pickle\n",
      "target_generator_smaller_cluster_6.pickle\n",
      "target_generator_smaller_cluster_7.pickle\n",
      "target_generator_smaller_cluster_8.pickle\n",
      "target_generator_smaller_cluster_9.pickle\n"
     ]
    }
   ],
   "source": [
    "folder_target_datasets = \"synthetic_datasets/target/\"\n",
    "folder_target_models = \"target_models/\"\n",
    "strut_results_large_sample = pd.DataFrame(columns=[\"recall\",\"precision\",\"f1\",\"accuracy\"])\n",
    "#ser_results = pd.DataFrame(columns=[\"recall\",\"precision\",\"f1\",\"accuracy\"])\n",
    "source_results_large_sample = pd.DataFrame(columns=[\"recall\",\"precision\",\"f1\",\"accuracy\"])\n",
    "for fname in listdir(folder_target_datasets):\n",
    "    print fname\n",
    "    if \".csv\" in fname and fname[0] != \".\":\n",
    "        path = join(folder_target_datasets,fname)\n",
    "        if isfile(path):\n",
    "            df = pd.read_csv(path,index_col=0,header=0)\n",
    "            # generate train set\n",
    "            df_train = df.iloc[:4000,:]\n",
    "            X_train = df_train[[str(_) for _ in range(10)]].values\n",
    "            Y_train = df_train[\"cluster\"].values\n",
    "            # generate test set\n",
    "            df_test = df.iloc[4000:,:]\n",
    "            X_test = df_test[[str(_) for _ in range(10)]].values\n",
    "            Y_test = df_test[\"cluster\"].values\n",
    "            # transfer\n",
    "            target_model_ser = copy.deepcopy(source_model)\n",
    "            target_model_strut = copy.deepcopy(source_model)\n",
    "            STRUT(target_model_strut,0,X_train,Y_train,1)\n",
    "            #SER(0, target_model_ser, X_train,Y_train)\n",
    "            # Evaluate\n",
    "            strut_results_large_sample.loc[fname] = full_evaluation(target_model_strut,X_test,Y_test)\n",
    "            #ser_resutls.loc[fname] = full_evaluation(target_model_ser,X_test,Y_test)\n",
    "            source_results_large_sample.loc[fname] = full_evaluation(source_model,X_test,Y_test)\n",
    "            # Save results\n",
    "            base_name = fname.split(\".\")[0]\n",
    "            strut_folder = join(folder_target_models,\"STRUT/large_sample/\")\n",
    "            strut_base_name = join(strut_folder,base_name)\n",
    "            pickle.dump(target_model_strut, open(strut_base_name+\".pickle\",\"wb\"))\n",
    "            graph = plot_tree(target_model_strut,[\"f\"+str(f) for f in range(10)], [\"c\"+str(c) for c in range(10)])\n",
    "            save_tree(graph,strut_base_name+\"_graph.gv\")"
   ]
  },
  {
   "cell_type": "markdown",
   "metadata": {},
   "source": [
    "# Use a Small sample"
   ]
  },
  {
   "cell_type": "code",
   "execution_count": 60,
   "metadata": {},
   "outputs": [
    {
     "name": "stdout",
     "output_type": "stream",
     "text": [
      ".DS_Store\n",
      "target_D10_C10_Projected_8-10_df_bigger_cluster_0.csv\n",
      "target_D10_C10_Projected_8-10_df_bigger_cluster_1.csv\n",
      "target_D10_C10_Projected_8-10_df_bigger_cluster_2.csv\n",
      "target_D10_C10_Projected_8-10_df_bigger_cluster_3.csv\n",
      "target_D10_C10_Projected_8-10_df_bigger_cluster_4.csv\n",
      "target_D10_C10_Projected_8-10_df_bigger_cluster_5.csv\n",
      "target_D10_C10_Projected_8-10_df_bigger_cluster_6.csv\n",
      "target_D10_C10_Projected_8-10_df_bigger_cluster_7.csv\n",
      "target_D10_C10_Projected_8-10_df_bigger_cluster_8.csv\n",
      "target_D10_C10_Projected_8-10_df_bigger_cluster_9.csv\n",
      "target_D10_C10_Projected_8-10_df_density_feature_0.csv\n",
      "target_D10_C10_Projected_8-10_df_density_feature_1.csv\n",
      "target_D10_C10_Projected_8-10_df_density_feature_2.csv\n",
      "target_D10_C10_Projected_8-10_df_density_feature_3.csv\n",
      "target_D10_C10_Projected_8-10_df_density_feature_4.csv\n",
      "target_D10_C10_Projected_8-10_df_density_feature_5.csv\n",
      "target_D10_C10_Projected_8-10_df_density_feature_6.csv\n",
      "target_D10_C10_Projected_8-10_df_density_feature_7.csv\n",
      "target_D10_C10_Projected_8-10_df_density_feature_8.csv\n",
      "target_D10_C10_Projected_8-10_df_density_feature_9.csv\n",
      "target_D10_C10_Projected_8-10_df_drift_feature_0.csv\n",
      "target_D10_C10_Projected_8-10_df_drift_feature_1.csv\n",
      "target_D10_C10_Projected_8-10_df_drift_feature_2.csv\n",
      "target_D10_C10_Projected_8-10_df_drift_feature_3.csv\n",
      "target_D10_C10_Projected_8-10_df_drift_feature_4.csv\n",
      "target_D10_C10_Projected_8-10_df_drift_feature_5.csv\n",
      "target_D10_C10_Projected_8-10_df_drift_feature_6.csv\n",
      "target_D10_C10_Projected_8-10_df_drift_feature_7.csv\n",
      "target_D10_C10_Projected_8-10_df_drift_feature_8.csv\n",
      "target_D10_C10_Projected_8-10_df_drift_feature_9.csv\n",
      "target_D10_C10_Projected_8-10_df_erase_feature_0.csv\n",
      "target_D10_C10_Projected_8-10_df_erase_feature_1.csv\n",
      "target_D10_C10_Projected_8-10_df_erase_feature_2.csv\n",
      "target_D10_C10_Projected_8-10_df_erase_feature_3.csv\n",
      "target_D10_C10_Projected_8-10_df_erase_feature_4.csv\n",
      "target_D10_C10_Projected_8-10_df_erase_feature_5.csv\n",
      "target_D10_C10_Projected_8-10_df_erase_feature_6.csv\n",
      "target_D10_C10_Projected_8-10_df_erase_feature_7.csv\n",
      "target_D10_C10_Projected_8-10_df_erase_feature_8.csv\n",
      "target_D10_C10_Projected_8-10_df_erase_feature_9.csv\n",
      "target_D10_C10_Projected_8-10_df_gain_feature_0.csv\n",
      "target_D10_C10_Projected_8-10_df_gain_feature_1.csv\n",
      "target_D10_C10_Projected_8-10_df_gain_feature_2.csv\n",
      "target_D10_C10_Projected_8-10_df_gain_feature_3.csv\n",
      "target_D10_C10_Projected_8-10_df_gain_feature_4.csv\n",
      "target_D10_C10_Projected_8-10_df_gain_feature_5.csv\n",
      "target_D10_C10_Projected_8-10_df_gain_feature_6.csv\n",
      "target_D10_C10_Projected_8-10_df_gain_feature_7.csv\n",
      "target_D10_C10_Projected_8-10_df_gain_feature_8.csv\n",
      "target_D10_C10_Projected_8-10_df_gain_feature_9.csv\n",
      "target_D10_C10_Projected_8-10_df_smaller_cluster_0.csv\n",
      "target_D10_C10_Projected_8-10_df_smaller_cluster_1.csv\n",
      "target_D10_C10_Projected_8-10_df_smaller_cluster_2.csv\n",
      "target_D10_C10_Projected_8-10_df_smaller_cluster_3.csv\n",
      "target_D10_C10_Projected_8-10_df_smaller_cluster_4.csv\n",
      "target_D10_C10_Projected_8-10_df_smaller_cluster_5.csv\n",
      "target_D10_C10_Projected_8-10_df_smaller_cluster_6.csv\n",
      "target_D10_C10_Projected_8-10_df_smaller_cluster_7.csv\n",
      "target_D10_C10_Projected_8-10_df_smaller_cluster_8.csv\n",
      "target_D10_C10_Projected_8-10_df_smaller_cluster_9.csv\n",
      "target_generator_bigger_cluster_0.pickle\n",
      "target_generator_bigger_cluster_1.pickle\n",
      "target_generator_bigger_cluster_2.pickle\n",
      "target_generator_bigger_cluster_3.pickle\n",
      "target_generator_bigger_cluster_4.pickle\n",
      "target_generator_bigger_cluster_5.pickle\n",
      "target_generator_bigger_cluster_6.pickle\n",
      "target_generator_bigger_cluster_7.pickle\n",
      "target_generator_bigger_cluster_8.pickle\n",
      "target_generator_bigger_cluster_9.pickle\n",
      "target_generator_density_feature_0.pickle\n",
      "target_generator_density_feature_1.pickle\n",
      "target_generator_density_feature_2.pickle\n",
      "target_generator_density_feature_3.pickle\n",
      "target_generator_density_feature_4.pickle\n",
      "target_generator_density_feature_5.pickle\n",
      "target_generator_density_feature_6.pickle\n",
      "target_generator_density_feature_7.pickle\n",
      "target_generator_density_feature_8.pickle\n",
      "target_generator_density_feature_9.pickle\n",
      "target_generator_drift_feature_0.pickle\n",
      "target_generator_drift_feature_1.pickle\n",
      "target_generator_drift_feature_2.pickle\n",
      "target_generator_drift_feature_3.pickle\n",
      "target_generator_drift_feature_4.pickle\n",
      "target_generator_drift_feature_5.pickle\n",
      "target_generator_drift_feature_6.pickle\n",
      "target_generator_drift_feature_7.pickle\n",
      "target_generator_drift_feature_8.pickle\n",
      "target_generator_drift_feature_9.pickle\n",
      "target_generator_erase_feature_0.pickle\n",
      "target_generator_erase_feature_1.pickle\n",
      "target_generator_erase_feature_2.pickle\n",
      "target_generator_erase_feature_3.pickle\n",
      "target_generator_erase_feature_4.pickle\n",
      "target_generator_erase_feature_5.pickle\n",
      "target_generator_erase_feature_6.pickle\n",
      "target_generator_erase_feature_7.pickle\n",
      "target_generator_erase_feature_8.pickle\n",
      "target_generator_erase_feature_9.pickle\n",
      "target_generator_gain_feature_0.pickle\n",
      "target_generator_gain_feature_1.pickle\n",
      "target_generator_gain_feature_2.pickle\n",
      "target_generator_gain_feature_3.pickle\n",
      "target_generator_gain_feature_4.pickle\n",
      "target_generator_gain_feature_5.pickle\n",
      "target_generator_gain_feature_6.pickle\n",
      "target_generator_gain_feature_7.pickle\n",
      "target_generator_gain_feature_8.pickle\n",
      "target_generator_gain_feature_9.pickle\n",
      "target_generator_smaller_cluster_0.pickle\n",
      "target_generator_smaller_cluster_1.pickle\n",
      "target_generator_smaller_cluster_2.pickle\n",
      "target_generator_smaller_cluster_3.pickle\n",
      "target_generator_smaller_cluster_4.pickle\n",
      "target_generator_smaller_cluster_5.pickle\n",
      "target_generator_smaller_cluster_6.pickle\n",
      "target_generator_smaller_cluster_7.pickle\n",
      "target_generator_smaller_cluster_8.pickle\n",
      "target_generator_smaller_cluster_9.pickle\n"
     ]
    }
   ],
   "source": [
    "folder_target_datasets = \"synthetic_datasets/target/\"\n",
    "folder_target_models = \"target_models/\"\n",
    "strut_results_small_sample = pd.DataFrame(columns=[\"recall\",\"precision\",\"f1\",\"accuracy\"])\n",
    "#ser_results = pd.DataFrame(columns=[\"recall\",\"precision\",\"f1\",\"accuracy\"])\n",
    "source_results_small_sample = pd.DataFrame(columns=[\"recall\",\"precision\",\"f1\",\"accuracy\"])\n",
    "for fname in listdir(folder_target_datasets):\n",
    "    print fname\n",
    "    if \".csv\" in fname and fname[0] != \".\":\n",
    "        path = join(folder_target_datasets,fname)\n",
    "        if isfile(path):\n",
    "            df = pd.read_csv(path,index_col=0,header=0)\n",
    "            # generate train set\n",
    "            df_train = df.iloc[:50,:]\n",
    "            X_train = df_train[[str(_) for _ in range(10)]].values\n",
    "            Y_train = df_train[\"cluster\"].values\n",
    "            # generate test set\n",
    "            df_test = df.iloc[50:,:]\n",
    "            X_test = df_test[[str(_) for _ in range(10)]].values\n",
    "            Y_test = df_test[\"cluster\"].values\n",
    "            # transfer\n",
    "            target_model_ser = copy.deepcopy(source_model)\n",
    "            target_model_strut = copy.deepcopy(source_model)\n",
    "            STRUT(target_model_strut,0,X_train,Y_train,1)\n",
    "            #SER(0, target_model_ser, X_train,Y_train)\n",
    "            # Evaluate\n",
    "            strut_results_small_sample.loc[fname] = full_evaluation(target_model_strut,X_test,Y_test)\n",
    "            #ser_resutls.loc[fname] = full_evaluation(target_model_ser,X_test,Y_test)\n",
    "            source_results_small_sample.loc[fname] = full_evaluation(source_model,X_test,Y_test)\n",
    "            # Save results\n",
    "            base_name = fname.split(\".\")[0]\n",
    "            strut_folder = join(folder_target_models,\"STRUT/small_sample/\")\n",
    "            strut_base_name = join(strut_folder,base_name)\n",
    "            pickle.dump(target_model_strut, open(strut_base_name+\".pickle\",\"wb\"))\n",
    "            graph = plot_tree(target_model_strut,[\"f\"+str(f) for f in range(10)], [\"c\"+str(c) for c in range(10)])\n",
    "            save_tree(graph,strut_base_name+\"_graph.gv\")"
   ]
  },
  {
   "cell_type": "markdown",
   "metadata": {},
   "source": [
    "# Degradation due to small sample"
   ]
  },
  {
   "cell_type": "code",
   "execution_count": 67,
   "metadata": {
    "collapsed": true
   },
   "outputs": [],
   "source": [
    "strut_results_small_sample.index = [ index.split(\"df_\")[-1] for index in strut_results_small_sample.index]\n",
    "strut_results_large_sample.index = [ index.split(\"df_\")[-1] for index in strut_results_large_sample.index]"
   ]
  },
  {
   "cell_type": "code",
   "execution_count": 68,
   "metadata": {},
   "outputs": [],
   "source": [
    "degradation = (strut_results_small_sample - strut_results_large_sample).abs()"
   ]
  },
  {
   "cell_type": "code",
   "execution_count": 79,
   "metadata": {},
   "outputs": [
    {
     "data": {
      "image/png": "[encoded data removed]",
      "text/plain": [
       "<matplotlib.figure.Figure at 0x10fef5210>"
      ]
     },
     "metadata": {},
     "output_type": "display_data"
    }
   ],
   "source": [
    "fig, ax = plt.subplots(figsize=(3.5,8))\n",
    "sns.heatmap(strut_results_large_sample,ax=ax)\n",
    "_=plt.xticks(fontsize=12)\n",
    "_=plt.yticks(fontsize=10)"
   ]
  },
  {
   "cell_type": "code",
   "execution_count": 80,
   "metadata": {},
   "outputs": [
    {
     "data": {
      "image/png": "[encoded data removed]",
      "text/plain": [
       "<matplotlib.figure.Figure at 0x11191a2d0>"
      ]
     },
     "metadata": {},
     "output_type": "display_data"
    }
   ],
   "source": [
    "fig, ax = plt.subplots(figsize=(3.5,8))\n",
    "sns.heatmap(strut_results_small_sample,ax=ax)\n",
    "_=plt.xticks(fontsize=12)\n",
    "_=plt.yticks(fontsize=10)"
   ]
  },
  {
   "cell_type": "code",
   "execution_count": 81,
   "metadata": {},
   "outputs": [
    {
     "data": {
      "image/png": "[encoded data removed]",
      "text/plain": [
       "<matplotlib.figure.Figure at 0x111456310>"
      ]
     },
     "metadata": {},
     "output_type": "display_data"
    }
   ],
   "source": [
    "fig, ax = plt.subplots(figsize=(3.5,8))\n",
    "sns.heatmap(degradation,ax=ax)\n",
    "_=plt.xticks(fontsize=12)\n",
    "_=plt.yticks(fontsize=10)"
   ]
  },
  {
   "cell_type": "code",
   "execution_count": null,
   "metadata": {
    "collapsed": true
   },
   "outputs": [],
   "source": []
  }
 ],
 "metadata": {
  "kernelspec": {
   "display_name": "Python 2",
   "language": "python",
   "name": "python2"
  },
  "language_info": {
   "codemirror_mode": {
    "name": "ipython",
    "version": 2
   },
   "file_extension": ".py",
   "mimetype": "text/x-python",
   "name": "python",
   "nbconvert_exporter": "python",
   "pygments_lexer": "ipython2",
   "version": "2.7.11"
  }
 },
 "nbformat": 4,
 "nbformat_minor": 2
}
