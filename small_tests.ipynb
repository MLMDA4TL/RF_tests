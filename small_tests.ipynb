{
 "cells": [
  {
   "cell_type": "code",
   "execution_count": 90,
   "metadata": {
    "collapsed": true
   },
   "outputs": [],
   "source": [
    "%matplotlib inline"
   ]
  },
  {
   "cell_type": "code",
   "execution_count": 91,
   "metadata": {
    "collapsed": true
   },
   "outputs": [],
   "source": [
    "import numpy as np\n",
    "from sklearn import tree\n",
    "from sklearn.datasets import load_iris\n",
    "import matplotlib.pyplot as plt"
   ]
  },
  {
   "cell_type": "markdown",
   "metadata": {},
   "source": [
    "## Create test dataset"
   ]
  },
  {
   "cell_type": "code",
   "execution_count": 189,
   "metadata": {},
   "outputs": [],
   "source": [
    "dataset_length = 100\n",
    "D = 2\n",
    "X = np.random.randn(dataset_length,D)*0.1\n",
    "X[0:dataset_length/2,0] += 0.2\n",
    "X[0:dataset_length/2,1] += 1\n",
    "Y = np.ones(dataset_length)\n",
    "Y[0:dataset_length/2] *= 0"
   ]
  },
  {
   "cell_type": "code",
   "execution_count": 190,
   "metadata": {},
   "outputs": [
    {
     "data": {
      "text/plain": [
       "[<matplotlib.lines.Line2D at 0x10ad36fd0>]"
      ]
     },
     "execution_count": 190,
     "metadata": {},
     "output_type": "execute_result"
    },
    {
     "data": {
      "image/png": "[encoded data removed]",
      "text/plain": [
       "<matplotlib.figure.Figure at 0x10ac76390>"
      ]
     },
     "metadata": {},
     "output_type": "display_data"
    }
   ],
   "source": [
    "plt.plot(X[:,0],X[:,1],\"o\")"
   ]
  },
  {
   "cell_type": "markdown",
   "metadata": {},
   "source": [
    "## Create a Decision Tree trained on this dataset"
   ]
  },
  {
   "cell_type": "code",
   "execution_count": 191,
   "metadata": {
    "collapsed": true
   },
   "outputs": [],
   "source": [
    "clf = tree.DecisionTreeClassifier()\n",
    "clf = clf.fit(X, Y)"
   ]
  },
  {
   "cell_type": "code",
   "execution_count": 192,
   "metadata": {},
   "outputs": [
    {
     "data": {
      "image/svg+xml": [
       "<?xml version=\"1.0\" encoding=\"UTF-8\" standalone=\"no\"?>\n",
       "<!DOCTYPE svg PUBLIC \"-//W3C//DTD SVG 1.1//EN\"\n",
       " \"http://www.w3.org/Graphics/SVG/1.1/DTD/svg11.dtd\">\n",
       "<!-- Generated by graphviz version 2.36.0 (20140111.2315)\n",
       " -->\n",
       "<!-- Title: Tree Pages: 1 -->\n",
       "<svg width=\"250pt\" height=\"196pt\"\n",
       " viewBox=\"0.00 0.00 250.00 196.00\" xmlns=\"http://www.w3.org/2000/svg\" xmlns:xlink=\"http://www.w3.org/1999/xlink\">\n",
       "<g id=\"graph0\" class=\"graph\" transform=\"scale(1 1) rotate(0) translate(4 192)\">\n",
       "<title>Tree</title>\n",
       "<polygon fill=\"white\" stroke=\"none\" points=\"-4,4 -4,-192 246,-192 246,4 -4,4\"/>\n",
       "<!-- 0 -->\n",
       "<g id=\"node1\" class=\"node\"><title>0</title>\n",
       "<path fill=\"none\" stroke=\"black\" d=\"M172,-187.5C172,-187.5 70,-187.5 70,-187.5 64,-187.5 58,-181.5 58,-175.5 58,-175.5 58,-116.5 58,-116.5 58,-110.5 64,-104.5 70,-104.5 70,-104.5 172,-104.5 172,-104.5 178,-104.5 184,-110.5 184,-116.5 184,-116.5 184,-175.5 184,-175.5 184,-181.5 178,-187.5 172,-187.5\"/>\n",
       "<text text-anchor=\"start\" x=\"66\" y=\"-172.3\" font-family=\"Helvetica,sans-Serif\" font-size=\"14.00\">feature_1 ≤ 0.542</text>\n",
       "<text text-anchor=\"start\" x=\"92\" y=\"-157.3\" font-family=\"Helvetica,sans-Serif\" font-size=\"14.00\">gini = 0.5</text>\n",
       "<text text-anchor=\"start\" x=\"75\" y=\"-142.3\" font-family=\"Helvetica,sans-Serif\" font-size=\"14.00\">samples = 100</text>\n",
       "<text text-anchor=\"start\" x=\"72.5\" y=\"-127.3\" font-family=\"Helvetica,sans-Serif\" font-size=\"14.00\">value = [50, 50]</text>\n",
       "<text text-anchor=\"start\" x=\"73\" y=\"-112.3\" font-family=\"Helvetica,sans-Serif\" font-size=\"14.00\">class = class_0</text>\n",
       "</g>\n",
       "<!-- 1 -->\n",
       "<g id=\"node2\" class=\"node\"><title>1</title>\n",
       "<path fill=\"#399de5\" stroke=\"black\" d=\"M100,-68C100,-68 12,-68 12,-68 6,-68 7.10543e-15,-62 7.10543e-15,-56 7.10543e-15,-56 7.10543e-15,-12 7.10543e-15,-12 7.10543e-15,-6 6,-0 12,-0 12,-0 100,-0 100,-0 106,-0 112,-6 112,-12 112,-12 112,-56 112,-56 112,-62 106,-68 100,-68\"/>\n",
       "<text text-anchor=\"start\" x=\"27\" y=\"-52.8\" font-family=\"Helvetica,sans-Serif\" font-size=\"14.00\">gini = 0.0</text>\n",
       "<text text-anchor=\"start\" x=\"14\" y=\"-37.8\" font-family=\"Helvetica,sans-Serif\" font-size=\"14.00\">samples = 50</text>\n",
       "<text text-anchor=\"start\" x=\"11.5\" y=\"-22.8\" font-family=\"Helvetica,sans-Serif\" font-size=\"14.00\">value = [0, 50]</text>\n",
       "<text text-anchor=\"start\" x=\"8\" y=\"-7.8\" font-family=\"Helvetica,sans-Serif\" font-size=\"14.00\">class = class_1</text>\n",
       "</g>\n",
       "<!-- 0&#45;&gt;1 -->\n",
       "<g id=\"edge1\" class=\"edge\"><title>0&#45;&gt;1</title>\n",
       "<path fill=\"none\" stroke=\"black\" d=\"M96.9811,-104.353C91.7192,-95.4478 86.1384,-86.0034 80.8449,-77.0452\"/>\n",
       "<polygon fill=\"black\" stroke=\"black\" points=\"83.7702,-75.1157 75.6696,-68.287 77.7437,-78.6768 83.7702,-75.1157\"/>\n",
       "<text text-anchor=\"middle\" x=\"69.4435\" y=\"-88.7993\" font-family=\"Helvetica,sans-Serif\" font-size=\"14.00\">True</text>\n",
       "</g>\n",
       "<!-- 2 -->\n",
       "<g id=\"node3\" class=\"node\"><title>2</title>\n",
       "<path fill=\"#e58139\" stroke=\"black\" d=\"M230,-68C230,-68 142,-68 142,-68 136,-68 130,-62 130,-56 130,-56 130,-12 130,-12 130,-6 136,-0 142,-0 142,-0 230,-0 230,-0 236,-0 242,-6 242,-12 242,-12 242,-56 242,-56 242,-62 236,-68 230,-68\"/>\n",
       "<text text-anchor=\"start\" x=\"157\" y=\"-52.8\" font-family=\"Helvetica,sans-Serif\" font-size=\"14.00\">gini = 0.0</text>\n",
       "<text text-anchor=\"start\" x=\"144\" y=\"-37.8\" font-family=\"Helvetica,sans-Serif\" font-size=\"14.00\">samples = 50</text>\n",
       "<text text-anchor=\"start\" x=\"141.5\" y=\"-22.8\" font-family=\"Helvetica,sans-Serif\" font-size=\"14.00\">value = [50, 0]</text>\n",
       "<text text-anchor=\"start\" x=\"138\" y=\"-7.8\" font-family=\"Helvetica,sans-Serif\" font-size=\"14.00\">class = class_0</text>\n",
       "</g>\n",
       "<!-- 0&#45;&gt;2 -->\n",
       "<g id=\"edge2\" class=\"edge\"><title>0&#45;&gt;2</title>\n",
       "<path fill=\"none\" stroke=\"black\" d=\"M145.019,-104.353C150.281,-95.4478 155.862,-86.0034 161.155,-77.0452\"/>\n",
       "<polygon fill=\"black\" stroke=\"black\" points=\"164.256,-78.6768 166.33,-68.287 158.23,-75.1157 164.256,-78.6768\"/>\n",
       "<text text-anchor=\"middle\" x=\"172.556\" y=\"-88.7993\" font-family=\"Helvetica,sans-Serif\" font-size=\"14.00\">False</text>\n",
       "</g>\n",
       "</g>\n",
       "</svg>\n"
      ],
      "text/plain": [
       "<graphviz.files.Source at 0x10aca9710>"
      ]
     },
     "execution_count": 192,
     "metadata": {},
     "output_type": "execute_result"
    }
   ],
   "source": [
    "import graphviz \n",
    "dot_data = tree.export_graphviz(clf, out_file=None, \n",
    "                         feature_names=[\"feature_\"+str(i) for i in range(D)],  \n",
    "                         class_names=[\"class_0\", \"class_1\"],  \n",
    "                         filled=True, rounded=True,  \n",
    "                         special_characters=True)  \n",
    "\n",
    "graph = graphviz.Source(dot_data)  \n",
    "graph "
   ]
  },
  {
   "cell_type": "markdown",
   "metadata": {},
   "source": [
    "### Modify the threshold of the tree\n",
    "+ The first threshold is splitting the dataset along feature_1 at location 0.51\n",
    "+ Let us classify the point [0.1, 0.5]"
   ]
  },
  {
   "cell_type": "code",
   "execution_count": 7,
   "metadata": {},
   "outputs": [
    {
     "data": {
      "text/plain": [
       "array([ 0.51118094, -2.        , -2.        ])"
      ]
     },
     "execution_count": 7,
     "metadata": {},
     "output_type": "execute_result"
    }
   ],
   "source": [
    "clf.tree_.threshold"
   ]
  },
  {
   "cell_type": "code",
   "execution_count": 8,
   "metadata": {},
   "outputs": [
    {
     "data": {
      "text/plain": [
       "array([ 1.])"
      ]
     },
     "execution_count": 8,
     "metadata": {},
     "output_type": "execute_result"
    }
   ],
   "source": [
    "clf.predict(np.asarray([[0.1,0.5]]))"
   ]
  },
  {
   "cell_type": "code",
   "execution_count": 9,
   "metadata": {},
   "outputs": [
    {
     "data": {
      "text/plain": [
       "array([[1, 1, 0]])"
      ]
     },
     "execution_count": 9,
     "metadata": {},
     "output_type": "execute_result"
    }
   ],
   "source": [
    "clf.decision_path(np.asarray([[0.1,0.5]])).toarray()"
   ]
  },
  {
   "cell_type": "markdown",
   "metadata": {},
   "source": [
    "+ Let us modify the threshold and put it equal to 0\n",
    "+ Let us classify the same point"
   ]
  },
  {
   "cell_type": "code",
   "execution_count": 10,
   "metadata": {
    "collapsed": true
   },
   "outputs": [],
   "source": [
    "clf.tree_.threshold[0] = 0"
   ]
  },
  {
   "cell_type": "code",
   "execution_count": 11,
   "metadata": {},
   "outputs": [
    {
     "data": {
      "text/plain": [
       "array([ 0.])"
      ]
     },
     "execution_count": 11,
     "metadata": {},
     "output_type": "execute_result"
    }
   ],
   "source": [
    "clf.predict(np.asarray([[0.1,0.5]]))"
   ]
  },
  {
   "cell_type": "code",
   "execution_count": 12,
   "metadata": {},
   "outputs": [
    {
     "data": {
      "text/plain": [
       "array([[1, 0, 1]])"
      ]
     },
     "execution_count": 12,
     "metadata": {},
     "output_type": "execute_result"
    }
   ],
   "source": [
    "clf.decision_path(np.asarray([[0.1,0.5]])).toarray()"
   ]
  },
  {
   "cell_type": "markdown",
   "metadata": {},
   "source": [
    "## Conclusion\n",
    "Modifying the threshold outside the tree seems to work well :)"
   ]
  },
  {
   "cell_type": "markdown",
   "metadata": {},
   "source": [
    "## Let us access to important elements from the Decision Tree\n",
    "the object tree_ keeps the information describing the tree in lists, such that information contained at index $i$ corresponds to the node $i$ of the tree. The root of the tree is labeled 0. we can get the children's indexes using `children_left` or `children_right` arrays"
   ]
  },
  {
   "cell_type": "code",
   "execution_count": 55,
   "metadata": {},
   "outputs": [
    {
     "data": {
      "text/plain": [
       "array([ 1, -1, -1])"
      ]
     },
     "execution_count": 55,
     "metadata": {},
     "output_type": "execute_result"
    }
   ],
   "source": [
    "clf.tree_.children_left"
   ]
  },
  {
   "cell_type": "code",
   "execution_count": 56,
   "metadata": {},
   "outputs": [
    {
     "data": {
      "text/plain": [
       "array([ 2, -1, -1])"
      ]
     },
     "execution_count": 56,
     "metadata": {},
     "output_type": "execute_result"
    }
   ],
   "source": [
    "clf.tree_.children_right"
   ]
  },
  {
   "cell_type": "markdown",
   "metadata": {},
   "source": [
    "In this case, a leaf is simply a node $\\nu_i$ such that `clf.tree_.children_right[i] == -1` and `clf.tree_.children_left[i] ==1`"
   ]
  },
  {
   "cell_type": "markdown",
   "metadata": {},
   "source": [
    "+ The feature to split on is stored in list `feature`\n",
    "+ The thresholds in list `threshold`\n",
    "+ The number of training samples reaching the node are stored in `n_node_samples` \n",
    "+ The `decision_path` of the target dataset will be helpfull to re-attribute the instances\n",
    "+ The `value` list provides the number of elements from each class in the current node"
   ]
  },
  {
   "cell_type": "code",
   "execution_count": 15,
   "metadata": {},
   "outputs": [],
   "source": [
    "path = clf.decision_path(X[0:3,:])"
   ]
  },
  {
   "cell_type": "code",
   "execution_count": 16,
   "metadata": {},
   "outputs": [
    {
     "data": {
      "text/plain": [
       "array([[1, 0, 1],\n",
       "       [1, 0, 1],\n",
       "       [1, 0, 1]])"
      ]
     },
     "execution_count": 16,
     "metadata": {},
     "output_type": "execute_result"
    }
   ],
   "source": [
    "path.toarray()"
   ]
  },
  {
   "cell_type": "code",
   "execution_count": 22,
   "metadata": {},
   "outputs": [],
   "source": [
    "clf.tree_.value[0,:] = [10,10]"
   ]
  },
  {
   "cell_type": "code",
   "execution_count": 23,
   "metadata": {},
   "outputs": [
    {
     "data": {
      "text/plain": [
       "array([[[ 10.,  10.]],\n",
       "\n",
       "       [[  0.,  50.]],\n",
       "\n",
       "       [[ 50.,   0.]]])"
      ]
     },
     "execution_count": 23,
     "metadata": {},
     "output_type": "execute_result"
    }
   ],
   "source": [
    "clf.tree_.value"
   ]
  },
  {
   "cell_type": "code",
   "execution_count": 156,
   "metadata": {
    "collapsed": true
   },
   "outputs": [],
   "source": [
    "np.set_printoptions(precision=2)"
   ]
  },
  {
   "cell_type": "code",
   "execution_count": 441,
   "metadata": {},
   "outputs": [],
   "source": [
    "clf.tree_?"
   ]
  },
  {
   "cell_type": "markdown",
   "metadata": {},
   "source": [
    "# Create the STRUT algorithm step by step"
   ]
  },
  {
   "cell_type": "code",
   "execution_count": 648,
   "metadata": {},
   "outputs": [],
   "source": [
    "import sklearn\n",
    "def get_children_distributions(decisiontree,\n",
    "                               node_index):\n",
    "    tree = decisiontree.tree_\n",
    "    child_l = tree.children_left[node_index]\n",
    "    child_r = tree.children_right[node_index]\n",
    "    Q_source_l = tree.value[child_l]\n",
    "    Q_source_r = tree.value[child_r]\n",
    "    return [np.asarray(Q_source_l), np.asarray(Q_source_r)]\n",
    "                                              \n",
    "def get_node_distribution(decisiontree,\n",
    "                          node_index):\n",
    "    tree = decisiontree.tree_\n",
    "    Q = tree.value[node_index]\n",
    "    return np.asarray(Q)\n",
    "\n",
    "  \n",
    "def compute_class_distribution(classes,\n",
    "                               class_membership):\n",
    "    unique, counts = np.unique(class_membership, return_counts=True)\n",
    "    classes_counts = dict(zip(unique, counts))\n",
    "    classes_index = dict(zip(classes,range(len(classes))))\n",
    "    distribution = np.zeros(len(classes))\n",
    "    for label,count in classes_counts.iteritems():\n",
    "        class_index = classes_index[label]\n",
    "        distribution[class_index] = count\n",
    "    return distribution\n",
    "\n",
    "def KL_divergence(class_counts_P,\n",
    "                  class_counts_Q):\n",
    "    # KL Divergence to assess the difference between two distributions\n",
    "    # Definition: $D_{KL}(P||Q) = \\sum{i} P(i)ln(\\frac{P(i)}{Q(i)})$\n",
    "    # epsilon to avoid division by 0\n",
    "    epsilon = 1e-8\n",
    "    class_counts_P += epsilon\n",
    "    class_counts_Q += epsilon\n",
    "    P = class_counts_P * 1./ class_counts_P.sum()\n",
    "    Q = class_counts_Q * 1./ class_counts_Q.sum()\n",
    "    Dkl = (P * np.log(P * 1./ Q)).sum()\n",
    "    # another possibility is to use scipy.stats.entropy(P,Q) ... but this generates another dependency\n",
    "    return Dkl\n",
    "\n",
    "def H(class_counts):\n",
    "    # Entropy\n",
    "    # Definition: $H(P) = \\sum{i} -P(i) ln(P(i))$\n",
    "    epsilon = 1e-8\n",
    "    class_counts += epsilon\n",
    "    P = class_counts * 1./ class_counts.sum()\n",
    "    #print \"computing H\"\n",
    "    #print \"P\",class_counts,class_counts.sum()\n",
    "    #print \"H\", - (P * np.log(P)).sum()\n",
    "    return - (P * np.log(P)).sum()\n",
    "\n",
    "def IG(class_counts_parent,\n",
    "       class_counts_children):\n",
    "    # Information Gain\n",
    "    H_parent = H(class_counts_parent)\n",
    "    H_children = np.asarray([H(class_counts_child) for class_counts_child in class_counts_children])\n",
    "    N = class_counts_parent.sum()\n",
    "    #print \"class count parent\", class_counts_parent\n",
    "    #print \"class counts IG\", class_counts_children\n",
    "    p_children = np.asarray([class_counts_child.sum()*1./N for class_counts_child in class_counts_children])\n",
    "    information_gain = H_parent - (p_children * H_children).sum()\n",
    "    #print \"parent H\",H_parent\n",
    "    #print \"children H\", (p_children * H_children).sum()\n",
    "    #print \"compute information gain\",information_gain\n",
    "    return information_gain\n",
    "        \n",
    "def JSD(P,Q):\n",
    "    M = (P+Q) * 1./2\n",
    "    #print \"M\",M,\"P\",P,\"Q\",Q\n",
    "    Dkl_PM = KL_divergence(P,M)\n",
    "    Dkl_QM = KL_divergence(Q,M)\n",
    "    #print \"Dkl_PM\", Dkl_PM, \"Dkl_QM\", Dkl_QM\n",
    "    return (Dkl_PM + Dkl_QM) * 1./2\n",
    "\n",
    "def DG(Q_source_l,\n",
    "       Q_source_r,\n",
    "       Q_target_l,\n",
    "       Q_target_r):\n",
    "    # compute proportion of instances at left and right\n",
    "    p_l = Q_target_l.sum() \n",
    "    p_r = Q_target_r.sum() \n",
    "    total_counts = p_l + p_r\n",
    "    p_l /= total_counts\n",
    "    p_r /= total_counts\n",
    "    #print p_l, p_r, JSD(Q_target_l, Q_source_l), JSD(Q_target_r, Q_source_r)\n",
    "    # Compute the new distributions at right and left children\n",
    "   \n",
    "    # compute the DG\n",
    "    return 1. - p_l * JSD(Q_target_l, Q_source_l) - p_r * JSD(Q_target_r, Q_source_r)\n",
    "\n",
    "def compute_Q_children_target(X_target_node,\n",
    "                              Y_target_node,\n",
    "                              phi,\n",
    "                              threshold,\n",
    "                              classes):\n",
    "    # Split parent node target sample using the threshold provided\n",
    "    # instances <= threshold go to the left \n",
    "    # instances > threshold go to the right \n",
    "    decision_l = X_target_node[:,phi] <= threshold\n",
    "    decision_r = np.logical_not(decision_l)\n",
    "    Y_target_child_l = Y_target_node[decision_l]\n",
    "    Y_target_child_r = Y_target_node[decision_r]\n",
    "    Q_target_l = compute_class_distribution(classes, Y_target_child_l)\n",
    "    Q_target_r = compute_class_distribution(classes, Y_target_child_r) \n",
    "    return Q_target_l,Q_target_r\n",
    "\n",
    "\n",
    "def threshold_selection(Q_source_parent,\n",
    "                        Q_source_l,\n",
    "                        Q_source_r,\n",
    "                        X_target_node,\n",
    "                        Y_target_node,\n",
    "                        phi,\n",
    "                        classes):\n",
    "    # sort the corrdinates of X along phi\n",
    "    X_phi_sorted = np.sort(X_target_node[:,phi])\n",
    "    #print X_phi_sorted\n",
    "    nb_tested_thresholds = X_target_node.shape[0] - 1\n",
    "    measures_IG = np.zeros(nb_tested_thresholds)\n",
    "    measures_DG = np.zeros(nb_tested_thresholds)\n",
    "    for i in xrange(nb_tested_thresholds):\n",
    "        threshold = (X_phi_sorted[i] + X_phi_sorted[i+1]) * 1./2\n",
    "        Q_target_l,Q_target_r = compute_Q_children_target(X_target_node,\n",
    "                                                          Y_target_node,\n",
    "                                                          phi,\n",
    "                                                          threshold,\n",
    "                                                          classes)\n",
    "        \n",
    "        \n",
    "        measures_IG[i] = IG(Q_source_parent,\n",
    "                            [Q_target_l,Q_target_r])\n",
    "        measures_DG[i] = DG(Q_source_l,\n",
    "                            Q_source_r,\n",
    "                            Q_target_l,\n",
    "                            Q_target_r)\n",
    "    index = 0\n",
    "    for i in xrange(1,nb_tested_thresholds-1):\n",
    "        if measures_IG[i] >= measures_IG[i-1] and measures_IG[i] >= measures_IG[i+1] and measures_DG[i] > measures_DG[index]:\n",
    "            index = i\n",
    "    #print \"index\",index\n",
    "    #print \"IG\",measures_IG\n",
    "    #print \"DG\", measures_DG\n",
    "    threshold = (X_phi_sorted[index] + X_phi_sorted[index+1]) * 1./2\n",
    "    return threshold\n",
    "\n",
    "def prune_subtree(decisiontree,\n",
    "                  node_index):\n",
    "    tree = decisiontree.tree_\n",
    "    if tree.children_left[node_index] != -1:\n",
    "        prune_subtree(decisiontree,\n",
    "                      tree.children_left[node_index])\n",
    "        tree.children_left[node_index] = -1\n",
    "    if tree.children_right[node_index] != -1:\n",
    "        prune_subtree(decisiontree,\n",
    "                      tree.children_right[node_index])\n",
    "        tree.children_right[node_index] = -1\n",
    "\n",
    "def GINI(class_distribution):\n",
    "    p = class_distribution / class_distribution.sum()\n",
    "    return 1 - (p**2).sum()\n",
    "        \n",
    "def STRUT(decisiontree,\n",
    "          node_index,\n",
    "          X_target_node,\n",
    "          Y_target_node):\n",
    "    tree = decisiontree.tree_\n",
    "    phi = tree.feature[node_index]\n",
    "    classes = decisiontree.classes_\n",
    "    threshold = tree.threshold[node_index]\n",
    "    current_class_distribution = compute_class_distribution(classes,Y_target_node)\n",
    "    tree.weighted_n_node_samples[node_index] = Y_target_node.size\n",
    "    tree.value[node_index] = current_class_distribution\n",
    "    tree.impurity[node_index] = GINI(current_class_distribution)\n",
    "    print \" \"\n",
    "    print \"STRUT: node\", node_index, \"phi: \", phi ,\"child left:\", tree.children_left[node_index],\"child right:\", tree.children_right[node_index]\n",
    "    print \"distribution:\", current_class_distribution\n",
    "    \n",
    "    tree.n_node_samples[node_index] = Y_target_node.size\n",
    "    # If it is a leaf one, exit\n",
    "    if tree.children_left[node_index] == -1 and tree.children_right[node_index] == -1:\n",
    "        # Here we need to update the information of the leaf\n",
    "        print \"old leaf\"\n",
    "        return 0\n",
    "    \n",
    "    # Unreachable node\n",
    "    if current_class_distribution.sum() == 0 :\n",
    "        # Prune unreachable subtree\n",
    "        print \"unreachable node\",node_index\n",
    "        prune_subtree(decisiontree,\n",
    "                      node_index)\n",
    "        tree.feature[node_index] = -2\n",
    "        if Y_target_node.size >0:\n",
    "            print \"!!!!!!\"\n",
    "            #tree.value[node_index] = np.asarray([compute_class_distribution(classes,Y_target_node)])\n",
    "        return 0\n",
    "    \n",
    "    # Only one class is present in the node\n",
    "    if (current_class_distribution > 0).sum() == 1 :\n",
    "        # Prune unreachable subtree\n",
    "        print \"new leaf, unreachable subtree\",tree.children_left[node_index] , tree.children_right[node_index] \n",
    "        prune_subtree(decisiontree,\n",
    "                      node_index)\n",
    "        tree.feature[node_index] = -2\n",
    "        if Y_target_node.size >0:\n",
    "            print \"!!!!!!\"\n",
    "            #tree.value[node_index] = np.asarray([compute_class_distribution(classes,Y_target_node)])\n",
    "        return 0\n",
    "    \n",
    "    #tree.value[node_index] = compute_class_distribution(classes,Y_target_node)\n",
    "    if type(threshold) is np.float64:\n",
    "        # update threshold  \n",
    "        print \"changing threshold\", \"node=\", node_index, \"feature=\", phi, \"threshold=\", threshold\n",
    "        Q_source_l,Q_source_r = get_children_distributions(decisiontree,\n",
    "                                                           node_index)\n",
    "        Q_source_parent = get_node_distribution(decisiontree,\n",
    "                                                node_index)\n",
    "        #print \"left_child_distrib=\",Q_source_l,tree.children_left[node_index]\n",
    "        #print \"right child distrib\", Q_source_r,tree.children_right[node_index]\n",
    "        t1 = threshold_selection(Q_source_parent,\n",
    "                                 Q_source_l,\n",
    "                                 Q_source_r,\n",
    "                                 X_target_node,\n",
    "                                 Y_target_node,\n",
    "                                 phi,\n",
    "                                 classes)\n",
    "        Q_target_l,Q_target_r = compute_Q_children_target(X_target_node,\n",
    "                                                          Y_target_node,\n",
    "                                                          phi,\n",
    "                                                          t1,\n",
    "                                                          classes)\n",
    "        DG_t1 = DG(Q_source_l,\n",
    "                   Q_source_r,\n",
    "                   Q_target_l,\n",
    "                   Q_target_r)\n",
    "        print \"threshold selected 1\", t1, \"DG \",DG_t1\n",
    "        t2 = threshold_selection(Q_source_parent,\n",
    "                                 Q_source_r,\n",
    "                                 Q_source_l,\n",
    "                                 X_target_node,\n",
    "                                 Y_target_node,\n",
    "                                 phi,\n",
    "                                 classes)\n",
    "        Q_target_l,Q_target_r = compute_Q_children_target(X_target_node,\n",
    "                                                          Y_target_node,\n",
    "                                                          phi,\n",
    "                                                          t2,\n",
    "                                                          classes)\n",
    "        DG_t2 = DG(Q_source_r,\n",
    "                   Q_source_l,\n",
    "                   Q_target_l,\n",
    "                   Q_target_r)\n",
    "        print \"threshold selected 2\", t1, \"DG \",DG_t1\n",
    "        if DG_t1 >= DG_t2:\n",
    "            tree.threshold[node_index] = t1\n",
    "        else:\n",
    "            tree.threshold[node_index] = t2\n",
    "            # swap children\n",
    "            old_child_r_id = tree.children_right[node_index]\n",
    "            tree.children_right[node_index] = tree.children_left[node_index]\n",
    "            tree.children_left[node_index] = old_child_r_id\n",
    "    ###### beware it may not work for not numerical data\n",
    "    \n",
    "    if tree.children_left[node_index] != -1:\n",
    "        threshold = tree.threshold[node_index]\n",
    "        index_X_child_l = X_target_node[:,phi] <= threshold\n",
    "        X_target_child_l = X_target_node[index_X_child_l,:]\n",
    "        Y_target_child_l = Y_target_node[index_X_child_l]\n",
    "        STRUT(decisiontree,\n",
    "              tree.children_left[node_index],\n",
    "              X_target_child_l,\n",
    "              Y_target_child_l)        \n",
    "                \n",
    "    if tree.children_right[node_index] != -1:\n",
    "        threshold = tree.threshold[node_index]\n",
    "        index_X_child_r = X_target_node[:,phi] > threshold\n",
    "        X_target_child_r = X_target_node[index_X_child_r,:]\n",
    "        Y_target_child_r = Y_target_node[index_X_child_r]\n",
    "        STRUT(decisiontree,\n",
    "              tree.children_right[node_index],\n",
    "              X_target_child_r,\n",
    "              Y_target_child_r)\n"
   ]
  },
  {
   "cell_type": "code",
   "execution_count": 658,
   "metadata": {
    "collapsed": true
   },
   "outputs": [],
   "source": [
    "dataset_length = 100\n",
    "D = 2\n",
    "X = np.random.randn(dataset_length,D)*0.1\n",
    "X[0:dataset_length/2,0] += 0.1\n",
    "X[0:dataset_length/2,0] += 0.2\n",
    "Y = np.ones(dataset_length)\n",
    "Y[0:dataset_length/2] *= 0\n",
    "\n",
    "clf = tree.DecisionTreeClassifier()\n",
    "clf = clf.fit(X, Y)"
   ]
  },
  {
   "cell_type": "code",
   "execution_count": 659,
   "metadata": {},
   "outputs": [
    {
     "data": {
      "image/png": "[encoded data removed]",
      "text/plain": [
       "<matplotlib.figure.Figure at 0x11101d990>"
      ]
     },
     "metadata": {},
     "output_type": "display_data"
    }
   ],
   "source": [
    "plt.plot(X[0:dataset_length/2,0],X[0:dataset_length/2,1],\"ro\")\n",
    "plt.plot(X[dataset_length/2:,0],X[dataset_length/2:,1],\"bo\")\n",
    "for node,feature in enumerate(clf.tree_.feature):\n",
    "    if feature ==0:\n",
    "        plt.axvline(x = clf.tree_.threshold[node])\n",
    "    elif feature == 1:\n",
    "        plt.axhline(y = clf.tree_.threshold[node])\n",
    "        "
   ]
  },
  {
   "cell_type": "code",
   "execution_count": 660,
   "metadata": {},
   "outputs": [
    {
     "data": {
      "image/svg+xml": [
       "<?xml version=\"1.0\" encoding=\"UTF-8\" standalone=\"no\"?>\n",
       "<!DOCTYPE svg PUBLIC \"-//W3C//DTD SVG 1.1//EN\"\n",
       " \"http://www.w3.org/Graphics/SVG/1.1/DTD/svg11.dtd\">\n",
       "<!-- Generated by graphviz version 2.36.0 (20140111.2315)\n",
       " -->\n",
       "<!-- Title: Tree Pages: 1 -->\n",
       "<svg width=\"637pt\" height=\"676pt\"\n",
       " viewBox=\"0.00 0.00 637.00 676.00\" xmlns=\"http://www.w3.org/2000/svg\" xmlns:xlink=\"http://www.w3.org/1999/xlink\">\n",
       "<g id=\"graph0\" class=\"graph\" transform=\"scale(1 1) rotate(0) translate(4 672)\">\n",
       "<title>Tree</title>\n",
       "<polygon fill=\"white\" stroke=\"none\" points=\"-4,4 -4,-672 633,-672 633,4 -4,4\"/>\n",
       "<!-- 0 -->\n",
       "<g id=\"node1\" class=\"node\"><title>0</title>\n",
       "<path fill=\"none\" stroke=\"black\" d=\"M313,-667.5C313,-667.5 211,-667.5 211,-667.5 205,-667.5 199,-661.5 199,-655.5 199,-655.5 199,-596.5 199,-596.5 199,-590.5 205,-584.5 211,-584.5 211,-584.5 313,-584.5 313,-584.5 319,-584.5 325,-590.5 325,-596.5 325,-596.5 325,-655.5 325,-655.5 325,-661.5 319,-667.5 313,-667.5\"/>\n",
       "<text text-anchor=\"start\" x=\"207\" y=\"-652.3\" font-family=\"Helvetica,sans-Serif\" font-size=\"14.00\">feature_0 ≤ 0.159</text>\n",
       "<text text-anchor=\"start\" x=\"233\" y=\"-637.3\" font-family=\"Helvetica,sans-Serif\" font-size=\"14.00\">gini = 0.5</text>\n",
       "<text text-anchor=\"start\" x=\"216\" y=\"-622.3\" font-family=\"Helvetica,sans-Serif\" font-size=\"14.00\">samples = 100</text>\n",
       "<text text-anchor=\"start\" x=\"213.5\" y=\"-607.3\" font-family=\"Helvetica,sans-Serif\" font-size=\"14.00\">value = [50, 50]</text>\n",
       "<text text-anchor=\"start\" x=\"214\" y=\"-592.3\" font-family=\"Helvetica,sans-Serif\" font-size=\"14.00\">class = class_0</text>\n",
       "</g>\n",
       "<!-- 1 -->\n",
       "<g id=\"node2\" class=\"node\"><title>1</title>\n",
       "<path fill=\"#399de5\" fill-opacity=\"0.956863\" stroke=\"black\" d=\"M239,-547.5C239,-547.5 145,-547.5 145,-547.5 139,-547.5 133,-541.5 133,-535.5 133,-535.5 133,-476.5 133,-476.5 133,-470.5 139,-464.5 145,-464.5 145,-464.5 239,-464.5 239,-464.5 245,-464.5 251,-470.5 251,-476.5 251,-476.5 251,-535.5 251,-535.5 251,-541.5 245,-547.5 239,-547.5\"/>\n",
       "<text text-anchor=\"start\" x=\"141\" y=\"-532.3\" font-family=\"Helvetica,sans-Serif\" font-size=\"14.00\">feature_0 ≤ 0.09</text>\n",
       "<text text-anchor=\"start\" x=\"155.5\" y=\"-517.3\" font-family=\"Helvetica,sans-Serif\" font-size=\"14.00\">gini = 0.078</text>\n",
       "<text text-anchor=\"start\" x=\"150\" y=\"-502.3\" font-family=\"Helvetica,sans-Serif\" font-size=\"14.00\">samples = 49</text>\n",
       "<text text-anchor=\"start\" x=\"147.5\" y=\"-487.3\" font-family=\"Helvetica,sans-Serif\" font-size=\"14.00\">value = [2, 47]</text>\n",
       "<text text-anchor=\"start\" x=\"144\" y=\"-472.3\" font-family=\"Helvetica,sans-Serif\" font-size=\"14.00\">class = class_1</text>\n",
       "</g>\n",
       "<!-- 0&#45;&gt;1 -->\n",
       "<g id=\"edge1\" class=\"edge\"><title>0&#45;&gt;1</title>\n",
       "<path fill=\"none\" stroke=\"black\" d=\"M237.91,-584.391C232.575,-575.398 226.865,-565.772 221.347,-556.471\"/>\n",
       "<polygon fill=\"black\" stroke=\"black\" points=\"224.247,-554.499 216.134,-547.684 218.226,-558.07 224.247,-554.499\"/>\n",
       "<text text-anchor=\"middle\" x=\"209.95\" y=\"-568.207\" font-family=\"Helvetica,sans-Serif\" font-size=\"14.00\">True</text>\n",
       "</g>\n",
       "<!-- 8 -->\n",
       "<g id=\"node9\" class=\"node\"><title>8</title>\n",
       "<path fill=\"#e58139\" fill-opacity=\"0.937255\" stroke=\"black\" d=\"M383,-547.5C383,-547.5 281,-547.5 281,-547.5 275,-547.5 269,-541.5 269,-535.5 269,-535.5 269,-476.5 269,-476.5 269,-470.5 275,-464.5 281,-464.5 281,-464.5 383,-464.5 383,-464.5 389,-464.5 395,-470.5 395,-476.5 395,-476.5 395,-535.5 395,-535.5 395,-541.5 389,-547.5 383,-547.5\"/>\n",
       "<text text-anchor=\"start\" x=\"277\" y=\"-532.3\" font-family=\"Helvetica,sans-Serif\" font-size=\"14.00\">feature_1 ≤ 0.122</text>\n",
       "<text text-anchor=\"start\" x=\"295.5\" y=\"-517.3\" font-family=\"Helvetica,sans-Serif\" font-size=\"14.00\">gini = 0.111</text>\n",
       "<text text-anchor=\"start\" x=\"290\" y=\"-502.3\" font-family=\"Helvetica,sans-Serif\" font-size=\"14.00\">samples = 51</text>\n",
       "<text text-anchor=\"start\" x=\"287.5\" y=\"-487.3\" font-family=\"Helvetica,sans-Serif\" font-size=\"14.00\">value = [48, 3]</text>\n",
       "<text text-anchor=\"start\" x=\"284\" y=\"-472.3\" font-family=\"Helvetica,sans-Serif\" font-size=\"14.00\">class = class_0</text>\n",
       "</g>\n",
       "<!-- 0&#45;&gt;8 -->\n",
       "<g id=\"edge8\" class=\"edge\"><title>0&#45;&gt;8</title>\n",
       "<path fill=\"none\" stroke=\"black\" d=\"M286.09,-584.391C291.425,-575.398 297.135,-565.772 302.653,-556.471\"/>\n",
       "<polygon fill=\"black\" stroke=\"black\" points=\"305.774,-558.07 307.866,-547.684 299.753,-554.499 305.774,-558.07\"/>\n",
       "<text text-anchor=\"middle\" x=\"314.05\" y=\"-568.207\" font-family=\"Helvetica,sans-Serif\" font-size=\"14.00\">False</text>\n",
       "</g>\n",
       "<!-- 2 -->\n",
       "<g id=\"node3\" class=\"node\"><title>2</title>\n",
       "<path fill=\"#399de5\" stroke=\"black\" d=\"M100,-420C100,-420 12,-420 12,-420 6,-420 7.10543e-15,-414 7.10543e-15,-408 7.10543e-15,-408 7.10543e-15,-364 7.10543e-15,-364 7.10543e-15,-358 6,-352 12,-352 12,-352 100,-352 100,-352 106,-352 112,-358 112,-364 112,-364 112,-408 112,-408 112,-414 106,-420 100,-420\"/>\n",
       "<text text-anchor=\"start\" x=\"27\" y=\"-404.8\" font-family=\"Helvetica,sans-Serif\" font-size=\"14.00\">gini = 0.0</text>\n",
       "<text text-anchor=\"start\" x=\"14\" y=\"-389.8\" font-family=\"Helvetica,sans-Serif\" font-size=\"14.00\">samples = 40</text>\n",
       "<text text-anchor=\"start\" x=\"11.5\" y=\"-374.8\" font-family=\"Helvetica,sans-Serif\" font-size=\"14.00\">value = [0, 40]</text>\n",
       "<text text-anchor=\"start\" x=\"8\" y=\"-359.8\" font-family=\"Helvetica,sans-Serif\" font-size=\"14.00\">class = class_1</text>\n",
       "</g>\n",
       "<!-- 1&#45;&gt;2 -->\n",
       "<g id=\"edge2\" class=\"edge\"><title>1&#45;&gt;2</title>\n",
       "<path fill=\"none\" stroke=\"black\" d=\"M145.197,-464.391C131.193,-452.241 115.857,-438.935 101.912,-426.835\"/>\n",
       "<polygon fill=\"black\" stroke=\"black\" points=\"104.172,-424.162 94.3248,-420.252 99.5843,-429.45 104.172,-424.162\"/>\n",
       "</g>\n",
       "<!-- 3 -->\n",
       "<g id=\"node4\" class=\"node\"><title>3</title>\n",
       "<path fill=\"#399de5\" fill-opacity=\"0.713725\" stroke=\"black\" d=\"M244,-427.5C244,-427.5 142,-427.5 142,-427.5 136,-427.5 130,-421.5 130,-415.5 130,-415.5 130,-356.5 130,-356.5 130,-350.5 136,-344.5 142,-344.5 142,-344.5 244,-344.5 244,-344.5 250,-344.5 256,-350.5 256,-356.5 256,-356.5 256,-415.5 256,-415.5 256,-421.5 250,-427.5 244,-427.5\"/>\n",
       "<text text-anchor=\"start\" x=\"138\" y=\"-412.3\" font-family=\"Helvetica,sans-Serif\" font-size=\"14.00\">feature_0 ≤ 0.104</text>\n",
       "<text text-anchor=\"start\" x=\"156.5\" y=\"-397.3\" font-family=\"Helvetica,sans-Serif\" font-size=\"14.00\">gini = 0.346</text>\n",
       "<text text-anchor=\"start\" x=\"155\" y=\"-382.3\" font-family=\"Helvetica,sans-Serif\" font-size=\"14.00\">samples = 9</text>\n",
       "<text text-anchor=\"start\" x=\"152.5\" y=\"-367.3\" font-family=\"Helvetica,sans-Serif\" font-size=\"14.00\">value = [2, 7]</text>\n",
       "<text text-anchor=\"start\" x=\"145\" y=\"-352.3\" font-family=\"Helvetica,sans-Serif\" font-size=\"14.00\">class = class_1</text>\n",
       "</g>\n",
       "<!-- 1&#45;&gt;3 -->\n",
       "<g id=\"edge3\" class=\"edge\"><title>1&#45;&gt;3</title>\n",
       "<path fill=\"none\" stroke=\"black\" d=\"M192.344,-464.391C192.416,-455.862 192.494,-446.763 192.569,-437.912\"/>\n",
       "<polygon fill=\"black\" stroke=\"black\" points=\"196.07,-437.713 192.655,-427.684 189.071,-437.654 196.07,-437.713\"/>\n",
       "</g>\n",
       "<!-- 4 -->\n",
       "<g id=\"node5\" class=\"node\"><title>4</title>\n",
       "<path fill=\"#e58139\" stroke=\"black\" d=\"M130,-300C130,-300 42,-300 42,-300 36,-300 30,-294 30,-288 30,-288 30,-244 30,-244 30,-238 36,-232 42,-232 42,-232 130,-232 130,-232 136,-232 142,-238 142,-244 142,-244 142,-288 142,-288 142,-294 136,-300 130,-300\"/>\n",
       "<text text-anchor=\"start\" x=\"57\" y=\"-284.8\" font-family=\"Helvetica,sans-Serif\" font-size=\"14.00\">gini = 0.0</text>\n",
       "<text text-anchor=\"start\" x=\"48\" y=\"-269.8\" font-family=\"Helvetica,sans-Serif\" font-size=\"14.00\">samples = 1</text>\n",
       "<text text-anchor=\"start\" x=\"45.5\" y=\"-254.8\" font-family=\"Helvetica,sans-Serif\" font-size=\"14.00\">value = [1, 0]</text>\n",
       "<text text-anchor=\"start\" x=\"38\" y=\"-239.8\" font-family=\"Helvetica,sans-Serif\" font-size=\"14.00\">class = class_0</text>\n",
       "</g>\n",
       "<!-- 3&#45;&gt;4 -->\n",
       "<g id=\"edge4\" class=\"edge\"><title>3&#45;&gt;4</title>\n",
       "<path fill=\"none\" stroke=\"black\" d=\"M156.177,-344.391C145.465,-332.579 133.763,-319.673 123.039,-307.846\"/>\n",
       "<polygon fill=\"black\" stroke=\"black\" points=\"125.463,-305.309 116.153,-300.252 120.277,-310.011 125.463,-305.309\"/>\n",
       "</g>\n",
       "<!-- 5 -->\n",
       "<g id=\"node6\" class=\"node\"><title>5</title>\n",
       "<path fill=\"#399de5\" fill-opacity=\"0.858824\" stroke=\"black\" d=\"M279.25,-307.5C279.25,-307.5 172.75,-307.5 172.75,-307.5 166.75,-307.5 160.75,-301.5 160.75,-295.5 160.75,-295.5 160.75,-236.5 160.75,-236.5 160.75,-230.5 166.75,-224.5 172.75,-224.5 172.75,-224.5 279.25,-224.5 279.25,-224.5 285.25,-224.5 291.25,-230.5 291.25,-236.5 291.25,-236.5 291.25,-295.5 291.25,-295.5 291.25,-301.5 285.25,-307.5 279.25,-307.5\"/>\n",
       "<text text-anchor=\"start\" x=\"168.5\" y=\"-292.3\" font-family=\"Helvetica,sans-Serif\" font-size=\"14.00\">feature_1 ≤ &#45;0.131</text>\n",
       "<text text-anchor=\"start\" x=\"189.5\" y=\"-277.3\" font-family=\"Helvetica,sans-Serif\" font-size=\"14.00\">gini = 0.219</text>\n",
       "<text text-anchor=\"start\" x=\"188\" y=\"-262.3\" font-family=\"Helvetica,sans-Serif\" font-size=\"14.00\">samples = 8</text>\n",
       "<text text-anchor=\"start\" x=\"185.5\" y=\"-247.3\" font-family=\"Helvetica,sans-Serif\" font-size=\"14.00\">value = [1, 7]</text>\n",
       "<text text-anchor=\"start\" x=\"178\" y=\"-232.3\" font-family=\"Helvetica,sans-Serif\" font-size=\"14.00\">class = class_1</text>\n",
       "</g>\n",
       "<!-- 3&#45;&gt;5 -->\n",
       "<g id=\"edge5\" class=\"edge\"><title>3&#45;&gt;5</title>\n",
       "<path fill=\"none\" stroke=\"black\" d=\"M204.357,-344.391C206.794,-335.677 209.397,-326.367 211.923,-317.335\"/>\n",
       "<polygon fill=\"black\" stroke=\"black\" points=\"215.3,-318.257 214.622,-307.684 208.558,-316.372 215.3,-318.257\"/>\n",
       "</g>\n",
       "<!-- 6 -->\n",
       "<g id=\"node7\" class=\"node\"><title>6</title>\n",
       "<path fill=\"#e58139\" stroke=\"black\" d=\"M144,-180C144,-180 56,-180 56,-180 50,-180 44,-174 44,-168 44,-168 44,-124 44,-124 44,-118 50,-112 56,-112 56,-112 144,-112 144,-112 150,-112 156,-118 156,-124 156,-124 156,-168 156,-168 156,-174 150,-180 144,-180\"/>\n",
       "<text text-anchor=\"start\" x=\"71\" y=\"-164.8\" font-family=\"Helvetica,sans-Serif\" font-size=\"14.00\">gini = 0.0</text>\n",
       "<text text-anchor=\"start\" x=\"62\" y=\"-149.8\" font-family=\"Helvetica,sans-Serif\" font-size=\"14.00\">samples = 1</text>\n",
       "<text text-anchor=\"start\" x=\"59.5\" y=\"-134.8\" font-family=\"Helvetica,sans-Serif\" font-size=\"14.00\">value = [1, 0]</text>\n",
       "<text text-anchor=\"start\" x=\"52\" y=\"-119.8\" font-family=\"Helvetica,sans-Serif\" font-size=\"14.00\">class = class_0</text>\n",
       "</g>\n",
       "<!-- 5&#45;&gt;6 -->\n",
       "<g id=\"edge6\" class=\"edge\"><title>5&#45;&gt;6</title>\n",
       "<path fill=\"none\" stroke=\"black\" d=\"M182.638,-224.391C169.784,-212.354 155.719,-199.181 142.895,-187.172\"/>\n",
       "<polygon fill=\"black\" stroke=\"black\" points=\"145.198,-184.533 135.507,-180.252 140.413,-189.643 145.198,-184.533\"/>\n",
       "</g>\n",
       "<!-- 7 -->\n",
       "<g id=\"node8\" class=\"node\"><title>7</title>\n",
       "<path fill=\"#399de5\" stroke=\"black\" d=\"M274,-180C274,-180 186,-180 186,-180 180,-180 174,-174 174,-168 174,-168 174,-124 174,-124 174,-118 180,-112 186,-112 186,-112 274,-112 274,-112 280,-112 286,-118 286,-124 286,-124 286,-168 286,-168 286,-174 280,-180 274,-180\"/>\n",
       "<text text-anchor=\"start\" x=\"201\" y=\"-164.8\" font-family=\"Helvetica,sans-Serif\" font-size=\"14.00\">gini = 0.0</text>\n",
       "<text text-anchor=\"start\" x=\"192\" y=\"-149.8\" font-family=\"Helvetica,sans-Serif\" font-size=\"14.00\">samples = 7</text>\n",
       "<text text-anchor=\"start\" x=\"189.5\" y=\"-134.8\" font-family=\"Helvetica,sans-Serif\" font-size=\"14.00\">value = [0, 7]</text>\n",
       "<text text-anchor=\"start\" x=\"182\" y=\"-119.8\" font-family=\"Helvetica,sans-Serif\" font-size=\"14.00\">class = class_1</text>\n",
       "</g>\n",
       "<!-- 5&#45;&gt;7 -->\n",
       "<g id=\"edge7\" class=\"edge\"><title>5&#45;&gt;7</title>\n",
       "<path fill=\"none\" stroke=\"black\" d=\"M227.377,-224.391C227.746,-213.479 228.148,-201.634 228.523,-190.568\"/>\n",
       "<polygon fill=\"black\" stroke=\"black\" points=\"232.032,-190.365 228.873,-180.252 225.036,-190.128 232.032,-190.365\"/>\n",
       "</g>\n",
       "<!-- 9 -->\n",
       "<g id=\"node10\" class=\"node\"><title>9</title>\n",
       "<path fill=\"#e58139\" stroke=\"black\" d=\"M375,-420C375,-420 287,-420 287,-420 281,-420 275,-414 275,-408 275,-408 275,-364 275,-364 275,-358 281,-352 287,-352 287,-352 375,-352 375,-352 381,-352 387,-358 387,-364 387,-364 387,-408 387,-408 387,-414 381,-420 375,-420\"/>\n",
       "<text text-anchor=\"start\" x=\"302\" y=\"-404.8\" font-family=\"Helvetica,sans-Serif\" font-size=\"14.00\">gini = 0.0</text>\n",
       "<text text-anchor=\"start\" x=\"289\" y=\"-389.8\" font-family=\"Helvetica,sans-Serif\" font-size=\"14.00\">samples = 43</text>\n",
       "<text text-anchor=\"start\" x=\"286.5\" y=\"-374.8\" font-family=\"Helvetica,sans-Serif\" font-size=\"14.00\">value = [43, 0]</text>\n",
       "<text text-anchor=\"start\" x=\"283\" y=\"-359.8\" font-family=\"Helvetica,sans-Serif\" font-size=\"14.00\">class = class_0</text>\n",
       "</g>\n",
       "<!-- 8&#45;&gt;9 -->\n",
       "<g id=\"edge9\" class=\"edge\"><title>8&#45;&gt;9</title>\n",
       "<path fill=\"none\" stroke=\"black\" d=\"M331.656,-464.391C331.563,-453.479 331.463,-441.634 331.369,-430.568\"/>\n",
       "<polygon fill=\"black\" stroke=\"black\" points=\"334.867,-430.222 331.282,-420.252 327.867,-430.282 334.867,-430.222\"/>\n",
       "</g>\n",
       "<!-- 10 -->\n",
       "<g id=\"node11\" class=\"node\"><title>10</title>\n",
       "<path fill=\"#e58139\" fill-opacity=\"0.400000\" stroke=\"black\" d=\"M519,-427.5C519,-427.5 417,-427.5 417,-427.5 411,-427.5 405,-421.5 405,-415.5 405,-415.5 405,-356.5 405,-356.5 405,-350.5 411,-344.5 417,-344.5 417,-344.5 519,-344.5 519,-344.5 525,-344.5 531,-350.5 531,-356.5 531,-356.5 531,-415.5 531,-415.5 531,-421.5 525,-427.5 519,-427.5\"/>\n",
       "<text text-anchor=\"start\" x=\"413\" y=\"-412.3\" font-family=\"Helvetica,sans-Serif\" font-size=\"14.00\">feature_1 ≤ 0.158</text>\n",
       "<text text-anchor=\"start\" x=\"431.5\" y=\"-397.3\" font-family=\"Helvetica,sans-Serif\" font-size=\"14.00\">gini = 0.469</text>\n",
       "<text text-anchor=\"start\" x=\"430\" y=\"-382.3\" font-family=\"Helvetica,sans-Serif\" font-size=\"14.00\">samples = 8</text>\n",
       "<text text-anchor=\"start\" x=\"427.5\" y=\"-367.3\" font-family=\"Helvetica,sans-Serif\" font-size=\"14.00\">value = [5, 3]</text>\n",
       "<text text-anchor=\"start\" x=\"420\" y=\"-352.3\" font-family=\"Helvetica,sans-Serif\" font-size=\"14.00\">class = class_0</text>\n",
       "</g>\n",
       "<!-- 8&#45;&gt;10 -->\n",
       "<g id=\"edge10\" class=\"edge\"><title>8&#45;&gt;10</title>\n",
       "<path fill=\"none\" stroke=\"black\" d=\"M378.803,-464.391C389.916,-454.749 401.867,-444.38 413.297,-434.463\"/>\n",
       "<polygon fill=\"black\" stroke=\"black\" points=\"415.851,-436.881 421.11,-427.684 411.263,-431.594 415.851,-436.881\"/>\n",
       "</g>\n",
       "<!-- 11 -->\n",
       "<g id=\"node12\" class=\"node\"><title>11</title>\n",
       "<path fill=\"#399de5\" fill-opacity=\"0.666667\" stroke=\"black\" d=\"M487,-307.5C487,-307.5 385,-307.5 385,-307.5 379,-307.5 373,-301.5 373,-295.5 373,-295.5 373,-236.5 373,-236.5 373,-230.5 379,-224.5 385,-224.5 385,-224.5 487,-224.5 487,-224.5 493,-224.5 499,-230.5 499,-236.5 499,-236.5 499,-295.5 499,-295.5 499,-301.5 493,-307.5 487,-307.5\"/>\n",
       "<text text-anchor=\"start\" x=\"381\" y=\"-292.3\" font-family=\"Helvetica,sans-Serif\" font-size=\"14.00\">feature_1 ≤ 0.137</text>\n",
       "<text text-anchor=\"start\" x=\"399.5\" y=\"-277.3\" font-family=\"Helvetica,sans-Serif\" font-size=\"14.00\">gini = 0.375</text>\n",
       "<text text-anchor=\"start\" x=\"398\" y=\"-262.3\" font-family=\"Helvetica,sans-Serif\" font-size=\"14.00\">samples = 4</text>\n",
       "<text text-anchor=\"start\" x=\"395.5\" y=\"-247.3\" font-family=\"Helvetica,sans-Serif\" font-size=\"14.00\">value = [1, 3]</text>\n",
       "<text text-anchor=\"start\" x=\"388\" y=\"-232.3\" font-family=\"Helvetica,sans-Serif\" font-size=\"14.00\">class = class_1</text>\n",
       "</g>\n",
       "<!-- 10&#45;&gt;11 -->\n",
       "<g id=\"edge11\" class=\"edge\"><title>10&#45;&gt;11</title>\n",
       "<path fill=\"none\" stroke=\"black\" d=\"M456.987,-344.391C454.649,-335.769 452.153,-326.565 449.728,-317.623\"/>\n",
       "<polygon fill=\"black\" stroke=\"black\" points=\"453.028,-316.419 447.033,-307.684 446.272,-318.251 453.028,-316.419\"/>\n",
       "</g>\n",
       "<!-- 16 -->\n",
       "<g id=\"node17\" class=\"node\"><title>16</title>\n",
       "<path fill=\"#e58139\" stroke=\"black\" d=\"M617,-300C617,-300 529,-300 529,-300 523,-300 517,-294 517,-288 517,-288 517,-244 517,-244 517,-238 523,-232 529,-232 529,-232 617,-232 617,-232 623,-232 629,-238 629,-244 629,-244 629,-288 629,-288 629,-294 623,-300 617,-300\"/>\n",
       "<text text-anchor=\"start\" x=\"544\" y=\"-284.8\" font-family=\"Helvetica,sans-Serif\" font-size=\"14.00\">gini = 0.0</text>\n",
       "<text text-anchor=\"start\" x=\"535\" y=\"-269.8\" font-family=\"Helvetica,sans-Serif\" font-size=\"14.00\">samples = 4</text>\n",
       "<text text-anchor=\"start\" x=\"532.5\" y=\"-254.8\" font-family=\"Helvetica,sans-Serif\" font-size=\"14.00\">value = [4, 0]</text>\n",
       "<text text-anchor=\"start\" x=\"525\" y=\"-239.8\" font-family=\"Helvetica,sans-Serif\" font-size=\"14.00\">class = class_0</text>\n",
       "</g>\n",
       "<!-- 10&#45;&gt;16 -->\n",
       "<g id=\"edge16\" class=\"edge\"><title>10&#45;&gt;16</title>\n",
       "<path fill=\"none\" stroke=\"black\" d=\"M504.135,-344.391C514.646,-332.579 526.13,-319.673 536.654,-307.846\"/>\n",
       "<polygon fill=\"black\" stroke=\"black\" points=\"539.378,-310.05 543.411,-300.252 534.149,-305.396 539.378,-310.05\"/>\n",
       "</g>\n",
       "<!-- 12 -->\n",
       "<g id=\"node13\" class=\"node\"><title>12</title>\n",
       "<path fill=\"#399de5\" stroke=\"black\" d=\"M412,-180C412,-180 324,-180 324,-180 318,-180 312,-174 312,-168 312,-168 312,-124 312,-124 312,-118 318,-112 324,-112 324,-112 412,-112 412,-112 418,-112 424,-118 424,-124 424,-124 424,-168 424,-168 424,-174 418,-180 412,-180\"/>\n",
       "<text text-anchor=\"start\" x=\"339\" y=\"-164.8\" font-family=\"Helvetica,sans-Serif\" font-size=\"14.00\">gini = 0.0</text>\n",
       "<text text-anchor=\"start\" x=\"330\" y=\"-149.8\" font-family=\"Helvetica,sans-Serif\" font-size=\"14.00\">samples = 2</text>\n",
       "<text text-anchor=\"start\" x=\"327.5\" y=\"-134.8\" font-family=\"Helvetica,sans-Serif\" font-size=\"14.00\">value = [0, 2]</text>\n",
       "<text text-anchor=\"start\" x=\"320\" y=\"-119.8\" font-family=\"Helvetica,sans-Serif\" font-size=\"14.00\">class = class_1</text>\n",
       "</g>\n",
       "<!-- 11&#45;&gt;12 -->\n",
       "<g id=\"edge12\" class=\"edge\"><title>11&#45;&gt;12</title>\n",
       "<path fill=\"none\" stroke=\"black\" d=\"M412.598,-224.391C406.05,-213.029 398.92,-200.655 392.32,-189.203\"/>\n",
       "<polygon fill=\"black\" stroke=\"black\" points=\"395.188,-187.169 387.162,-180.252 389.123,-190.664 395.188,-187.169\"/>\n",
       "</g>\n",
       "<!-- 13 -->\n",
       "<g id=\"node14\" class=\"node\"><title>13</title>\n",
       "<path fill=\"none\" stroke=\"black\" d=\"M556,-187.5C556,-187.5 454,-187.5 454,-187.5 448,-187.5 442,-181.5 442,-175.5 442,-175.5 442,-116.5 442,-116.5 442,-110.5 448,-104.5 454,-104.5 454,-104.5 556,-104.5 556,-104.5 562,-104.5 568,-110.5 568,-116.5 568,-116.5 568,-175.5 568,-175.5 568,-181.5 562,-187.5 556,-187.5\"/>\n",
       "<text text-anchor=\"start\" x=\"450\" y=\"-172.3\" font-family=\"Helvetica,sans-Serif\" font-size=\"14.00\">feature_1 ≤ 0.142</text>\n",
       "<text text-anchor=\"start\" x=\"476\" y=\"-157.3\" font-family=\"Helvetica,sans-Serif\" font-size=\"14.00\">gini = 0.5</text>\n",
       "<text text-anchor=\"start\" x=\"467\" y=\"-142.3\" font-family=\"Helvetica,sans-Serif\" font-size=\"14.00\">samples = 2</text>\n",
       "<text text-anchor=\"start\" x=\"464.5\" y=\"-127.3\" font-family=\"Helvetica,sans-Serif\" font-size=\"14.00\">value = [1, 1]</text>\n",
       "<text text-anchor=\"start\" x=\"457\" y=\"-112.3\" font-family=\"Helvetica,sans-Serif\" font-size=\"14.00\">class = class_0</text>\n",
       "</g>\n",
       "<!-- 11&#45;&gt;13 -->\n",
       "<g id=\"edge13\" class=\"edge\"><title>11&#45;&gt;13</title>\n",
       "<path fill=\"none\" stroke=\"black\" d=\"M459.746,-224.391C465.004,-215.398 470.633,-205.772 476.072,-196.471\"/>\n",
       "<polygon fill=\"black\" stroke=\"black\" points=\"479.184,-198.083 481.21,-187.684 473.141,-194.55 479.184,-198.083\"/>\n",
       "</g>\n",
       "<!-- 14 -->\n",
       "<g id=\"node15\" class=\"node\"><title>14</title>\n",
       "<path fill=\"#e58139\" stroke=\"black\" d=\"M484,-68C484,-68 396,-68 396,-68 390,-68 384,-62 384,-56 384,-56 384,-12 384,-12 384,-6 390,-0 396,-0 396,-0 484,-0 484,-0 490,-0 496,-6 496,-12 496,-12 496,-56 496,-56 496,-62 490,-68 484,-68\"/>\n",
       "<text text-anchor=\"start\" x=\"411\" y=\"-52.8\" font-family=\"Helvetica,sans-Serif\" font-size=\"14.00\">gini = 0.0</text>\n",
       "<text text-anchor=\"start\" x=\"402\" y=\"-37.8\" font-family=\"Helvetica,sans-Serif\" font-size=\"14.00\">samples = 1</text>\n",
       "<text text-anchor=\"start\" x=\"399.5\" y=\"-22.8\" font-family=\"Helvetica,sans-Serif\" font-size=\"14.00\">value = [1, 0]</text>\n",
       "<text text-anchor=\"start\" x=\"392\" y=\"-7.8\" font-family=\"Helvetica,sans-Serif\" font-size=\"14.00\">class = class_0</text>\n",
       "</g>\n",
       "<!-- 13&#45;&gt;14 -->\n",
       "<g id=\"edge14\" class=\"edge\"><title>13&#45;&gt;14</title>\n",
       "<path fill=\"none\" stroke=\"black\" d=\"M480.981,-104.353C475.719,-95.4478 470.138,-86.0034 464.845,-77.0452\"/>\n",
       "<polygon fill=\"black\" stroke=\"black\" points=\"467.77,-75.1157 459.67,-68.287 461.744,-78.6768 467.77,-75.1157\"/>\n",
       "</g>\n",
       "<!-- 15 -->\n",
       "<g id=\"node16\" class=\"node\"><title>15</title>\n",
       "<path fill=\"#399de5\" stroke=\"black\" d=\"M614,-68C614,-68 526,-68 526,-68 520,-68 514,-62 514,-56 514,-56 514,-12 514,-12 514,-6 520,-0 526,-0 526,-0 614,-0 614,-0 620,-0 626,-6 626,-12 626,-12 626,-56 626,-56 626,-62 620,-68 614,-68\"/>\n",
       "<text text-anchor=\"start\" x=\"541\" y=\"-52.8\" font-family=\"Helvetica,sans-Serif\" font-size=\"14.00\">gini = 0.0</text>\n",
       "<text text-anchor=\"start\" x=\"532\" y=\"-37.8\" font-family=\"Helvetica,sans-Serif\" font-size=\"14.00\">samples = 1</text>\n",
       "<text text-anchor=\"start\" x=\"529.5\" y=\"-22.8\" font-family=\"Helvetica,sans-Serif\" font-size=\"14.00\">value = [0, 1]</text>\n",
       "<text text-anchor=\"start\" x=\"522\" y=\"-7.8\" font-family=\"Helvetica,sans-Serif\" font-size=\"14.00\">class = class_1</text>\n",
       "</g>\n",
       "<!-- 13&#45;&gt;15 -->\n",
       "<g id=\"edge15\" class=\"edge\"><title>13&#45;&gt;15</title>\n",
       "<path fill=\"none\" stroke=\"black\" d=\"M529.019,-104.353C534.281,-95.4478 539.862,-86.0034 545.155,-77.0452\"/>\n",
       "<polygon fill=\"black\" stroke=\"black\" points=\"548.256,-78.6768 550.33,-68.287 542.23,-75.1157 548.256,-78.6768\"/>\n",
       "</g>\n",
       "</g>\n",
       "</svg>\n"
      ],
      "text/plain": [
       "<graphviz.files.Source at 0x11101d650>"
      ]
     },
     "execution_count": 660,
     "metadata": {},
     "output_type": "execute_result"
    }
   ],
   "source": [
    "import graphviz \n",
    "dot_data = tree.export_graphviz(clf, out_file=None, \n",
    "                         feature_names=[\"feature_\"+str(i) for i in range(D)],  \n",
    "                         class_names=[\"class_0\", \"class_1\"],  \n",
    "                         filled=True, rounded=True,  \n",
    "                         special_characters=True)  \n",
    "\n",
    "graph = graphviz.Source(dot_data)  \n",
    "graph "
   ]
  },
  {
   "cell_type": "code",
   "execution_count": 661,
   "metadata": {
    "collapsed": true
   },
   "outputs": [],
   "source": [
    "X = np.random.randn(dataset_length,D+1)*0.1\n",
    "X[:,1] = np.nan\n",
    "X[0:dataset_length/2,0] += 0.3\n",
    "Y = np.ones(dataset_length)\n",
    "Y[0:dataset_length/2] *= 0"
   ]
  },
  {
   "cell_type": "code",
   "execution_count": 662,
   "metadata": {
    "scrolled": false
   },
   "outputs": [
    {
     "name": "stdout",
     "output_type": "stream",
     "text": [
      " \n",
      "STRUT: node 0 phi:  0 child left: 1 child right: 8\n",
      "distribution: [ 50.  50.]\n",
      "changing threshold node= 0 feature= 0 threshold= 0.159134984016\n",
      "threshold selected 1 0.142564470358 DG  0.999085047762\n",
      "threshold selected 2 0.142564470358 DG  0.999085047762\n",
      " \n",
      "STRUT: node 1 phi:  0 child left: 2 child right: 3\n",
      "distribution: [  3.  46.]\n",
      "changing threshold node= 1 feature= 0 threshold= 0.0899686515331\n",
      "threshold selected 1 0.0350515286499 DG  0.998989616172\n",
      "threshold selected 2 0.0350515286499 DG  0.998989616172\n",
      " \n",
      "STRUT: node 2 phi:  -2 child left: -1 child right: -1\n",
      "distribution: [  0.  31.]\n",
      "old leaf\n",
      " \n",
      "STRUT: node 3 phi:  0 child left: 4 child right: 5\n",
      "distribution: [  3.  15.]\n",
      "changing threshold node= 3 feature= 0 threshold= 0.104473546147\n",
      "threshold selected 1 0.0419655711709 DG  0.999932307146\n",
      "threshold selected 2 0.0419655711709 DG  0.999932307146\n",
      " \n",
      "STRUT: node 4 phi:  -2 child left: -1 child right: -1\n",
      "distribution: [ 1.  0.]\n",
      "old leaf\n",
      " \n",
      "STRUT: node 5 phi:  1 child left: 6 child right: 7\n",
      "distribution: [  2.  15.]\n",
      "changing threshold node= 5 feature= 1 threshold= -0.130766868591\n",
      "threshold selected 1 nan DG  0.953041431933\n",
      "threshold selected 2 nan DG  0.953041431933\n",
      " \n",
      "STRUT: node 6 phi:  -2 child left: -1 child right: -1\n",
      "distribution: [ 0.  0.]\n",
      "old leaf\n",
      " \n",
      "STRUT: node 7 phi:  -2 child left: -1 child right: -1\n",
      "distribution: [ 0.  0.]\n",
      "old leaf\n",
      " \n",
      "STRUT: node 8 phi:  1 child left: 9 child right: 10\n",
      "distribution: [ 47.   4.]\n",
      "changing threshold node= 8 feature= 1 threshold= 0.121872797608\n",
      "threshold selected 1 nan DG  0.88730802394\n",
      "threshold selected 2 nan DG  0.88730802394\n",
      " \n",
      "STRUT: node 10 phi:  1 child left: 11 child right: 16\n",
      "distribution: [ 0.  0.]\n",
      "unreachable node 10\n",
      " \n",
      "STRUT: node 9 phi:  -2 child left: -1 child right: -1\n",
      "distribution: [ 0.  0.]\n",
      "old leaf\n"
     ]
    },
    {
     "name": "stderr",
     "output_type": "stream",
     "text": [
      "/Library/Python/2.7/site-packages/ipykernel_launcher.py:161: RuntimeWarning: invalid value encountered in divide\n"
     ]
    }
   ],
   "source": [
    "\n",
    "\n",
    "STRUT(clf,\n",
    "      0,\n",
    "      X,\n",
    "      Y)"
   ]
  },
  {
   "cell_type": "code",
   "execution_count": 663,
   "metadata": {},
   "outputs": [
    {
     "data": {
      "image/png": "[encoded data removed]",
      "text/plain": [
       "<matplotlib.figure.Figure at 0x114446390>"
      ]
     },
     "metadata": {},
     "output_type": "display_data"
    }
   ],
   "source": [
    "plt.plot(X[0:dataset_length/2,0],X[0:dataset_length/2,1],\"ro\")\n",
    "plt.plot(X[dataset_length/2:,0],X[dataset_length/2:,1],\"bo\")\n",
    "for node,feature in enumerate(clf.tree_.feature):\n",
    "    if feature ==0:\n",
    "        plt.axvline(x = clf.tree_.threshold[node])\n",
    "    elif feature == 1:\n",
    "        plt.axhline(y = clf.tree_.threshold[node])\n",
    "        "
   ]
  },
  {
   "cell_type": "code",
   "execution_count": 664,
   "metadata": {
    "collapsed": true
   },
   "outputs": [],
   "source": [
    "tree.export_graphviz?"
   ]
  },
  {
   "cell_type": "code",
   "execution_count": 667,
   "metadata": {},
   "outputs": [
    {
     "data": {
      "image/svg+xml": [
       "<?xml version=\"1.0\" encoding=\"UTF-8\" standalone=\"no\"?>\n",
       "<!DOCTYPE svg PUBLIC \"-//W3C//DTD SVG 1.1//EN\"\n",
       " \"http://www.w3.org/Graphics/SVG/1.1/DTD/svg11.dtd\">\n",
       "<!-- Generated by graphviz version 2.36.0 (20140111.2315)\n",
       " -->\n",
       "<!-- Title: Tree Pages: 1 -->\n",
       "<svg width=\"530pt\" height=\"556pt\"\n",
       " viewBox=\"0.00 0.00 530.00 556.00\" xmlns=\"http://www.w3.org/2000/svg\" xmlns:xlink=\"http://www.w3.org/1999/xlink\">\n",
       "<g id=\"graph0\" class=\"graph\" transform=\"scale(1 1) rotate(0) translate(4 552)\">\n",
       "<title>Tree</title>\n",
       "<polygon fill=\"white\" stroke=\"none\" points=\"-4,4 -4,-552 526,-552 526,4 -4,4\"/>\n",
       "<!-- 0 -->\n",
       "<g id=\"node1\" class=\"node\"><title>0</title>\n",
       "<path fill=\"none\" stroke=\"black\" d=\"M321,-547.5C321,-547.5 209,-547.5 209,-547.5 203,-547.5 197,-541.5 197,-535.5 197,-535.5 197,-476.5 197,-476.5 197,-470.5 203,-464.5 209,-464.5 209,-464.5 321,-464.5 321,-464.5 327,-464.5 333,-470.5 333,-476.5 333,-476.5 333,-535.5 333,-535.5 333,-541.5 327,-547.5 321,-547.5\"/>\n",
       "<text text-anchor=\"start\" x=\"210\" y=\"-532.3\" font-family=\"Helvetica,sans-Serif\" font-size=\"14.00\">feature_0 ≤ 0.143</text>\n",
       "<text text-anchor=\"start\" x=\"236\" y=\"-517.3\" font-family=\"Helvetica,sans-Serif\" font-size=\"14.00\">gini = 0.5</text>\n",
       "<text text-anchor=\"start\" x=\"219\" y=\"-502.3\" font-family=\"Helvetica,sans-Serif\" font-size=\"14.00\">samples = 100</text>\n",
       "<text text-anchor=\"start\" x=\"205\" y=\"-487.3\" font-family=\"Helvetica,sans-Serif\" font-size=\"14.00\">value = [50.0, 50.0]</text>\n",
       "<text text-anchor=\"start\" x=\"217\" y=\"-472.3\" font-family=\"Helvetica,sans-Serif\" font-size=\"14.00\">class = class_0</text>\n",
       "</g>\n",
       "<!-- 1 -->\n",
       "<g id=\"node2\" class=\"node\"><title>1</title>\n",
       "<path fill=\"none\" stroke=\"black\" d=\"M244,-427.5C244,-427.5 140,-427.5 140,-427.5 134,-427.5 128,-421.5 128,-415.5 128,-415.5 128,-356.5 128,-356.5 128,-350.5 134,-344.5 140,-344.5 140,-344.5 244,-344.5 244,-344.5 250,-344.5 256,-350.5 256,-356.5 256,-356.5 256,-415.5 256,-415.5 256,-421.5 250,-427.5 244,-427.5\"/>\n",
       "<text text-anchor=\"start\" x=\"137\" y=\"-412.3\" font-family=\"Helvetica,sans-Serif\" font-size=\"14.00\">feature_0 ≤ 0.035</text>\n",
       "<text text-anchor=\"start\" x=\"155.5\" y=\"-397.3\" font-family=\"Helvetica,sans-Serif\" font-size=\"14.00\">gini = 0.115</text>\n",
       "<text text-anchor=\"start\" x=\"150\" y=\"-382.3\" font-family=\"Helvetica,sans-Serif\" font-size=\"14.00\">samples = 49</text>\n",
       "<text text-anchor=\"start\" x=\"136\" y=\"-367.3\" font-family=\"Helvetica,sans-Serif\" font-size=\"14.00\">value = [3.0, 46.0]</text>\n",
       "<text text-anchor=\"start\" x=\"144\" y=\"-352.3\" font-family=\"Helvetica,sans-Serif\" font-size=\"14.00\">class = class_1</text>\n",
       "</g>\n",
       "<!-- 0&#45;&gt;1 -->\n",
       "<g id=\"edge1\" class=\"edge\"><title>0&#45;&gt;1</title>\n",
       "<path fill=\"none\" stroke=\"black\" d=\"M239.878,-464.391C234.314,-455.398 228.359,-445.772 222.605,-436.471\"/>\n",
       "<polygon fill=\"black\" stroke=\"black\" points=\"225.406,-434.347 217.169,-427.684 219.453,-438.029 225.406,-434.347\"/>\n",
       "<text text-anchor=\"middle\" x=\"211.436\" y=\"-448.318\" font-family=\"Helvetica,sans-Serif\" font-size=\"14.00\">True</text>\n",
       "</g>\n",
       "<!-- 8 -->\n",
       "<g id=\"node9\" class=\"node\"><title>8</title>\n",
       "<path fill=\"none\" stroke=\"black\" d=\"M390,-427.5C390,-427.5 286,-427.5 286,-427.5 280,-427.5 274,-421.5 274,-415.5 274,-415.5 274,-356.5 274,-356.5 274,-350.5 280,-344.5 286,-344.5 286,-344.5 390,-344.5 390,-344.5 396,-344.5 402,-350.5 402,-356.5 402,-356.5 402,-415.5 402,-415.5 402,-421.5 396,-427.5 390,-427.5\"/>\n",
       "<text text-anchor=\"start\" x=\"289\" y=\"-412.3\" font-family=\"Helvetica,sans-Serif\" font-size=\"14.00\">feature_1 ≤ nan</text>\n",
       "<text text-anchor=\"start\" x=\"301.5\" y=\"-397.3\" font-family=\"Helvetica,sans-Serif\" font-size=\"14.00\">gini = 0.145</text>\n",
       "<text text-anchor=\"start\" x=\"296\" y=\"-382.3\" font-family=\"Helvetica,sans-Serif\" font-size=\"14.00\">samples = 51</text>\n",
       "<text text-anchor=\"start\" x=\"282\" y=\"-367.3\" font-family=\"Helvetica,sans-Serif\" font-size=\"14.00\">value = [47.0, 4.0]</text>\n",
       "<text text-anchor=\"start\" x=\"290\" y=\"-352.3\" font-family=\"Helvetica,sans-Serif\" font-size=\"14.00\">class = class_0</text>\n",
       "</g>\n",
       "<!-- 0&#45;&gt;8 -->\n",
       "<g id=\"edge8\" class=\"edge\"><title>0&#45;&gt;8</title>\n",
       "<path fill=\"none\" stroke=\"black\" d=\"M290.122,-464.391C295.686,-455.398 301.641,-445.772 307.395,-436.471\"/>\n",
       "<polygon fill=\"black\" stroke=\"black\" points=\"310.547,-438.029 312.831,-427.684 304.594,-434.347 310.547,-438.029\"/>\n",
       "<text text-anchor=\"middle\" x=\"318.564\" y=\"-448.318\" font-family=\"Helvetica,sans-Serif\" font-size=\"14.00\">False</text>\n",
       "</g>\n",
       "<!-- 2 -->\n",
       "<g id=\"node3\" class=\"node\"><title>2</title>\n",
       "<path fill=\"none\" stroke=\"black\" d=\"M100,-300C100,-300 12,-300 12,-300 6,-300 7.10543e-15,-294 7.10543e-15,-288 7.10543e-15,-288 7.10543e-15,-244 7.10543e-15,-244 7.10543e-15,-238 6,-232 12,-232 12,-232 100,-232 100,-232 106,-232 112,-238 112,-244 112,-244 112,-288 112,-288 112,-294 106,-300 100,-300\"/>\n",
       "<text text-anchor=\"start\" x=\"27\" y=\"-284.8\" font-family=\"Helvetica,sans-Serif\" font-size=\"14.00\">gini = 0.0</text>\n",
       "<text text-anchor=\"start\" x=\"14\" y=\"-269.8\" font-family=\"Helvetica,sans-Serif\" font-size=\"14.00\">samples = 31</text>\n",
       "<text text-anchor=\"start\" x=\"11.5\" y=\"-254.8\" font-family=\"Helvetica,sans-Serif\" font-size=\"14.00\">value = [0, 31]</text>\n",
       "<text text-anchor=\"start\" x=\"8\" y=\"-239.8\" font-family=\"Helvetica,sans-Serif\" font-size=\"14.00\">class = class_1</text>\n",
       "</g>\n",
       "<!-- 1&#45;&gt;2 -->\n",
       "<g id=\"edge2\" class=\"edge\"><title>1&#45;&gt;2</title>\n",
       "<path fill=\"none\" stroke=\"black\" d=\"M145.197,-344.391C131.193,-332.241 115.857,-318.935 101.912,-306.835\"/>\n",
       "<polygon fill=\"black\" stroke=\"black\" points=\"104.172,-304.162 94.3248,-300.252 99.5843,-309.45 104.172,-304.162\"/>\n",
       "</g>\n",
       "<!-- 3 -->\n",
       "<g id=\"node4\" class=\"node\"><title>3</title>\n",
       "<path fill=\"none\" stroke=\"black\" d=\"M246,-307.5C246,-307.5 142,-307.5 142,-307.5 136,-307.5 130,-301.5 130,-295.5 130,-295.5 130,-236.5 130,-236.5 130,-230.5 136,-224.5 142,-224.5 142,-224.5 246,-224.5 246,-224.5 252,-224.5 258,-230.5 258,-236.5 258,-236.5 258,-295.5 258,-295.5 258,-301.5 252,-307.5 246,-307.5\"/>\n",
       "<text text-anchor=\"start\" x=\"139\" y=\"-292.3\" font-family=\"Helvetica,sans-Serif\" font-size=\"14.00\">feature_0 ≤ 0.042</text>\n",
       "<text text-anchor=\"start\" x=\"157.5\" y=\"-277.3\" font-family=\"Helvetica,sans-Serif\" font-size=\"14.00\">gini = 0.278</text>\n",
       "<text text-anchor=\"start\" x=\"152\" y=\"-262.3\" font-family=\"Helvetica,sans-Serif\" font-size=\"14.00\">samples = 18</text>\n",
       "<text text-anchor=\"start\" x=\"138\" y=\"-247.3\" font-family=\"Helvetica,sans-Serif\" font-size=\"14.00\">value = [3.0, 15.0]</text>\n",
       "<text text-anchor=\"start\" x=\"146\" y=\"-232.3\" font-family=\"Helvetica,sans-Serif\" font-size=\"14.00\">class = class_1</text>\n",
       "</g>\n",
       "<!-- 1&#45;&gt;3 -->\n",
       "<g id=\"edge3\" class=\"edge\"><title>1&#45;&gt;3</title>\n",
       "<path fill=\"none\" stroke=\"black\" d=\"M192.688,-344.391C192.833,-335.862 192.987,-326.763 193.137,-317.912\"/>\n",
       "<polygon fill=\"black\" stroke=\"black\" points=\"196.64,-317.742 193.31,-307.684 189.641,-317.623 196.64,-317.742\"/>\n",
       "</g>\n",
       "<!-- 4 -->\n",
       "<g id=\"node5\" class=\"node\"><title>4</title>\n",
       "<path fill=\"none\" stroke=\"black\" d=\"M169,-180C169,-180 81,-180 81,-180 75,-180 69,-174 69,-168 69,-168 69,-124 69,-124 69,-118 75,-112 81,-112 81,-112 169,-112 169,-112 175,-112 181,-118 181,-124 181,-124 181,-168 181,-168 181,-174 175,-180 169,-180\"/>\n",
       "<text text-anchor=\"start\" x=\"96\" y=\"-164.8\" font-family=\"Helvetica,sans-Serif\" font-size=\"14.00\">gini = 0.0</text>\n",
       "<text text-anchor=\"start\" x=\"87\" y=\"-149.8\" font-family=\"Helvetica,sans-Serif\" font-size=\"14.00\">samples = 1</text>\n",
       "<text text-anchor=\"start\" x=\"84.5\" y=\"-134.8\" font-family=\"Helvetica,sans-Serif\" font-size=\"14.00\">value = [1, 0]</text>\n",
       "<text text-anchor=\"start\" x=\"77\" y=\"-119.8\" font-family=\"Helvetica,sans-Serif\" font-size=\"14.00\">class = class_0</text>\n",
       "</g>\n",
       "<!-- 3&#45;&gt;4 -->\n",
       "<g id=\"edge4\" class=\"edge\"><title>3&#45;&gt;4</title>\n",
       "<path fill=\"none\" stroke=\"black\" d=\"M170.254,-224.391C163.61,-213.029 156.375,-200.655 149.678,-189.203\"/>\n",
       "<polygon fill=\"black\" stroke=\"black\" points=\"152.513,-187.118 144.444,-180.252 146.471,-190.652 152.513,-187.118\"/>\n",
       "</g>\n",
       "<!-- 5 -->\n",
       "<g id=\"node6\" class=\"node\"><title>5</title>\n",
       "<path fill=\"none\" stroke=\"black\" d=\"M315,-187.5C315,-187.5 211,-187.5 211,-187.5 205,-187.5 199,-181.5 199,-175.5 199,-175.5 199,-116.5 199,-116.5 199,-110.5 205,-104.5 211,-104.5 211,-104.5 315,-104.5 315,-104.5 321,-104.5 327,-110.5 327,-116.5 327,-116.5 327,-175.5 327,-175.5 327,-181.5 321,-187.5 315,-187.5\"/>\n",
       "<text text-anchor=\"start\" x=\"214\" y=\"-172.3\" font-family=\"Helvetica,sans-Serif\" font-size=\"14.00\">feature_1 ≤ nan</text>\n",
       "<text text-anchor=\"start\" x=\"226.5\" y=\"-157.3\" font-family=\"Helvetica,sans-Serif\" font-size=\"14.00\">gini = 0.208</text>\n",
       "<text text-anchor=\"start\" x=\"221\" y=\"-142.3\" font-family=\"Helvetica,sans-Serif\" font-size=\"14.00\">samples = 17</text>\n",
       "<text text-anchor=\"start\" x=\"207\" y=\"-127.3\" font-family=\"Helvetica,sans-Serif\" font-size=\"14.00\">value = [2.0, 15.0]</text>\n",
       "<text text-anchor=\"start\" x=\"215\" y=\"-112.3\" font-family=\"Helvetica,sans-Serif\" font-size=\"14.00\">class = class_1</text>\n",
       "</g>\n",
       "<!-- 3&#45;&gt;5 -->\n",
       "<g id=\"edge5\" class=\"edge\"><title>3&#45;&gt;5</title>\n",
       "<path fill=\"none\" stroke=\"black\" d=\"M217.746,-224.391C223.004,-215.398 228.633,-205.772 234.072,-196.471\"/>\n",
       "<polygon fill=\"black\" stroke=\"black\" points=\"237.184,-198.083 239.21,-187.684 231.141,-194.55 237.184,-198.083\"/>\n",
       "</g>\n",
       "<!-- 6 -->\n",
       "<g id=\"node7\" class=\"node\"><title>6</title>\n",
       "<path fill=\"none\" stroke=\"black\" d=\"M242,-68C242,-68 154,-68 154,-68 148,-68 142,-62 142,-56 142,-56 142,-12 142,-12 142,-6 148,-0 154,-0 154,-0 242,-0 242,-0 248,-0 254,-6 254,-12 254,-12 254,-56 254,-56 254,-62 248,-68 242,-68\"/>\n",
       "<text text-anchor=\"start\" x=\"167\" y=\"-52.8\" font-family=\"Helvetica,sans-Serif\" font-size=\"14.00\">gini = nan</text>\n",
       "<text text-anchor=\"start\" x=\"160\" y=\"-37.8\" font-family=\"Helvetica,sans-Serif\" font-size=\"14.00\">samples = 0</text>\n",
       "<text text-anchor=\"start\" x=\"157.5\" y=\"-22.8\" font-family=\"Helvetica,sans-Serif\" font-size=\"14.00\">value = [0, 0]</text>\n",
       "<text text-anchor=\"start\" x=\"150\" y=\"-7.8\" font-family=\"Helvetica,sans-Serif\" font-size=\"14.00\">class = class_0</text>\n",
       "</g>\n",
       "<!-- 5&#45;&gt;6 -->\n",
       "<g id=\"edge6\" class=\"edge\"><title>5&#45;&gt;6</title>\n",
       "<path fill=\"none\" stroke=\"black\" d=\"M238.981,-104.353C233.719,-95.4478 228.138,-86.0034 222.845,-77.0452\"/>\n",
       "<polygon fill=\"black\" stroke=\"black\" points=\"225.77,-75.1157 217.67,-68.287 219.744,-78.6768 225.77,-75.1157\"/>\n",
       "</g>\n",
       "<!-- 7 -->\n",
       "<g id=\"node8\" class=\"node\"><title>7</title>\n",
       "<path fill=\"none\" stroke=\"black\" d=\"M372,-68C372,-68 284,-68 284,-68 278,-68 272,-62 272,-56 272,-56 272,-12 272,-12 272,-6 278,-0 284,-0 284,-0 372,-0 372,-0 378,-0 384,-6 384,-12 384,-12 384,-56 384,-56 384,-62 378,-68 372,-68\"/>\n",
       "<text text-anchor=\"start\" x=\"297\" y=\"-52.8\" font-family=\"Helvetica,sans-Serif\" font-size=\"14.00\">gini = nan</text>\n",
       "<text text-anchor=\"start\" x=\"290\" y=\"-37.8\" font-family=\"Helvetica,sans-Serif\" font-size=\"14.00\">samples = 0</text>\n",
       "<text text-anchor=\"start\" x=\"287.5\" y=\"-22.8\" font-family=\"Helvetica,sans-Serif\" font-size=\"14.00\">value = [0, 0]</text>\n",
       "<text text-anchor=\"start\" x=\"280\" y=\"-7.8\" font-family=\"Helvetica,sans-Serif\" font-size=\"14.00\">class = class_0</text>\n",
       "</g>\n",
       "<!-- 5&#45;&gt;7 -->\n",
       "<g id=\"edge7\" class=\"edge\"><title>5&#45;&gt;7</title>\n",
       "<path fill=\"none\" stroke=\"black\" d=\"M287.019,-104.353C292.281,-95.4478 297.862,-86.0034 303.155,-77.0452\"/>\n",
       "<polygon fill=\"black\" stroke=\"black\" points=\"306.256,-78.6768 308.33,-68.287 300.23,-75.1157 306.256,-78.6768\"/>\n",
       "</g>\n",
       "<!-- 10 -->\n",
       "<g id=\"node10\" class=\"node\"><title>10</title>\n",
       "<path fill=\"none\" stroke=\"black\" d=\"M380,-300C380,-300 292,-300 292,-300 286,-300 280,-294 280,-288 280,-288 280,-244 280,-244 280,-238 286,-232 292,-232 292,-232 380,-232 380,-232 386,-232 392,-238 392,-244 392,-244 392,-288 392,-288 392,-294 386,-300 380,-300\"/>\n",
       "<text text-anchor=\"start\" x=\"305\" y=\"-284.8\" font-family=\"Helvetica,sans-Serif\" font-size=\"14.00\">gini = nan</text>\n",
       "<text text-anchor=\"start\" x=\"298\" y=\"-269.8\" font-family=\"Helvetica,sans-Serif\" font-size=\"14.00\">samples = 0</text>\n",
       "<text text-anchor=\"start\" x=\"295.5\" y=\"-254.8\" font-family=\"Helvetica,sans-Serif\" font-size=\"14.00\">value = [0, 0]</text>\n",
       "<text text-anchor=\"start\" x=\"288\" y=\"-239.8\" font-family=\"Helvetica,sans-Serif\" font-size=\"14.00\">class = class_0</text>\n",
       "</g>\n",
       "<!-- 8&#45;&gt;10 -->\n",
       "<g id=\"edge9\" class=\"edge\"><title>8&#45;&gt;10</title>\n",
       "<path fill=\"none\" stroke=\"black\" d=\"M337.312,-344.391C337.127,-333.479 336.926,-321.634 336.738,-310.568\"/>\n",
       "<polygon fill=\"black\" stroke=\"black\" points=\"340.233,-310.192 336.564,-300.252 333.234,-310.31 340.233,-310.192\"/>\n",
       "</g>\n",
       "<!-- 9 -->\n",
       "<g id=\"node11\" class=\"node\"><title>9</title>\n",
       "<path fill=\"none\" stroke=\"black\" d=\"M510,-300C510,-300 422,-300 422,-300 416,-300 410,-294 410,-288 410,-288 410,-244 410,-244 410,-238 416,-232 422,-232 422,-232 510,-232 510,-232 516,-232 522,-238 522,-244 522,-244 522,-288 522,-288 522,-294 516,-300 510,-300\"/>\n",
       "<text text-anchor=\"start\" x=\"435\" y=\"-284.8\" font-family=\"Helvetica,sans-Serif\" font-size=\"14.00\">gini = nan</text>\n",
       "<text text-anchor=\"start\" x=\"428\" y=\"-269.8\" font-family=\"Helvetica,sans-Serif\" font-size=\"14.00\">samples = 0</text>\n",
       "<text text-anchor=\"start\" x=\"425.5\" y=\"-254.8\" font-family=\"Helvetica,sans-Serif\" font-size=\"14.00\">value = [0, 0]</text>\n",
       "<text text-anchor=\"start\" x=\"418\" y=\"-239.8\" font-family=\"Helvetica,sans-Serif\" font-size=\"14.00\">class = class_0</text>\n",
       "</g>\n",
       "<!-- 8&#45;&gt;9 -->\n",
       "<g id=\"edge10\" class=\"edge\"><title>8&#45;&gt;9</title>\n",
       "<path fill=\"none\" stroke=\"black\" d=\"M382.05,-344.391C395.108,-332.354 409.396,-319.181 422.424,-307.172\"/>\n",
       "<polygon fill=\"black\" stroke=\"black\" points=\"424.949,-309.604 429.93,-300.252 420.205,-304.457 424.949,-309.604\"/>\n",
       "</g>\n",
       "</g>\n",
       "</svg>\n"
      ],
      "text/plain": [
       "<graphviz.files.Source at 0x11443b690>"
      ]
     },
     "execution_count": 667,
     "metadata": {},
     "output_type": "execute_result"
    }
   ],
   "source": [
    "import graphviz \n",
    "dot_data = tree.export_graphviz(clf, out_file=None, \n",
    "                         feature_names=[\"feature_\"+str(i) for i in range(D)],  \n",
    "                         class_names=[\"class_0\", \"class_1\"],  \n",
    "                         filled=False, rounded=True,  \n",
    "                         special_characters=True)  \n",
    "\n",
    "graph = graphviz.Source(dot_data)  \n",
    "graph "
   ]
  },
  {
   "cell_type": "code",
   "execution_count": 365,
   "metadata": {},
   "outputs": [
    {
     "data": {
      "text/plain": [
       "array([[  0.,  50.]])"
      ]
     },
     "execution_count": 365,
     "metadata": {},
     "output_type": "execute_result"
    }
   ],
   "source": [
    "clf.tree_.value[1]"
   ]
  },
  {
   "cell_type": "code",
   "execution_count": 353,
   "metadata": {},
   "outputs": [
    {
     "data": {
      "text/plain": [
       "array([[ 1.,  3.]])"
      ]
     },
     "execution_count": 353,
     "metadata": {},
     "output_type": "execute_result"
    }
   ],
   "source": [
    "np.asarray([compute_class_distribution(clf.classes_,[0,1,1,1])])"
   ]
  },
  {
   "cell_type": "code",
   "execution_count": 367,
   "metadata": {},
   "outputs": [
    {
     "data": {
      "text/plain": [
       "array([[[  5.00e+01,   5.00e+01]],\n",
       "\n",
       "       [[  0.00e+00,   5.00e+01]],\n",
       "\n",
       "       [[  5.00e+01,   9.80e-07]],\n",
       "\n",
       "       [[  1.00e+00,   0.00e+00]],\n",
       "\n",
       "       [[  1.00e+00,   2.00e+00]],\n",
       "\n",
       "       [[  1.00e+00,   0.00e+00]],\n",
       "\n",
       "       [[  0.00e+00,   2.00e+00]],\n",
       "\n",
       "       [[  2.00e+00,   0.00e+00]],\n",
       "\n",
       "       [[  4.90e+01,   0.00e+00]]])"
      ]
     },
     "execution_count": 367,
     "metadata": {},
     "output_type": "execute_result"
    }
   ],
   "source": [
    "clf.tree_.value"
   ]
  },
  {
   "cell_type": "code",
   "execution_count": null,
   "metadata": {
    "collapsed": true
   },
   "outputs": [],
   "source": []
  }
 ],
 "metadata": {
  "kernelspec": {
   "display_name": "Python 2",
   "language": "python",
   "name": "python2"
  },
  "language_info": {
   "codemirror_mode": {
    "name": "ipython",
    "version": 2
   },
   "file_extension": ".py",
   "mimetype": "text/x-python",
   "name": "python",
   "nbconvert_exporter": "python",
   "pygments_lexer": "ipython2",
   "version": "2.7.11"
  }
 },
 "nbformat": 4,
 "nbformat_minor": 2
}
