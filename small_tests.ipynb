{
 "cells": [
  {
   "cell_type": "code",
   "execution_count": 90,
   "metadata": {
    "collapsed": true
   },
   "outputs": [],
   "source": [
    "%matplotlib inline"
   ]
  },
  {
   "cell_type": "code",
   "execution_count": 91,
   "metadata": {
    "collapsed": true
   },
   "outputs": [],
   "source": [
    "import numpy as np\n",
    "from sklearn import tree\n",
    "from sklearn.datasets import load_iris\n",
    "import matplotlib.pyplot as plt"
   ]
  },
  {
   "cell_type": "markdown",
   "metadata": {},
   "source": [
    "## Create test dataset"
   ]
  },
  {
   "cell_type": "code",
   "execution_count": 189,
   "metadata": {},
   "outputs": [],
   "source": [
    "dataset_length = 100\n",
    "D = 2\n",
    "X = np.random.randn(dataset_length,D)*0.1\n",
    "X[0:dataset_length/2,0] += 0.2\n",
    "X[0:dataset_length/2,1] += 1\n",
    "Y = np.ones(dataset_length)\n",
    "Y[0:dataset_length/2] *= 0"
   ]
  },
  {
   "cell_type": "code",
   "execution_count": 190,
   "metadata": {},
   "outputs": [
    {
     "data": {
      "text/plain": [
       "[<matplotlib.lines.Line2D at 0x10ad36fd0>]"
      ]
     },
     "execution_count": 190,
     "metadata": {},
     "output_type": "execute_result"
    },
    {
     "data": {
      "image/png": "[encoded data removed]",
      "text/plain": [
       "<matplotlib.figure.Figure at 0x10ac76390>"
      ]
     },
     "metadata": {},
     "output_type": "display_data"
    }
   ],
   "source": [
    "plt.plot(X[:,0],X[:,1],\"o\")"
   ]
  },
  {
   "cell_type": "markdown",
   "metadata": {},
   "source": [
    "## Create a Decision Tree trained on this dataset"
   ]
  },
  {
   "cell_type": "code",
   "execution_count": 191,
   "metadata": {
    "collapsed": true
   },
   "outputs": [],
   "source": [
    "clf = tree.DecisionTreeClassifier()\n",
    "clf = clf.fit(X, Y)"
   ]
  },
  {
   "cell_type": "code",
   "execution_count": 192,
   "metadata": {},
   "outputs": [
    {
     "data": {
      "image/svg+xml": [
       "<?xml version=\"1.0\" encoding=\"UTF-8\" standalone=\"no\"?>\n",
       "<!DOCTYPE svg PUBLIC \"-//W3C//DTD SVG 1.1//EN\"\n",
       " \"http://www.w3.org/Graphics/SVG/1.1/DTD/svg11.dtd\">\n",
       "<!-- Generated by graphviz version 2.36.0 (20140111.2315)\n",
       " -->\n",
       "<!-- Title: Tree Pages: 1 -->\n",
       "<svg width=\"250pt\" height=\"196pt\"\n",
       " viewBox=\"0.00 0.00 250.00 196.00\" xmlns=\"http://www.w3.org/2000/svg\" xmlns:xlink=\"http://www.w3.org/1999/xlink\">\n",
       "<g id=\"graph0\" class=\"graph\" transform=\"scale(1 1) rotate(0) translate(4 192)\">\n",
       "<title>Tree</title>\n",
       "<polygon fill=\"white\" stroke=\"none\" points=\"-4,4 -4,-192 246,-192 246,4 -4,4\"/>\n",
       "<!-- 0 -->\n",
       "<g id=\"node1\" class=\"node\"><title>0</title>\n",
       "<path fill=\"none\" stroke=\"black\" d=\"M172,-187.5C172,-187.5 70,-187.5 70,-187.5 64,-187.5 58,-181.5 58,-175.5 58,-175.5 58,-116.5 58,-116.5 58,-110.5 64,-104.5 70,-104.5 70,-104.5 172,-104.5 172,-104.5 178,-104.5 184,-110.5 184,-116.5 184,-116.5 184,-175.5 184,-175.5 184,-181.5 178,-187.5 172,-187.5\"/>\n",
       "<text text-anchor=\"start\" x=\"66\" y=\"-172.3\" font-family=\"Helvetica,sans-Serif\" font-size=\"14.00\">feature_1 ≤ 0.542</text>\n",
       "<text text-anchor=\"start\" x=\"92\" y=\"-157.3\" font-family=\"Helvetica,sans-Serif\" font-size=\"14.00\">gini = 0.5</text>\n",
       "<text text-anchor=\"start\" x=\"75\" y=\"-142.3\" font-family=\"Helvetica,sans-Serif\" font-size=\"14.00\">samples = 100</text>\n",
       "<text text-anchor=\"start\" x=\"72.5\" y=\"-127.3\" font-family=\"Helvetica,sans-Serif\" font-size=\"14.00\">value = [50, 50]</text>\n",
       "<text text-anchor=\"start\" x=\"73\" y=\"-112.3\" font-family=\"Helvetica,sans-Serif\" font-size=\"14.00\">class = class_0</text>\n",
       "</g>\n",
       "<!-- 1 -->\n",
       "<g id=\"node2\" class=\"node\"><title>1</title>\n",
       "<path fill=\"#399de5\" stroke=\"black\" d=\"M100,-68C100,-68 12,-68 12,-68 6,-68 7.10543e-15,-62 7.10543e-15,-56 7.10543e-15,-56 7.10543e-15,-12 7.10543e-15,-12 7.10543e-15,-6 6,-0 12,-0 12,-0 100,-0 100,-0 106,-0 112,-6 112,-12 112,-12 112,-56 112,-56 112,-62 106,-68 100,-68\"/>\n",
       "<text text-anchor=\"start\" x=\"27\" y=\"-52.8\" font-family=\"Helvetica,sans-Serif\" font-size=\"14.00\">gini = 0.0</text>\n",
       "<text text-anchor=\"start\" x=\"14\" y=\"-37.8\" font-family=\"Helvetica,sans-Serif\" font-size=\"14.00\">samples = 50</text>\n",
       "<text text-anchor=\"start\" x=\"11.5\" y=\"-22.8\" font-family=\"Helvetica,sans-Serif\" font-size=\"14.00\">value = [0, 50]</text>\n",
       "<text text-anchor=\"start\" x=\"8\" y=\"-7.8\" font-family=\"Helvetica,sans-Serif\" font-size=\"14.00\">class = class_1</text>\n",
       "</g>\n",
       "<!-- 0&#45;&gt;1 -->\n",
       "<g id=\"edge1\" class=\"edge\"><title>0&#45;&gt;1</title>\n",
       "<path fill=\"none\" stroke=\"black\" d=\"M96.9811,-104.353C91.7192,-95.4478 86.1384,-86.0034 80.8449,-77.0452\"/>\n",
       "<polygon fill=\"black\" stroke=\"black\" points=\"83.7702,-75.1157 75.6696,-68.287 77.7437,-78.6768 83.7702,-75.1157\"/>\n",
       "<text text-anchor=\"middle\" x=\"69.4435\" y=\"-88.7993\" font-family=\"Helvetica,sans-Serif\" font-size=\"14.00\">True</text>\n",
       "</g>\n",
       "<!-- 2 -->\n",
       "<g id=\"node3\" class=\"node\"><title>2</title>\n",
       "<path fill=\"#e58139\" stroke=\"black\" d=\"M230,-68C230,-68 142,-68 142,-68 136,-68 130,-62 130,-56 130,-56 130,-12 130,-12 130,-6 136,-0 142,-0 142,-0 230,-0 230,-0 236,-0 242,-6 242,-12 242,-12 242,-56 242,-56 242,-62 236,-68 230,-68\"/>\n",
       "<text text-anchor=\"start\" x=\"157\" y=\"-52.8\" font-family=\"Helvetica,sans-Serif\" font-size=\"14.00\">gini = 0.0</text>\n",
       "<text text-anchor=\"start\" x=\"144\" y=\"-37.8\" font-family=\"Helvetica,sans-Serif\" font-size=\"14.00\">samples = 50</text>\n",
       "<text text-anchor=\"start\" x=\"141.5\" y=\"-22.8\" font-family=\"Helvetica,sans-Serif\" font-size=\"14.00\">value = [50, 0]</text>\n",
       "<text text-anchor=\"start\" x=\"138\" y=\"-7.8\" font-family=\"Helvetica,sans-Serif\" font-size=\"14.00\">class = class_0</text>\n",
       "</g>\n",
       "<!-- 0&#45;&gt;2 -->\n",
       "<g id=\"edge2\" class=\"edge\"><title>0&#45;&gt;2</title>\n",
       "<path fill=\"none\" stroke=\"black\" d=\"M145.019,-104.353C150.281,-95.4478 155.862,-86.0034 161.155,-77.0452\"/>\n",
       "<polygon fill=\"black\" stroke=\"black\" points=\"164.256,-78.6768 166.33,-68.287 158.23,-75.1157 164.256,-78.6768\"/>\n",
       "<text text-anchor=\"middle\" x=\"172.556\" y=\"-88.7993\" font-family=\"Helvetica,sans-Serif\" font-size=\"14.00\">False</text>\n",
       "</g>\n",
       "</g>\n",
       "</svg>\n"
      ],
      "text/plain": [
       "<graphviz.files.Source at 0x10aca9710>"
      ]
     },
     "execution_count": 192,
     "metadata": {},
     "output_type": "execute_result"
    }
   ],
   "source": [
    "import graphviz \n",
    "dot_data = tree.export_graphviz(clf, out_file=None, \n",
    "                         feature_names=[\"feature_\"+str(i) for i in range(D)],  \n",
    "                         class_names=[\"class_0\", \"class_1\"],  \n",
    "                         filled=True, rounded=True,  \n",
    "                         special_characters=True)  \n",
    "\n",
    "graph = graphviz.Source(dot_data)  \n",
    "graph "
   ]
  },
  {
   "cell_type": "markdown",
   "metadata": {},
   "source": [
    "### Modify the threshold of the tree\n",
    "+ The first threshold is splitting the dataset along feature_1 at location 0.51\n",
    "+ Let us classify the point [0.1, 0.5]"
   ]
  },
  {
   "cell_type": "code",
   "execution_count": 7,
   "metadata": {},
   "outputs": [
    {
     "data": {
      "text/plain": [
       "array([ 0.51118094, -2.        , -2.        ])"
      ]
     },
     "execution_count": 7,
     "metadata": {},
     "output_type": "execute_result"
    }
   ],
   "source": [
    "clf.tree_.threshold"
   ]
  },
  {
   "cell_type": "code",
   "execution_count": 8,
   "metadata": {},
   "outputs": [
    {
     "data": {
      "text/plain": [
       "array([ 1.])"
      ]
     },
     "execution_count": 8,
     "metadata": {},
     "output_type": "execute_result"
    }
   ],
   "source": [
    "clf.predict(np.asarray([[0.1,0.5]]))"
   ]
  },
  {
   "cell_type": "code",
   "execution_count": 9,
   "metadata": {},
   "outputs": [
    {
     "data": {
      "text/plain": [
       "array([[1, 1, 0]])"
      ]
     },
     "execution_count": 9,
     "metadata": {},
     "output_type": "execute_result"
    }
   ],
   "source": [
    "clf.decision_path(np.asarray([[0.1,0.5]])).toarray()"
   ]
  },
  {
   "cell_type": "markdown",
   "metadata": {},
   "source": [
    "+ Let us modify the threshold and put it equal to 0\n",
    "+ Let us classify the same point"
   ]
  },
  {
   "cell_type": "code",
   "execution_count": 10,
   "metadata": {
    "collapsed": true
   },
   "outputs": [],
   "source": [
    "clf.tree_.threshold[0] = 0"
   ]
  },
  {
   "cell_type": "code",
   "execution_count": 11,
   "metadata": {},
   "outputs": [
    {
     "data": {
      "text/plain": [
       "array([ 0.])"
      ]
     },
     "execution_count": 11,
     "metadata": {},
     "output_type": "execute_result"
    }
   ],
   "source": [
    "clf.predict(np.asarray([[0.1,0.5]]))"
   ]
  },
  {
   "cell_type": "code",
   "execution_count": 12,
   "metadata": {},
   "outputs": [
    {
     "data": {
      "text/plain": [
       "array([[1, 0, 1]])"
      ]
     },
     "execution_count": 12,
     "metadata": {},
     "output_type": "execute_result"
    }
   ],
   "source": [
    "clf.decision_path(np.asarray([[0.1,0.5]])).toarray()"
   ]
  },
  {
   "cell_type": "markdown",
   "metadata": {},
   "source": [
    "## Conclusion\n",
    "Modifying the threshold outside the tree seems to work well :)"
   ]
  },
  {
   "cell_type": "markdown",
   "metadata": {},
   "source": [
    "## Let us access to important elements from the Decision Tree\n",
    "the object tree_ keeps the information describing the tree in lists, such that information contained at index $i$ corresponds to the node $i$ of the tree. The root of the tree is labeled 0. we can get the children's indexes using `children_left` or `children_right` arrays"
   ]
  },
  {
   "cell_type": "code",
   "execution_count": 55,
   "metadata": {},
   "outputs": [
    {
     "data": {
      "text/plain": [
       "array([ 1, -1, -1])"
      ]
     },
     "execution_count": 55,
     "metadata": {},
     "output_type": "execute_result"
    }
   ],
   "source": [
    "clf.tree_.children_left"
   ]
  },
  {
   "cell_type": "code",
   "execution_count": 56,
   "metadata": {},
   "outputs": [
    {
     "data": {
      "text/plain": [
       "array([ 2, -1, -1])"
      ]
     },
     "execution_count": 56,
     "metadata": {},
     "output_type": "execute_result"
    }
   ],
   "source": [
    "clf.tree_.children_right"
   ]
  },
  {
   "cell_type": "markdown",
   "metadata": {},
   "source": [
    "In this case, a leaf is simply a node $\\nu_i$ such that `clf.tree_.children_right[i] == -1` and `clf.tree_.children_left[i] ==1`"
   ]
  },
  {
   "cell_type": "markdown",
   "metadata": {},
   "source": [
    "+ The feature to split on is stored in list `feature`\n",
    "+ The thresholds in list `threshold`\n",
    "+ The number of training samples reaching the node are stored in `n_node_samples` \n",
    "+ The `decision_path` of the target dataset will be helpfull to re-attribute the instances\n",
    "+ The `value` list provides the number of elements from each class in the current node"
   ]
  },
  {
   "cell_type": "code",
   "execution_count": 15,
   "metadata": {},
   "outputs": [],
   "source": [
    "path = clf.decision_path(X[0:3,:])"
   ]
  },
  {
   "cell_type": "code",
   "execution_count": 16,
   "metadata": {},
   "outputs": [
    {
     "data": {
      "text/plain": [
       "array([[1, 0, 1],\n",
       "       [1, 0, 1],\n",
       "       [1, 0, 1]])"
      ]
     },
     "execution_count": 16,
     "metadata": {},
     "output_type": "execute_result"
    }
   ],
   "source": [
    "path.toarray()"
   ]
  },
  {
   "cell_type": "code",
   "execution_count": 22,
   "metadata": {},
   "outputs": [],
   "source": [
    "clf.tree_.value[0,:] = [10,10]"
   ]
  },
  {
   "cell_type": "code",
   "execution_count": 23,
   "metadata": {},
   "outputs": [
    {
     "data": {
      "text/plain": [
       "array([[[ 10.,  10.]],\n",
       "\n",
       "       [[  0.,  50.]],\n",
       "\n",
       "       [[ 50.,   0.]]])"
      ]
     },
     "execution_count": 23,
     "metadata": {},
     "output_type": "execute_result"
    }
   ],
   "source": [
    "clf.tree_.value"
   ]
  },
  {
   "cell_type": "code",
   "execution_count": 156,
   "metadata": {
    "collapsed": true
   },
   "outputs": [],
   "source": [
    "np.set_printoptions(precision=2)"
   ]
  },
  {
   "cell_type": "code",
   "execution_count": 441,
   "metadata": {},
   "outputs": [],
   "source": [
    "clf.tree_?"
   ]
  },
  {
   "cell_type": "markdown",
   "metadata": {},
   "source": [
    "# Create the STRUT algorithm step by step"
   ]
  },
  {
   "cell_type": "code",
   "execution_count": 685,
   "metadata": {},
   "outputs": [],
   "source": [
    "import sklearn\n",
    "def get_children_distributions(decisiontree,\n",
    "                               node_index):\n",
    "    tree = decisiontree.tree_\n",
    "    child_l = tree.children_left[node_index]\n",
    "    child_r = tree.children_right[node_index]\n",
    "    Q_source_l = tree.value[child_l]\n",
    "    Q_source_r = tree.value[child_r]\n",
    "    return [np.asarray(Q_source_l), np.asarray(Q_source_r)]\n",
    "                                              \n",
    "def get_node_distribution(decisiontree,\n",
    "                          node_index):\n",
    "    tree = decisiontree.tree_\n",
    "    Q = tree.value[node_index]\n",
    "    return np.asarray(Q)\n",
    "\n",
    "  \n",
    "def compute_class_distribution(classes,\n",
    "                               class_membership):\n",
    "    unique, counts = np.unique(class_membership, return_counts=True)\n",
    "    classes_counts = dict(zip(unique, counts))\n",
    "    classes_index = dict(zip(classes,range(len(classes))))\n",
    "    distribution = np.zeros(len(classes))\n",
    "    for label,count in classes_counts.iteritems():\n",
    "        class_index = classes_index[label]\n",
    "        distribution[class_index] = count\n",
    "    return distribution\n",
    "\n",
    "def KL_divergence(class_counts_P,\n",
    "                  class_counts_Q):\n",
    "    # KL Divergence to assess the difference between two distributions\n",
    "    # Definition: $D_{KL}(P||Q) = \\sum{i} P(i)ln(\\frac{P(i)}{Q(i)})$\n",
    "    # epsilon to avoid division by 0\n",
    "    epsilon = 1e-8\n",
    "    class_counts_P += epsilon\n",
    "    class_counts_Q += epsilon\n",
    "    P = class_counts_P * 1./ class_counts_P.sum()\n",
    "    Q = class_counts_Q * 1./ class_counts_Q.sum()\n",
    "    Dkl = (P * np.log(P * 1./ Q)).sum()\n",
    "    # another possibility is to use scipy.stats.entropy(P,Q) ... but this generates another dependency\n",
    "    return Dkl\n",
    "\n",
    "def H(class_counts):\n",
    "    # Entropy\n",
    "    # Definition: $H(P) = \\sum{i} -P(i) ln(P(i))$\n",
    "    epsilon = 1e-8\n",
    "    class_counts += epsilon\n",
    "    P = class_counts * 1./ class_counts.sum()\n",
    "    #print \"computing H\"\n",
    "    #print \"P\",class_counts,class_counts.sum()\n",
    "    #print \"H\", - (P * np.log(P)).sum()\n",
    "    return - (P * np.log(P)).sum()\n",
    "\n",
    "def IG(class_counts_parent,\n",
    "       class_counts_children):\n",
    "    # Information Gain\n",
    "    H_parent = H(class_counts_parent)\n",
    "    H_children = np.asarray([H(class_counts_child) for class_counts_child in class_counts_children])\n",
    "    N = class_counts_parent.sum()\n",
    "    #print \"class count parent\", class_counts_parent\n",
    "    #print \"class counts IG\", class_counts_children\n",
    "    p_children = np.asarray([class_counts_child.sum()*1./N for class_counts_child in class_counts_children])\n",
    "    information_gain = H_parent - (p_children * H_children).sum()\n",
    "    #print \"parent H\",H_parent\n",
    "    #print \"children H\", (p_children * H_children).sum()\n",
    "    #print \"compute information gain\",information_gain\n",
    "    return information_gain\n",
    "        \n",
    "def JSD(P,Q):\n",
    "    M = (P+Q) * 1./2\n",
    "    #print \"M\",M,\"P\",P,\"Q\",Q\n",
    "    Dkl_PM = KL_divergence(P,M)\n",
    "    Dkl_QM = KL_divergence(Q,M)\n",
    "    #print \"Dkl_PM\", Dkl_PM, \"Dkl_QM\", Dkl_QM\n",
    "    return (Dkl_PM + Dkl_QM) * 1./2\n",
    "\n",
    "def DG(Q_source_l,\n",
    "       Q_source_r,\n",
    "       Q_target_l,\n",
    "       Q_target_r):\n",
    "    # compute proportion of instances at left and right\n",
    "    p_l = Q_target_l.sum() \n",
    "    p_r = Q_target_r.sum() \n",
    "    total_counts = p_l + p_r\n",
    "    p_l /= total_counts\n",
    "    p_r /= total_counts\n",
    "    #print p_l, p_r, JSD(Q_target_l, Q_source_l), JSD(Q_target_r, Q_source_r)\n",
    "    # Compute the new distributions at right and left children\n",
    "   \n",
    "    # compute the DG\n",
    "    return 1. - p_l * JSD(Q_target_l, Q_source_l) - p_r * JSD(Q_target_r, Q_source_r)\n",
    "\n",
    "def compute_Q_children_target(X_target_node,\n",
    "                              Y_target_node,\n",
    "                              phi,\n",
    "                              threshold,\n",
    "                              classes):\n",
    "    # Split parent node target sample using the threshold provided\n",
    "    # instances <= threshold go to the left \n",
    "    # instances > threshold go to the right \n",
    "    decision_l = X_target_node[:,phi] <= threshold\n",
    "    decision_r = np.logical_not(decision_l)\n",
    "    Y_target_child_l = Y_target_node[decision_l]\n",
    "    Y_target_child_r = Y_target_node[decision_r]\n",
    "    Q_target_l = compute_class_distribution(classes, Y_target_child_l)\n",
    "    Q_target_r = compute_class_distribution(classes, Y_target_child_r) \n",
    "    return Q_target_l,Q_target_r\n",
    "\n",
    "\n",
    "def threshold_selection(Q_source_parent,\n",
    "                        Q_source_l,\n",
    "                        Q_source_r,\n",
    "                        X_target_node,\n",
    "                        Y_target_node,\n",
    "                        phi,\n",
    "                        classes):\n",
    "    # sort the corrdinates of X along phi\n",
    "    X_phi_sorted = np.sort(X_target_node[:,phi])\n",
    "    #print X_phi_sorted\n",
    "    nb_tested_thresholds = X_target_node.shape[0] - 1\n",
    "    measures_IG = np.zeros(nb_tested_thresholds)\n",
    "    measures_DG = np.zeros(nb_tested_thresholds)\n",
    "    for i in xrange(nb_tested_thresholds):\n",
    "        threshold = (X_phi_sorted[i] + X_phi_sorted[i+1]) * 1./2\n",
    "        Q_target_l,Q_target_r = compute_Q_children_target(X_target_node,\n",
    "                                                          Y_target_node,\n",
    "                                                          phi,\n",
    "                                                          threshold,\n",
    "                                                          classes)\n",
    "        \n",
    "        \n",
    "        measures_IG[i] = IG(Q_source_parent,\n",
    "                            [Q_target_l,Q_target_r])\n",
    "        measures_DG[i] = DG(Q_source_l,\n",
    "                            Q_source_r,\n",
    "                            Q_target_l,\n",
    "                            Q_target_r)\n",
    "    index = 0\n",
    "    for i in xrange(1,nb_tested_thresholds-1):\n",
    "        if measures_IG[i] >= measures_IG[i-1] and measures_IG[i] >= measures_IG[i+1] and measures_DG[i] > measures_DG[index]:\n",
    "            index = i\n",
    "    #print \"index\",index\n",
    "    #print \"IG\",measures_IG\n",
    "    #print \"DG\", measures_DG\n",
    "    threshold = (X_phi_sorted[index] + X_phi_sorted[index+1]) * 1./2\n",
    "    return threshold\n",
    "\n",
    "def prune_subtree(decisiontree,\n",
    "                  node_index):\n",
    "    tree = decisiontree.tree_\n",
    "    if tree.children_left[node_index] != -1:\n",
    "        prune_subtree(decisiontree,\n",
    "                      tree.children_left[node_index])\n",
    "        tree.children_left[node_index] = -1\n",
    "    if tree.children_right[node_index] != -1:\n",
    "        prune_subtree(decisiontree,\n",
    "                      tree.children_right[node_index])\n",
    "        tree.children_right[node_index] = -1\n",
    "\n",
    "def GINI(class_distribution):\n",
    "    p = class_distribution / class_distribution.sum()\n",
    "    return 1 - (p**2).sum()\n",
    "        \n",
    "def STRUT(decisiontree,\n",
    "          node_index,\n",
    "          X_target_node,\n",
    "          Y_target_node):\n",
    "    tree = decisiontree.tree_\n",
    "    phi = tree.feature[node_index]\n",
    "    classes = decisiontree.classes_\n",
    "    threshold = tree.threshold[node_index]\n",
    "    current_class_distribution = compute_class_distribution(classes,Y_target_node)\n",
    "    tree.weighted_n_node_samples[node_index] = Y_target_node.size\n",
    "    tree.value[node_index] = current_class_distribution\n",
    "    tree.impurity[node_index] = GINI(current_class_distribution)\n",
    "    print \" \"\n",
    "    print \"STRUT: node\", node_index, \"phi: \", phi ,\"child left:\", tree.children_left[node_index],\"child right:\", tree.children_right[node_index]\n",
    "    print \"distribution:\", current_class_distribution\n",
    "    tree.n_node_samples[node_index] = Y_target_node.size\n",
    "\n",
    "    # Unreachable node\n",
    "    if current_class_distribution.sum() == 0 :\n",
    "        # Prune unreachable subtree\n",
    "        print \"unreachable node\",node_index\n",
    "        prune_subtree(decisiontree,\n",
    "                      node_index)\n",
    "        tree.children_left[tree.children_left == node_index] = -1\n",
    "        tree.children_right[tree.children_right == node_index] = -1\n",
    "        tree.feature[node_index] = -2\n",
    "        if Y_target_node.size >0:\n",
    "            print \"!!!!!!\"\n",
    "            #tree.value[node_index] = np.asarray([compute_class_distribution(classes,Y_target_node)])\n",
    "        return 0\n",
    "\n",
    "    \n",
    "    # If it is a leaf one, exit\n",
    "    if tree.children_left[node_index] == -1 and tree.children_right[node_index] == -1:\n",
    "        # Here we need to update the information of the leaf\n",
    "        print \"old leaf\"\n",
    "        return 0\n",
    "    \n",
    "    \n",
    "    # Only one class is present in the node\n",
    "    if (current_class_distribution > 0).sum() == 1 :\n",
    "        # Prune unreachable subtree\n",
    "        print \"new leaf, unreachable subtree\",tree.children_left[node_index] , tree.children_right[node_index] \n",
    "        prune_subtree(decisiontree,\n",
    "                      node_index)\n",
    "        tree.feature[node_index] = -2\n",
    "        if Y_target_node.size >0:\n",
    "            print \"!!!!!!\"\n",
    "            #tree.value[node_index] = np.asarray([compute_class_distribution(classes,Y_target_node)])\n",
    "        return 0\n",
    "    \n",
    "    #tree.value[node_index] = compute_class_distribution(classes,Y_target_node)\n",
    "    if type(threshold) is np.float64:\n",
    "        # update threshold  \n",
    "        print \"changing threshold\", \"node=\", node_index, \"feature=\", phi, \"threshold=\", threshold\n",
    "        Q_source_l,Q_source_r = get_children_distributions(decisiontree,\n",
    "                                                           node_index)\n",
    "        Q_source_parent = get_node_distribution(decisiontree,\n",
    "                                                node_index)\n",
    "        #print \"left_child_distrib=\",Q_source_l,tree.children_left[node_index]\n",
    "        #print \"right child distrib\", Q_source_r,tree.children_right[node_index]\n",
    "        t1 = threshold_selection(Q_source_parent,\n",
    "                                 Q_source_l,\n",
    "                                 Q_source_r,\n",
    "                                 X_target_node,\n",
    "                                 Y_target_node,\n",
    "                                 phi,\n",
    "                                 classes)\n",
    "        Q_target_l,Q_target_r = compute_Q_children_target(X_target_node,\n",
    "                                                          Y_target_node,\n",
    "                                                          phi,\n",
    "                                                          t1,\n",
    "                                                          classes)\n",
    "        DG_t1 = DG(Q_source_l,\n",
    "                   Q_source_r,\n",
    "                   Q_target_l,\n",
    "                   Q_target_r)\n",
    "        print \"threshold selected 1\", t1, \"DG \",DG_t1\n",
    "        t2 = threshold_selection(Q_source_parent,\n",
    "                                 Q_source_r,\n",
    "                                 Q_source_l,\n",
    "                                 X_target_node,\n",
    "                                 Y_target_node,\n",
    "                                 phi,\n",
    "                                 classes)\n",
    "        Q_target_l,Q_target_r = compute_Q_children_target(X_target_node,\n",
    "                                                          Y_target_node,\n",
    "                                                          phi,\n",
    "                                                          t2,\n",
    "                                                          classes)\n",
    "        DG_t2 = DG(Q_source_r,\n",
    "                   Q_source_l,\n",
    "                   Q_target_l,\n",
    "                   Q_target_r)\n",
    "        print \"threshold selected 2\", t1, \"DG \",DG_t1\n",
    "        if DG_t1 >= DG_t2:\n",
    "            tree.threshold[node_index] = t1\n",
    "        else:\n",
    "            tree.threshold[node_index] = t2\n",
    "            # swap children\n",
    "            old_child_r_id = tree.children_right[node_index]\n",
    "            tree.children_right[node_index] = tree.children_left[node_index]\n",
    "            tree.children_left[node_index] = old_child_r_id\n",
    "    ###### beware it may not work for not numerical data\n",
    "    \n",
    "    if tree.children_left[node_index] != -1:\n",
    "        threshold = tree.threshold[node_index]\n",
    "        index_X_child_l = X_target_node[:,phi] <= threshold\n",
    "        X_target_child_l = X_target_node[index_X_child_l,:]\n",
    "        Y_target_child_l = Y_target_node[index_X_child_l]\n",
    "        STRUT(decisiontree,\n",
    "              tree.children_left[node_index],\n",
    "              X_target_child_l,\n",
    "              Y_target_child_l)        \n",
    "                \n",
    "    if tree.children_right[node_index] != -1:\n",
    "        threshold = tree.threshold[node_index]\n",
    "        index_X_child_r = X_target_node[:,phi] > threshold\n",
    "        X_target_child_r = X_target_node[index_X_child_r,:]\n",
    "        Y_target_child_r = Y_target_node[index_X_child_r]\n",
    "        STRUT(decisiontree,\n",
    "              tree.children_right[node_index],\n",
    "              X_target_child_r,\n",
    "              Y_target_child_r)\n"
   ]
  },
  {
   "cell_type": "code",
   "execution_count": 686,
   "metadata": {
    "collapsed": true
   },
   "outputs": [],
   "source": [
    "dataset_length = 100\n",
    "D = 2\n",
    "X = np.random.randn(dataset_length,D)*0.1\n",
    "X[0:dataset_length/2,0] += 0.1\n",
    "X[0:dataset_length/2,0] += 0.2\n",
    "Y = np.ones(dataset_length)\n",
    "Y[0:dataset_length/2] *= 0\n",
    "\n",
    "clf = tree.DecisionTreeClassifier()\n",
    "clf = clf.fit(X, Y)"
   ]
  },
  {
   "cell_type": "code",
   "execution_count": 687,
   "metadata": {},
   "outputs": [
    {
     "data": {
      "image/png": "[encoded data removed]",
      "text/plain": [
       "<matplotlib.figure.Figure at 0x11413da10>"
      ]
     },
     "metadata": {},
     "output_type": "display_data"
    }
   ],
   "source": [
    "plt.plot(X[0:dataset_length/2,0],X[0:dataset_length/2,1],\"ro\")\n",
    "plt.plot(X[dataset_length/2:,0],X[dataset_length/2:,1],\"bo\")\n",
    "for node,feature in enumerate(clf.tree_.feature):\n",
    "    if feature ==0:\n",
    "        plt.axvline(x = clf.tree_.threshold[node])\n",
    "    elif feature == 1:\n",
    "        plt.axhline(y = clf.tree_.threshold[node])\n",
    "        "
   ]
  },
  {
   "cell_type": "code",
   "execution_count": 688,
   "metadata": {},
   "outputs": [
    {
     "data": {
      "image/svg+xml": [
       "<?xml version=\"1.0\" encoding=\"UTF-8\" standalone=\"no\"?>\n",
       "<!DOCTYPE svg PUBLIC \"-//W3C//DTD SVG 1.1//EN\"\n",
       " \"http://www.w3.org/Graphics/SVG/1.1/DTD/svg11.dtd\">\n",
       "<!-- Generated by graphviz version 2.36.0 (20140111.2315)\n",
       " -->\n",
       "<!-- Title: Tree Pages: 1 -->\n",
       "<svg width=\"783pt\" height=\"796pt\"\n",
       " viewBox=\"0.00 0.00 783.00 796.00\" xmlns=\"http://www.w3.org/2000/svg\" xmlns:xlink=\"http://www.w3.org/1999/xlink\">\n",
       "<g id=\"graph0\" class=\"graph\" transform=\"scale(1 1) rotate(0) translate(4 792)\">\n",
       "<title>Tree</title>\n",
       "<polygon fill=\"white\" stroke=\"none\" points=\"-4,4 -4,-792 779,-792 779,4 -4,4\"/>\n",
       "<!-- 0 -->\n",
       "<g id=\"node1\" class=\"node\"><title>0</title>\n",
       "<path fill=\"none\" stroke=\"black\" d=\"M531,-787.5C531,-787.5 437,-787.5 437,-787.5 431,-787.5 425,-781.5 425,-775.5 425,-775.5 425,-716.5 425,-716.5 425,-710.5 431,-704.5 437,-704.5 437,-704.5 531,-704.5 531,-704.5 537,-704.5 543,-710.5 543,-716.5 543,-716.5 543,-775.5 543,-775.5 543,-781.5 537,-787.5 531,-787.5\"/>\n",
       "<text text-anchor=\"start\" x=\"433\" y=\"-772.3\" font-family=\"Helvetica,sans-Serif\" font-size=\"14.00\">feature_0 ≤ 0.17</text>\n",
       "<text text-anchor=\"start\" x=\"455\" y=\"-757.3\" font-family=\"Helvetica,sans-Serif\" font-size=\"14.00\">gini = 0.5</text>\n",
       "<text text-anchor=\"start\" x=\"438\" y=\"-742.3\" font-family=\"Helvetica,sans-Serif\" font-size=\"14.00\">samples = 100</text>\n",
       "<text text-anchor=\"start\" x=\"435.5\" y=\"-727.3\" font-family=\"Helvetica,sans-Serif\" font-size=\"14.00\">value = [50, 50]</text>\n",
       "<text text-anchor=\"start\" x=\"436\" y=\"-712.3\" font-family=\"Helvetica,sans-Serif\" font-size=\"14.00\">class = class_0</text>\n",
       "</g>\n",
       "<!-- 1 -->\n",
       "<g id=\"node2\" class=\"node\"><title>1</title>\n",
       "<path fill=\"#399de5\" fill-opacity=\"0.937255\" stroke=\"black\" d=\"M437,-667.5C437,-667.5 335,-667.5 335,-667.5 329,-667.5 323,-661.5 323,-655.5 323,-655.5 323,-596.5 323,-596.5 323,-590.5 329,-584.5 335,-584.5 335,-584.5 437,-584.5 437,-584.5 443,-584.5 449,-590.5 449,-596.5 449,-596.5 449,-655.5 449,-655.5 449,-661.5 443,-667.5 437,-667.5\"/>\n",
       "<text text-anchor=\"start\" x=\"331\" y=\"-652.3\" font-family=\"Helvetica,sans-Serif\" font-size=\"14.00\">feature_0 ≤ 0.156</text>\n",
       "<text text-anchor=\"start\" x=\"349.5\" y=\"-637.3\" font-family=\"Helvetica,sans-Serif\" font-size=\"14.00\">gini = 0.109</text>\n",
       "<text text-anchor=\"start\" x=\"344\" y=\"-622.3\" font-family=\"Helvetica,sans-Serif\" font-size=\"14.00\">samples = 52</text>\n",
       "<text text-anchor=\"start\" x=\"341.5\" y=\"-607.3\" font-family=\"Helvetica,sans-Serif\" font-size=\"14.00\">value = [3, 49]</text>\n",
       "<text text-anchor=\"start\" x=\"338\" y=\"-592.3\" font-family=\"Helvetica,sans-Serif\" font-size=\"14.00\">class = class_1</text>\n",
       "</g>\n",
       "<!-- 0&#45;&gt;1 -->\n",
       "<g id=\"edge1\" class=\"edge\"><title>0&#45;&gt;1</title>\n",
       "<path fill=\"none\" stroke=\"black\" d=\"M450.274,-704.391C442.574,-695.12 434.316,-685.176 426.37,-675.609\"/>\n",
       "<polygon fill=\"black\" stroke=\"black\" points=\"428.87,-673.141 419.788,-667.684 423.485,-677.613 428.87,-673.141\"/>\n",
       "<text text-anchor=\"middle\" x=\"417.483\" y=\"-688.877\" font-family=\"Helvetica,sans-Serif\" font-size=\"14.00\">True</text>\n",
       "</g>\n",
       "<!-- 14 -->\n",
       "<g id=\"node15\" class=\"node\"><title>14</title>\n",
       "<path fill=\"#e58139\" fill-opacity=\"0.980392\" stroke=\"black\" d=\"M633,-667.5C633,-667.5 531,-667.5 531,-667.5 525,-667.5 519,-661.5 519,-655.5 519,-655.5 519,-596.5 519,-596.5 519,-590.5 525,-584.5 531,-584.5 531,-584.5 633,-584.5 633,-584.5 639,-584.5 645,-590.5 645,-596.5 645,-596.5 645,-655.5 645,-655.5 645,-661.5 639,-667.5 633,-667.5\"/>\n",
       "<text text-anchor=\"start\" x=\"527\" y=\"-652.3\" font-family=\"Helvetica,sans-Serif\" font-size=\"14.00\">feature_0 ≤ 0.222</text>\n",
       "<text text-anchor=\"start\" x=\"545.5\" y=\"-637.3\" font-family=\"Helvetica,sans-Serif\" font-size=\"14.00\">gini = 0.041</text>\n",
       "<text text-anchor=\"start\" x=\"540\" y=\"-622.3\" font-family=\"Helvetica,sans-Serif\" font-size=\"14.00\">samples = 48</text>\n",
       "<text text-anchor=\"start\" x=\"537.5\" y=\"-607.3\" font-family=\"Helvetica,sans-Serif\" font-size=\"14.00\">value = [47, 1]</text>\n",
       "<text text-anchor=\"start\" x=\"534\" y=\"-592.3\" font-family=\"Helvetica,sans-Serif\" font-size=\"14.00\">class = class_0</text>\n",
       "</g>\n",
       "<!-- 0&#45;&gt;14 -->\n",
       "<g id=\"edge14\" class=\"edge\"><title>0&#45;&gt;14</title>\n",
       "<path fill=\"none\" stroke=\"black\" d=\"M517.726,-704.391C525.426,-695.12 533.684,-685.176 541.63,-675.609\"/>\n",
       "<polygon fill=\"black\" stroke=\"black\" points=\"544.515,-677.613 548.212,-667.684 539.13,-673.141 544.515,-677.613\"/>\n",
       "<text text-anchor=\"middle\" x=\"550.517\" y=\"-688.877\" font-family=\"Helvetica,sans-Serif\" font-size=\"14.00\">False</text>\n",
       "</g>\n",
       "<!-- 2 -->\n",
       "<g id=\"node3\" class=\"node\"><title>2</title>\n",
       "<path fill=\"#399de5\" fill-opacity=\"0.956863\" stroke=\"black\" d=\"M240,-547.5C240,-547.5 138,-547.5 138,-547.5 132,-547.5 126,-541.5 126,-535.5 126,-535.5 126,-476.5 126,-476.5 126,-470.5 132,-464.5 138,-464.5 138,-464.5 240,-464.5 240,-464.5 246,-464.5 252,-470.5 252,-476.5 252,-476.5 252,-535.5 252,-535.5 252,-541.5 246,-547.5 240,-547.5\"/>\n",
       "<text text-anchor=\"start\" x=\"134\" y=\"-532.3\" font-family=\"Helvetica,sans-Serif\" font-size=\"14.00\">feature_0 ≤ 0.033</text>\n",
       "<text text-anchor=\"start\" x=\"152.5\" y=\"-517.3\" font-family=\"Helvetica,sans-Serif\" font-size=\"14.00\">gini = 0.077</text>\n",
       "<text text-anchor=\"start\" x=\"147\" y=\"-502.3\" font-family=\"Helvetica,sans-Serif\" font-size=\"14.00\">samples = 50</text>\n",
       "<text text-anchor=\"start\" x=\"144.5\" y=\"-487.3\" font-family=\"Helvetica,sans-Serif\" font-size=\"14.00\">value = [2, 48]</text>\n",
       "<text text-anchor=\"start\" x=\"141\" y=\"-472.3\" font-family=\"Helvetica,sans-Serif\" font-size=\"14.00\">class = class_1</text>\n",
       "</g>\n",
       "<!-- 1&#45;&gt;2 -->\n",
       "<g id=\"edge2\" class=\"edge\"><title>1&#45;&gt;2</title>\n",
       "<path fill=\"none\" stroke=\"black\" d=\"M322.855,-587.177C303.062,-575.321 281.072,-562.15 260.731,-549.966\"/>\n",
       "<polygon fill=\"black\" stroke=\"black\" points=\"262.503,-546.947 252.125,-544.811 258.906,-552.952 262.503,-546.947\"/>\n",
       "</g>\n",
       "<!-- 11 -->\n",
       "<g id=\"node12\" class=\"node\"><title>11</title>\n",
       "<path fill=\"none\" stroke=\"black\" d=\"M439.25,-547.5C439.25,-547.5 332.75,-547.5 332.75,-547.5 326.75,-547.5 320.75,-541.5 320.75,-535.5 320.75,-535.5 320.75,-476.5 320.75,-476.5 320.75,-470.5 326.75,-464.5 332.75,-464.5 332.75,-464.5 439.25,-464.5 439.25,-464.5 445.25,-464.5 451.25,-470.5 451.25,-476.5 451.25,-476.5 451.25,-535.5 451.25,-535.5 451.25,-541.5 445.25,-547.5 439.25,-547.5\"/>\n",
       "<text text-anchor=\"start\" x=\"328.5\" y=\"-532.3\" font-family=\"Helvetica,sans-Serif\" font-size=\"14.00\">feature_1 ≤ &#45;0.025</text>\n",
       "<text text-anchor=\"start\" x=\"357\" y=\"-517.3\" font-family=\"Helvetica,sans-Serif\" font-size=\"14.00\">gini = 0.5</text>\n",
       "<text text-anchor=\"start\" x=\"348\" y=\"-502.3\" font-family=\"Helvetica,sans-Serif\" font-size=\"14.00\">samples = 2</text>\n",
       "<text text-anchor=\"start\" x=\"345.5\" y=\"-487.3\" font-family=\"Helvetica,sans-Serif\" font-size=\"14.00\">value = [1, 1]</text>\n",
       "<text text-anchor=\"start\" x=\"338\" y=\"-472.3\" font-family=\"Helvetica,sans-Serif\" font-size=\"14.00\">class = class_0</text>\n",
       "</g>\n",
       "<!-- 1&#45;&gt;11 -->\n",
       "<g id=\"edge11\" class=\"edge\"><title>1&#45;&gt;11</title>\n",
       "<path fill=\"none\" stroke=\"black\" d=\"M386,-584.391C386,-575.862 386,-566.763 386,-557.912\"/>\n",
       "<polygon fill=\"black\" stroke=\"black\" points=\"389.5,-557.684 386,-547.684 382.5,-557.684 389.5,-557.684\"/>\n",
       "</g>\n",
       "<!-- 3 -->\n",
       "<g id=\"node4\" class=\"node\"><title>3</title>\n",
       "<path fill=\"#399de5\" stroke=\"black\" d=\"M100,-420C100,-420 12,-420 12,-420 6,-420 7.10543e-15,-414 7.10543e-15,-408 7.10543e-15,-408 7.10543e-15,-364 7.10543e-15,-364 7.10543e-15,-358 6,-352 12,-352 12,-352 100,-352 100,-352 106,-352 112,-358 112,-364 112,-364 112,-408 112,-408 112,-414 106,-420 100,-420\"/>\n",
       "<text text-anchor=\"start\" x=\"27\" y=\"-404.8\" font-family=\"Helvetica,sans-Serif\" font-size=\"14.00\">gini = 0.0</text>\n",
       "<text text-anchor=\"start\" x=\"14\" y=\"-389.8\" font-family=\"Helvetica,sans-Serif\" font-size=\"14.00\">samples = 31</text>\n",
       "<text text-anchor=\"start\" x=\"11.5\" y=\"-374.8\" font-family=\"Helvetica,sans-Serif\" font-size=\"14.00\">value = [0, 31]</text>\n",
       "<text text-anchor=\"start\" x=\"8\" y=\"-359.8\" font-family=\"Helvetica,sans-Serif\" font-size=\"14.00\">class = class_1</text>\n",
       "</g>\n",
       "<!-- 2&#45;&gt;3 -->\n",
       "<g id=\"edge3\" class=\"edge\"><title>2&#45;&gt;3</title>\n",
       "<path fill=\"none\" stroke=\"black\" d=\"M143.229,-464.391C129.661,-452.354 114.815,-439.181 101.278,-427.172\"/>\n",
       "<polygon fill=\"black\" stroke=\"black\" points=\"103.283,-424.271 93.4794,-420.252 98.6369,-429.507 103.283,-424.271\"/>\n",
       "</g>\n",
       "<!-- 4 -->\n",
       "<g id=\"node5\" class=\"node\"><title>4</title>\n",
       "<path fill=\"#399de5\" fill-opacity=\"0.882353\" stroke=\"black\" d=\"M236,-427.5C236,-427.5 142,-427.5 142,-427.5 136,-427.5 130,-421.5 130,-415.5 130,-415.5 130,-356.5 130,-356.5 130,-350.5 136,-344.5 142,-344.5 142,-344.5 236,-344.5 236,-344.5 242,-344.5 248,-350.5 248,-356.5 248,-356.5 248,-415.5 248,-415.5 248,-421.5 242,-427.5 236,-427.5\"/>\n",
       "<text text-anchor=\"start\" x=\"138\" y=\"-412.3\" font-family=\"Helvetica,sans-Serif\" font-size=\"14.00\">feature_0 ≤ 0.04</text>\n",
       "<text text-anchor=\"start\" x=\"152.5\" y=\"-397.3\" font-family=\"Helvetica,sans-Serif\" font-size=\"14.00\">gini = 0.188</text>\n",
       "<text text-anchor=\"start\" x=\"147\" y=\"-382.3\" font-family=\"Helvetica,sans-Serif\" font-size=\"14.00\">samples = 19</text>\n",
       "<text text-anchor=\"start\" x=\"144.5\" y=\"-367.3\" font-family=\"Helvetica,sans-Serif\" font-size=\"14.00\">value = [2, 17]</text>\n",
       "<text text-anchor=\"start\" x=\"141\" y=\"-352.3\" font-family=\"Helvetica,sans-Serif\" font-size=\"14.00\">class = class_1</text>\n",
       "</g>\n",
       "<!-- 2&#45;&gt;4 -->\n",
       "<g id=\"edge4\" class=\"edge\"><title>2&#45;&gt;4</title>\n",
       "<path fill=\"none\" stroke=\"black\" d=\"M189,-464.391C189,-455.862 189,-446.763 189,-437.912\"/>\n",
       "<polygon fill=\"black\" stroke=\"black\" points=\"192.5,-437.684 189,-427.684 185.5,-437.684 192.5,-437.684\"/>\n",
       "</g>\n",
       "<!-- 5 -->\n",
       "<g id=\"node6\" class=\"node\"><title>5</title>\n",
       "<path fill=\"#e58139\" stroke=\"black\" d=\"M165,-300C165,-300 77,-300 77,-300 71,-300 65,-294 65,-288 65,-288 65,-244 65,-244 65,-238 71,-232 77,-232 77,-232 165,-232 165,-232 171,-232 177,-238 177,-244 177,-244 177,-288 177,-288 177,-294 171,-300 165,-300\"/>\n",
       "<text text-anchor=\"start\" x=\"92\" y=\"-284.8\" font-family=\"Helvetica,sans-Serif\" font-size=\"14.00\">gini = 0.0</text>\n",
       "<text text-anchor=\"start\" x=\"83\" y=\"-269.8\" font-family=\"Helvetica,sans-Serif\" font-size=\"14.00\">samples = 1</text>\n",
       "<text text-anchor=\"start\" x=\"80.5\" y=\"-254.8\" font-family=\"Helvetica,sans-Serif\" font-size=\"14.00\">value = [1, 0]</text>\n",
       "<text text-anchor=\"start\" x=\"73\" y=\"-239.8\" font-family=\"Helvetica,sans-Serif\" font-size=\"14.00\">class = class_0</text>\n",
       "</g>\n",
       "<!-- 4&#45;&gt;5 -->\n",
       "<g id=\"edge5\" class=\"edge\"><title>4&#45;&gt;5</title>\n",
       "<path fill=\"none\" stroke=\"black\" d=\"M165.598,-344.391C159.05,-333.029 151.92,-320.655 145.32,-309.203\"/>\n",
       "<polygon fill=\"black\" stroke=\"black\" points=\"148.188,-307.169 140.162,-300.252 142.123,-310.664 148.188,-307.169\"/>\n",
       "</g>\n",
       "<!-- 6 -->\n",
       "<g id=\"node7\" class=\"node\"><title>6</title>\n",
       "<path fill=\"#399de5\" fill-opacity=\"0.941176\" stroke=\"black\" d=\"M309,-307.5C309,-307.5 207,-307.5 207,-307.5 201,-307.5 195,-301.5 195,-295.5 195,-295.5 195,-236.5 195,-236.5 195,-230.5 201,-224.5 207,-224.5 207,-224.5 309,-224.5 309,-224.5 315,-224.5 321,-230.5 321,-236.5 321,-236.5 321,-295.5 321,-295.5 321,-301.5 315,-307.5 309,-307.5\"/>\n",
       "<text text-anchor=\"start\" x=\"203\" y=\"-292.3\" font-family=\"Helvetica,sans-Serif\" font-size=\"14.00\">feature_1 ≤ 0.082</text>\n",
       "<text text-anchor=\"start\" x=\"221.5\" y=\"-277.3\" font-family=\"Helvetica,sans-Serif\" font-size=\"14.00\">gini = 0.105</text>\n",
       "<text text-anchor=\"start\" x=\"216\" y=\"-262.3\" font-family=\"Helvetica,sans-Serif\" font-size=\"14.00\">samples = 18</text>\n",
       "<text text-anchor=\"start\" x=\"213.5\" y=\"-247.3\" font-family=\"Helvetica,sans-Serif\" font-size=\"14.00\">value = [1, 17]</text>\n",
       "<text text-anchor=\"start\" x=\"210\" y=\"-232.3\" font-family=\"Helvetica,sans-Serif\" font-size=\"14.00\">class = class_1</text>\n",
       "</g>\n",
       "<!-- 4&#45;&gt;6 -->\n",
       "<g id=\"edge6\" class=\"edge\"><title>4&#45;&gt;6</title>\n",
       "<path fill=\"none\" stroke=\"black\" d=\"M212.746,-344.391C218.004,-335.398 223.633,-325.772 229.072,-316.471\"/>\n",
       "<polygon fill=\"black\" stroke=\"black\" points=\"232.184,-318.083 234.21,-307.684 226.141,-314.55 232.184,-318.083\"/>\n",
       "</g>\n",
       "<!-- 7 -->\n",
       "<g id=\"node8\" class=\"node\"><title>7</title>\n",
       "<path fill=\"#399de5\" stroke=\"black\" d=\"M233,-180C233,-180 145,-180 145,-180 139,-180 133,-174 133,-168 133,-168 133,-124 133,-124 133,-118 139,-112 145,-112 145,-112 233,-112 233,-112 239,-112 245,-118 245,-124 245,-124 245,-168 245,-168 245,-174 239,-180 233,-180\"/>\n",
       "<text text-anchor=\"start\" x=\"160\" y=\"-164.8\" font-family=\"Helvetica,sans-Serif\" font-size=\"14.00\">gini = 0.0</text>\n",
       "<text text-anchor=\"start\" x=\"147\" y=\"-149.8\" font-family=\"Helvetica,sans-Serif\" font-size=\"14.00\">samples = 11</text>\n",
       "<text text-anchor=\"start\" x=\"144.5\" y=\"-134.8\" font-family=\"Helvetica,sans-Serif\" font-size=\"14.00\">value = [0, 11]</text>\n",
       "<text text-anchor=\"start\" x=\"141\" y=\"-119.8\" font-family=\"Helvetica,sans-Serif\" font-size=\"14.00\">class = class_1</text>\n",
       "</g>\n",
       "<!-- 6&#45;&gt;7 -->\n",
       "<g id=\"edge7\" class=\"edge\"><title>6&#45;&gt;7</title>\n",
       "<path fill=\"none\" stroke=\"black\" d=\"M234.254,-224.391C227.61,-213.029 220.375,-200.655 213.678,-189.203\"/>\n",
       "<polygon fill=\"black\" stroke=\"black\" points=\"216.513,-187.118 208.444,-180.252 210.471,-190.652 216.513,-187.118\"/>\n",
       "</g>\n",
       "<!-- 8 -->\n",
       "<g id=\"node9\" class=\"node\"><title>8</title>\n",
       "<path fill=\"#399de5\" fill-opacity=\"0.831373\" stroke=\"black\" d=\"M377,-187.5C377,-187.5 275,-187.5 275,-187.5 269,-187.5 263,-181.5 263,-175.5 263,-175.5 263,-116.5 263,-116.5 263,-110.5 269,-104.5 275,-104.5 275,-104.5 377,-104.5 377,-104.5 383,-104.5 389,-110.5 389,-116.5 389,-116.5 389,-175.5 389,-175.5 389,-181.5 383,-187.5 377,-187.5\"/>\n",
       "<text text-anchor=\"start\" x=\"271\" y=\"-172.3\" font-family=\"Helvetica,sans-Serif\" font-size=\"14.00\">feature_1 ≤ 0.091</text>\n",
       "<text text-anchor=\"start\" x=\"289.5\" y=\"-157.3\" font-family=\"Helvetica,sans-Serif\" font-size=\"14.00\">gini = 0.245</text>\n",
       "<text text-anchor=\"start\" x=\"288\" y=\"-142.3\" font-family=\"Helvetica,sans-Serif\" font-size=\"14.00\">samples = 7</text>\n",
       "<text text-anchor=\"start\" x=\"285.5\" y=\"-127.3\" font-family=\"Helvetica,sans-Serif\" font-size=\"14.00\">value = [1, 6]</text>\n",
       "<text text-anchor=\"start\" x=\"278\" y=\"-112.3\" font-family=\"Helvetica,sans-Serif\" font-size=\"14.00\">class = class_1</text>\n",
       "</g>\n",
       "<!-- 6&#45;&gt;8 -->\n",
       "<g id=\"edge8\" class=\"edge\"><title>6&#45;&gt;8</title>\n",
       "<path fill=\"none\" stroke=\"black\" d=\"M281.402,-224.391C286.584,-215.398 292.131,-205.772 297.491,-196.471\"/>\n",
       "<polygon fill=\"black\" stroke=\"black\" points=\"300.595,-198.096 302.555,-187.684 294.53,-194.601 300.595,-198.096\"/>\n",
       "</g>\n",
       "<!-- 9 -->\n",
       "<g id=\"node10\" class=\"node\"><title>9</title>\n",
       "<path fill=\"#e58139\" stroke=\"black\" d=\"M305,-68C305,-68 217,-68 217,-68 211,-68 205,-62 205,-56 205,-56 205,-12 205,-12 205,-6 211,-0 217,-0 217,-0 305,-0 305,-0 311,-0 317,-6 317,-12 317,-12 317,-56 317,-56 317,-62 311,-68 305,-68\"/>\n",
       "<text text-anchor=\"start\" x=\"232\" y=\"-52.8\" font-family=\"Helvetica,sans-Serif\" font-size=\"14.00\">gini = 0.0</text>\n",
       "<text text-anchor=\"start\" x=\"223\" y=\"-37.8\" font-family=\"Helvetica,sans-Serif\" font-size=\"14.00\">samples = 1</text>\n",
       "<text text-anchor=\"start\" x=\"220.5\" y=\"-22.8\" font-family=\"Helvetica,sans-Serif\" font-size=\"14.00\">value = [1, 0]</text>\n",
       "<text text-anchor=\"start\" x=\"213\" y=\"-7.8\" font-family=\"Helvetica,sans-Serif\" font-size=\"14.00\">class = class_0</text>\n",
       "</g>\n",
       "<!-- 8&#45;&gt;9 -->\n",
       "<g id=\"edge9\" class=\"edge\"><title>8&#45;&gt;9</title>\n",
       "<path fill=\"none\" stroke=\"black\" d=\"M301.981,-104.353C296.719,-95.4478 291.138,-86.0034 285.845,-77.0452\"/>\n",
       "<polygon fill=\"black\" stroke=\"black\" points=\"288.77,-75.1157 280.67,-68.287 282.744,-78.6768 288.77,-75.1157\"/>\n",
       "</g>\n",
       "<!-- 10 -->\n",
       "<g id=\"node11\" class=\"node\"><title>10</title>\n",
       "<path fill=\"#399de5\" stroke=\"black\" d=\"M435,-68C435,-68 347,-68 347,-68 341,-68 335,-62 335,-56 335,-56 335,-12 335,-12 335,-6 341,-0 347,-0 347,-0 435,-0 435,-0 441,-0 447,-6 447,-12 447,-12 447,-56 447,-56 447,-62 441,-68 435,-68\"/>\n",
       "<text text-anchor=\"start\" x=\"362\" y=\"-52.8\" font-family=\"Helvetica,sans-Serif\" font-size=\"14.00\">gini = 0.0</text>\n",
       "<text text-anchor=\"start\" x=\"353\" y=\"-37.8\" font-family=\"Helvetica,sans-Serif\" font-size=\"14.00\">samples = 6</text>\n",
       "<text text-anchor=\"start\" x=\"350.5\" y=\"-22.8\" font-family=\"Helvetica,sans-Serif\" font-size=\"14.00\">value = [0, 6]</text>\n",
       "<text text-anchor=\"start\" x=\"343\" y=\"-7.8\" font-family=\"Helvetica,sans-Serif\" font-size=\"14.00\">class = class_1</text>\n",
       "</g>\n",
       "<!-- 8&#45;&gt;10 -->\n",
       "<g id=\"edge10\" class=\"edge\"><title>8&#45;&gt;10</title>\n",
       "<path fill=\"none\" stroke=\"black\" d=\"M350.019,-104.353C355.281,-95.4478 360.862,-86.0034 366.155,-77.0452\"/>\n",
       "<polygon fill=\"black\" stroke=\"black\" points=\"369.256,-78.6768 371.33,-68.287 363.23,-75.1157 369.256,-78.6768\"/>\n",
       "</g>\n",
       "<!-- 12 -->\n",
       "<g id=\"node13\" class=\"node\"><title>12</title>\n",
       "<path fill=\"#e58139\" stroke=\"black\" d=\"M366,-420C366,-420 278,-420 278,-420 272,-420 266,-414 266,-408 266,-408 266,-364 266,-364 266,-358 272,-352 278,-352 278,-352 366,-352 366,-352 372,-352 378,-358 378,-364 378,-364 378,-408 378,-408 378,-414 372,-420 366,-420\"/>\n",
       "<text text-anchor=\"start\" x=\"293\" y=\"-404.8\" font-family=\"Helvetica,sans-Serif\" font-size=\"14.00\">gini = 0.0</text>\n",
       "<text text-anchor=\"start\" x=\"284\" y=\"-389.8\" font-family=\"Helvetica,sans-Serif\" font-size=\"14.00\">samples = 1</text>\n",
       "<text text-anchor=\"start\" x=\"281.5\" y=\"-374.8\" font-family=\"Helvetica,sans-Serif\" font-size=\"14.00\">value = [1, 0]</text>\n",
       "<text text-anchor=\"start\" x=\"274\" y=\"-359.8\" font-family=\"Helvetica,sans-Serif\" font-size=\"14.00\">class = class_0</text>\n",
       "</g>\n",
       "<!-- 11&#45;&gt;12 -->\n",
       "<g id=\"edge12\" class=\"edge\"><title>11&#45;&gt;12</title>\n",
       "<path fill=\"none\" stroke=\"black\" d=\"M363.975,-464.391C357.812,-453.029 351.101,-440.655 344.89,-429.203\"/>\n",
       "<polygon fill=\"black\" stroke=\"black\" points=\"347.879,-427.374 340.035,-420.252 341.726,-430.711 347.879,-427.374\"/>\n",
       "</g>\n",
       "<!-- 13 -->\n",
       "<g id=\"node14\" class=\"node\"><title>13</title>\n",
       "<path fill=\"#399de5\" stroke=\"black\" d=\"M496,-420C496,-420 408,-420 408,-420 402,-420 396,-414 396,-408 396,-408 396,-364 396,-364 396,-358 402,-352 408,-352 408,-352 496,-352 496,-352 502,-352 508,-358 508,-364 508,-364 508,-408 508,-408 508,-414 502,-420 496,-420\"/>\n",
       "<text text-anchor=\"start\" x=\"423\" y=\"-404.8\" font-family=\"Helvetica,sans-Serif\" font-size=\"14.00\">gini = 0.0</text>\n",
       "<text text-anchor=\"start\" x=\"414\" y=\"-389.8\" font-family=\"Helvetica,sans-Serif\" font-size=\"14.00\">samples = 1</text>\n",
       "<text text-anchor=\"start\" x=\"411.5\" y=\"-374.8\" font-family=\"Helvetica,sans-Serif\" font-size=\"14.00\">value = [0, 1]</text>\n",
       "<text text-anchor=\"start\" x=\"404\" y=\"-359.8\" font-family=\"Helvetica,sans-Serif\" font-size=\"14.00\">class = class_1</text>\n",
       "</g>\n",
       "<!-- 11&#45;&gt;13 -->\n",
       "<g id=\"edge13\" class=\"edge\"><title>11&#45;&gt;13</title>\n",
       "<path fill=\"none\" stroke=\"black\" d=\"M408.713,-464.391C415.069,-453.029 421.99,-440.655 428.395,-429.203\"/>\n",
       "<polygon fill=\"black\" stroke=\"black\" points=\"431.574,-430.689 433.401,-420.252 425.465,-427.271 431.574,-430.689\"/>\n",
       "</g>\n",
       "<!-- 15 -->\n",
       "<g id=\"node16\" class=\"node\"><title>15</title>\n",
       "<path fill=\"#e58139\" fill-opacity=\"0.858824\" stroke=\"black\" d=\"M633,-547.5C633,-547.5 531,-547.5 531,-547.5 525,-547.5 519,-541.5 519,-535.5 519,-535.5 519,-476.5 519,-476.5 519,-470.5 525,-464.5 531,-464.5 531,-464.5 633,-464.5 633,-464.5 639,-464.5 645,-470.5 645,-476.5 645,-476.5 645,-535.5 645,-535.5 645,-541.5 639,-547.5 633,-547.5\"/>\n",
       "<text text-anchor=\"start\" x=\"527\" y=\"-532.3\" font-family=\"Helvetica,sans-Serif\" font-size=\"14.00\">feature_0 ≤ 0.213</text>\n",
       "<text text-anchor=\"start\" x=\"545.5\" y=\"-517.3\" font-family=\"Helvetica,sans-Serif\" font-size=\"14.00\">gini = 0.219</text>\n",
       "<text text-anchor=\"start\" x=\"544\" y=\"-502.3\" font-family=\"Helvetica,sans-Serif\" font-size=\"14.00\">samples = 8</text>\n",
       "<text text-anchor=\"start\" x=\"541.5\" y=\"-487.3\" font-family=\"Helvetica,sans-Serif\" font-size=\"14.00\">value = [7, 1]</text>\n",
       "<text text-anchor=\"start\" x=\"534\" y=\"-472.3\" font-family=\"Helvetica,sans-Serif\" font-size=\"14.00\">class = class_0</text>\n",
       "</g>\n",
       "<!-- 14&#45;&gt;15 -->\n",
       "<g id=\"edge15\" class=\"edge\"><title>14&#45;&gt;15</title>\n",
       "<path fill=\"none\" stroke=\"black\" d=\"M582,-584.391C582,-575.862 582,-566.763 582,-557.912\"/>\n",
       "<polygon fill=\"black\" stroke=\"black\" points=\"585.5,-557.684 582,-547.684 578.5,-557.684 585.5,-557.684\"/>\n",
       "</g>\n",
       "<!-- 18 -->\n",
       "<g id=\"node19\" class=\"node\"><title>18</title>\n",
       "<path fill=\"#e58139\" stroke=\"black\" d=\"M763,-540C763,-540 675,-540 675,-540 669,-540 663,-534 663,-528 663,-528 663,-484 663,-484 663,-478 669,-472 675,-472 675,-472 763,-472 763,-472 769,-472 775,-478 775,-484 775,-484 775,-528 775,-528 775,-534 769,-540 763,-540\"/>\n",
       "<text text-anchor=\"start\" x=\"690\" y=\"-524.8\" font-family=\"Helvetica,sans-Serif\" font-size=\"14.00\">gini = 0.0</text>\n",
       "<text text-anchor=\"start\" x=\"677\" y=\"-509.8\" font-family=\"Helvetica,sans-Serif\" font-size=\"14.00\">samples = 40</text>\n",
       "<text text-anchor=\"start\" x=\"674.5\" y=\"-494.8\" font-family=\"Helvetica,sans-Serif\" font-size=\"14.00\">value = [40, 0]</text>\n",
       "<text text-anchor=\"start\" x=\"671\" y=\"-479.8\" font-family=\"Helvetica,sans-Serif\" font-size=\"14.00\">class = class_0</text>\n",
       "</g>\n",
       "<!-- 14&#45;&gt;18 -->\n",
       "<g id=\"edge18\" class=\"edge\"><title>14&#45;&gt;18</title>\n",
       "<path fill=\"none\" stroke=\"black\" d=\"M629.148,-584.391C643.254,-572.241 658.703,-558.935 672.75,-546.835\"/>\n",
       "<polygon fill=\"black\" stroke=\"black\" points=\"675.101,-549.43 680.393,-540.252 670.532,-544.127 675.101,-549.43\"/>\n",
       "</g>\n",
       "<!-- 16 -->\n",
       "<g id=\"node17\" class=\"node\"><title>16</title>\n",
       "<path fill=\"#e58139\" stroke=\"black\" d=\"M626,-420C626,-420 538,-420 538,-420 532,-420 526,-414 526,-408 526,-408 526,-364 526,-364 526,-358 532,-352 538,-352 538,-352 626,-352 626,-352 632,-352 638,-358 638,-364 638,-364 638,-408 638,-408 638,-414 632,-420 626,-420\"/>\n",
       "<text text-anchor=\"start\" x=\"553\" y=\"-404.8\" font-family=\"Helvetica,sans-Serif\" font-size=\"14.00\">gini = 0.0</text>\n",
       "<text text-anchor=\"start\" x=\"544\" y=\"-389.8\" font-family=\"Helvetica,sans-Serif\" font-size=\"14.00\">samples = 7</text>\n",
       "<text text-anchor=\"start\" x=\"541.5\" y=\"-374.8\" font-family=\"Helvetica,sans-Serif\" font-size=\"14.00\">value = [7, 0]</text>\n",
       "<text text-anchor=\"start\" x=\"534\" y=\"-359.8\" font-family=\"Helvetica,sans-Serif\" font-size=\"14.00\">class = class_0</text>\n",
       "</g>\n",
       "<!-- 15&#45;&gt;16 -->\n",
       "<g id=\"edge16\" class=\"edge\"><title>15&#45;&gt;16</title>\n",
       "<path fill=\"none\" stroke=\"black\" d=\"M582,-464.391C582,-453.479 582,-441.634 582,-430.568\"/>\n",
       "<polygon fill=\"black\" stroke=\"black\" points=\"585.5,-430.252 582,-420.252 578.5,-430.252 585.5,-430.252\"/>\n",
       "</g>\n",
       "<!-- 17 -->\n",
       "<g id=\"node18\" class=\"node\"><title>17</title>\n",
       "<path fill=\"#399de5\" stroke=\"black\" d=\"M756,-420C756,-420 668,-420 668,-420 662,-420 656,-414 656,-408 656,-408 656,-364 656,-364 656,-358 662,-352 668,-352 668,-352 756,-352 756,-352 762,-352 768,-358 768,-364 768,-364 768,-408 768,-408 768,-414 762,-420 756,-420\"/>\n",
       "<text text-anchor=\"start\" x=\"683\" y=\"-404.8\" font-family=\"Helvetica,sans-Serif\" font-size=\"14.00\">gini = 0.0</text>\n",
       "<text text-anchor=\"start\" x=\"674\" y=\"-389.8\" font-family=\"Helvetica,sans-Serif\" font-size=\"14.00\">samples = 1</text>\n",
       "<text text-anchor=\"start\" x=\"671.5\" y=\"-374.8\" font-family=\"Helvetica,sans-Serif\" font-size=\"14.00\">value = [0, 1]</text>\n",
       "<text text-anchor=\"start\" x=\"664\" y=\"-359.8\" font-family=\"Helvetica,sans-Serif\" font-size=\"14.00\">class = class_1</text>\n",
       "</g>\n",
       "<!-- 15&#45;&gt;17 -->\n",
       "<g id=\"edge17\" class=\"edge\"><title>15&#45;&gt;17</title>\n",
       "<path fill=\"none\" stroke=\"black\" d=\"M626.739,-464.391C640,-452.354 654.512,-439.181 667.743,-427.172\"/>\n",
       "<polygon fill=\"black\" stroke=\"black\" points=\"670.314,-429.565 675.366,-420.252 665.609,-424.382 670.314,-429.565\"/>\n",
       "</g>\n",
       "</g>\n",
       "</svg>\n"
      ],
      "text/plain": [
       "<graphviz.files.Source at 0x1140cee10>"
      ]
     },
     "execution_count": 688,
     "metadata": {},
     "output_type": "execute_result"
    }
   ],
   "source": [
    "import graphviz \n",
    "dot_data = tree.export_graphviz(clf, out_file=None, \n",
    "                         feature_names=[\"feature_\"+str(i) for i in range(D)],  \n",
    "                         class_names=[\"class_0\", \"class_1\"],  \n",
    "                         filled=True, rounded=True,  \n",
    "                         special_characters=True)  \n",
    "\n",
    "graph = graphviz.Source(dot_data)  \n",
    "graph "
   ]
  },
  {
   "cell_type": "code",
   "execution_count": 689,
   "metadata": {
    "collapsed": true
   },
   "outputs": [],
   "source": [
    "X = np.random.randn(dataset_length,D+1)*0.1\n",
    "X[:,1] = np.nan\n",
    "X[0:dataset_length/2,0] += 0.3\n",
    "Y = np.ones(dataset_length)\n",
    "Y[0:dataset_length/2] *= 0"
   ]
  },
  {
   "cell_type": "code",
   "execution_count": 690,
   "metadata": {
    "scrolled": false
   },
   "outputs": [
    {
     "name": "stdout",
     "output_type": "stream",
     "text": [
      " \n",
      "STRUT: node 0 phi:  0 child left: 1 child right: 14\n",
      "distribution: [ 50.  50.]\n",
      "changing threshold node= 0 feature= 0 threshold= 0.170444846153\n",
      "threshold selected 1 0.191827862697 DG  0.997800311125\n",
      "threshold selected 2 0.191827862697 DG  0.997800311125\n",
      " \n",
      "STRUT: node 1 phi:  0 child left: 2 child right: 11\n",
      "distribution: [  5.  48.]\n",
      "changing threshold node= 1 feature= 0 threshold= 0.155506372452\n",
      "threshold selected 1 0.125902849985 DG  0.99286763599\n",
      "threshold selected 2 0.125902849985 DG  0.99286763599\n",
      " \n",
      "STRUT: node 2 phi:  0 child left: 3 child right: 4\n",
      "distribution: [  1.  47.]\n",
      "changing threshold node= 2 feature= 0 threshold= 0.0332607626915\n",
      "threshold selected 1 0.100267882325 DG  0.992434487731\n",
      "threshold selected 2 0.100267882325 DG  0.992434487731\n",
      " \n",
      "STRUT: node 3 phi:  -2 child left: -1 child right: -1\n",
      "distribution: [  0.  46.]\n",
      "old leaf\n",
      " \n",
      "STRUT: node 4 phi:  0 child left: 5 child right: 6\n",
      "distribution: [ 1.  1.]\n",
      "changing threshold node= 4 feature= 0 threshold= 0.0401980131865\n",
      "threshold selected 1 0.111413441499 DG  0.986462166569\n",
      "threshold selected 2 0.111413441499 DG  0.986462166569\n",
      " \n",
      "STRUT: node 5 phi:  -2 child left: -1 child right: -1\n",
      "distribution: [ 1.  0.]\n",
      "old leaf\n",
      " \n",
      "STRUT: node 6 phi:  1 child left: 7 child right: 8\n",
      "distribution: [ 0.  1.]\n",
      "new leaf, unreachable subtree 7 8\n",
      "!!!!!!\n",
      " \n",
      "STRUT: node 11 phi:  1 child left: 12 child right: 13\n",
      "distribution: [ 4.  1.]\n",
      "changing threshold node= 11 feature= 1 threshold= -0.0253382250667\n",
      "threshold selected 1 nan DG  0.428848264017\n",
      "threshold selected 2 nan DG  0.428848264017\n",
      " \n",
      "STRUT: node 13 phi:  -2 child left: -1 child right: -1\n",
      "distribution: [ 0.  0.]\n",
      "unreachable node 13\n",
      " \n",
      "STRUT: node 12 phi:  -2 child left: -1 child right: -1\n",
      "distribution: [ 0.  0.]\n",
      "unreachable node 12\n",
      " \n",
      "STRUT: node 14 phi:  0 child left: 15 child right: 18\n",
      "distribution: [ 45.   2.]\n",
      "changing threshold node= 14 feature= 0 threshold= 0.221750587225\n",
      "threshold selected 1 0.302740973529 DG  0.999388557103\n",
      "threshold selected 2 0.302740973529 DG  0.999388557103\n",
      " \n",
      "STRUT: node 15 phi:  0 child left: 16 child right: 17\n",
      "distribution: [ 19.   2.]\n",
      "changing threshold node= 15 feature= 0 threshold= 0.213162943721\n",
      "threshold selected 1 0.202343338106 DG  0.0694524129353\n",
      "threshold selected 2 0.202343338106 DG  0.0694524129353\n",
      " \n",
      "STRUT: node 17 phi:  -2 child left: -1 child right: -1\n",
      "distribution: [ 1.  0.]\n",
      "old leaf\n",
      " \n",
      "STRUT: node 16 phi:  -2 child left: -1 child right: -1\n",
      "distribution: [ 18.   2.]\n",
      "old leaf\n",
      " \n",
      "STRUT: node 18 phi:  -2 child left: -1 child right: -1\n",
      "distribution: [ 26.   0.]\n",
      "old leaf\n"
     ]
    },
    {
     "name": "stderr",
     "output_type": "stream",
     "text": [
      "/Library/Python/2.7/site-packages/ipykernel_launcher.py:161: RuntimeWarning: invalid value encountered in divide\n"
     ]
    }
   ],
   "source": [
    "\n",
    "\n",
    "STRUT(clf,\n",
    "      0,\n",
    "      X,\n",
    "      Y)"
   ]
  },
  {
   "cell_type": "code",
   "execution_count": 691,
   "metadata": {},
   "outputs": [
    {
     "data": {
      "image/png": "[encoded data removed]",
      "text/plain": [
       "<matplotlib.figure.Figure at 0x11413d690>"
      ]
     },
     "metadata": {},
     "output_type": "display_data"
    }
   ],
   "source": [
    "plt.plot(X[0:dataset_length/2,0],X[0:dataset_length/2,1],\"ro\")\n",
    "plt.plot(X[dataset_length/2:,0],X[dataset_length/2:,1],\"bo\")\n",
    "for node,feature in enumerate(clf.tree_.feature):\n",
    "    if feature ==0:\n",
    "        plt.axvline(x = clf.tree_.threshold[node])\n",
    "    elif feature == 1:\n",
    "        plt.axhline(y = clf.tree_.threshold[node])\n",
    "        "
   ]
  },
  {
   "cell_type": "code",
   "execution_count": 693,
   "metadata": {},
   "outputs": [
    {
     "data": {
      "image/svg+xml": [
       "<?xml version=\"1.0\" encoding=\"UTF-8\" standalone=\"no\"?>\n",
       "<!DOCTYPE svg PUBLIC \"-//W3C//DTD SVG 1.1//EN\"\n",
       " \"http://www.w3.org/Graphics/SVG/1.1/DTD/svg11.dtd\">\n",
       "<!-- Generated by graphviz version 2.36.0 (20140111.2315)\n",
       " -->\n",
       "<!-- Title: Tree Pages: 1 -->\n",
       "<svg width=\"603pt\" height=\"556pt\"\n",
       " viewBox=\"0.00 0.00 603.00 556.00\" xmlns=\"http://www.w3.org/2000/svg\" xmlns:xlink=\"http://www.w3.org/1999/xlink\">\n",
       "<g id=\"graph0\" class=\"graph\" transform=\"scale(1 1) rotate(0) translate(4 552)\">\n",
       "<title>Tree</title>\n",
       "<polygon fill=\"white\" stroke=\"none\" points=\"-4,4 -4,-552 599,-552 599,4 -4,4\"/>\n",
       "<!-- 0 -->\n",
       "<g id=\"node1\" class=\"node\"><title>0</title>\n",
       "<path fill=\"none\" stroke=\"black\" d=\"M385,-547.5C385,-547.5 273,-547.5 273,-547.5 267,-547.5 261,-541.5 261,-535.5 261,-535.5 261,-476.5 261,-476.5 261,-470.5 267,-464.5 273,-464.5 273,-464.5 385,-464.5 385,-464.5 391,-464.5 397,-470.5 397,-476.5 397,-476.5 397,-535.5 397,-535.5 397,-541.5 391,-547.5 385,-547.5\"/>\n",
       "<text text-anchor=\"start\" x=\"274\" y=\"-532.3\" font-family=\"Helvetica,sans-Serif\" font-size=\"14.00\">feature_0 ≤ 0.192</text>\n",
       "<text text-anchor=\"start\" x=\"300\" y=\"-517.3\" font-family=\"Helvetica,sans-Serif\" font-size=\"14.00\">gini = 0.5</text>\n",
       "<text text-anchor=\"start\" x=\"283\" y=\"-502.3\" font-family=\"Helvetica,sans-Serif\" font-size=\"14.00\">samples = 100</text>\n",
       "<text text-anchor=\"start\" x=\"269\" y=\"-487.3\" font-family=\"Helvetica,sans-Serif\" font-size=\"14.00\">value = [50.0, 50.0]</text>\n",
       "<text text-anchor=\"start\" x=\"281\" y=\"-472.3\" font-family=\"Helvetica,sans-Serif\" font-size=\"14.00\">class = class_0</text>\n",
       "</g>\n",
       "<!-- 1 -->\n",
       "<g id=\"node2\" class=\"node\"><title>1</title>\n",
       "<path fill=\"none\" stroke=\"black\" d=\"M308,-427.5C308,-427.5 204,-427.5 204,-427.5 198,-427.5 192,-421.5 192,-415.5 192,-415.5 192,-356.5 192,-356.5 192,-350.5 198,-344.5 204,-344.5 204,-344.5 308,-344.5 308,-344.5 314,-344.5 320,-350.5 320,-356.5 320,-356.5 320,-415.5 320,-415.5 320,-421.5 314,-427.5 308,-427.5\"/>\n",
       "<text text-anchor=\"start\" x=\"201\" y=\"-412.3\" font-family=\"Helvetica,sans-Serif\" font-size=\"14.00\">feature_0 ≤ 0.126</text>\n",
       "<text text-anchor=\"start\" x=\"219.5\" y=\"-397.3\" font-family=\"Helvetica,sans-Serif\" font-size=\"14.00\">gini = 0.171</text>\n",
       "<text text-anchor=\"start\" x=\"214\" y=\"-382.3\" font-family=\"Helvetica,sans-Serif\" font-size=\"14.00\">samples = 53</text>\n",
       "<text text-anchor=\"start\" x=\"200\" y=\"-367.3\" font-family=\"Helvetica,sans-Serif\" font-size=\"14.00\">value = [5.0, 48.0]</text>\n",
       "<text text-anchor=\"start\" x=\"208\" y=\"-352.3\" font-family=\"Helvetica,sans-Serif\" font-size=\"14.00\">class = class_1</text>\n",
       "</g>\n",
       "<!-- 0&#45;&gt;1 -->\n",
       "<g id=\"edge1\" class=\"edge\"><title>0&#45;&gt;1</title>\n",
       "<path fill=\"none\" stroke=\"black\" d=\"M303.878,-464.391C298.314,-455.398 292.359,-445.772 286.605,-436.471\"/>\n",
       "<polygon fill=\"black\" stroke=\"black\" points=\"289.406,-434.347 281.169,-427.684 283.453,-438.029 289.406,-434.347\"/>\n",
       "<text text-anchor=\"middle\" x=\"275.436\" y=\"-448.318\" font-family=\"Helvetica,sans-Serif\" font-size=\"14.00\">True</text>\n",
       "</g>\n",
       "<!-- 14 -->\n",
       "<g id=\"node9\" class=\"node\"><title>14</title>\n",
       "<path fill=\"none\" stroke=\"black\" d=\"M454,-427.5C454,-427.5 350,-427.5 350,-427.5 344,-427.5 338,-421.5 338,-415.5 338,-415.5 338,-356.5 338,-356.5 338,-350.5 344,-344.5 350,-344.5 350,-344.5 454,-344.5 454,-344.5 460,-344.5 466,-350.5 466,-356.5 466,-356.5 466,-415.5 466,-415.5 466,-421.5 460,-427.5 454,-427.5\"/>\n",
       "<text text-anchor=\"start\" x=\"347\" y=\"-412.3\" font-family=\"Helvetica,sans-Serif\" font-size=\"14.00\">feature_0 ≤ 0.303</text>\n",
       "<text text-anchor=\"start\" x=\"365.5\" y=\"-397.3\" font-family=\"Helvetica,sans-Serif\" font-size=\"14.00\">gini = 0.081</text>\n",
       "<text text-anchor=\"start\" x=\"360\" y=\"-382.3\" font-family=\"Helvetica,sans-Serif\" font-size=\"14.00\">samples = 47</text>\n",
       "<text text-anchor=\"start\" x=\"346\" y=\"-367.3\" font-family=\"Helvetica,sans-Serif\" font-size=\"14.00\">value = [45.0, 2.0]</text>\n",
       "<text text-anchor=\"start\" x=\"354\" y=\"-352.3\" font-family=\"Helvetica,sans-Serif\" font-size=\"14.00\">class = class_0</text>\n",
       "</g>\n",
       "<!-- 0&#45;&gt;14 -->\n",
       "<g id=\"edge8\" class=\"edge\"><title>0&#45;&gt;14</title>\n",
       "<path fill=\"none\" stroke=\"black\" d=\"M354.122,-464.391C359.686,-455.398 365.641,-445.772 371.395,-436.471\"/>\n",
       "<polygon fill=\"black\" stroke=\"black\" points=\"374.547,-438.029 376.831,-427.684 368.594,-434.347 374.547,-438.029\"/>\n",
       "<text text-anchor=\"middle\" x=\"382.564\" y=\"-448.318\" font-family=\"Helvetica,sans-Serif\" font-size=\"14.00\">False</text>\n",
       "</g>\n",
       "<!-- 2 -->\n",
       "<g id=\"node3\" class=\"node\"><title>2</title>\n",
       "<path fill=\"none\" stroke=\"black\" d=\"M167,-307.5C167,-307.5 63,-307.5 63,-307.5 57,-307.5 51,-301.5 51,-295.5 51,-295.5 51,-236.5 51,-236.5 51,-230.5 57,-224.5 63,-224.5 63,-224.5 167,-224.5 167,-224.5 173,-224.5 179,-230.5 179,-236.5 179,-236.5 179,-295.5 179,-295.5 179,-301.5 173,-307.5 167,-307.5\"/>\n",
       "<text text-anchor=\"start\" x=\"67.5\" y=\"-292.3\" font-family=\"Helvetica,sans-Serif\" font-size=\"14.00\">feature_0 ≤ 0.1</text>\n",
       "<text text-anchor=\"start\" x=\"78.5\" y=\"-277.3\" font-family=\"Helvetica,sans-Serif\" font-size=\"14.00\">gini = 0.041</text>\n",
       "<text text-anchor=\"start\" x=\"73\" y=\"-262.3\" font-family=\"Helvetica,sans-Serif\" font-size=\"14.00\">samples = 48</text>\n",
       "<text text-anchor=\"start\" x=\"59\" y=\"-247.3\" font-family=\"Helvetica,sans-Serif\" font-size=\"14.00\">value = [1.0, 47.0]</text>\n",
       "<text text-anchor=\"start\" x=\"67\" y=\"-232.3\" font-family=\"Helvetica,sans-Serif\" font-size=\"14.00\">class = class_1</text>\n",
       "</g>\n",
       "<!-- 1&#45;&gt;2 -->\n",
       "<g id=\"edge2\" class=\"edge\"><title>1&#45;&gt;2</title>\n",
       "<path fill=\"none\" stroke=\"black\" d=\"M207.476,-344.391C195.844,-334.657 183.326,-324.18 171.372,-314.177\"/>\n",
       "<polygon fill=\"black\" stroke=\"black\" points=\"173.529,-311.418 163.614,-307.684 169.036,-316.786 173.529,-311.418\"/>\n",
       "</g>\n",
       "<!-- 11 -->\n",
       "<g id=\"node8\" class=\"node\"><title>11</title>\n",
       "<path fill=\"none\" stroke=\"black\" d=\"M305,-300C305,-300 209,-300 209,-300 203,-300 197,-294 197,-288 197,-288 197,-244 197,-244 197,-238 203,-232 209,-232 209,-232 305,-232 305,-232 311,-232 317,-238 317,-244 317,-244 317,-288 317,-288 317,-294 311,-300 305,-300\"/>\n",
       "<text text-anchor=\"start\" x=\"224.5\" y=\"-284.8\" font-family=\"Helvetica,sans-Serif\" font-size=\"14.00\">gini = 0.32</text>\n",
       "<text text-anchor=\"start\" x=\"219\" y=\"-269.8\" font-family=\"Helvetica,sans-Serif\" font-size=\"14.00\">samples = 5</text>\n",
       "<text text-anchor=\"start\" x=\"205\" y=\"-254.8\" font-family=\"Helvetica,sans-Serif\" font-size=\"14.00\">value = [4.0, 1.0]</text>\n",
       "<text text-anchor=\"start\" x=\"209\" y=\"-239.8\" font-family=\"Helvetica,sans-Serif\" font-size=\"14.00\">class = class_0</text>\n",
       "</g>\n",
       "<!-- 1&#45;&gt;11 -->\n",
       "<g id=\"edge7\" class=\"edge\"><title>1&#45;&gt;11</title>\n",
       "<path fill=\"none\" stroke=\"black\" d=\"M256.344,-344.391C256.437,-333.479 256.537,-321.634 256.631,-310.568\"/>\n",
       "<polygon fill=\"black\" stroke=\"black\" points=\"260.133,-310.282 256.718,-300.252 253.133,-310.222 260.133,-310.282\"/>\n",
       "</g>\n",
       "<!-- 3 -->\n",
       "<g id=\"node4\" class=\"node\"><title>3</title>\n",
       "<path fill=\"none\" stroke=\"black\" d=\"M100,-180C100,-180 12,-180 12,-180 6,-180 7.10543e-15,-174 7.10543e-15,-168 7.10543e-15,-168 7.10543e-15,-124 7.10543e-15,-124 7.10543e-15,-118 6,-112 12,-112 12,-112 100,-112 100,-112 106,-112 112,-118 112,-124 112,-124 112,-168 112,-168 112,-174 106,-180 100,-180\"/>\n",
       "<text text-anchor=\"start\" x=\"27\" y=\"-164.8\" font-family=\"Helvetica,sans-Serif\" font-size=\"14.00\">gini = 0.0</text>\n",
       "<text text-anchor=\"start\" x=\"14\" y=\"-149.8\" font-family=\"Helvetica,sans-Serif\" font-size=\"14.00\">samples = 46</text>\n",
       "<text text-anchor=\"start\" x=\"11.5\" y=\"-134.8\" font-family=\"Helvetica,sans-Serif\" font-size=\"14.00\">value = [0, 46]</text>\n",
       "<text text-anchor=\"start\" x=\"8\" y=\"-119.8\" font-family=\"Helvetica,sans-Serif\" font-size=\"14.00\">class = class_1</text>\n",
       "</g>\n",
       "<!-- 2&#45;&gt;3 -->\n",
       "<g id=\"edge3\" class=\"edge\"><title>2&#45;&gt;3</title>\n",
       "<path fill=\"none\" stroke=\"black\" d=\"M94.6955,-224.391C89.0143,-213.029 82.8275,-200.655 77.1013,-189.203\"/>\n",
       "<polygon fill=\"black\" stroke=\"black\" points=\"80.2289,-187.631 72.6262,-180.252 73.9679,-190.762 80.2289,-187.631\"/>\n",
       "</g>\n",
       "<!-- 4 -->\n",
       "<g id=\"node5\" class=\"node\"><title>4</title>\n",
       "<path fill=\"none\" stroke=\"black\" d=\"M244,-187.5C244,-187.5 142,-187.5 142,-187.5 136,-187.5 130,-181.5 130,-175.5 130,-175.5 130,-116.5 130,-116.5 130,-110.5 136,-104.5 142,-104.5 142,-104.5 244,-104.5 244,-104.5 250,-104.5 256,-110.5 256,-116.5 256,-116.5 256,-175.5 256,-175.5 256,-181.5 250,-187.5 244,-187.5\"/>\n",
       "<text text-anchor=\"start\" x=\"138\" y=\"-172.3\" font-family=\"Helvetica,sans-Serif\" font-size=\"14.00\">feature_0 ≤ 0.111</text>\n",
       "<text text-anchor=\"start\" x=\"164\" y=\"-157.3\" font-family=\"Helvetica,sans-Serif\" font-size=\"14.00\">gini = 0.5</text>\n",
       "<text text-anchor=\"start\" x=\"155\" y=\"-142.3\" font-family=\"Helvetica,sans-Serif\" font-size=\"14.00\">samples = 2</text>\n",
       "<text text-anchor=\"start\" x=\"141\" y=\"-127.3\" font-family=\"Helvetica,sans-Serif\" font-size=\"14.00\">value = [1.0, 1.0]</text>\n",
       "<text text-anchor=\"start\" x=\"145\" y=\"-112.3\" font-family=\"Helvetica,sans-Serif\" font-size=\"14.00\">class = class_0</text>\n",
       "</g>\n",
       "<!-- 2&#45;&gt;4 -->\n",
       "<g id=\"edge4\" class=\"edge\"><title>2&#45;&gt;4</title>\n",
       "<path fill=\"none\" stroke=\"black\" d=\"M141.843,-224.391C147.849,-215.306 154.282,-205.574 160.489,-196.183\"/>\n",
       "<polygon fill=\"black\" stroke=\"black\" points=\"163.513,-197.956 166.107,-187.684 157.673,-194.096 163.513,-197.956\"/>\n",
       "</g>\n",
       "<!-- 5 -->\n",
       "<g id=\"node6\" class=\"node\"><title>5</title>\n",
       "<path fill=\"none\" stroke=\"black\" d=\"M172,-68C172,-68 84,-68 84,-68 78,-68 72,-62 72,-56 72,-56 72,-12 72,-12 72,-6 78,-0 84,-0 84,-0 172,-0 172,-0 178,-0 184,-6 184,-12 184,-12 184,-56 184,-56 184,-62 178,-68 172,-68\"/>\n",
       "<text text-anchor=\"start\" x=\"99\" y=\"-52.8\" font-family=\"Helvetica,sans-Serif\" font-size=\"14.00\">gini = 0.0</text>\n",
       "<text text-anchor=\"start\" x=\"90\" y=\"-37.8\" font-family=\"Helvetica,sans-Serif\" font-size=\"14.00\">samples = 1</text>\n",
       "<text text-anchor=\"start\" x=\"87.5\" y=\"-22.8\" font-family=\"Helvetica,sans-Serif\" font-size=\"14.00\">value = [1, 0]</text>\n",
       "<text text-anchor=\"start\" x=\"80\" y=\"-7.8\" font-family=\"Helvetica,sans-Serif\" font-size=\"14.00\">class = class_0</text>\n",
       "</g>\n",
       "<!-- 4&#45;&gt;5 -->\n",
       "<g id=\"edge5\" class=\"edge\"><title>4&#45;&gt;5</title>\n",
       "<path fill=\"none\" stroke=\"black\" d=\"M168.981,-104.353C163.719,-95.4478 158.138,-86.0034 152.845,-77.0452\"/>\n",
       "<polygon fill=\"black\" stroke=\"black\" points=\"155.77,-75.1157 147.67,-68.287 149.744,-78.6768 155.77,-75.1157\"/>\n",
       "</g>\n",
       "<!-- 6 -->\n",
       "<g id=\"node7\" class=\"node\"><title>6</title>\n",
       "<path fill=\"none\" stroke=\"black\" d=\"M302,-68C302,-68 214,-68 214,-68 208,-68 202,-62 202,-56 202,-56 202,-12 202,-12 202,-6 208,-0 214,-0 214,-0 302,-0 302,-0 308,-0 314,-6 314,-12 314,-12 314,-56 314,-56 314,-62 308,-68 302,-68\"/>\n",
       "<text text-anchor=\"start\" x=\"229\" y=\"-52.8\" font-family=\"Helvetica,sans-Serif\" font-size=\"14.00\">gini = 0.0</text>\n",
       "<text text-anchor=\"start\" x=\"220\" y=\"-37.8\" font-family=\"Helvetica,sans-Serif\" font-size=\"14.00\">samples = 1</text>\n",
       "<text text-anchor=\"start\" x=\"217.5\" y=\"-22.8\" font-family=\"Helvetica,sans-Serif\" font-size=\"14.00\">value = [0, 1]</text>\n",
       "<text text-anchor=\"start\" x=\"210\" y=\"-7.8\" font-family=\"Helvetica,sans-Serif\" font-size=\"14.00\">class = class_1</text>\n",
       "</g>\n",
       "<!-- 4&#45;&gt;6 -->\n",
       "<g id=\"edge6\" class=\"edge\"><title>4&#45;&gt;6</title>\n",
       "<path fill=\"none\" stroke=\"black\" d=\"M217.019,-104.353C222.281,-95.4478 227.862,-86.0034 233.155,-77.0452\"/>\n",
       "<polygon fill=\"black\" stroke=\"black\" points=\"236.256,-78.6768 238.33,-68.287 230.23,-75.1157 236.256,-78.6768\"/>\n",
       "</g>\n",
       "<!-- 15 -->\n",
       "<g id=\"node10\" class=\"node\"><title>15</title>\n",
       "<path fill=\"none\" stroke=\"black\" d=\"M453,-307.5C453,-307.5 349,-307.5 349,-307.5 343,-307.5 337,-301.5 337,-295.5 337,-295.5 337,-236.5 337,-236.5 337,-230.5 343,-224.5 349,-224.5 349,-224.5 453,-224.5 453,-224.5 459,-224.5 465,-230.5 465,-236.5 465,-236.5 465,-295.5 465,-295.5 465,-301.5 459,-307.5 453,-307.5\"/>\n",
       "<text text-anchor=\"start\" x=\"346\" y=\"-292.3\" font-family=\"Helvetica,sans-Serif\" font-size=\"14.00\">feature_0 ≤ 0.202</text>\n",
       "<text text-anchor=\"start\" x=\"364.5\" y=\"-277.3\" font-family=\"Helvetica,sans-Serif\" font-size=\"14.00\">gini = 0.172</text>\n",
       "<text text-anchor=\"start\" x=\"359\" y=\"-262.3\" font-family=\"Helvetica,sans-Serif\" font-size=\"14.00\">samples = 21</text>\n",
       "<text text-anchor=\"start\" x=\"345\" y=\"-247.3\" font-family=\"Helvetica,sans-Serif\" font-size=\"14.00\">value = [19.0, 2.0]</text>\n",
       "<text text-anchor=\"start\" x=\"353\" y=\"-232.3\" font-family=\"Helvetica,sans-Serif\" font-size=\"14.00\">class = class_0</text>\n",
       "</g>\n",
       "<!-- 14&#45;&gt;15 -->\n",
       "<g id=\"edge9\" class=\"edge\"><title>14&#45;&gt;15</title>\n",
       "<path fill=\"none\" stroke=\"black\" d=\"M401.656,-344.391C401.584,-335.862 401.506,-326.763 401.431,-317.912\"/>\n",
       "<polygon fill=\"black\" stroke=\"black\" points=\"404.929,-317.654 401.345,-307.684 397.93,-317.713 404.929,-317.654\"/>\n",
       "</g>\n",
       "<!-- 18 -->\n",
       "<g id=\"node13\" class=\"node\"><title>18</title>\n",
       "<path fill=\"none\" stroke=\"black\" d=\"M583,-300C583,-300 495,-300 495,-300 489,-300 483,-294 483,-288 483,-288 483,-244 483,-244 483,-238 489,-232 495,-232 495,-232 583,-232 583,-232 589,-232 595,-238 595,-244 595,-244 595,-288 595,-288 595,-294 589,-300 583,-300\"/>\n",
       "<text text-anchor=\"start\" x=\"510\" y=\"-284.8\" font-family=\"Helvetica,sans-Serif\" font-size=\"14.00\">gini = 0.0</text>\n",
       "<text text-anchor=\"start\" x=\"497\" y=\"-269.8\" font-family=\"Helvetica,sans-Serif\" font-size=\"14.00\">samples = 26</text>\n",
       "<text text-anchor=\"start\" x=\"494.5\" y=\"-254.8\" font-family=\"Helvetica,sans-Serif\" font-size=\"14.00\">value = [26, 0]</text>\n",
       "<text text-anchor=\"start\" x=\"491\" y=\"-239.8\" font-family=\"Helvetica,sans-Serif\" font-size=\"14.00\">class = class_0</text>\n",
       "</g>\n",
       "<!-- 14&#45;&gt;18 -->\n",
       "<g id=\"edge12\" class=\"edge\"><title>14&#45;&gt;18</title>\n",
       "<path fill=\"none\" stroke=\"black\" d=\"M449.148,-344.391C463.254,-332.241 478.703,-318.935 492.75,-306.835\"/>\n",
       "<polygon fill=\"black\" stroke=\"black\" points=\"495.101,-309.43 500.393,-300.252 490.532,-304.127 495.101,-309.43\"/>\n",
       "</g>\n",
       "<!-- 17 -->\n",
       "<g id=\"node11\" class=\"node\"><title>17</title>\n",
       "<path fill=\"none\" stroke=\"black\" d=\"M409,-180C409,-180 321,-180 321,-180 315,-180 309,-174 309,-168 309,-168 309,-124 309,-124 309,-118 315,-112 321,-112 321,-112 409,-112 409,-112 415,-112 421,-118 421,-124 421,-124 421,-168 421,-168 421,-174 415,-180 409,-180\"/>\n",
       "<text text-anchor=\"start\" x=\"336\" y=\"-164.8\" font-family=\"Helvetica,sans-Serif\" font-size=\"14.00\">gini = 0.0</text>\n",
       "<text text-anchor=\"start\" x=\"327\" y=\"-149.8\" font-family=\"Helvetica,sans-Serif\" font-size=\"14.00\">samples = 1</text>\n",
       "<text text-anchor=\"start\" x=\"324.5\" y=\"-134.8\" font-family=\"Helvetica,sans-Serif\" font-size=\"14.00\">value = [1, 0]</text>\n",
       "<text text-anchor=\"start\" x=\"317\" y=\"-119.8\" font-family=\"Helvetica,sans-Serif\" font-size=\"14.00\">class = class_0</text>\n",
       "</g>\n",
       "<!-- 15&#45;&gt;17 -->\n",
       "<g id=\"edge10\" class=\"edge\"><title>15&#45;&gt;17</title>\n",
       "<path fill=\"none\" stroke=\"black\" d=\"M388.611,-224.391C385.213,-213.254 381.519,-201.145 378.083,-189.884\"/>\n",
       "<polygon fill=\"black\" stroke=\"black\" points=\"381.411,-188.796 375.145,-180.252 374.715,-190.839 381.411,-188.796\"/>\n",
       "</g>\n",
       "<!-- 16 -->\n",
       "<g id=\"node12\" class=\"node\"><title>16</title>\n",
       "<path fill=\"none\" stroke=\"black\" d=\"M539,-180C539,-180 451,-180 451,-180 445,-180 439,-174 439,-168 439,-168 439,-124 439,-124 439,-118 445,-112 451,-112 451,-112 539,-112 539,-112 545,-112 551,-118 551,-124 551,-124 551,-168 551,-168 551,-174 545,-180 539,-180\"/>\n",
       "<text text-anchor=\"start\" x=\"462.5\" y=\"-164.8\" font-family=\"Helvetica,sans-Serif\" font-size=\"14.00\">gini = 0.18</text>\n",
       "<text text-anchor=\"start\" x=\"453\" y=\"-149.8\" font-family=\"Helvetica,sans-Serif\" font-size=\"14.00\">samples = 20</text>\n",
       "<text text-anchor=\"start\" x=\"450.5\" y=\"-134.8\" font-family=\"Helvetica,sans-Serif\" font-size=\"14.00\">value = [18, 2]</text>\n",
       "<text text-anchor=\"start\" x=\"447\" y=\"-119.8\" font-family=\"Helvetica,sans-Serif\" font-size=\"14.00\">class = class_0</text>\n",
       "</g>\n",
       "<!-- 15&#45;&gt;16 -->\n",
       "<g id=\"edge11\" class=\"edge\"><title>15&#45;&gt;16</title>\n",
       "<path fill=\"none\" stroke=\"black\" d=\"M433.349,-224.391C442.67,-212.691 452.844,-199.919 462.192,-188.185\"/>\n",
       "<polygon fill=\"black\" stroke=\"black\" points=\"465.018,-190.255 468.511,-180.252 459.542,-185.893 465.018,-190.255\"/>\n",
       "</g>\n",
       "</g>\n",
       "</svg>\n"
      ],
      "text/plain": [
       "<graphviz.files.Source at 0x114475650>"
      ]
     },
     "execution_count": 693,
     "metadata": {},
     "output_type": "execute_result"
    }
   ],
   "source": [
    "import graphviz \n",
    "dot_data = tree.export_graphviz(clf, out_file=None, \n",
    "                         feature_names=[\"feature_\"+str(i) for i in range(D)],  \n",
    "                         class_names=[\"class_0\", \"class_1\"],  \n",
    "                         filled=False, rounded=True,  \n",
    "                         special_characters=True)  \n",
    "\n",
    "graph = graphviz.Source(dot_data)  \n",
    "graph "
   ]
  },
  {
   "cell_type": "code",
   "execution_count": 365,
   "metadata": {},
   "outputs": [
    {
     "data": {
      "text/plain": [
       "array([[  0.,  50.]])"
      ]
     },
     "execution_count": 365,
     "metadata": {},
     "output_type": "execute_result"
    }
   ],
   "source": [
    "clf.tree_.value[1]"
   ]
  },
  {
   "cell_type": "code",
   "execution_count": 353,
   "metadata": {},
   "outputs": [
    {
     "data": {
      "text/plain": [
       "array([[ 1.,  3.]])"
      ]
     },
     "execution_count": 353,
     "metadata": {},
     "output_type": "execute_result"
    }
   ],
   "source": [
    "np.asarray([compute_class_distribution(clf.classes_,[0,1,1,1])])"
   ]
  },
  {
   "cell_type": "code",
   "execution_count": 367,
   "metadata": {},
   "outputs": [
    {
     "data": {
      "text/plain": [
       "array([[[  5.00e+01,   5.00e+01]],\n",
       "\n",
       "       [[  0.00e+00,   5.00e+01]],\n",
       "\n",
       "       [[  5.00e+01,   9.80e-07]],\n",
       "\n",
       "       [[  1.00e+00,   0.00e+00]],\n",
       "\n",
       "       [[  1.00e+00,   2.00e+00]],\n",
       "\n",
       "       [[  1.00e+00,   0.00e+00]],\n",
       "\n",
       "       [[  0.00e+00,   2.00e+00]],\n",
       "\n",
       "       [[  2.00e+00,   0.00e+00]],\n",
       "\n",
       "       [[  4.90e+01,   0.00e+00]]])"
      ]
     },
     "execution_count": 367,
     "metadata": {},
     "output_type": "execute_result"
    }
   ],
   "source": [
    "clf.tree_.value"
   ]
  },
  {
   "cell_type": "code",
   "execution_count": null,
   "metadata": {
    "collapsed": true
   },
   "outputs": [],
   "source": []
  }
 ],
 "metadata": {
  "kernelspec": {
   "display_name": "Python 2",
   "language": "python",
   "name": "python2"
  },
  "language_info": {
   "codemirror_mode": {
    "name": "ipython",
    "version": 2
   },
   "file_extension": ".py",
   "mimetype": "text/x-python",
   "name": "python",
   "nbconvert_exporter": "python",
   "pygments_lexer": "ipython2",
   "version": "2.7.11"
  }
 },
 "nbformat": 4,
 "nbformat_minor": 2
}
