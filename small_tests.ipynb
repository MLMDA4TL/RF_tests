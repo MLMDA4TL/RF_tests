{
 "cells": [
  {
   "cell_type": "code",
   "execution_count": 90,
   "metadata": {
    "collapsed": true
   },
   "outputs": [],
   "source": [
    "%matplotlib inline"
   ]
  },
  {
   "cell_type": "code",
   "execution_count": 91,
   "metadata": {
    "collapsed": true
   },
   "outputs": [],
   "source": [
    "import numpy as np\n",
    "from sklearn import tree\n",
    "from sklearn.datasets import load_iris\n",
    "import matplotlib.pyplot as plt"
   ]
  },
  {
   "cell_type": "markdown",
   "metadata": {},
   "source": [
    "## Create test dataset"
   ]
  },
  {
   "cell_type": "code",
   "execution_count": 92,
   "metadata": {},
   "outputs": [],
   "source": [
    "dataset_length = 100\n",
    "D = 2\n",
    "X = np.random.randn(dataset_length,D)*0.1\n",
    "X[0:dataset_length/2,0] += 0.2\n",
    "X[0:dataset_length/2,1] += 1\n",
    "Y = np.ones(dataset_length)\n",
    "Y[0:dataset_length/2] *= 0"
   ]
  },
  {
   "cell_type": "code",
   "execution_count": 93,
   "metadata": {},
   "outputs": [
    {
     "data": {
      "text/plain": [
       "[<matplotlib.lines.Line2D at 0x106737210>]"
      ]
     },
     "execution_count": 93,
     "metadata": {},
     "output_type": "execute_result"
    },
    {
     "data": {
      "image/png": "[encoded data removed]",
      "text/plain": [
       "<matplotlib.figure.Figure at 0x106681790>"
      ]
     },
     "metadata": {},
     "output_type": "display_data"
    }
   ],
   "source": [
    "plt.plot(X[:,0],X[:,1],\"o\")"
   ]
  },
  {
   "cell_type": "markdown",
   "metadata": {},
   "source": [
    "## Create a Decision Tree trained on this dataset"
   ]
  },
  {
   "cell_type": "code",
   "execution_count": 94,
   "metadata": {
    "collapsed": true
   },
   "outputs": [],
   "source": [
    "clf = tree.DecisionTreeClassifier()\n",
    "clf = clf.fit(X, Y)"
   ]
  },
  {
   "cell_type": "code",
   "execution_count": 95,
   "metadata": {},
   "outputs": [
    {
     "data": {
      "image/svg+xml": [
       "<?xml version=\"1.0\" encoding=\"UTF-8\" standalone=\"no\"?>\n",
       "<!DOCTYPE svg PUBLIC \"-//W3C//DTD SVG 1.1//EN\"\n",
       " \"http://www.w3.org/Graphics/SVG/1.1/DTD/svg11.dtd\">\n",
       "<!-- Generated by graphviz version 2.36.0 (20140111.2315)\n",
       " -->\n",
       "<!-- Title: Tree Pages: 1 -->\n",
       "<svg width=\"250pt\" height=\"196pt\"\n",
       " viewBox=\"0.00 0.00 250.00 196.00\" xmlns=\"http://www.w3.org/2000/svg\" xmlns:xlink=\"http://www.w3.org/1999/xlink\">\n",
       "<g id=\"graph0\" class=\"graph\" transform=\"scale(1 1) rotate(0) translate(4 192)\">\n",
       "<title>Tree</title>\n",
       "<polygon fill=\"white\" stroke=\"none\" points=\"-4,4 -4,-192 246,-192 246,4 -4,4\"/>\n",
       "<!-- 0 -->\n",
       "<g id=\"node1\" class=\"node\"><title>0</title>\n",
       "<path fill=\"none\" stroke=\"black\" d=\"M172,-187.5C172,-187.5 70,-187.5 70,-187.5 64,-187.5 58,-181.5 58,-175.5 58,-175.5 58,-116.5 58,-116.5 58,-110.5 64,-104.5 70,-104.5 70,-104.5 172,-104.5 172,-104.5 178,-104.5 184,-110.5 184,-116.5 184,-116.5 184,-175.5 184,-175.5 184,-181.5 178,-187.5 172,-187.5\"/>\n",
       "<text text-anchor=\"start\" x=\"66\" y=\"-172.3\" font-family=\"Helvetica,sans-Serif\" font-size=\"14.00\">feature_1 ≤ 0.468</text>\n",
       "<text text-anchor=\"start\" x=\"92\" y=\"-157.3\" font-family=\"Helvetica,sans-Serif\" font-size=\"14.00\">gini = 0.5</text>\n",
       "<text text-anchor=\"start\" x=\"75\" y=\"-142.3\" font-family=\"Helvetica,sans-Serif\" font-size=\"14.00\">samples = 100</text>\n",
       "<text text-anchor=\"start\" x=\"72.5\" y=\"-127.3\" font-family=\"Helvetica,sans-Serif\" font-size=\"14.00\">value = [50, 50]</text>\n",
       "<text text-anchor=\"start\" x=\"73\" y=\"-112.3\" font-family=\"Helvetica,sans-Serif\" font-size=\"14.00\">class = class_0</text>\n",
       "</g>\n",
       "<!-- 1 -->\n",
       "<g id=\"node2\" class=\"node\"><title>1</title>\n",
       "<path fill=\"#399de5\" stroke=\"black\" d=\"M100,-68C100,-68 12,-68 12,-68 6,-68 7.10543e-15,-62 7.10543e-15,-56 7.10543e-15,-56 7.10543e-15,-12 7.10543e-15,-12 7.10543e-15,-6 6,-0 12,-0 12,-0 100,-0 100,-0 106,-0 112,-6 112,-12 112,-12 112,-56 112,-56 112,-62 106,-68 100,-68\"/>\n",
       "<text text-anchor=\"start\" x=\"27\" y=\"-52.8\" font-family=\"Helvetica,sans-Serif\" font-size=\"14.00\">gini = 0.0</text>\n",
       "<text text-anchor=\"start\" x=\"14\" y=\"-37.8\" font-family=\"Helvetica,sans-Serif\" font-size=\"14.00\">samples = 50</text>\n",
       "<text text-anchor=\"start\" x=\"11.5\" y=\"-22.8\" font-family=\"Helvetica,sans-Serif\" font-size=\"14.00\">value = [0, 50]</text>\n",
       "<text text-anchor=\"start\" x=\"8\" y=\"-7.8\" font-family=\"Helvetica,sans-Serif\" font-size=\"14.00\">class = class_1</text>\n",
       "</g>\n",
       "<!-- 0&#45;&gt;1 -->\n",
       "<g id=\"edge1\" class=\"edge\"><title>0&#45;&gt;1</title>\n",
       "<path fill=\"none\" stroke=\"black\" d=\"M96.9811,-104.353C91.7192,-95.4478 86.1384,-86.0034 80.8449,-77.0452\"/>\n",
       "<polygon fill=\"black\" stroke=\"black\" points=\"83.7702,-75.1157 75.6696,-68.287 77.7437,-78.6768 83.7702,-75.1157\"/>\n",
       "<text text-anchor=\"middle\" x=\"69.4435\" y=\"-88.7993\" font-family=\"Helvetica,sans-Serif\" font-size=\"14.00\">True</text>\n",
       "</g>\n",
       "<!-- 2 -->\n",
       "<g id=\"node3\" class=\"node\"><title>2</title>\n",
       "<path fill=\"#e58139\" stroke=\"black\" d=\"M230,-68C230,-68 142,-68 142,-68 136,-68 130,-62 130,-56 130,-56 130,-12 130,-12 130,-6 136,-0 142,-0 142,-0 230,-0 230,-0 236,-0 242,-6 242,-12 242,-12 242,-56 242,-56 242,-62 236,-68 230,-68\"/>\n",
       "<text text-anchor=\"start\" x=\"157\" y=\"-52.8\" font-family=\"Helvetica,sans-Serif\" font-size=\"14.00\">gini = 0.0</text>\n",
       "<text text-anchor=\"start\" x=\"144\" y=\"-37.8\" font-family=\"Helvetica,sans-Serif\" font-size=\"14.00\">samples = 50</text>\n",
       "<text text-anchor=\"start\" x=\"141.5\" y=\"-22.8\" font-family=\"Helvetica,sans-Serif\" font-size=\"14.00\">value = [50, 0]</text>\n",
       "<text text-anchor=\"start\" x=\"138\" y=\"-7.8\" font-family=\"Helvetica,sans-Serif\" font-size=\"14.00\">class = class_0</text>\n",
       "</g>\n",
       "<!-- 0&#45;&gt;2 -->\n",
       "<g id=\"edge2\" class=\"edge\"><title>0&#45;&gt;2</title>\n",
       "<path fill=\"none\" stroke=\"black\" d=\"M145.019,-104.353C150.281,-95.4478 155.862,-86.0034 161.155,-77.0452\"/>\n",
       "<polygon fill=\"black\" stroke=\"black\" points=\"164.256,-78.6768 166.33,-68.287 158.23,-75.1157 164.256,-78.6768\"/>\n",
       "<text text-anchor=\"middle\" x=\"172.556\" y=\"-88.7993\" font-family=\"Helvetica,sans-Serif\" font-size=\"14.00\">False</text>\n",
       "</g>\n",
       "</g>\n",
       "</svg>\n"
      ],
      "text/plain": [
       "<graphviz.files.Source at 0x10a77ef50>"
      ]
     },
     "execution_count": 95,
     "metadata": {},
     "output_type": "execute_result"
    }
   ],
   "source": [
    "import graphviz \n",
    "dot_data = tree.export_graphviz(clf, out_file=None, \n",
    "                         feature_names=[\"feature_\"+str(i) for i in range(D)],  \n",
    "                         class_names=[\"class_0\", \"class_1\"],  \n",
    "                         filled=True, rounded=True,  \n",
    "                         special_characters=True)  \n",
    "\n",
    "graph = graphviz.Source(dot_data)  \n",
    "graph "
   ]
  },
  {
   "cell_type": "markdown",
   "metadata": {},
   "source": [
    "### Modify the threshold of the tree\n",
    "+ The first threshold is splitting the dataset along feature_1 at location 0.51\n",
    "+ Let us classify the point [0.1, 0.5]"
   ]
  },
  {
   "cell_type": "code",
   "execution_count": 7,
   "metadata": {},
   "outputs": [
    {
     "data": {
      "text/plain": [
       "array([ 0.51118094, -2.        , -2.        ])"
      ]
     },
     "execution_count": 7,
     "metadata": {},
     "output_type": "execute_result"
    }
   ],
   "source": [
    "clf.tree_.threshold"
   ]
  },
  {
   "cell_type": "code",
   "execution_count": 8,
   "metadata": {},
   "outputs": [
    {
     "data": {
      "text/plain": [
       "array([ 1.])"
      ]
     },
     "execution_count": 8,
     "metadata": {},
     "output_type": "execute_result"
    }
   ],
   "source": [
    "clf.predict(np.asarray([[0.1,0.5]]))"
   ]
  },
  {
   "cell_type": "code",
   "execution_count": 9,
   "metadata": {},
   "outputs": [
    {
     "data": {
      "text/plain": [
       "array([[1, 1, 0]])"
      ]
     },
     "execution_count": 9,
     "metadata": {},
     "output_type": "execute_result"
    }
   ],
   "source": [
    "clf.decision_path(np.asarray([[0.1,0.5]])).toarray()"
   ]
  },
  {
   "cell_type": "markdown",
   "metadata": {},
   "source": [
    "+ Let us modify the threshold and put it equal to 0\n",
    "+ Let us classify the same point"
   ]
  },
  {
   "cell_type": "code",
   "execution_count": 10,
   "metadata": {
    "collapsed": true
   },
   "outputs": [],
   "source": [
    "clf.tree_.threshold[0] = 0"
   ]
  },
  {
   "cell_type": "code",
   "execution_count": 11,
   "metadata": {},
   "outputs": [
    {
     "data": {
      "text/plain": [
       "array([ 0.])"
      ]
     },
     "execution_count": 11,
     "metadata": {},
     "output_type": "execute_result"
    }
   ],
   "source": [
    "clf.predict(np.asarray([[0.1,0.5]]))"
   ]
  },
  {
   "cell_type": "code",
   "execution_count": 12,
   "metadata": {},
   "outputs": [
    {
     "data": {
      "text/plain": [
       "array([[1, 0, 1]])"
      ]
     },
     "execution_count": 12,
     "metadata": {},
     "output_type": "execute_result"
    }
   ],
   "source": [
    "clf.decision_path(np.asarray([[0.1,0.5]])).toarray()"
   ]
  },
  {
   "cell_type": "markdown",
   "metadata": {},
   "source": [
    "## Conclusion\n",
    "Modifying the threshold outside the tree seems to work well :)"
   ]
  },
  {
   "cell_type": "markdown",
   "metadata": {},
   "source": [
    "## Let us access to important elements from the Decision Tree\n",
    "the object tree_ keeps the information describing the tree in lists, such that information contained at index $i$ corresponds to the node $i$ of the tree. The root of the tree is labeled 0. we can get the children's indexes using `children_left` or `children_right` arrays"
   ]
  },
  {
   "cell_type": "code",
   "execution_count": 55,
   "metadata": {},
   "outputs": [
    {
     "data": {
      "text/plain": [
       "array([ 1, -1, -1])"
      ]
     },
     "execution_count": 55,
     "metadata": {},
     "output_type": "execute_result"
    }
   ],
   "source": [
    "clf.tree_.children_left"
   ]
  },
  {
   "cell_type": "code",
   "execution_count": 56,
   "metadata": {},
   "outputs": [
    {
     "data": {
      "text/plain": [
       "array([ 2, -1, -1])"
      ]
     },
     "execution_count": 56,
     "metadata": {},
     "output_type": "execute_result"
    }
   ],
   "source": [
    "clf.tree_.children_right"
   ]
  },
  {
   "cell_type": "markdown",
   "metadata": {},
   "source": [
    "In this case, a leaf is simply a node $\\nu_i$ such that `clf.tree_.children_right[i] == -1` and `clf.tree_.children_left[i] ==1`"
   ]
  },
  {
   "cell_type": "markdown",
   "metadata": {},
   "source": [
    "+ The feature to split on is stored in list `feature`\n",
    "+ The thresholds in list `threshold`\n",
    "+ The number of training samples reaching the node are stored in `n_node_samples` \n",
    "+ The `decision_path` of the target dataset will be helpfull to re-attribute the instances\n",
    "+ The `value` list provides the number of elements from each class in the current node"
   ]
  },
  {
   "cell_type": "code",
   "execution_count": 15,
   "metadata": {},
   "outputs": [],
   "source": [
    "path = clf.decision_path(X[0:3,:])"
   ]
  },
  {
   "cell_type": "code",
   "execution_count": 16,
   "metadata": {},
   "outputs": [
    {
     "data": {
      "text/plain": [
       "array([[1, 0, 1],\n",
       "       [1, 0, 1],\n",
       "       [1, 0, 1]])"
      ]
     },
     "execution_count": 16,
     "metadata": {},
     "output_type": "execute_result"
    }
   ],
   "source": [
    "path.toarray()"
   ]
  },
  {
   "cell_type": "code",
   "execution_count": 22,
   "metadata": {},
   "outputs": [],
   "source": [
    "clf.tree_.value[0,:] = [10,10]"
   ]
  },
  {
   "cell_type": "code",
   "execution_count": 23,
   "metadata": {},
   "outputs": [
    {
     "data": {
      "text/plain": [
       "array([[[ 10.,  10.]],\n",
       "\n",
       "       [[  0.,  50.]],\n",
       "\n",
       "       [[ 50.,   0.]]])"
      ]
     },
     "execution_count": 23,
     "metadata": {},
     "output_type": "execute_result"
    }
   ],
   "source": [
    "clf.tree_.value"
   ]
  },
  {
   "cell_type": "code",
   "execution_count": 156,
   "metadata": {
    "collapsed": true
   },
   "outputs": [],
   "source": [
    "np.set_printoptions(precision=2)"
   ]
  },
  {
   "cell_type": "markdown",
   "metadata": {},
   "source": [
    "# Create the STRUT algorithm step by step"
   ]
  },
  {
   "cell_type": "code",
   "execution_count": 182,
   "metadata": {},
   "outputs": [],
   "source": [
    "import sklearn\n",
    "def get_children_distributions(decisiontree,\n",
    "                               node_index):\n",
    "    tree = decisiontree.tree_\n",
    "    child_l = tree.children_left[node_index]\n",
    "    child_r = tree.children_right[node_index]\n",
    "    Q_source_l = tree.value[child_l]\n",
    "    Q_source_r = tree.value[child_r]\n",
    "    return [np.asarray(Q_source_l), np.asarray(Q_source_r)]\n",
    "                                              \n",
    "def get_node_distribution(decisiontree,\n",
    "                          node_index):\n",
    "    tree = decisiontree.tree_\n",
    "    Q = tree.value[node_index]\n",
    "    return np.asarray(Q)\n",
    "\n",
    "  \n",
    "def compute_class_distribution(classes,\n",
    "                               class_membership):\n",
    "    unique, counts = np.unique(class_membership, return_counts=True)\n",
    "    classes_counts = dict(zip(unique, counts))\n",
    "    classes_index = dict(zip(classes,range(len(classes))))\n",
    "    distribution = np.zeros(len(classes))\n",
    "    for label,count in classes_counts.iteritems():\n",
    "        class_index = classes_index[label]\n",
    "        distribution[class_index] = count\n",
    "    return distribution\n",
    "\n",
    "def KL_divergence(class_counts_P,\n",
    "                  class_counts_Q):\n",
    "    # KL Divergence to assess the difference between two distributions\n",
    "    # Definition: $D_{KL}(P||Q) = \\sum{i} P(i)ln(\\frac{P(i)}{Q(i)})$\n",
    "    # epsilon to avoid division by 0\n",
    "    epsilon = 1e-8\n",
    "    class_counts_P += epsilon\n",
    "    class_counts_Q += epsilon\n",
    "    P = class_counts_P * 1./ class_counts_P.sum()\n",
    "    Q = class_counts_Q * 1./ class_counts_Q.sum()\n",
    "    Dkl = (P * np.log(P * 1./ Q)).sum()\n",
    "    # another possibility is to use scipy.stats.entropy(P,Q) ... but this generates another dependency\n",
    "    return Dkl\n",
    "\n",
    "def H(class_counts):\n",
    "    # Entropy\n",
    "    # Definition: $H(P) = \\sum{i} -P(i) ln(P(i))$\n",
    "    epsilon = 1e-8\n",
    "    class_counts += epsilon\n",
    "    P = class_counts * 1./ class_counts.sum()\n",
    "    #print \"computing H\"\n",
    "    #print \"P\",class_counts,class_counts.sum()\n",
    "    #print \"H\", - (P * np.log(P)).sum()\n",
    "    return - (P * np.log(P)).sum()\n",
    "\n",
    "def IG(class_counts_parent,\n",
    "       class_counts_children):\n",
    "    # Information Gain\n",
    "    H_parent = H(class_counts_parent)\n",
    "    H_children = np.asarray([H(class_counts_child) for class_counts_child in class_counts_children])\n",
    "    N = class_counts_parent.sum()\n",
    "    #print \"class count parent\", class_counts_parent\n",
    "    #print \"class counts IG\", class_counts_children\n",
    "    p_children = np.asarray([class_counts_child.sum()*1./N for class_counts_child in class_counts_children])\n",
    "    information_gain = H_parent - (p_children * H_children).sum()\n",
    "    #print \"parent H\",H_parent\n",
    "    #print \"children H\", (p_children * H_children).sum()\n",
    "    #print \"compute information gain\",information_gain\n",
    "    return information_gain\n",
    "        \n",
    "def JSD(P,Q):\n",
    "    M = (P+Q) * 1./2\n",
    "    #print \"M\",M,\"P\",P,\"Q\",Q\n",
    "    Dkl_PM = KL_divergence(P,M)\n",
    "    Dkl_QM = KL_divergence(Q,M)\n",
    "    #print \"Dkl_PM\", Dkl_PM, \"Dkl_QM\", Dkl_QM\n",
    "    return (Dkl_PM + Dkl_QM) * 1./2\n",
    "\n",
    "def DG(Q_source_l,\n",
    "       Q_source_r,\n",
    "       Q_target_l,\n",
    "       Q_target_r):\n",
    "    # compute proportion of instances at left and right\n",
    "    p_l = Q_target_l.sum() \n",
    "    p_r = Q_target_r.sum() \n",
    "    total_counts = p_l + p_r\n",
    "    p_l /= total_counts\n",
    "    p_r /= total_counts\n",
    "    #print p_l, p_r, JSD(Q_target_l, Q_source_l), JSD(Q_target_r, Q_source_r)\n",
    "    # Compute the new distributions at right and left children\n",
    "   \n",
    "    # compute the DG\n",
    "    return 1. - p_l * JSD(Q_target_l, Q_source_l) - p_r * JSD(Q_target_r, Q_source_r)\n",
    "\n",
    "def compute_Q_children_target(X_target_node,\n",
    "                              Y_target_node,\n",
    "                              phi,\n",
    "                              threshold,\n",
    "                              classes):\n",
    "    # Split parent node target sample using the threshold provided\n",
    "    # instances <= threshold go to the left \n",
    "    # instances > threshold go to the right \n",
    "    decision_l = X_target_node[:,phi] <= threshold\n",
    "    decision_r = np.logical_not(decision_l)\n",
    "    Y_target_child_l = Y_target_node[decision_l]\n",
    "    Y_target_child_r = Y_target_node[decision_r]\n",
    "    Q_target_l = compute_class_distribution(classes, Y_target_child_l)\n",
    "    Q_target_r = compute_class_distribution(classes, Y_target_child_r) \n",
    "    return Q_target_l,Q_target_r\n",
    "\n",
    "\n",
    "def threshold_selection(Q_source_parent,\n",
    "                        Q_source_l,\n",
    "                        Q_source_r,\n",
    "                        X_target_node,\n",
    "                        Y_target_node,\n",
    "                        phi,\n",
    "                        classes):\n",
    "    # sort the corrdinates of X along phi\n",
    "    X_phi_sorted = np.sort(X[:,phi])\n",
    "    nb_tested_thresholds = X_target_node.shape[0] - 1\n",
    "    measures_IG = np.zeros(nb_tested_thresholds)\n",
    "    measures_DG = np.zeros(nb_tested_thresholds)\n",
    "    for i in xrange(nb_tested_thresholds):\n",
    "        threshold = (X_phi_sorted[i] + X_phi_sorted[i+1]) * 1./2\n",
    "        Q_target_l,Q_target_r = compute_Q_children_target(X_target_node,\n",
    "                                                          Y_target_node,\n",
    "                                                          phi,\n",
    "                                                          threshold,\n",
    "                                                          classes)\n",
    "        \n",
    "        \n",
    "        measures_IG[i] = IG(Q_source_parent,\n",
    "                            [Q_target_l,Q_target_r])\n",
    "        measures_DG[i] = DG(Q_source_l,\n",
    "                            Q_source_r,\n",
    "                            Q_target_l,\n",
    "                            Q_target_r)\n",
    "    index = 0\n",
    "    for i in xrange(1,nb_tested_thresholds-1):\n",
    "        if measures_IG[i] >= measures_IG[i-1] and measures_IG[i] >= measures_IG[i+1] and measures_DG[i] >= measures_DG[index]:\n",
    "            index = i\n",
    "    print index,measures_IG,measures_DG\n",
    "    threshold = (X_phi_sorted[index] + X_phi_sorted[index+1]) * 1./2\n",
    "    return threshold\n",
    "\n",
    "def prune_subtree(decisiontree,\n",
    "                  node_index):\n",
    "    tree = decisiontree.tree_\n",
    "    if tree.children_left[node_index] != -1:\n",
    "        prune_subtree(decisiontree,\n",
    "                      tree.children_left[node_index])\n",
    "        tree.children_left[node_index] = -1\n",
    "    if tree.children_right[node_index] != -1:\n",
    "        prune_subtree(decisiontree,\n",
    "                      tree.children_right[node_index])\n",
    "        tree.children_right[node_index] = -1\n",
    "\n",
    "def STRUT(decisiontree,\n",
    "          node_index,\n",
    "          X_target_node,\n",
    "          Y_target_node):\n",
    "    tree = decisiontree.tree_\n",
    "    phi = tree.feature[node_index]\n",
    "    print \"node\", node_index, tree.children_left[node_index], tree.children_right[node_index]\n",
    "    if Y_target_node.size == 0 or (tree.children_left[node_index] == -1 and tree.children_right[node_index] == -1):\n",
    "        # Prune unreachable subtree\n",
    "        prune_subtree(decisiontree,\n",
    "                      node_index)\n",
    "        return 0\n",
    "    threshold = tree.threshold[node_index]  \n",
    "    if type(threshold) is int or type(threshold) is float or type(threshold) is np.float64:\n",
    "        # update threshold\n",
    "        print \"changing threshold\", \"node=\", node_index, \"feature=\", phi\n",
    "        Q_source_l,Q_source_r = get_children_distributions(decisiontree,\n",
    "                                                           node_index)\n",
    "        Q_source_parent = get_node_distribution(decisiontree,\n",
    "                                                node_index)\n",
    "        print \"left_child_distrib=\",Q_source_l,tree.children_left[node_index]\n",
    "        print \"right child distrib\", Q_source_r,tree.children_right[node_index]\n",
    "        classes = decisiontree.classes_\n",
    "        t1 = threshold_selection(Q_source_parent,\n",
    "                                 Q_source_l,\n",
    "                                 Q_source_r,\n",
    "                                 X_target_node,\n",
    "                                 Y_target_node,\n",
    "                                 phi,\n",
    "                                 classes)\n",
    "        Q_target_l,Q_target_r = compute_Q_children_target(X_target_node,\n",
    "                                                          Y_target_node,\n",
    "                                                          phi,\n",
    "                                                          t1,\n",
    "                                                          classes)\n",
    "        DG_t1 = DG(Q_source_l,\n",
    "                   Q_source_r,\n",
    "                   Q_target_l,\n",
    "                   Q_target_r)\n",
    "        print \"threshold selected 1\", t1, \"DG \",DG_t1\n",
    "        t2 = threshold_selection(Q_source_parent,\n",
    "                                 Q_source_r,\n",
    "                                 Q_source_l,\n",
    "                                 X_target_node,\n",
    "                                 Y_target_node,\n",
    "                                 phi,\n",
    "                                 classes)\n",
    "        Q_target_l,Q_target_r = compute_Q_children_target(X_target_node,\n",
    "                                                          Y_target_node,\n",
    "                                                          phi,\n",
    "                                                          t2,\n",
    "                                                          classes)\n",
    "        DG_t2 = DG(Q_source_r,\n",
    "                   Q_source_l,\n",
    "                   Q_target_l,\n",
    "                   Q_target_r)\n",
    "        print \"threshold selected 2\", t1, \"DG \",DG_t1\n",
    "        if DG_t1 >= DG_t2:\n",
    "            tree.threshold[node_index] = t1\n",
    "        else:\n",
    "            tree.threshold[node_index] = t2\n",
    "            # swap children\n",
    "            old_child_r_id = tree.children_right[node_index]\n",
    "            tree.children_right[node_index] = tree.children_left[node_index]\n",
    "            tree.children_left[node_index] = old_child_r_id\n",
    "    ###### beware it may not work for not numerical data\n",
    "    if tree.children_left[node_index] != -1:\n",
    "        threshold = decisiontree.tree_.threshold[node_index]\n",
    "        index_X_child_l = X_target_node[:,phi] <= threshold\n",
    "        X_target_child_l = X_target_node[index_X_child_l,:]\n",
    "        Y_target_child_l = Y_target_node[index_X_child_l]\n",
    "        STRUT(decisiontree,\n",
    "              tree.children_left[node_index],\n",
    "              X_target_child_l,\n",
    "              Y_target_child_l)\n",
    "                \n",
    "    if tree.children_right[node_index] != -1:\n",
    "        threshold = tree.threshold[node_index]\n",
    "        index_X_child_r = X_target_node[:,phi] > threshold\n",
    "        X_target_child_r = X_target_node[index_X_child_r,:]\n",
    "        Y_target_child_r = Y_target_node[index_X_child_r]\n",
    "        STRUT(decisiontree,\n",
    "              tree.children_right[node_index],\n",
    "              X_target_child_r,\n",
    "              Y_target_child_r)\n"
   ]
  },
  {
   "cell_type": "code",
   "execution_count": 183,
   "metadata": {
    "collapsed": true
   },
   "outputs": [],
   "source": [
    "clf = tree.DecisionTreeClassifier()\n",
    "clf = clf.fit(X, Y)"
   ]
  },
  {
   "cell_type": "code",
   "execution_count": 184,
   "metadata": {
    "scrolled": false
   },
   "outputs": [
    {
     "name": "stdout",
     "output_type": "stream",
     "text": [
      "node 0 1 2\n",
      "changing threshold node= 0 feature= 1\n",
      "left_child_distrib= [[  0.  50.]] 1\n",
      "right child distrib [[ 50.   0.]] 2\n",
      "49 [ 0.01  0.01  0.02  0.03  0.04  0.04  0.05  0.06  0.07  0.07  0.08  0.09\n",
      "  0.1   0.11  0.12  0.13  0.14  0.14  0.15  0.16  0.17  0.18  0.19  0.2\n",
      "  0.22  0.23  0.24  0.25  0.26  0.27  0.29  0.3   0.31  0.33  0.34  0.36\n",
      "  0.37  0.39  0.41  0.42  0.44  0.46  0.48  0.5   0.53  0.55  0.58  0.61\n",
      "  0.64  0.69  0.64  0.61  0.58  0.55  0.53  0.5   0.48  0.46  0.44  0.42\n",
      "  0.41  0.39  0.37  0.36  0.34  0.33  0.31  0.3   0.29  0.27  0.26  0.25\n",
      "  0.24  0.23  0.22  0.2   0.19  0.18  0.17  0.16  0.15  0.14  0.14  0.13\n",
      "  0.12  0.11  0.1   0.09  0.08  0.07  0.07  0.06  0.05  0.04  0.04  0.03\n",
      "  0.02  0.01  0.01] [ 0.77  0.78  0.78  0.79  0.8   0.8   0.81  0.81  0.82  0.82  0.83  0.83\n",
      "  0.84  0.84  0.85  0.85  0.86  0.86  0.87  0.87  0.88  0.88  0.89  0.89\n",
      "  0.9   0.9   0.91  0.91  0.92  0.92  0.93  0.93  0.93  0.94  0.94  0.95\n",
      "  0.95  0.95  0.96  0.96  0.97  0.97  0.97  0.98  0.98  0.99  0.99  0.99\n",
      "  1.    1.    1.    0.99  0.99  0.99  0.98  0.98  0.97  0.97  0.97  0.96\n",
      "  0.96  0.95  0.95  0.95  0.94  0.94  0.93  0.93  0.93  0.92  0.92  0.91\n",
      "  0.91  0.9   0.9   0.89  0.89  0.88  0.88  0.87  0.87  0.86  0.86  0.85\n",
      "  0.85  0.84  0.84  0.83  0.83  0.82  0.82  0.81  0.81  0.8   0.8   0.79\n",
      "  0.78  0.78  0.77]\n",
      "threshold selected 1 0.468330975909 DG  0.999999993656\n",
      "0 [ 0.01  0.01  0.02  0.03  0.04  0.04  0.05  0.06  0.07  0.07  0.08  0.09\n",
      "  0.1   0.11  0.12  0.13  0.14  0.14  0.15  0.16  0.17  0.18  0.19  0.2\n",
      "  0.22  0.23  0.24  0.25  0.26  0.27  0.29  0.3   0.31  0.33  0.34  0.36\n",
      "  0.37  0.39  0.41  0.42  0.44  0.46  0.48  0.5   0.53  0.55  0.58  0.61\n",
      "  0.64  0.69  0.64  0.61  0.58  0.55  0.53  0.5   0.48  0.46  0.44  0.42\n",
      "  0.41  0.39  0.37  0.36  0.34  0.33  0.31  0.3   0.29  0.27  0.26  0.25\n",
      "  0.24  0.23  0.22  0.2   0.19  0.18  0.17  0.16  0.15  0.14  0.14  0.13\n",
      "  0.12  0.11  0.1   0.09  0.08  0.07  0.07  0.06  0.05  0.04  0.04  0.03\n",
      "  0.02  0.01  0.01] [ 0.75  0.73  0.72  0.71  0.7   0.7   0.69  0.68  0.67  0.67  0.66  0.65\n",
      "  0.65  0.64  0.63  0.63  0.62  0.61  0.61  0.6   0.59  0.59  0.58  0.57\n",
      "  0.57  0.56  0.55  0.55  0.54  0.53  0.52  0.52  0.51  0.5   0.49  0.48\n",
      "  0.47  0.46  0.46  0.45  0.44  0.43  0.42  0.4   0.39  0.38  0.36  0.35\n",
      "  0.33  0.31  0.33  0.35  0.36  0.38  0.39  0.4   0.42  0.43  0.44  0.45\n",
      "  0.46  0.46  0.47  0.48  0.49  0.5   0.51  0.52  0.52  0.53  0.54  0.55\n",
      "  0.55  0.56  0.57  0.57  0.58  0.59  0.59  0.6   0.61  0.61  0.62  0.63\n",
      "  0.63  0.64  0.65  0.65  0.66  0.67  0.67  0.68  0.69  0.7   0.7   0.71\n",
      "  0.72  0.73  0.75]\n",
      "threshold selected 2 0.468330975909 DG  0.999999993656\n",
      "node 1 -1 -1\n",
      "node 2 -1 -1\n"
     ]
    }
   ],
   "source": [
    "STRUT(clf,\n",
    "      0,\n",
    "      X,\n",
    "      Y)"
   ]
  },
  {
   "cell_type": "code",
   "execution_count": 176,
   "metadata": {},
   "outputs": [
    {
     "data": {
      "image/svg+xml": [
       "<?xml version=\"1.0\" encoding=\"UTF-8\" standalone=\"no\"?>\n",
       "<!DOCTYPE svg PUBLIC \"-//W3C//DTD SVG 1.1//EN\"\n",
       " \"http://www.w3.org/Graphics/SVG/1.1/DTD/svg11.dtd\">\n",
       "<!-- Generated by graphviz version 2.36.0 (20140111.2315)\n",
       " -->\n",
       "<!-- Title: Tree Pages: 1 -->\n",
       "<svg width=\"282pt\" height=\"196pt\"\n",
       " viewBox=\"0.00 0.00 282.00 196.00\" xmlns=\"http://www.w3.org/2000/svg\" xmlns:xlink=\"http://www.w3.org/1999/xlink\">\n",
       "<g id=\"graph0\" class=\"graph\" transform=\"scale(1 1) rotate(0) translate(4 192)\">\n",
       "<title>Tree</title>\n",
       "<polygon fill=\"white\" stroke=\"none\" points=\"-4,4 -4,-192 278,-192 278,4 -4,4\"/>\n",
       "<!-- 0 -->\n",
       "<g id=\"node1\" class=\"node\"><title>0</title>\n",
       "<path fill=\"none\" stroke=\"black\" d=\"M193,-187.5C193,-187.5 81,-187.5 81,-187.5 75,-187.5 69,-181.5 69,-175.5 69,-175.5 69,-116.5 69,-116.5 69,-110.5 75,-104.5 81,-104.5 81,-104.5 193,-104.5 193,-104.5 199,-104.5 205,-110.5 205,-116.5 205,-116.5 205,-175.5 205,-175.5 205,-181.5 199,-187.5 193,-187.5\"/>\n",
       "<text text-anchor=\"start\" x=\"82\" y=\"-172.3\" font-family=\"Helvetica,sans-Serif\" font-size=\"14.00\">feature_1 ≤ 0.468</text>\n",
       "<text text-anchor=\"start\" x=\"108\" y=\"-157.3\" font-family=\"Helvetica,sans-Serif\" font-size=\"14.00\">gini = 0.5</text>\n",
       "<text text-anchor=\"start\" x=\"91\" y=\"-142.3\" font-family=\"Helvetica,sans-Serif\" font-size=\"14.00\">samples = 100</text>\n",
       "<text text-anchor=\"start\" x=\"77\" y=\"-127.3\" font-family=\"Helvetica,sans-Serif\" font-size=\"14.00\">value = [50.0, 50.0]</text>\n",
       "<text text-anchor=\"start\" x=\"89\" y=\"-112.3\" font-family=\"Helvetica,sans-Serif\" font-size=\"14.00\">class = class_0</text>\n",
       "</g>\n",
       "<!-- 1 -->\n",
       "<g id=\"node2\" class=\"node\"><title>1</title>\n",
       "<path fill=\"#399de5\" stroke=\"black\" d=\"M116,-68C116,-68 12,-68 12,-68 6,-68 0,-62 0,-56 0,-56 0,-12 0,-12 0,-6 6,-0 12,-0 12,-0 116,-0 116,-0 122,-0 128,-6 128,-12 128,-12 128,-56 128,-56 128,-62 122,-68 116,-68\"/>\n",
       "<text text-anchor=\"start\" x=\"35\" y=\"-52.8\" font-family=\"Helvetica,sans-Serif\" font-size=\"14.00\">gini = 0.0</text>\n",
       "<text text-anchor=\"start\" x=\"22\" y=\"-37.8\" font-family=\"Helvetica,sans-Serif\" font-size=\"14.00\">samples = 50</text>\n",
       "<text text-anchor=\"start\" x=\"8\" y=\"-22.8\" font-family=\"Helvetica,sans-Serif\" font-size=\"14.00\">value = [0.0, 50.0]</text>\n",
       "<text text-anchor=\"start\" x=\"16\" y=\"-7.8\" font-family=\"Helvetica,sans-Serif\" font-size=\"14.00\">class = class_1</text>\n",
       "</g>\n",
       "<!-- 0&#45;&gt;1 -->\n",
       "<g id=\"edge1\" class=\"edge\"><title>0&#45;&gt;1</title>\n",
       "<path fill=\"none\" stroke=\"black\" d=\"M110.025,-104.353C104.054,-95.3551 97.7171,-85.8066 91.717,-76.7654\"/>\n",
       "<polygon fill=\"black\" stroke=\"black\" points=\"94.5362,-74.6838 86.0904,-68.287 88.7037,-78.5545 94.5362,-74.6838\"/>\n",
       "<text text-anchor=\"middle\" x=\"81.136\" y=\"-89.0911\" font-family=\"Helvetica,sans-Serif\" font-size=\"14.00\">True</text>\n",
       "</g>\n",
       "<!-- 2 -->\n",
       "<g id=\"node3\" class=\"node\"><title>2</title>\n",
       "<path fill=\"#e58139\" stroke=\"black\" d=\"M262,-68C262,-68 158,-68 158,-68 152,-68 146,-62 146,-56 146,-56 146,-12 146,-12 146,-6 152,-0 158,-0 158,-0 262,-0 262,-0 268,-0 274,-6 274,-12 274,-12 274,-56 274,-56 274,-62 268,-68 262,-68\"/>\n",
       "<text text-anchor=\"start\" x=\"181\" y=\"-52.8\" font-family=\"Helvetica,sans-Serif\" font-size=\"14.00\">gini = 0.0</text>\n",
       "<text text-anchor=\"start\" x=\"168\" y=\"-37.8\" font-family=\"Helvetica,sans-Serif\" font-size=\"14.00\">samples = 50</text>\n",
       "<text text-anchor=\"start\" x=\"154\" y=\"-22.8\" font-family=\"Helvetica,sans-Serif\" font-size=\"14.00\">value = [50.0, 0.0]</text>\n",
       "<text text-anchor=\"start\" x=\"162\" y=\"-7.8\" font-family=\"Helvetica,sans-Serif\" font-size=\"14.00\">class = class_0</text>\n",
       "</g>\n",
       "<!-- 0&#45;&gt;2 -->\n",
       "<g id=\"edge2\" class=\"edge\"><title>0&#45;&gt;2</title>\n",
       "<path fill=\"none\" stroke=\"black\" d=\"M163.975,-104.353C169.946,-95.3551 176.283,-85.8066 182.283,-76.7654\"/>\n",
       "<polygon fill=\"black\" stroke=\"black\" points=\"185.296,-78.5545 187.91,-68.287 179.464,-74.6838 185.296,-78.5545\"/>\n",
       "<text text-anchor=\"middle\" x=\"192.864\" y=\"-89.0911\" font-family=\"Helvetica,sans-Serif\" font-size=\"14.00\">False</text>\n",
       "</g>\n",
       "</g>\n",
       "</svg>\n"
      ],
      "text/plain": [
       "<graphviz.files.Source at 0x10ab31e90>"
      ]
     },
     "execution_count": 176,
     "metadata": {},
     "output_type": "execute_result"
    }
   ],
   "source": [
    "import graphviz \n",
    "dot_data = tree.export_graphviz(clf, out_file=None, \n",
    "                         feature_names=[\"feature_\"+str(i) for i in range(D)],  \n",
    "                         class_names=[\"class_0\", \"class_1\"],  \n",
    "                         filled=True, rounded=True,  \n",
    "                         special_characters=True)  \n",
    "\n",
    "graph = graphviz.Source(dot_data)  \n",
    "graph "
   ]
  },
  {
   "cell_type": "code",
   "execution_count": 177,
   "metadata": {},
   "outputs": [
    {
     "data": {
      "text/plain": [
       "array([ 1, -2, -2])"
      ]
     },
     "execution_count": 177,
     "metadata": {},
     "output_type": "execute_result"
    }
   ],
   "source": [
    "clf.tree_.feature"
   ]
  },
  {
   "cell_type": "code",
   "execution_count": 178,
   "metadata": {},
   "outputs": [
    {
     "data": {
      "text/plain": [
       "array([ 0.47, -0.22, -0.22])"
      ]
     },
     "execution_count": 178,
     "metadata": {},
     "output_type": "execute_result"
    }
   ],
   "source": [
    "clf.tree_.threshold"
   ]
  },
  {
   "cell_type": "code",
   "execution_count": null,
   "metadata": {
    "collapsed": true
   },
   "outputs": [],
   "source": []
  }
 ],
 "metadata": {
  "kernelspec": {
   "display_name": "Python 2",
   "language": "python",
   "name": "python2"
  },
  "language_info": {
   "codemirror_mode": {
    "name": "ipython",
    "version": 2
   },
   "file_extension": ".py",
   "mimetype": "text/x-python",
   "name": "python",
   "nbconvert_exporter": "python",
   "pygments_lexer": "ipython2",
   "version": "2.7.11"
  }
 },
 "nbformat": 4,
 "nbformat_minor": 2
}
