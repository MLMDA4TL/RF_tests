{
 "cells": [
  {
   "cell_type": "code",
   "execution_count": 90,
   "metadata": {
    "collapsed": true
   },
   "outputs": [],
   "source": [
    "%matplotlib inline"
   ]
  },
  {
   "cell_type": "code",
   "execution_count": 91,
   "metadata": {
    "collapsed": true
   },
   "outputs": [],
   "source": [
    "import numpy as np\n",
    "from sklearn import tree\n",
    "from sklearn.datasets import load_iris\n",
    "import matplotlib.pyplot as plt"
   ]
  },
  {
   "cell_type": "markdown",
   "metadata": {},
   "source": [
    "## Create test dataset"
   ]
  },
  {
   "cell_type": "code",
   "execution_count": 189,
   "metadata": {},
   "outputs": [],
   "source": [
    "dataset_length = 100\n",
    "D = 2\n",
    "X = np.random.randn(dataset_length,D)*0.1\n",
    "X[0:dataset_length/2,0] += 0.2\n",
    "X[0:dataset_length/2,1] += 1\n",
    "Y = np.ones(dataset_length)\n",
    "Y[0:dataset_length/2] *= 0"
   ]
  },
  {
   "cell_type": "code",
   "execution_count": 190,
   "metadata": {},
   "outputs": [
    {
     "data": {
      "text/plain": [
       "[<matplotlib.lines.Line2D at 0x10ad36fd0>]"
      ]
     },
     "execution_count": 190,
     "metadata": {},
     "output_type": "execute_result"
    },
    {
     "data": {
      "image/png": "[encoded data removed]",
      "text/plain": [
       "<matplotlib.figure.Figure at 0x10ac76390>"
      ]
     },
     "metadata": {},
     "output_type": "display_data"
    }
   ],
   "source": [
    "plt.plot(X[:,0],X[:,1],\"o\")"
   ]
  },
  {
   "cell_type": "markdown",
   "metadata": {},
   "source": [
    "## Create a Decision Tree trained on this dataset"
   ]
  },
  {
   "cell_type": "code",
   "execution_count": 191,
   "metadata": {
    "collapsed": true
   },
   "outputs": [],
   "source": [
    "clf = tree.DecisionTreeClassifier()\n",
    "clf = clf.fit(X, Y)"
   ]
  },
  {
   "cell_type": "code",
   "execution_count": 192,
   "metadata": {},
   "outputs": [
    {
     "data": {
      "image/svg+xml": [
       "<?xml version=\"1.0\" encoding=\"UTF-8\" standalone=\"no\"?>\n",
       "<!DOCTYPE svg PUBLIC \"-//W3C//DTD SVG 1.1//EN\"\n",
       " \"http://www.w3.org/Graphics/SVG/1.1/DTD/svg11.dtd\">\n",
       "<!-- Generated by graphviz version 2.36.0 (20140111.2315)\n",
       " -->\n",
       "<!-- Title: Tree Pages: 1 -->\n",
       "<svg width=\"250pt\" height=\"196pt\"\n",
       " viewBox=\"0.00 0.00 250.00 196.00\" xmlns=\"http://www.w3.org/2000/svg\" xmlns:xlink=\"http://www.w3.org/1999/xlink\">\n",
       "<g id=\"graph0\" class=\"graph\" transform=\"scale(1 1) rotate(0) translate(4 192)\">\n",
       "<title>Tree</title>\n",
       "<polygon fill=\"white\" stroke=\"none\" points=\"-4,4 -4,-192 246,-192 246,4 -4,4\"/>\n",
       "<!-- 0 -->\n",
       "<g id=\"node1\" class=\"node\"><title>0</title>\n",
       "<path fill=\"none\" stroke=\"black\" d=\"M172,-187.5C172,-187.5 70,-187.5 70,-187.5 64,-187.5 58,-181.5 58,-175.5 58,-175.5 58,-116.5 58,-116.5 58,-110.5 64,-104.5 70,-104.5 70,-104.5 172,-104.5 172,-104.5 178,-104.5 184,-110.5 184,-116.5 184,-116.5 184,-175.5 184,-175.5 184,-181.5 178,-187.5 172,-187.5\"/>\n",
       "<text text-anchor=\"start\" x=\"66\" y=\"-172.3\" font-family=\"Helvetica,sans-Serif\" font-size=\"14.00\">feature_1 ≤ 0.542</text>\n",
       "<text text-anchor=\"start\" x=\"92\" y=\"-157.3\" font-family=\"Helvetica,sans-Serif\" font-size=\"14.00\">gini = 0.5</text>\n",
       "<text text-anchor=\"start\" x=\"75\" y=\"-142.3\" font-family=\"Helvetica,sans-Serif\" font-size=\"14.00\">samples = 100</text>\n",
       "<text text-anchor=\"start\" x=\"72.5\" y=\"-127.3\" font-family=\"Helvetica,sans-Serif\" font-size=\"14.00\">value = [50, 50]</text>\n",
       "<text text-anchor=\"start\" x=\"73\" y=\"-112.3\" font-family=\"Helvetica,sans-Serif\" font-size=\"14.00\">class = class_0</text>\n",
       "</g>\n",
       "<!-- 1 -->\n",
       "<g id=\"node2\" class=\"node\"><title>1</title>\n",
       "<path fill=\"#399de5\" stroke=\"black\" d=\"M100,-68C100,-68 12,-68 12,-68 6,-68 7.10543e-15,-62 7.10543e-15,-56 7.10543e-15,-56 7.10543e-15,-12 7.10543e-15,-12 7.10543e-15,-6 6,-0 12,-0 12,-0 100,-0 100,-0 106,-0 112,-6 112,-12 112,-12 112,-56 112,-56 112,-62 106,-68 100,-68\"/>\n",
       "<text text-anchor=\"start\" x=\"27\" y=\"-52.8\" font-family=\"Helvetica,sans-Serif\" font-size=\"14.00\">gini = 0.0</text>\n",
       "<text text-anchor=\"start\" x=\"14\" y=\"-37.8\" font-family=\"Helvetica,sans-Serif\" font-size=\"14.00\">samples = 50</text>\n",
       "<text text-anchor=\"start\" x=\"11.5\" y=\"-22.8\" font-family=\"Helvetica,sans-Serif\" font-size=\"14.00\">value = [0, 50]</text>\n",
       "<text text-anchor=\"start\" x=\"8\" y=\"-7.8\" font-family=\"Helvetica,sans-Serif\" font-size=\"14.00\">class = class_1</text>\n",
       "</g>\n",
       "<!-- 0&#45;&gt;1 -->\n",
       "<g id=\"edge1\" class=\"edge\"><title>0&#45;&gt;1</title>\n",
       "<path fill=\"none\" stroke=\"black\" d=\"M96.9811,-104.353C91.7192,-95.4478 86.1384,-86.0034 80.8449,-77.0452\"/>\n",
       "<polygon fill=\"black\" stroke=\"black\" points=\"83.7702,-75.1157 75.6696,-68.287 77.7437,-78.6768 83.7702,-75.1157\"/>\n",
       "<text text-anchor=\"middle\" x=\"69.4435\" y=\"-88.7993\" font-family=\"Helvetica,sans-Serif\" font-size=\"14.00\">True</text>\n",
       "</g>\n",
       "<!-- 2 -->\n",
       "<g id=\"node3\" class=\"node\"><title>2</title>\n",
       "<path fill=\"#e58139\" stroke=\"black\" d=\"M230,-68C230,-68 142,-68 142,-68 136,-68 130,-62 130,-56 130,-56 130,-12 130,-12 130,-6 136,-0 142,-0 142,-0 230,-0 230,-0 236,-0 242,-6 242,-12 242,-12 242,-56 242,-56 242,-62 236,-68 230,-68\"/>\n",
       "<text text-anchor=\"start\" x=\"157\" y=\"-52.8\" font-family=\"Helvetica,sans-Serif\" font-size=\"14.00\">gini = 0.0</text>\n",
       "<text text-anchor=\"start\" x=\"144\" y=\"-37.8\" font-family=\"Helvetica,sans-Serif\" font-size=\"14.00\">samples = 50</text>\n",
       "<text text-anchor=\"start\" x=\"141.5\" y=\"-22.8\" font-family=\"Helvetica,sans-Serif\" font-size=\"14.00\">value = [50, 0]</text>\n",
       "<text text-anchor=\"start\" x=\"138\" y=\"-7.8\" font-family=\"Helvetica,sans-Serif\" font-size=\"14.00\">class = class_0</text>\n",
       "</g>\n",
       "<!-- 0&#45;&gt;2 -->\n",
       "<g id=\"edge2\" class=\"edge\"><title>0&#45;&gt;2</title>\n",
       "<path fill=\"none\" stroke=\"black\" d=\"M145.019,-104.353C150.281,-95.4478 155.862,-86.0034 161.155,-77.0452\"/>\n",
       "<polygon fill=\"black\" stroke=\"black\" points=\"164.256,-78.6768 166.33,-68.287 158.23,-75.1157 164.256,-78.6768\"/>\n",
       "<text text-anchor=\"middle\" x=\"172.556\" y=\"-88.7993\" font-family=\"Helvetica,sans-Serif\" font-size=\"14.00\">False</text>\n",
       "</g>\n",
       "</g>\n",
       "</svg>\n"
      ],
      "text/plain": [
       "<graphviz.files.Source at 0x10aca9710>"
      ]
     },
     "execution_count": 192,
     "metadata": {},
     "output_type": "execute_result"
    }
   ],
   "source": [
    "import graphviz \n",
    "dot_data = tree.export_graphviz(clf, out_file=None, \n",
    "                         feature_names=[\"feature_\"+str(i) for i in range(D)],  \n",
    "                         class_names=[\"class_0\", \"class_1\"],  \n",
    "                         filled=True, rounded=True,  \n",
    "                         special_characters=True)  \n",
    "\n",
    "graph = graphviz.Source(dot_data)  \n",
    "graph "
   ]
  },
  {
   "cell_type": "markdown",
   "metadata": {},
   "source": [
    "### Modify the threshold of the tree\n",
    "+ The first threshold is splitting the dataset along feature_1 at location 0.51\n",
    "+ Let us classify the point [0.1, 0.5]"
   ]
  },
  {
   "cell_type": "code",
   "execution_count": 7,
   "metadata": {},
   "outputs": [
    {
     "data": {
      "text/plain": [
       "array([ 0.51118094, -2.        , -2.        ])"
      ]
     },
     "execution_count": 7,
     "metadata": {},
     "output_type": "execute_result"
    }
   ],
   "source": [
    "clf.tree_.threshold"
   ]
  },
  {
   "cell_type": "code",
   "execution_count": 8,
   "metadata": {},
   "outputs": [
    {
     "data": {
      "text/plain": [
       "array([ 1.])"
      ]
     },
     "execution_count": 8,
     "metadata": {},
     "output_type": "execute_result"
    }
   ],
   "source": [
    "clf.predict(np.asarray([[0.1,0.5]]))"
   ]
  },
  {
   "cell_type": "code",
   "execution_count": 9,
   "metadata": {},
   "outputs": [
    {
     "data": {
      "text/plain": [
       "array([[1, 1, 0]])"
      ]
     },
     "execution_count": 9,
     "metadata": {},
     "output_type": "execute_result"
    }
   ],
   "source": [
    "clf.decision_path(np.asarray([[0.1,0.5]])).toarray()"
   ]
  },
  {
   "cell_type": "markdown",
   "metadata": {},
   "source": [
    "+ Let us modify the threshold and put it equal to 0\n",
    "+ Let us classify the same point"
   ]
  },
  {
   "cell_type": "code",
   "execution_count": 10,
   "metadata": {
    "collapsed": true
   },
   "outputs": [],
   "source": [
    "clf.tree_.threshold[0] = 0"
   ]
  },
  {
   "cell_type": "code",
   "execution_count": 11,
   "metadata": {},
   "outputs": [
    {
     "data": {
      "text/plain": [
       "array([ 0.])"
      ]
     },
     "execution_count": 11,
     "metadata": {},
     "output_type": "execute_result"
    }
   ],
   "source": [
    "clf.predict(np.asarray([[0.1,0.5]]))"
   ]
  },
  {
   "cell_type": "code",
   "execution_count": 12,
   "metadata": {},
   "outputs": [
    {
     "data": {
      "text/plain": [
       "array([[1, 0, 1]])"
      ]
     },
     "execution_count": 12,
     "metadata": {},
     "output_type": "execute_result"
    }
   ],
   "source": [
    "clf.decision_path(np.asarray([[0.1,0.5]])).toarray()"
   ]
  },
  {
   "cell_type": "markdown",
   "metadata": {},
   "source": [
    "## Conclusion\n",
    "Modifying the threshold outside the tree seems to work well :)"
   ]
  },
  {
   "cell_type": "markdown",
   "metadata": {},
   "source": [
    "## Let us access to important elements from the Decision Tree\n",
    "the object tree_ keeps the information describing the tree in lists, such that information contained at index $i$ corresponds to the node $i$ of the tree. The root of the tree is labeled 0. we can get the children's indexes using `children_left` or `children_right` arrays"
   ]
  },
  {
   "cell_type": "code",
   "execution_count": 55,
   "metadata": {},
   "outputs": [
    {
     "data": {
      "text/plain": [
       "array([ 1, -1, -1])"
      ]
     },
     "execution_count": 55,
     "metadata": {},
     "output_type": "execute_result"
    }
   ],
   "source": [
    "clf.tree_.children_left"
   ]
  },
  {
   "cell_type": "code",
   "execution_count": 56,
   "metadata": {},
   "outputs": [
    {
     "data": {
      "text/plain": [
       "array([ 2, -1, -1])"
      ]
     },
     "execution_count": 56,
     "metadata": {},
     "output_type": "execute_result"
    }
   ],
   "source": [
    "clf.tree_.children_right"
   ]
  },
  {
   "cell_type": "markdown",
   "metadata": {},
   "source": [
    "In this case, a leaf is simply a node $\\nu_i$ such that `clf.tree_.children_right[i] == -1` and `clf.tree_.children_left[i] ==1`"
   ]
  },
  {
   "cell_type": "markdown",
   "metadata": {},
   "source": [
    "+ The feature to split on is stored in list `feature`\n",
    "+ The thresholds in list `threshold`\n",
    "+ The number of training samples reaching the node are stored in `n_node_samples` \n",
    "+ The `decision_path` of the target dataset will be helpfull to re-attribute the instances\n",
    "+ The `value` list provides the number of elements from each class in the current node"
   ]
  },
  {
   "cell_type": "code",
   "execution_count": 15,
   "metadata": {},
   "outputs": [],
   "source": [
    "path = clf.decision_path(X[0:3,:])"
   ]
  },
  {
   "cell_type": "code",
   "execution_count": 16,
   "metadata": {},
   "outputs": [
    {
     "data": {
      "text/plain": [
       "array([[1, 0, 1],\n",
       "       [1, 0, 1],\n",
       "       [1, 0, 1]])"
      ]
     },
     "execution_count": 16,
     "metadata": {},
     "output_type": "execute_result"
    }
   ],
   "source": [
    "path.toarray()"
   ]
  },
  {
   "cell_type": "code",
   "execution_count": 22,
   "metadata": {},
   "outputs": [],
   "source": [
    "clf.tree_.value[0,:] = [10,10]"
   ]
  },
  {
   "cell_type": "code",
   "execution_count": 23,
   "metadata": {},
   "outputs": [
    {
     "data": {
      "text/plain": [
       "array([[[ 10.,  10.]],\n",
       "\n",
       "       [[  0.,  50.]],\n",
       "\n",
       "       [[ 50.,   0.]]])"
      ]
     },
     "execution_count": 23,
     "metadata": {},
     "output_type": "execute_result"
    }
   ],
   "source": [
    "clf.tree_.value"
   ]
  },
  {
   "cell_type": "code",
   "execution_count": 156,
   "metadata": {
    "collapsed": true
   },
   "outputs": [],
   "source": [
    "np.set_printoptions(precision=2)"
   ]
  },
  {
   "cell_type": "markdown",
   "metadata": {},
   "source": [
    "# Create the STRUT algorithm step by step"
   ]
  },
  {
   "cell_type": "code",
   "execution_count": 204,
   "metadata": {},
   "outputs": [],
   "source": [
    "import sklearn\n",
    "def get_children_distributions(decisiontree,\n",
    "                               node_index):\n",
    "    tree = decisiontree.tree_\n",
    "    child_l = tree.children_left[node_index]\n",
    "    child_r = tree.children_right[node_index]\n",
    "    Q_source_l = tree.value[child_l]\n",
    "    Q_source_r = tree.value[child_r]\n",
    "    return [np.asarray(Q_source_l), np.asarray(Q_source_r)]\n",
    "                                              \n",
    "def get_node_distribution(decisiontree,\n",
    "                          node_index):\n",
    "    tree = decisiontree.tree_\n",
    "    Q = tree.value[node_index]\n",
    "    return np.asarray(Q)\n",
    "\n",
    "  \n",
    "def compute_class_distribution(classes,\n",
    "                               class_membership):\n",
    "    unique, counts = np.unique(class_membership, return_counts=True)\n",
    "    classes_counts = dict(zip(unique, counts))\n",
    "    classes_index = dict(zip(classes,range(len(classes))))\n",
    "    distribution = np.zeros(len(classes))\n",
    "    for label,count in classes_counts.iteritems():\n",
    "        class_index = classes_index[label]\n",
    "        distribution[class_index] = count\n",
    "    return distribution\n",
    "\n",
    "def KL_divergence(class_counts_P,\n",
    "                  class_counts_Q):\n",
    "    # KL Divergence to assess the difference between two distributions\n",
    "    # Definition: $D_{KL}(P||Q) = \\sum{i} P(i)ln(\\frac{P(i)}{Q(i)})$\n",
    "    # epsilon to avoid division by 0\n",
    "    epsilon = 1e-8\n",
    "    class_counts_P += epsilon\n",
    "    class_counts_Q += epsilon\n",
    "    P = class_counts_P * 1./ class_counts_P.sum()\n",
    "    Q = class_counts_Q * 1./ class_counts_Q.sum()\n",
    "    Dkl = (P * np.log(P * 1./ Q)).sum()\n",
    "    # another possibility is to use scipy.stats.entropy(P,Q) ... but this generates another dependency\n",
    "    return Dkl\n",
    "\n",
    "def H(class_counts):\n",
    "    # Entropy\n",
    "    # Definition: $H(P) = \\sum{i} -P(i) ln(P(i))$\n",
    "    epsilon = 1e-8\n",
    "    class_counts += epsilon\n",
    "    P = class_counts * 1./ class_counts.sum()\n",
    "    #print \"computing H\"\n",
    "    #print \"P\",class_counts,class_counts.sum()\n",
    "    #print \"H\", - (P * np.log(P)).sum()\n",
    "    return - (P * np.log(P)).sum()\n",
    "\n",
    "def IG(class_counts_parent,\n",
    "       class_counts_children):\n",
    "    # Information Gain\n",
    "    H_parent = H(class_counts_parent)\n",
    "    H_children = np.asarray([H(class_counts_child) for class_counts_child in class_counts_children])\n",
    "    N = class_counts_parent.sum()\n",
    "    #print \"class count parent\", class_counts_parent\n",
    "    #print \"class counts IG\", class_counts_children\n",
    "    p_children = np.asarray([class_counts_child.sum()*1./N for class_counts_child in class_counts_children])\n",
    "    information_gain = H_parent - (p_children * H_children).sum()\n",
    "    #print \"parent H\",H_parent\n",
    "    #print \"children H\", (p_children * H_children).sum()\n",
    "    #print \"compute information gain\",information_gain\n",
    "    return information_gain\n",
    "        \n",
    "def JSD(P,Q):\n",
    "    M = (P+Q) * 1./2\n",
    "    #print \"M\",M,\"P\",P,\"Q\",Q\n",
    "    Dkl_PM = KL_divergence(P,M)\n",
    "    Dkl_QM = KL_divergence(Q,M)\n",
    "    #print \"Dkl_PM\", Dkl_PM, \"Dkl_QM\", Dkl_QM\n",
    "    return (Dkl_PM + Dkl_QM) * 1./2\n",
    "\n",
    "def DG(Q_source_l,\n",
    "       Q_source_r,\n",
    "       Q_target_l,\n",
    "       Q_target_r):\n",
    "    # compute proportion of instances at left and right\n",
    "    p_l = Q_target_l.sum() \n",
    "    p_r = Q_target_r.sum() \n",
    "    total_counts = p_l + p_r\n",
    "    p_l /= total_counts\n",
    "    p_r /= total_counts\n",
    "    #print p_l, p_r, JSD(Q_target_l, Q_source_l), JSD(Q_target_r, Q_source_r)\n",
    "    # Compute the new distributions at right and left children\n",
    "   \n",
    "    # compute the DG\n",
    "    return 1. - p_l * JSD(Q_target_l, Q_source_l) - p_r * JSD(Q_target_r, Q_source_r)\n",
    "\n",
    "def compute_Q_children_target(X_target_node,\n",
    "                              Y_target_node,\n",
    "                              phi,\n",
    "                              threshold,\n",
    "                              classes):\n",
    "    # Split parent node target sample using the threshold provided\n",
    "    # instances <= threshold go to the left \n",
    "    # instances > threshold go to the right \n",
    "    decision_l = X_target_node[:,phi] <= threshold\n",
    "    decision_r = np.logical_not(decision_l)\n",
    "    Y_target_child_l = Y_target_node[decision_l]\n",
    "    Y_target_child_r = Y_target_node[decision_r]\n",
    "    Q_target_l = compute_class_distribution(classes, Y_target_child_l)\n",
    "    Q_target_r = compute_class_distribution(classes, Y_target_child_r) \n",
    "    return Q_target_l,Q_target_r\n",
    "\n",
    "\n",
    "def threshold_selection(Q_source_parent,\n",
    "                        Q_source_l,\n",
    "                        Q_source_r,\n",
    "                        X_target_node,\n",
    "                        Y_target_node,\n",
    "                        phi,\n",
    "                        classes):\n",
    "    # sort the corrdinates of X along phi\n",
    "    X_phi_sorted = np.sort(X[:,phi])\n",
    "    nb_tested_thresholds = X_target_node.shape[0] - 1\n",
    "    measures_IG = np.zeros(nb_tested_thresholds)\n",
    "    measures_DG = np.zeros(nb_tested_thresholds)\n",
    "    for i in xrange(nb_tested_thresholds):\n",
    "        threshold = (X_phi_sorted[i] + X_phi_sorted[i+1]) * 1./2\n",
    "        Q_target_l,Q_target_r = compute_Q_children_target(X_target_node,\n",
    "                                                          Y_target_node,\n",
    "                                                          phi,\n",
    "                                                          threshold,\n",
    "                                                          classes)\n",
    "        \n",
    "        \n",
    "        measures_IG[i] = IG(Q_source_parent,\n",
    "                            [Q_target_l,Q_target_r])\n",
    "        measures_DG[i] = DG(Q_source_l,\n",
    "                            Q_source_r,\n",
    "                            Q_target_l,\n",
    "                            Q_target_r)\n",
    "    index = 0\n",
    "    for i in xrange(1,nb_tested_thresholds-1):\n",
    "        if measures_IG[i] >= measures_IG[i-1] and measures_IG[i] >= measures_IG[i+1] and measures_DG[i] > measures_DG[index]:\n",
    "            index = i\n",
    "    print index,measures_IG,measures_DG,X_phi_sorted\n",
    "    threshold = (X_phi_sorted[index] + X_phi_sorted[index+1]) * 1./2\n",
    "    return threshold\n",
    "\n",
    "def prune_subtree(decisiontree,\n",
    "                  node_index):\n",
    "    tree = decisiontree.tree_\n",
    "    if tree.children_left[node_index] != -1:\n",
    "        prune_subtree(decisiontree,\n",
    "                      tree.children_left[node_index])\n",
    "        tree.children_left[node_index] = -1\n",
    "    if tree.children_right[node_index] != -1:\n",
    "        prune_subtree(decisiontree,\n",
    "                      tree.children_right[node_index])\n",
    "        tree.children_right[node_index] = -1\n",
    "\n",
    "def STRUT(decisiontree,\n",
    "          node_index,\n",
    "          X_target_node,\n",
    "          Y_target_node):\n",
    "    tree = decisiontree.tree_\n",
    "    phi = tree.feature[node_index]\n",
    "    print \"node\", node_index, tree.children_left[node_index], tree.children_right[node_index]\n",
    "    if Y_target_node.size == 0 or (tree.children_left[node_index] == -1 and tree.children_right[node_index] == -1):\n",
    "        # Prune unreachable subtree\n",
    "        prune_subtree(decisiontree,\n",
    "                      node_index)\n",
    "        return 0\n",
    "    threshold = tree.threshold[node_index]  \n",
    "    if type(threshold) is int or type(threshold) is float or type(threshold) is np.float64:\n",
    "        # update threshold\n",
    "        print \"changing threshold\", \"node=\", node_index, \"feature=\", phi\n",
    "        Q_source_l,Q_source_r = get_children_distributions(decisiontree,\n",
    "                                                           node_index)\n",
    "        Q_source_parent = get_node_distribution(decisiontree,\n",
    "                                                node_index)\n",
    "        print \"left_child_distrib=\",Q_source_l,tree.children_left[node_index]\n",
    "        print \"right child distrib\", Q_source_r,tree.children_right[node_index]\n",
    "        classes = decisiontree.classes_\n",
    "        t1 = threshold_selection(Q_source_parent,\n",
    "                                 Q_source_l,\n",
    "                                 Q_source_r,\n",
    "                                 X_target_node,\n",
    "                                 Y_target_node,\n",
    "                                 phi,\n",
    "                                 classes)\n",
    "        Q_target_l,Q_target_r = compute_Q_children_target(X_target_node,\n",
    "                                                          Y_target_node,\n",
    "                                                          phi,\n",
    "                                                          t1,\n",
    "                                                          classes)\n",
    "        DG_t1 = DG(Q_source_l,\n",
    "                   Q_source_r,\n",
    "                   Q_target_l,\n",
    "                   Q_target_r)\n",
    "        print \"threshold selected 1\", t1, \"DG \",DG_t1\n",
    "        t2 = threshold_selection(Q_source_parent,\n",
    "                                 Q_source_r,\n",
    "                                 Q_source_l,\n",
    "                                 X_target_node,\n",
    "                                 Y_target_node,\n",
    "                                 phi,\n",
    "                                 classes)\n",
    "        Q_target_l,Q_target_r = compute_Q_children_target(X_target_node,\n",
    "                                                          Y_target_node,\n",
    "                                                          phi,\n",
    "                                                          t2,\n",
    "                                                          classes)\n",
    "        DG_t2 = DG(Q_source_r,\n",
    "                   Q_source_l,\n",
    "                   Q_target_l,\n",
    "                   Q_target_r)\n",
    "        print \"threshold selected 2\", t1, \"DG \",DG_t1\n",
    "        if DG_t1 >= DG_t2:\n",
    "            tree.threshold[node_index] = t1\n",
    "        else:\n",
    "            tree.threshold[node_index] = t2\n",
    "            # swap children\n",
    "            old_child_r_id = tree.children_right[node_index]\n",
    "            tree.children_right[node_index] = tree.children_left[node_index]\n",
    "            tree.children_left[node_index] = old_child_r_id\n",
    "    ###### beware it may not work for not numerical data\n",
    "    if tree.children_left[node_index] != -1:\n",
    "        threshold = decisiontree.tree_.threshold[node_index]\n",
    "        index_X_child_l = X_target_node[:,phi] <= threshold\n",
    "        X_target_child_l = X_target_node[index_X_child_l,:]\n",
    "        Y_target_child_l = Y_target_node[index_X_child_l]\n",
    "        STRUT(decisiontree,\n",
    "              tree.children_left[node_index],\n",
    "              X_target_child_l,\n",
    "              Y_target_child_l)\n",
    "                \n",
    "    if tree.children_right[node_index] != -1:\n",
    "        threshold = tree.threshold[node_index]\n",
    "        index_X_child_r = X_target_node[:,phi] > threshold\n",
    "        X_target_child_r = X_target_node[index_X_child_r,:]\n",
    "        Y_target_child_r = Y_target_node[index_X_child_r]\n",
    "        STRUT(decisiontree,\n",
    "              tree.children_right[node_index],\n",
    "              X_target_child_r,\n",
    "              Y_target_child_r)\n"
   ]
  },
  {
   "cell_type": "code",
   "execution_count": 205,
   "metadata": {
    "collapsed": true
   },
   "outputs": [],
   "source": [
    "dataset_length = 100\n",
    "D = 2\n",
    "X = np.random.randn(dataset_length,D)*0.1\n",
    "X[0:dataset_length/2,0] += 0.2\n",
    "X[0:dataset_length/2,1] += 0.3\n",
    "Y = np.ones(dataset_length)\n",
    "Y[0:dataset_length/2] *= 0\n",
    "\n",
    "clf = tree.DecisionTreeClassifier()\n",
    "clf = clf.fit(X, Y)"
   ]
  },
  {
   "cell_type": "code",
   "execution_count": 206,
   "metadata": {},
   "outputs": [
    {
     "data": {
      "image/svg+xml": [
       "<?xml version=\"1.0\" encoding=\"UTF-8\" standalone=\"no\"?>\n",
       "<!DOCTYPE svg PUBLIC \"-//W3C//DTD SVG 1.1//EN\"\n",
       " \"http://www.w3.org/Graphics/SVG/1.1/DTD/svg11.dtd\">\n",
       "<!-- Generated by graphviz version 2.36.0 (20140111.2315)\n",
       " -->\n",
       "<!-- Title: Tree Pages: 1 -->\n",
       "<svg width=\"463pt\" height=\"916pt\"\n",
       " viewBox=\"0.00 0.00 463.00 916.00\" xmlns=\"http://www.w3.org/2000/svg\" xmlns:xlink=\"http://www.w3.org/1999/xlink\">\n",
       "<g id=\"graph0\" class=\"graph\" transform=\"scale(1 1) rotate(0) translate(4 912)\">\n",
       "<title>Tree</title>\n",
       "<polygon fill=\"white\" stroke=\"none\" points=\"-4,4 -4,-912 459,-912 459,4 -4,4\"/>\n",
       "<!-- 0 -->\n",
       "<g id=\"node1\" class=\"node\"><title>0</title>\n",
       "<path fill=\"none\" stroke=\"black\" d=\"M313,-907.5C313,-907.5 211,-907.5 211,-907.5 205,-907.5 199,-901.5 199,-895.5 199,-895.5 199,-836.5 199,-836.5 199,-830.5 205,-824.5 211,-824.5 211,-824.5 313,-824.5 313,-824.5 319,-824.5 325,-830.5 325,-836.5 325,-836.5 325,-895.5 325,-895.5 325,-901.5 319,-907.5 313,-907.5\"/>\n",
       "<text text-anchor=\"start\" x=\"207\" y=\"-892.3\" font-family=\"Helvetica,sans-Serif\" font-size=\"14.00\">feature_1 ≤ 0.139</text>\n",
       "<text text-anchor=\"start\" x=\"233\" y=\"-877.3\" font-family=\"Helvetica,sans-Serif\" font-size=\"14.00\">gini = 0.5</text>\n",
       "<text text-anchor=\"start\" x=\"216\" y=\"-862.3\" font-family=\"Helvetica,sans-Serif\" font-size=\"14.00\">samples = 100</text>\n",
       "<text text-anchor=\"start\" x=\"213.5\" y=\"-847.3\" font-family=\"Helvetica,sans-Serif\" font-size=\"14.00\">value = [50, 50]</text>\n",
       "<text text-anchor=\"start\" x=\"214\" y=\"-832.3\" font-family=\"Helvetica,sans-Serif\" font-size=\"14.00\">class = class_0</text>\n",
       "</g>\n",
       "<!-- 1 -->\n",
       "<g id=\"node2\" class=\"node\"><title>1</title>\n",
       "<path fill=\"#399de5\" stroke=\"black\" d=\"M238,-780C238,-780 150,-780 150,-780 144,-780 138,-774 138,-768 138,-768 138,-724 138,-724 138,-718 144,-712 150,-712 150,-712 238,-712 238,-712 244,-712 250,-718 250,-724 250,-724 250,-768 250,-768 250,-774 244,-780 238,-780\"/>\n",
       "<text text-anchor=\"start\" x=\"165\" y=\"-764.8\" font-family=\"Helvetica,sans-Serif\" font-size=\"14.00\">gini = 0.0</text>\n",
       "<text text-anchor=\"start\" x=\"152\" y=\"-749.8\" font-family=\"Helvetica,sans-Serif\" font-size=\"14.00\">samples = 44</text>\n",
       "<text text-anchor=\"start\" x=\"149.5\" y=\"-734.8\" font-family=\"Helvetica,sans-Serif\" font-size=\"14.00\">value = [0, 44]</text>\n",
       "<text text-anchor=\"start\" x=\"146\" y=\"-719.8\" font-family=\"Helvetica,sans-Serif\" font-size=\"14.00\">class = class_1</text>\n",
       "</g>\n",
       "<!-- 0&#45;&gt;1 -->\n",
       "<g id=\"edge1\" class=\"edge\"><title>0&#45;&gt;1</title>\n",
       "<path fill=\"none\" stroke=\"black\" d=\"M238.598,-824.391C232.05,-813.029 224.92,-800.655 218.32,-789.203\"/>\n",
       "<polygon fill=\"black\" stroke=\"black\" points=\"221.188,-787.169 213.162,-780.252 215.123,-790.664 221.188,-787.169\"/>\n",
       "<text text-anchor=\"middle\" x=\"206.672\" y=\"-800.695\" font-family=\"Helvetica,sans-Serif\" font-size=\"14.00\">True</text>\n",
       "</g>\n",
       "<!-- 2 -->\n",
       "<g id=\"node3\" class=\"node\"><title>2</title>\n",
       "<path fill=\"#e58139\" fill-opacity=\"0.878431\" stroke=\"black\" d=\"M382,-787.5C382,-787.5 280,-787.5 280,-787.5 274,-787.5 268,-781.5 268,-775.5 268,-775.5 268,-716.5 268,-716.5 268,-710.5 274,-704.5 280,-704.5 280,-704.5 382,-704.5 382,-704.5 388,-704.5 394,-710.5 394,-716.5 394,-716.5 394,-775.5 394,-775.5 394,-781.5 388,-787.5 382,-787.5\"/>\n",
       "<text text-anchor=\"start\" x=\"276\" y=\"-772.3\" font-family=\"Helvetica,sans-Serif\" font-size=\"14.00\">feature_0 ≤ 0.069</text>\n",
       "<text text-anchor=\"start\" x=\"294.5\" y=\"-757.3\" font-family=\"Helvetica,sans-Serif\" font-size=\"14.00\">gini = 0.191</text>\n",
       "<text text-anchor=\"start\" x=\"289\" y=\"-742.3\" font-family=\"Helvetica,sans-Serif\" font-size=\"14.00\">samples = 56</text>\n",
       "<text text-anchor=\"start\" x=\"286.5\" y=\"-727.3\" font-family=\"Helvetica,sans-Serif\" font-size=\"14.00\">value = [50, 6]</text>\n",
       "<text text-anchor=\"start\" x=\"283\" y=\"-712.3\" font-family=\"Helvetica,sans-Serif\" font-size=\"14.00\">class = class_0</text>\n",
       "</g>\n",
       "<!-- 0&#45;&gt;2 -->\n",
       "<g id=\"edge2\" class=\"edge\"><title>0&#45;&gt;2</title>\n",
       "<path fill=\"none\" stroke=\"black\" d=\"M285.746,-824.391C291.004,-815.398 296.633,-805.772 302.072,-796.471\"/>\n",
       "<polygon fill=\"black\" stroke=\"black\" points=\"305.184,-798.083 307.21,-787.684 299.141,-794.55 305.184,-798.083\"/>\n",
       "<text text-anchor=\"middle\" x=\"313.547\" y=\"-808.167\" font-family=\"Helvetica,sans-Serif\" font-size=\"14.00\">False</text>\n",
       "</g>\n",
       "<!-- 3 -->\n",
       "<g id=\"node4\" class=\"node\"><title>3</title>\n",
       "<path fill=\"#399de5\" fill-opacity=\"0.164706\" stroke=\"black\" d=\"M313,-667.5C313,-667.5 211,-667.5 211,-667.5 205,-667.5 199,-661.5 199,-655.5 199,-655.5 199,-596.5 199,-596.5 199,-590.5 205,-584.5 211,-584.5 211,-584.5 313,-584.5 313,-584.5 319,-584.5 325,-590.5 325,-596.5 325,-596.5 325,-655.5 325,-655.5 325,-661.5 319,-667.5 313,-667.5\"/>\n",
       "<text text-anchor=\"start\" x=\"207\" y=\"-652.3\" font-family=\"Helvetica,sans-Serif\" font-size=\"14.00\">feature_1 ≤ 0.372</text>\n",
       "<text text-anchor=\"start\" x=\"225.5\" y=\"-637.3\" font-family=\"Helvetica,sans-Serif\" font-size=\"14.00\">gini = 0.496</text>\n",
       "<text text-anchor=\"start\" x=\"220\" y=\"-622.3\" font-family=\"Helvetica,sans-Serif\" font-size=\"14.00\">samples = 11</text>\n",
       "<text text-anchor=\"start\" x=\"221.5\" y=\"-607.3\" font-family=\"Helvetica,sans-Serif\" font-size=\"14.00\">value = [5, 6]</text>\n",
       "<text text-anchor=\"start\" x=\"214\" y=\"-592.3\" font-family=\"Helvetica,sans-Serif\" font-size=\"14.00\">class = class_1</text>\n",
       "</g>\n",
       "<!-- 2&#45;&gt;3 -->\n",
       "<g id=\"edge3\" class=\"edge\"><title>2&#45;&gt;3</title>\n",
       "<path fill=\"none\" stroke=\"black\" d=\"M307.254,-704.391C301.996,-695.398 296.367,-685.772 290.928,-676.471\"/>\n",
       "<polygon fill=\"black\" stroke=\"black\" points=\"293.859,-674.55 285.79,-667.684 287.816,-678.083 293.859,-674.55\"/>\n",
       "</g>\n",
       "<!-- 14 -->\n",
       "<g id=\"node15\" class=\"node\"><title>14</title>\n",
       "<path fill=\"#e58139\" stroke=\"black\" d=\"M443,-660C443,-660 355,-660 355,-660 349,-660 343,-654 343,-648 343,-648 343,-604 343,-604 343,-598 349,-592 355,-592 355,-592 443,-592 443,-592 449,-592 455,-598 455,-604 455,-604 455,-648 455,-648 455,-654 449,-660 443,-660\"/>\n",
       "<text text-anchor=\"start\" x=\"370\" y=\"-644.8\" font-family=\"Helvetica,sans-Serif\" font-size=\"14.00\">gini = 0.0</text>\n",
       "<text text-anchor=\"start\" x=\"357\" y=\"-629.8\" font-family=\"Helvetica,sans-Serif\" font-size=\"14.00\">samples = 45</text>\n",
       "<text text-anchor=\"start\" x=\"354.5\" y=\"-614.8\" font-family=\"Helvetica,sans-Serif\" font-size=\"14.00\">value = [45, 0]</text>\n",
       "<text text-anchor=\"start\" x=\"351\" y=\"-599.8\" font-family=\"Helvetica,sans-Serif\" font-size=\"14.00\">class = class_0</text>\n",
       "</g>\n",
       "<!-- 2&#45;&gt;14 -->\n",
       "<g id=\"edge14\" class=\"edge\"><title>2&#45;&gt;14</title>\n",
       "<path fill=\"none\" stroke=\"black\" d=\"M354.402,-704.391C360.95,-693.029 368.08,-680.655 374.68,-669.203\"/>\n",
       "<polygon fill=\"black\" stroke=\"black\" points=\"377.877,-670.664 379.838,-660.252 371.812,-667.169 377.877,-670.664\"/>\n",
       "</g>\n",
       "<!-- 4 -->\n",
       "<g id=\"node5\" class=\"node\"><title>4</title>\n",
       "<path fill=\"#399de5\" fill-opacity=\"0.498039\" stroke=\"black\" d=\"M245,-547.5C245,-547.5 143,-547.5 143,-547.5 137,-547.5 131,-541.5 131,-535.5 131,-535.5 131,-476.5 131,-476.5 131,-470.5 137,-464.5 143,-464.5 143,-464.5 245,-464.5 245,-464.5 251,-464.5 257,-470.5 257,-476.5 257,-476.5 257,-535.5 257,-535.5 257,-541.5 251,-547.5 245,-547.5\"/>\n",
       "<text text-anchor=\"start\" x=\"139\" y=\"-532.3\" font-family=\"Helvetica,sans-Serif\" font-size=\"14.00\">feature_0 ≤ 0.034</text>\n",
       "<text text-anchor=\"start\" x=\"157.5\" y=\"-517.3\" font-family=\"Helvetica,sans-Serif\" font-size=\"14.00\">gini = 0.444</text>\n",
       "<text text-anchor=\"start\" x=\"156\" y=\"-502.3\" font-family=\"Helvetica,sans-Serif\" font-size=\"14.00\">samples = 9</text>\n",
       "<text text-anchor=\"start\" x=\"153.5\" y=\"-487.3\" font-family=\"Helvetica,sans-Serif\" font-size=\"14.00\">value = [3, 6]</text>\n",
       "<text text-anchor=\"start\" x=\"146\" y=\"-472.3\" font-family=\"Helvetica,sans-Serif\" font-size=\"14.00\">class = class_1</text>\n",
       "</g>\n",
       "<!-- 3&#45;&gt;4 -->\n",
       "<g id=\"edge4\" class=\"edge\"><title>3&#45;&gt;4</title>\n",
       "<path fill=\"none\" stroke=\"black\" d=\"M238.598,-584.391C233.416,-575.398 227.869,-565.772 222.509,-556.471\"/>\n",
       "<polygon fill=\"black\" stroke=\"black\" points=\"225.47,-554.601 217.445,-547.684 219.405,-558.096 225.47,-554.601\"/>\n",
       "</g>\n",
       "<!-- 13 -->\n",
       "<g id=\"node14\" class=\"node\"><title>13</title>\n",
       "<path fill=\"#e58139\" stroke=\"black\" d=\"M375,-540C375,-540 287,-540 287,-540 281,-540 275,-534 275,-528 275,-528 275,-484 275,-484 275,-478 281,-472 287,-472 287,-472 375,-472 375,-472 381,-472 387,-478 387,-484 387,-484 387,-528 387,-528 387,-534 381,-540 375,-540\"/>\n",
       "<text text-anchor=\"start\" x=\"302\" y=\"-524.8\" font-family=\"Helvetica,sans-Serif\" font-size=\"14.00\">gini = 0.0</text>\n",
       "<text text-anchor=\"start\" x=\"293\" y=\"-509.8\" font-family=\"Helvetica,sans-Serif\" font-size=\"14.00\">samples = 2</text>\n",
       "<text text-anchor=\"start\" x=\"290.5\" y=\"-494.8\" font-family=\"Helvetica,sans-Serif\" font-size=\"14.00\">value = [2, 0]</text>\n",
       "<text text-anchor=\"start\" x=\"283\" y=\"-479.8\" font-family=\"Helvetica,sans-Serif\" font-size=\"14.00\">class = class_0</text>\n",
       "</g>\n",
       "<!-- 3&#45;&gt;13 -->\n",
       "<g id=\"edge13\" class=\"edge\"><title>3&#45;&gt;13</title>\n",
       "<path fill=\"none\" stroke=\"black\" d=\"M285.746,-584.391C292.39,-573.029 299.625,-560.655 306.322,-549.203\"/>\n",
       "<polygon fill=\"black\" stroke=\"black\" points=\"309.529,-550.652 311.556,-540.252 303.487,-547.118 309.529,-550.652\"/>\n",
       "</g>\n",
       "<!-- 5 -->\n",
       "<g id=\"node6\" class=\"node\"><title>5</title>\n",
       "<path fill=\"none\" stroke=\"black\" d=\"M177.25,-427.5C177.25,-427.5 70.75,-427.5 70.75,-427.5 64.75,-427.5 58.75,-421.5 58.75,-415.5 58.75,-415.5 58.75,-356.5 58.75,-356.5 58.75,-350.5 64.75,-344.5 70.75,-344.5 70.75,-344.5 177.25,-344.5 177.25,-344.5 183.25,-344.5 189.25,-350.5 189.25,-356.5 189.25,-356.5 189.25,-415.5 189.25,-415.5 189.25,-421.5 183.25,-427.5 177.25,-427.5\"/>\n",
       "<text text-anchor=\"start\" x=\"66.5\" y=\"-412.3\" font-family=\"Helvetica,sans-Serif\" font-size=\"14.00\">feature_0 ≤ &#45;0.028</text>\n",
       "<text text-anchor=\"start\" x=\"95\" y=\"-397.3\" font-family=\"Helvetica,sans-Serif\" font-size=\"14.00\">gini = 0.5</text>\n",
       "<text text-anchor=\"start\" x=\"86\" y=\"-382.3\" font-family=\"Helvetica,sans-Serif\" font-size=\"14.00\">samples = 6</text>\n",
       "<text text-anchor=\"start\" x=\"83.5\" y=\"-367.3\" font-family=\"Helvetica,sans-Serif\" font-size=\"14.00\">value = [3, 3]</text>\n",
       "<text text-anchor=\"start\" x=\"76\" y=\"-352.3\" font-family=\"Helvetica,sans-Serif\" font-size=\"14.00\">class = class_0</text>\n",
       "</g>\n",
       "<!-- 4&#45;&gt;5 -->\n",
       "<g id=\"edge5\" class=\"edge\"><title>4&#45;&gt;5</title>\n",
       "<path fill=\"none\" stroke=\"black\" d=\"M169.91,-464.391C164.575,-455.398 158.865,-445.772 153.347,-436.471\"/>\n",
       "<polygon fill=\"black\" stroke=\"black\" points=\"156.247,-434.499 148.134,-427.684 150.226,-438.07 156.247,-434.499\"/>\n",
       "</g>\n",
       "<!-- 12 -->\n",
       "<g id=\"node13\" class=\"node\"><title>12</title>\n",
       "<path fill=\"#399de5\" stroke=\"black\" d=\"M308,-420C308,-420 220,-420 220,-420 214,-420 208,-414 208,-408 208,-408 208,-364 208,-364 208,-358 214,-352 220,-352 220,-352 308,-352 308,-352 314,-352 320,-358 320,-364 320,-364 320,-408 320,-408 320,-414 314,-420 308,-420\"/>\n",
       "<text text-anchor=\"start\" x=\"235\" y=\"-404.8\" font-family=\"Helvetica,sans-Serif\" font-size=\"14.00\">gini = 0.0</text>\n",
       "<text text-anchor=\"start\" x=\"226\" y=\"-389.8\" font-family=\"Helvetica,sans-Serif\" font-size=\"14.00\">samples = 3</text>\n",
       "<text text-anchor=\"start\" x=\"223.5\" y=\"-374.8\" font-family=\"Helvetica,sans-Serif\" font-size=\"14.00\">value = [0, 3]</text>\n",
       "<text text-anchor=\"start\" x=\"216\" y=\"-359.8\" font-family=\"Helvetica,sans-Serif\" font-size=\"14.00\">class = class_1</text>\n",
       "</g>\n",
       "<!-- 4&#45;&gt;12 -->\n",
       "<g id=\"edge12\" class=\"edge\"><title>4&#45;&gt;12</title>\n",
       "<path fill=\"none\" stroke=\"black\" d=\"M218.09,-464.391C224.897,-452.916 232.316,-440.41 239.166,-428.863\"/>\n",
       "<polygon fill=\"black\" stroke=\"black\" points=\"242.182,-430.639 244.274,-420.252 236.162,-427.067 242.182,-430.639\"/>\n",
       "</g>\n",
       "<!-- 6 -->\n",
       "<g id=\"node7\" class=\"node\"><title>6</title>\n",
       "<path fill=\"#399de5\" stroke=\"black\" d=\"M100,-300C100,-300 12,-300 12,-300 6,-300 7.10543e-15,-294 7.10543e-15,-288 7.10543e-15,-288 7.10543e-15,-244 7.10543e-15,-244 7.10543e-15,-238 6,-232 12,-232 12,-232 100,-232 100,-232 106,-232 112,-238 112,-244 112,-244 112,-288 112,-288 112,-294 106,-300 100,-300\"/>\n",
       "<text text-anchor=\"start\" x=\"27\" y=\"-284.8\" font-family=\"Helvetica,sans-Serif\" font-size=\"14.00\">gini = 0.0</text>\n",
       "<text text-anchor=\"start\" x=\"18\" y=\"-269.8\" font-family=\"Helvetica,sans-Serif\" font-size=\"14.00\">samples = 2</text>\n",
       "<text text-anchor=\"start\" x=\"15.5\" y=\"-254.8\" font-family=\"Helvetica,sans-Serif\" font-size=\"14.00\">value = [0, 2]</text>\n",
       "<text text-anchor=\"start\" x=\"8\" y=\"-239.8\" font-family=\"Helvetica,sans-Serif\" font-size=\"14.00\">class = class_1</text>\n",
       "</g>\n",
       "<!-- 5&#45;&gt;6 -->\n",
       "<g id=\"edge6\" class=\"edge\"><title>5&#45;&gt;6</title>\n",
       "<path fill=\"none\" stroke=\"black\" d=\"M100.598,-344.391C94.0504,-333.029 86.9199,-320.655 80.3202,-309.203\"/>\n",
       "<polygon fill=\"black\" stroke=\"black\" points=\"83.1879,-307.169 75.1624,-300.252 77.1229,-310.664 83.1879,-307.169\"/>\n",
       "</g>\n",
       "<!-- 7 -->\n",
       "<g id=\"node8\" class=\"node\"><title>7</title>\n",
       "<path fill=\"#e58139\" fill-opacity=\"0.666667\" stroke=\"black\" d=\"M244,-307.5C244,-307.5 142,-307.5 142,-307.5 136,-307.5 130,-301.5 130,-295.5 130,-295.5 130,-236.5 130,-236.5 130,-230.5 136,-224.5 142,-224.5 142,-224.5 244,-224.5 244,-224.5 250,-224.5 256,-230.5 256,-236.5 256,-236.5 256,-295.5 256,-295.5 256,-301.5 250,-307.5 244,-307.5\"/>\n",
       "<text text-anchor=\"start\" x=\"138\" y=\"-292.3\" font-family=\"Helvetica,sans-Serif\" font-size=\"14.00\">feature_0 ≤ 0.004</text>\n",
       "<text text-anchor=\"start\" x=\"156.5\" y=\"-277.3\" font-family=\"Helvetica,sans-Serif\" font-size=\"14.00\">gini = 0.375</text>\n",
       "<text text-anchor=\"start\" x=\"155\" y=\"-262.3\" font-family=\"Helvetica,sans-Serif\" font-size=\"14.00\">samples = 4</text>\n",
       "<text text-anchor=\"start\" x=\"152.5\" y=\"-247.3\" font-family=\"Helvetica,sans-Serif\" font-size=\"14.00\">value = [3, 1]</text>\n",
       "<text text-anchor=\"start\" x=\"145\" y=\"-232.3\" font-family=\"Helvetica,sans-Serif\" font-size=\"14.00\">class = class_0</text>\n",
       "</g>\n",
       "<!-- 5&#45;&gt;7 -->\n",
       "<g id=\"edge7\" class=\"edge\"><title>5&#45;&gt;7</title>\n",
       "<path fill=\"none\" stroke=\"black\" d=\"M147.746,-344.391C153.004,-335.398 158.633,-325.772 164.072,-316.471\"/>\n",
       "<polygon fill=\"black\" stroke=\"black\" points=\"167.184,-318.083 169.21,-307.684 161.141,-314.55 167.184,-318.083\"/>\n",
       "</g>\n",
       "<!-- 8 -->\n",
       "<g id=\"node9\" class=\"node\"><title>8</title>\n",
       "<path fill=\"#e58139\" stroke=\"black\" d=\"M168,-180C168,-180 80,-180 80,-180 74,-180 68,-174 68,-168 68,-168 68,-124 68,-124 68,-118 74,-112 80,-112 80,-112 168,-112 168,-112 174,-112 180,-118 180,-124 180,-124 180,-168 180,-168 180,-174 174,-180 168,-180\"/>\n",
       "<text text-anchor=\"start\" x=\"95\" y=\"-164.8\" font-family=\"Helvetica,sans-Serif\" font-size=\"14.00\">gini = 0.0</text>\n",
       "<text text-anchor=\"start\" x=\"86\" y=\"-149.8\" font-family=\"Helvetica,sans-Serif\" font-size=\"14.00\">samples = 2</text>\n",
       "<text text-anchor=\"start\" x=\"83.5\" y=\"-134.8\" font-family=\"Helvetica,sans-Serif\" font-size=\"14.00\">value = [2, 0]</text>\n",
       "<text text-anchor=\"start\" x=\"76\" y=\"-119.8\" font-family=\"Helvetica,sans-Serif\" font-size=\"14.00\">class = class_0</text>\n",
       "</g>\n",
       "<!-- 7&#45;&gt;8 -->\n",
       "<g id=\"edge8\" class=\"edge\"><title>7&#45;&gt;8</title>\n",
       "<path fill=\"none\" stroke=\"black\" d=\"M169.254,-224.391C162.61,-213.029 155.375,-200.655 148.678,-189.203\"/>\n",
       "<polygon fill=\"black\" stroke=\"black\" points=\"151.513,-187.118 143.444,-180.252 145.471,-190.652 151.513,-187.118\"/>\n",
       "</g>\n",
       "<!-- 9 -->\n",
       "<g id=\"node10\" class=\"node\"><title>9</title>\n",
       "<path fill=\"none\" stroke=\"black\" d=\"M312,-187.5C312,-187.5 210,-187.5 210,-187.5 204,-187.5 198,-181.5 198,-175.5 198,-175.5 198,-116.5 198,-116.5 198,-110.5 204,-104.5 210,-104.5 210,-104.5 312,-104.5 312,-104.5 318,-104.5 324,-110.5 324,-116.5 324,-116.5 324,-175.5 324,-175.5 324,-181.5 318,-187.5 312,-187.5\"/>\n",
       "<text text-anchor=\"start\" x=\"206\" y=\"-172.3\" font-family=\"Helvetica,sans-Serif\" font-size=\"14.00\">feature_0 ≤ 0.023</text>\n",
       "<text text-anchor=\"start\" x=\"232\" y=\"-157.3\" font-family=\"Helvetica,sans-Serif\" font-size=\"14.00\">gini = 0.5</text>\n",
       "<text text-anchor=\"start\" x=\"223\" y=\"-142.3\" font-family=\"Helvetica,sans-Serif\" font-size=\"14.00\">samples = 2</text>\n",
       "<text text-anchor=\"start\" x=\"220.5\" y=\"-127.3\" font-family=\"Helvetica,sans-Serif\" font-size=\"14.00\">value = [1, 1]</text>\n",
       "<text text-anchor=\"start\" x=\"213\" y=\"-112.3\" font-family=\"Helvetica,sans-Serif\" font-size=\"14.00\">class = class_0</text>\n",
       "</g>\n",
       "<!-- 7&#45;&gt;9 -->\n",
       "<g id=\"edge9\" class=\"edge\"><title>7&#45;&gt;9</title>\n",
       "<path fill=\"none\" stroke=\"black\" d=\"M216.402,-224.391C221.584,-215.398 227.131,-205.772 232.491,-196.471\"/>\n",
       "<polygon fill=\"black\" stroke=\"black\" points=\"235.595,-198.096 237.555,-187.684 229.53,-194.601 235.595,-198.096\"/>\n",
       "</g>\n",
       "<!-- 10 -->\n",
       "<g id=\"node11\" class=\"node\"><title>10</title>\n",
       "<path fill=\"#399de5\" stroke=\"black\" d=\"M240,-68C240,-68 152,-68 152,-68 146,-68 140,-62 140,-56 140,-56 140,-12 140,-12 140,-6 146,-0 152,-0 152,-0 240,-0 240,-0 246,-0 252,-6 252,-12 252,-12 252,-56 252,-56 252,-62 246,-68 240,-68\"/>\n",
       "<text text-anchor=\"start\" x=\"167\" y=\"-52.8\" font-family=\"Helvetica,sans-Serif\" font-size=\"14.00\">gini = 0.0</text>\n",
       "<text text-anchor=\"start\" x=\"158\" y=\"-37.8\" font-family=\"Helvetica,sans-Serif\" font-size=\"14.00\">samples = 1</text>\n",
       "<text text-anchor=\"start\" x=\"155.5\" y=\"-22.8\" font-family=\"Helvetica,sans-Serif\" font-size=\"14.00\">value = [0, 1]</text>\n",
       "<text text-anchor=\"start\" x=\"148\" y=\"-7.8\" font-family=\"Helvetica,sans-Serif\" font-size=\"14.00\">class = class_1</text>\n",
       "</g>\n",
       "<!-- 9&#45;&gt;10 -->\n",
       "<g id=\"edge10\" class=\"edge\"><title>9&#45;&gt;10</title>\n",
       "<path fill=\"none\" stroke=\"black\" d=\"M236.981,-104.353C231.719,-95.4478 226.138,-86.0034 220.845,-77.0452\"/>\n",
       "<polygon fill=\"black\" stroke=\"black\" points=\"223.77,-75.1157 215.67,-68.287 217.744,-78.6768 223.77,-75.1157\"/>\n",
       "</g>\n",
       "<!-- 11 -->\n",
       "<g id=\"node12\" class=\"node\"><title>11</title>\n",
       "<path fill=\"#e58139\" stroke=\"black\" d=\"M370,-68C370,-68 282,-68 282,-68 276,-68 270,-62 270,-56 270,-56 270,-12 270,-12 270,-6 276,-0 282,-0 282,-0 370,-0 370,-0 376,-0 382,-6 382,-12 382,-12 382,-56 382,-56 382,-62 376,-68 370,-68\"/>\n",
       "<text text-anchor=\"start\" x=\"297\" y=\"-52.8\" font-family=\"Helvetica,sans-Serif\" font-size=\"14.00\">gini = 0.0</text>\n",
       "<text text-anchor=\"start\" x=\"288\" y=\"-37.8\" font-family=\"Helvetica,sans-Serif\" font-size=\"14.00\">samples = 1</text>\n",
       "<text text-anchor=\"start\" x=\"285.5\" y=\"-22.8\" font-family=\"Helvetica,sans-Serif\" font-size=\"14.00\">value = [1, 0]</text>\n",
       "<text text-anchor=\"start\" x=\"278\" y=\"-7.8\" font-family=\"Helvetica,sans-Serif\" font-size=\"14.00\">class = class_0</text>\n",
       "</g>\n",
       "<!-- 9&#45;&gt;11 -->\n",
       "<g id=\"edge11\" class=\"edge\"><title>9&#45;&gt;11</title>\n",
       "<path fill=\"none\" stroke=\"black\" d=\"M285.019,-104.353C290.281,-95.4478 295.862,-86.0034 301.155,-77.0452\"/>\n",
       "<polygon fill=\"black\" stroke=\"black\" points=\"304.256,-78.6768 306.33,-68.287 298.23,-75.1157 304.256,-78.6768\"/>\n",
       "</g>\n",
       "</g>\n",
       "</svg>\n"
      ],
      "text/plain": [
       "<graphviz.files.Source at 0x10ad43ad0>"
      ]
     },
     "execution_count": 206,
     "metadata": {},
     "output_type": "execute_result"
    }
   ],
   "source": [
    "import graphviz \n",
    "dot_data = tree.export_graphviz(clf, out_file=None, \n",
    "                         feature_names=[\"feature_\"+str(i) for i in range(D)],  \n",
    "                         class_names=[\"class_0\", \"class_1\"],  \n",
    "                         filled=True, rounded=True,  \n",
    "                         special_characters=True)  \n",
    "\n",
    "graph = graphviz.Source(dot_data)  \n",
    "graph "
   ]
  },
  {
   "cell_type": "code",
   "execution_count": 207,
   "metadata": {
    "scrolled": false
   },
   "outputs": [
    {
     "name": "stdout",
     "output_type": "stream",
     "text": [
      "node 0 1 2\n",
      "changing threshold node= 0 feature= 1\n",
      "left_child_distrib= [[  0.  44.]] 1\n",
      "right child distrib [[ 50.   6.]] 2\n",
      "43 [ 0.01  0.01  0.02  0.03  0.04  0.04  0.05  0.06  0.07  0.07  0.08  0.09\n",
      "  0.1   0.11  0.12  0.13  0.14  0.14  0.15  0.16  0.17  0.18  0.19  0.2\n",
      "  0.22  0.23  0.24  0.25  0.26  0.27  0.29  0.3   0.31  0.33  0.34  0.36\n",
      "  0.37  0.39  0.41  0.42  0.44  0.46  0.48  0.5   0.46  0.48  0.44  0.42\n",
      "  0.39  0.41  0.39  0.37  0.35  0.33  0.31  0.3   0.28  0.27  0.25  0.24\n",
      "  0.22  0.21  0.23  0.22  0.24  0.23  0.22  0.21  0.19  0.22  0.21  0.2\n",
      "  0.19  0.18  0.17  0.16  0.15  0.14  0.13  0.12  0.11  0.14  0.14  0.13\n",
      "  0.12  0.11  0.1   0.09  0.08  0.07  0.07  0.06  0.05  0.04  0.04  0.03\n",
      "  0.02  0.01  0.01] [ 0.9   0.9   0.91  0.91  0.91  0.92  0.92  0.92  0.93  0.93  0.93  0.94\n",
      "  0.94  0.94  0.94  0.95  0.95  0.95  0.96  0.96  0.96  0.96  0.97  0.97\n",
      "  0.97  0.97  0.98  0.98  0.98  0.98  0.98  0.99  0.99  0.99  0.99  0.99\n",
      "  0.99  1.    1.    1.    1.    1.    1.    1.    1.    1.    0.99  0.99\n",
      "  0.99  0.99  0.98  0.98  0.97  0.97  0.97  0.96  0.96  0.95  0.95  0.95\n",
      "  0.94  0.94  0.94  0.93  0.93  0.93  0.92  0.92  0.91  0.91  0.91  0.9\n",
      "  0.9   0.89  0.89  0.88  0.88  0.87  0.87  0.87  0.86  0.85  0.85  0.84\n",
      "  0.84  0.83  0.83  0.82  0.82  0.81  0.81  0.8   0.8   0.79  0.79  0.78\n",
      "  0.78  0.77  0.77] [-0.25 -0.23 -0.23 -0.21 -0.18 -0.18 -0.16 -0.16 -0.16 -0.15 -0.15 -0.11\n",
      " -0.09 -0.09 -0.08 -0.07 -0.07 -0.07 -0.07 -0.06 -0.05 -0.05 -0.04 -0.03\n",
      " -0.02 -0.02 -0.01 -0.    0.02  0.03  0.03  0.04  0.05  0.06  0.06  0.07\n",
      "  0.07  0.08  0.08  0.11  0.11  0.11  0.12  0.13  0.14  0.15  0.16  0.16\n",
      "  0.16  0.17  0.18  0.19  0.2   0.21  0.21  0.21  0.22  0.22  0.23  0.23\n",
      "  0.23  0.24  0.24  0.25  0.25  0.25  0.25  0.26  0.26  0.27  0.27  0.28\n",
      "  0.28  0.28  0.29  0.3   0.31  0.32  0.32  0.32  0.32  0.33  0.34  0.34\n",
      "  0.34  0.35  0.36  0.36  0.36  0.37  0.37  0.41  0.41  0.42  0.43  0.43\n",
      "  0.44  0.44  0.46  0.49]\n",
      "threshold selected 1 0.139332279559 DG  0.999999996828\n",
      "0 [ 0.01  0.01  0.02  0.03  0.04  0.04  0.05  0.06  0.07  0.07  0.08  0.09\n",
      "  0.1   0.11  0.12  0.13  0.14  0.14  0.15  0.16  0.17  0.18  0.19  0.2\n",
      "  0.22  0.23  0.24  0.25  0.26  0.27  0.29  0.3   0.31  0.33  0.34  0.36\n",
      "  0.37  0.39  0.41  0.42  0.44  0.46  0.48  0.5   0.46  0.48  0.44  0.42\n",
      "  0.39  0.41  0.39  0.37  0.35  0.33  0.31  0.3   0.28  0.27  0.25  0.24\n",
      "  0.22  0.21  0.23  0.22  0.24  0.23  0.22  0.21  0.19  0.22  0.21  0.2\n",
      "  0.19  0.18  0.17  0.16  0.15  0.14  0.13  0.12  0.11  0.14  0.14  0.13\n",
      "  0.12  0.11  0.1   0.09  0.08  0.07  0.07  0.06  0.05  0.04  0.04  0.03\n",
      "  0.02  0.01  0.01] [ 0.75  0.74  0.73  0.73  0.72  0.71  0.7   0.7   0.69  0.69  0.68  0.67\n",
      "  0.67  0.66  0.66  0.65  0.65  0.64  0.64  0.63  0.63  0.62  0.62  0.61\n",
      "  0.61  0.6   0.59  0.59  0.58  0.58  0.57  0.57  0.56  0.55  0.55  0.54\n",
      "  0.53  0.53  0.52  0.51  0.5   0.5   0.49  0.48  0.5   0.49  0.51  0.53\n",
      "  0.54  0.53  0.55  0.56  0.57  0.58  0.59  0.6   0.61  0.62  0.63  0.64\n",
      "  0.65  0.66  0.65  0.66  0.65  0.66  0.67  0.67  0.68  0.67  0.68  0.68\n",
      "  0.69  0.7   0.71  0.72  0.72  0.73  0.74  0.74  0.75  0.73  0.74  0.75\n",
      "  0.75  0.76  0.77  0.78  0.78  0.79  0.8   0.81  0.81  0.82  0.83  0.84\n",
      "  0.85  0.86  0.88] [-0.25 -0.23 -0.23 -0.21 -0.18 -0.18 -0.16 -0.16 -0.16 -0.15 -0.15 -0.11\n",
      " -0.09 -0.09 -0.08 -0.07 -0.07 -0.07 -0.07 -0.06 -0.05 -0.05 -0.04 -0.03\n",
      " -0.02 -0.02 -0.01 -0.    0.02  0.03  0.03  0.04  0.05  0.06  0.06  0.07\n",
      "  0.07  0.08  0.08  0.11  0.11  0.11  0.12  0.13  0.14  0.15  0.16  0.16\n",
      "  0.16  0.17  0.18  0.19  0.2   0.21  0.21  0.21  0.22  0.22  0.23  0.23\n",
      "  0.23  0.24  0.24  0.25  0.25  0.25  0.25  0.26  0.26  0.27  0.27  0.28\n",
      "  0.28  0.28  0.29  0.3   0.31  0.32  0.32  0.32  0.32  0.33  0.34  0.34\n",
      "  0.34  0.35  0.36  0.36  0.36  0.37  0.37  0.41  0.41  0.42  0.43  0.43\n",
      "  0.44  0.44  0.46  0.49]\n",
      "threshold selected 2 0.139332279559 DG  0.999999996828\n",
      "node 1 -1 -1\n",
      "node 2 3 14\n",
      "changing threshold node= 2 feature= 0\n",
      "left_child_distrib= [[ 5.  6.]] 3\n",
      "right child distrib [[ 45.   0.]] 14\n",
      "46 [  8.36e-08   8.40e-08   8.44e-08   8.48e-08   8.52e-08   8.57e-08\n",
      "   8.61e-08   8.65e-08   8.69e-08   8.73e-08   8.78e-08   8.82e-08\n",
      "   8.86e-08   4.13e-02   4.13e-02   8.59e-02   8.59e-02   8.59e-02\n",
      "   8.59e-02   5.32e-02   3.92e-02   3.92e-02   3.92e-02   3.92e-02\n",
      "   3.92e-02   3.92e-02   3.92e-02   7.67e-02   6.36e-02   6.36e-02\n",
      "   5.36e-02   5.36e-02   5.36e-02   5.36e-02   9.30e-02   9.30e-02\n",
      "   8.24e-02   8.24e-02   8.24e-02   1.31e-01   1.31e-01   1.31e-01\n",
      "   1.31e-01   1.31e-01   2.05e-01   2.05e-01   2.05e-01   1.92e-01\n",
      "   1.92e-01   1.80e-01   1.80e-01   1.80e-01   1.80e-01   1.80e-01\n",
      "   1.80e-01] [ 0.96  0.96  0.96  0.96  0.96  0.96  0.96  0.96  0.96  0.96  0.96  0.96\n",
      "  0.96  0.96  0.96  0.97  0.97  0.97  0.97  0.97  0.97  0.97  0.97  0.97\n",
      "  0.97  0.97  0.97  0.98  0.98  0.98  0.98  0.98  0.98  0.98  0.99  0.99\n",
      "  0.99  0.99  0.99  0.99  0.99  0.99  0.99  0.99  1.    1.    1.    1.    1.\n",
      "  1.    1.    1.    1.    1.    1.  ] [-0.22 -0.21 -0.16 -0.16 -0.12 -0.11 -0.1  -0.08 -0.07 -0.06 -0.06 -0.06\n",
      " -0.05 -0.05 -0.04 -0.04 -0.02 -0.02 -0.02 -0.02 -0.01 -0.01  0.    0.01\n",
      "  0.01  0.01  0.01  0.02  0.02  0.03  0.04  0.04  0.04  0.04  0.04  0.05\n",
      "  0.05  0.05  0.05  0.06  0.06  0.06  0.06  0.06  0.07  0.07  0.07  0.07\n",
      "  0.07  0.08  0.1   0.1   0.1   0.11  0.13  0.13  0.14  0.14  0.15  0.15\n",
      "  0.16  0.16  0.16  0.17  0.18  0.18  0.18  0.18  0.18  0.19  0.2   0.21\n",
      "  0.22  0.22  0.23  0.23  0.24  0.24  0.24  0.25  0.26  0.26  0.26  0.27\n",
      "  0.27  0.27  0.27  0.27  0.27  0.28  0.29  0.29  0.32  0.32  0.32  0.37\n",
      "  0.39  0.4   0.45  0.47]\n",
      "threshold selected 1 0.0699708036657 DG  0.999999997005\n",
      "0 [  1.07e-07   1.07e-07   1.07e-07   1.08e-07   1.08e-07   1.09e-07\n",
      "   1.09e-07   1.10e-07   1.10e-07   1.10e-07   1.11e-07   1.11e-07\n",
      "   1.12e-07   4.13e-02   4.13e-02   8.59e-02   8.59e-02   8.59e-02\n",
      "   8.59e-02   5.32e-02   3.92e-02   3.92e-02   3.92e-02   3.92e-02\n",
      "   3.92e-02   3.92e-02   3.92e-02   7.67e-02   6.36e-02   6.36e-02\n",
      "   5.36e-02   5.36e-02   5.36e-02   5.36e-02   9.30e-02   9.30e-02\n",
      "   8.24e-02   8.24e-02   8.24e-02   1.31e-01   1.31e-01   1.31e-01\n",
      "   1.31e-01   1.31e-01   2.05e-01   2.05e-01   2.05e-01   1.92e-01\n",
      "   1.92e-01   1.80e-01   1.80e-01   1.80e-01   1.80e-01   1.80e-01\n",
      "   1.80e-01] [ 0.82  0.82  0.82  0.82  0.82  0.82  0.82  0.82  0.82  0.82  0.82  0.82\n",
      "  0.82  0.77  0.77  0.73  0.73  0.73  0.73  0.76  0.77  0.77  0.77  0.77\n",
      "  0.77  0.77  0.77  0.74  0.75  0.75  0.76  0.76  0.76  0.76  0.73  0.73\n",
      "  0.74  0.74  0.74  0.7   0.7   0.7   0.7   0.7   0.65  0.65  0.65  0.67\n",
      "  0.67  0.68  0.68  0.68  0.68  0.68  0.68] [-0.22 -0.21 -0.16 -0.16 -0.12 -0.11 -0.1  -0.08 -0.07 -0.06 -0.06 -0.06\n",
      " -0.05 -0.05 -0.04 -0.04 -0.02 -0.02 -0.02 -0.02 -0.01 -0.01  0.    0.01\n",
      "  0.01  0.01  0.01  0.02  0.02  0.03  0.04  0.04  0.04  0.04  0.04  0.05\n",
      "  0.05  0.05  0.05  0.06  0.06  0.06  0.06  0.06  0.07  0.07  0.07  0.07\n",
      "  0.07  0.08  0.1   0.1   0.1   0.11  0.13  0.13  0.14  0.14  0.15  0.15\n",
      "  0.16  0.16  0.16  0.17  0.18  0.18  0.18  0.18  0.18  0.19  0.2   0.21\n",
      "  0.22  0.22  0.23  0.23  0.24  0.24  0.24  0.25  0.26  0.26  0.26  0.27\n",
      "  0.27  0.27  0.27  0.27  0.27  0.28  0.29  0.29  0.32  0.32  0.32  0.37\n",
      "  0.39  0.4   0.45  0.47]\n",
      "threshold selected 2 0.0699708036657 DG  0.999999997005\n",
      "node 3 4 13\n",
      "changing threshold node= 3 feature= 1\n",
      "left_child_distrib= [[ 3.  6.]] 4\n",
      "right child distrib [[ 2.  0.]] 13\n",
      "0 [  1.41e-07   1.42e-07   1.43e-07   1.45e-07   1.46e-07   1.47e-07\n",
      "   1.48e-07   1.50e-07   1.51e-07   1.52e-07] [ 0.68  0.68  0.68  0.68  0.68  0.68  0.68  0.68  0.68  0.68] [-0.25 -0.23 -0.23 -0.21 -0.18 -0.18 -0.16 -0.16 -0.16 -0.15 -0.15 -0.11\n",
      " -0.09 -0.09 -0.08 -0.07 -0.07 -0.07 -0.07 -0.06 -0.05 -0.05 -0.04 -0.03\n",
      " -0.02 -0.02 -0.01 -0.    0.02  0.03  0.03  0.04  0.05  0.06  0.06  0.07\n",
      "  0.07  0.08  0.08  0.11  0.11  0.11  0.12  0.13  0.14  0.15  0.16  0.16\n",
      "  0.16  0.17  0.18  0.19  0.2   0.21  0.21  0.21  0.22  0.22  0.23  0.23\n",
      "  0.23  0.24  0.24  0.25  0.25  0.25  0.25  0.26  0.26  0.27  0.27  0.28\n",
      "  0.28  0.28  0.29  0.3   0.31  0.32  0.32  0.32  0.32  0.33  0.34  0.34\n",
      "  0.34  0.35  0.36  0.36  0.36  0.37  0.37  0.41  0.41  0.42  0.43  0.43\n",
      "  0.44  0.44  0.46  0.49]\n",
      "threshold selected 1 -0.239908930193 DG  0.683424798647\n",
      "0 [  1.53e-07   1.55e-07   1.56e-07   1.57e-07   1.58e-07   1.60e-07\n",
      "   1.61e-07   1.62e-07   1.64e-07   1.65e-07] [ 0.99  0.99  0.99  0.99  0.99  0.99  0.99  0.99  0.99  0.99] [-0.25 -0.23 -0.23 -0.21 -0.18 -0.18 -0.16 -0.16 -0.16 -0.15 -0.15 -0.11\n",
      " -0.09 -0.09 -0.08 -0.07 -0.07 -0.07 -0.07 -0.06 -0.05 -0.05 -0.04 -0.03\n",
      " -0.02 -0.02 -0.01 -0.    0.02  0.03  0.03  0.04  0.05  0.06  0.06  0.07\n",
      "  0.07  0.08  0.08  0.11  0.11  0.11  0.12  0.13  0.14  0.15  0.16  0.16\n",
      "  0.16  0.17  0.18  0.19  0.2   0.21  0.21  0.21  0.22  0.22  0.23  0.23\n",
      "  0.23  0.24  0.24  0.25  0.25  0.25  0.25  0.26  0.26  0.27  0.27  0.28\n",
      "  0.28  0.28  0.29  0.3   0.31  0.32  0.32  0.32  0.32  0.33  0.34  0.34\n",
      "  0.34  0.35  0.36  0.36  0.36  0.37  0.37  0.41  0.41  0.42  0.43  0.43\n",
      "  0.44  0.44  0.46  0.49]\n",
      "threshold selected 2 -0.239908930193 DG  0.683424798647\n",
      "node 13 -1 -1\n",
      "node 4 5 12\n",
      "changing threshold node= 4 feature= 0\n",
      "left_child_distrib= [[ 3.  3.]] 5\n",
      "right child distrib [[ 0.  3.]] 12\n",
      "0 [-0.21 -0.21 -0.21 -0.21 -0.21 -0.21 -0.21 -0.21 -0.21 -0.21] [ 0.77  0.77  0.77  0.77  0.77  0.77  0.77  0.77  0.77  0.77] [-0.22 -0.21 -0.16 -0.16 -0.12 -0.11 -0.1  -0.08 -0.07 -0.06 -0.06 -0.06\n",
      " -0.05 -0.05 -0.04 -0.04 -0.02 -0.02 -0.02 -0.02 -0.01 -0.01  0.    0.01\n",
      "  0.01  0.01  0.01  0.02  0.02  0.03  0.04  0.04  0.04  0.04  0.04  0.05\n",
      "  0.05  0.05  0.05  0.06  0.06  0.06  0.06  0.06  0.07  0.07  0.07  0.07\n",
      "  0.07  0.08  0.1   0.1   0.1   0.11  0.13  0.13  0.14  0.14  0.15  0.15\n",
      "  0.16  0.16  0.16  0.17  0.18  0.18  0.18  0.18  0.18  0.19  0.2   0.21\n",
      "  0.22  0.22  0.23  0.23  0.24  0.24  0.24  0.25  0.26  0.26  0.26  0.27\n",
      "  0.27  0.27  0.27  0.27  0.27  0.28  0.29  0.29  0.32  0.32  0.32  0.37\n",
      "  0.39  0.4   0.45  0.47]\n",
      "threshold selected 1 -0.217202046654 DG  0.769084308302\n",
      "0 [-0.21 -0.21 -0.21 -0.21 -0.21 -0.21 -0.21 -0.21 -0.21 -0.21] [ 1.  1.  1.  1.  1.  1.  1.  1.  1.  1.] [-0.22 -0.21 -0.16 -0.16 -0.12 -0.11 -0.1  -0.08 -0.07 -0.06 -0.06 -0.06\n",
      " -0.05 -0.05 -0.04 -0.04 -0.02 -0.02 -0.02 -0.02 -0.01 -0.01  0.    0.01\n",
      "  0.01  0.01  0.01  0.02  0.02  0.03  0.04  0.04  0.04  0.04  0.04  0.05\n",
      "  0.05  0.05  0.05  0.06  0.06  0.06  0.06  0.06  0.07  0.07  0.07  0.07\n",
      "  0.07  0.08  0.1   0.1   0.1   0.11  0.13  0.13  0.14  0.14  0.15  0.15\n",
      "  0.16  0.16  0.16  0.17  0.18  0.18  0.18  0.18  0.18  0.19  0.2   0.21\n",
      "  0.22  0.22  0.23  0.23  0.24  0.24  0.24  0.25  0.26  0.26  0.26  0.27\n",
      "  0.27  0.27  0.27  0.27  0.27  0.28  0.29  0.29  0.32  0.32  0.32  0.37\n",
      "  0.39  0.4   0.45  0.47]\n",
      "threshold selected 2 -0.217202046654 DG  0.769084308302\n",
      "node 12 -1 -1\n",
      "node 5 6 7\n",
      "changing threshold node= 5 feature= 0\n",
      "left_child_distrib= [[ 0.  2.]] 6\n",
      "right child distrib [[ 3.  1.]] 7\n",
      "0 [-0.57 -0.57 -0.57 -0.57 -0.57 -0.57 -0.57 -0.57 -0.57 -0.57] [ 0.94  0.94  0.94  0.94  0.94  0.94  0.94  0.94  0.94  0.94] [-0.22 -0.21 -0.16 -0.16 -0.12 -0.11 -0.1  -0.08 -0.07 -0.06 -0.06 -0.06\n",
      " -0.05 -0.05 -0.04 -0.04 -0.02 -0.02 -0.02 -0.02 -0.01 -0.01  0.    0.01\n",
      "  0.01  0.01  0.01  0.02  0.02  0.03  0.04  0.04  0.04  0.04  0.04  0.05\n",
      "  0.05  0.05  0.05  0.06  0.06  0.06  0.06  0.06  0.07  0.07  0.07  0.07\n",
      "  0.07  0.08  0.1   0.1   0.1   0.11  0.13  0.13  0.14  0.14  0.15  0.15\n",
      "  0.16  0.16  0.16  0.17  0.18  0.18  0.18  0.18  0.18  0.19  0.2   0.21\n",
      "  0.22  0.22  0.23  0.23  0.24  0.24  0.24  0.25  0.26  0.26  0.26  0.27\n",
      "  0.27  0.27  0.27  0.27  0.27  0.28  0.29  0.29  0.32  0.32  0.32  0.37\n",
      "  0.39  0.4   0.45  0.47]\n",
      "threshold selected 1 -0.217202046654 DG  0.943954461975\n",
      "0 [-0.57 -0.57 -0.57 -0.57 -0.57 -0.57 -0.57 -0.57 -0.57 -0.57] [ 0.75  0.75  0.75  0.75  0.75  0.75  0.75  0.75  0.75  0.75] [-0.22 -0.21 -0.16 -0.16 -0.12 -0.11 -0.1  -0.08 -0.07 -0.06 -0.06 -0.06\n",
      " -0.05 -0.05 -0.04 -0.04 -0.02 -0.02 -0.02 -0.02 -0.01 -0.01  0.    0.01\n",
      "  0.01  0.01  0.01  0.02  0.02  0.03  0.04  0.04  0.04  0.04  0.04  0.05\n",
      "  0.05  0.05  0.05  0.06  0.06  0.06  0.06  0.06  0.07  0.07  0.07  0.07\n",
      "  0.07  0.08  0.1   0.1   0.1   0.11  0.13  0.13  0.14  0.14  0.15  0.15\n",
      "  0.16  0.16  0.16  0.17  0.18  0.18  0.18  0.18  0.18  0.19  0.2   0.21\n",
      "  0.22  0.22  0.23  0.23  0.24  0.24  0.24  0.25  0.26  0.26  0.26  0.27\n",
      "  0.27  0.27  0.27  0.27  0.27  0.28  0.29  0.29  0.32  0.32  0.32  0.37\n",
      "  0.39  0.4   0.45  0.47]\n",
      "threshold selected 2 -0.217202046654 DG  0.943954461975\n",
      "node 6 -1 -1\n",
      "node 7 8 9\n",
      "changing threshold node= 7 feature= 0\n",
      "left_child_distrib= [[ 2.  0.]] 8\n",
      "right child distrib [[ 1.  1.]] 9\n",
      "0 [-1.33 -1.33 -1.33 -1.33 -1.33 -1.33 -1.33 -1.33 -1.33 -1.33] [ 1.  1.  1.  1.  1.  1.  1.  1.  1.  1.] [-0.22 -0.21 -0.16 -0.16 -0.12 -0.11 -0.1  -0.08 -0.07 -0.06 -0.06 -0.06\n",
      " -0.05 -0.05 -0.04 -0.04 -0.02 -0.02 -0.02 -0.02 -0.01 -0.01  0.    0.01\n",
      "  0.01  0.01  0.01  0.02  0.02  0.03  0.04  0.04  0.04  0.04  0.04  0.05\n",
      "  0.05  0.05  0.05  0.06  0.06  0.06  0.06  0.06  0.07  0.07  0.07  0.07\n",
      "  0.07  0.08  0.1   0.1   0.1   0.11  0.13  0.13  0.14  0.14  0.15  0.15\n",
      "  0.16  0.16  0.16  0.17  0.18  0.18  0.18  0.18  0.18  0.19  0.2   0.21\n",
      "  0.22  0.22  0.23  0.23  0.24  0.24  0.24  0.25  0.26  0.26  0.26  0.27\n",
      "  0.27  0.27  0.27  0.27  0.27  0.28  0.29  0.29  0.32  0.32  0.32  0.37\n",
      "  0.39  0.4   0.45  0.47]\n",
      "threshold selected 1 -0.217202046654 DG  0.998467085795\n",
      "0 [-1.33 -1.33 -1.33 -1.33 -1.33 -1.33 -1.33 -1.33 -1.33 -1.33] [ 0.68  0.68  0.68  0.68  0.68  0.68  0.68  0.68  0.68  0.68] [-0.22 -0.21 -0.16 -0.16 -0.12 -0.11 -0.1  -0.08 -0.07 -0.06 -0.06 -0.06\n",
      " -0.05 -0.05 -0.04 -0.04 -0.02 -0.02 -0.02 -0.02 -0.01 -0.01  0.    0.01\n",
      "  0.01  0.01  0.01  0.02  0.02  0.03  0.04  0.04  0.04  0.04  0.04  0.05\n",
      "  0.05  0.05  0.05  0.06  0.06  0.06  0.06  0.06  0.07  0.07  0.07  0.07\n",
      "  0.07  0.08  0.1   0.1   0.1   0.11  0.13  0.13  0.14  0.14  0.15  0.15\n",
      "  0.16  0.16  0.16  0.17  0.18  0.18  0.18  0.18  0.18  0.19  0.2   0.21\n",
      "  0.22  0.22  0.23  0.23  0.24  0.24  0.24  0.25  0.26  0.26  0.26  0.27\n",
      "  0.27  0.27  0.27  0.27  0.27  0.28  0.29  0.29  0.32  0.32  0.32  0.37\n",
      "  0.39  0.4   0.45  0.47]\n",
      "threshold selected 2 -0.217202046654 DG  0.998467085795\n",
      "node 8 -1 -1\n",
      "node 9 10 11\n",
      "changing threshold node= 9 feature= 0\n",
      "left_child_distrib= [[ 0.  1.]] 10\n",
      "right child distrib [[ 1.  0.]] 11\n",
      "0 [-3.1 -3.1 -3.1 -3.1 -3.1 -3.1 -3.1 -3.1 -3.1 -3.1] [ 0.65  0.65  0.65  0.65  0.65  0.65  0.65  0.65  0.65  0.65] [-0.22 -0.21 -0.16 -0.16 -0.12 -0.11 -0.1  -0.08 -0.07 -0.06 -0.06 -0.06\n",
      " -0.05 -0.05 -0.04 -0.04 -0.02 -0.02 -0.02 -0.02 -0.01 -0.01  0.    0.01\n",
      "  0.01  0.01  0.01  0.02  0.02  0.03  0.04  0.04  0.04  0.04  0.04  0.05\n",
      "  0.05  0.05  0.05  0.06  0.06  0.06  0.06  0.06  0.07  0.07  0.07  0.07\n",
      "  0.07  0.08  0.1   0.1   0.1   0.11  0.13  0.13  0.14  0.14  0.15  0.15\n",
      "  0.16  0.16  0.16  0.17  0.18  0.18  0.18  0.18  0.18  0.19  0.2   0.21\n",
      "  0.22  0.22  0.23  0.23  0.24  0.24  0.24  0.25  0.26  0.26  0.26  0.27\n",
      "  0.27  0.27  0.27  0.27  0.27  0.28  0.29  0.29  0.32  0.32  0.32  0.37\n",
      "  0.39  0.4   0.45  0.47]\n",
      "threshold selected 1 -0.217202046654 DG  0.651358374939\n",
      "0 [-3.1 -3.1 -3.1 -3.1 -3.1 -3.1 -3.1 -3.1 -3.1 -3.1] [ 0.73  0.73  0.73  0.73  0.73  0.73  0.73  0.73  0.73  0.73] [-0.22 -0.21 -0.16 -0.16 -0.12 -0.11 -0.1  -0.08 -0.07 -0.06 -0.06 -0.06\n",
      " -0.05 -0.05 -0.04 -0.04 -0.02 -0.02 -0.02 -0.02 -0.01 -0.01  0.    0.01\n",
      "  0.01  0.01  0.01  0.02  0.02  0.03  0.04  0.04  0.04  0.04  0.04  0.05\n",
      "  0.05  0.05  0.05  0.06  0.06  0.06  0.06  0.06  0.07  0.07  0.07  0.07\n",
      "  0.07  0.08  0.1   0.1   0.1   0.11  0.13  0.13  0.14  0.14  0.15  0.15\n",
      "  0.16  0.16  0.16  0.17  0.18  0.18  0.18  0.18  0.18  0.19  0.2   0.21\n",
      "  0.22  0.22  0.23  0.23  0.24  0.24  0.24  0.25  0.26  0.26  0.26  0.27\n",
      "  0.27  0.27  0.27  0.27  0.27  0.28  0.29  0.29  0.32  0.32  0.32  0.37\n",
      "  0.39  0.4   0.45  0.47]\n",
      "threshold selected 2 -0.217202046654 DG  0.651358374939\n",
      "node 11 -1 -1\n",
      "node 10 -1 -1\n",
      "node 14 -1 -1\n"
     ]
    }
   ],
   "source": [
    "STRUT(clf,\n",
    "      0,\n",
    "      X,\n",
    "      Y)"
   ]
  },
  {
   "cell_type": "code",
   "execution_count": 208,
   "metadata": {},
   "outputs": [
    {
     "data": {
      "image/svg+xml": [
       "<?xml version=\"1.0\" encoding=\"UTF-8\" standalone=\"no\"?>\n",
       "<!DOCTYPE svg PUBLIC \"-//W3C//DTD SVG 1.1//EN\"\n",
       " \"http://www.w3.org/Graphics/SVG/1.1/DTD/svg11.dtd\">\n",
       "<!-- Generated by graphviz version 2.36.0 (20140111.2315)\n",
       " -->\n",
       "<!-- Title: Tree Pages: 1 -->\n",
       "<svg width=\"563pt\" height=\"916pt\"\n",
       " viewBox=\"0.00 0.00 563.00 916.00\" xmlns=\"http://www.w3.org/2000/svg\" xmlns:xlink=\"http://www.w3.org/1999/xlink\">\n",
       "<g id=\"graph0\" class=\"graph\" transform=\"scale(1 1) rotate(0) translate(4 912)\">\n",
       "<title>Tree</title>\n",
       "<polygon fill=\"white\" stroke=\"none\" points=\"-4,4 -4,-912 559,-912 559,4 -4,4\"/>\n",
       "<!-- 0 -->\n",
       "<g id=\"node1\" class=\"node\"><title>0</title>\n",
       "<path fill=\"none\" stroke=\"black\" d=\"M193,-907.5C193,-907.5 81,-907.5 81,-907.5 75,-907.5 69,-901.5 69,-895.5 69,-895.5 69,-836.5 69,-836.5 69,-830.5 75,-824.5 81,-824.5 81,-824.5 193,-824.5 193,-824.5 199,-824.5 205,-830.5 205,-836.5 205,-836.5 205,-895.5 205,-895.5 205,-901.5 199,-907.5 193,-907.5\"/>\n",
       "<text text-anchor=\"start\" x=\"82\" y=\"-892.3\" font-family=\"Helvetica,sans-Serif\" font-size=\"14.00\">feature_1 ≤ 0.139</text>\n",
       "<text text-anchor=\"start\" x=\"108\" y=\"-877.3\" font-family=\"Helvetica,sans-Serif\" font-size=\"14.00\">gini = 0.5</text>\n",
       "<text text-anchor=\"start\" x=\"91\" y=\"-862.3\" font-family=\"Helvetica,sans-Serif\" font-size=\"14.00\">samples = 100</text>\n",
       "<text text-anchor=\"start\" x=\"77\" y=\"-847.3\" font-family=\"Helvetica,sans-Serif\" font-size=\"14.00\">value = [50.0, 50.0]</text>\n",
       "<text text-anchor=\"start\" x=\"89\" y=\"-832.3\" font-family=\"Helvetica,sans-Serif\" font-size=\"14.00\">class = class_0</text>\n",
       "</g>\n",
       "<!-- 1 -->\n",
       "<g id=\"node2\" class=\"node\"><title>1</title>\n",
       "<path fill=\"#399de5\" stroke=\"black\" d=\"M116,-780C116,-780 12,-780 12,-780 6,-780 0,-774 0,-768 0,-768 0,-724 0,-724 0,-718 6,-712 12,-712 12,-712 116,-712 116,-712 122,-712 128,-718 128,-724 128,-724 128,-768 128,-768 128,-774 122,-780 116,-780\"/>\n",
       "<text text-anchor=\"start\" x=\"35\" y=\"-764.8\" font-family=\"Helvetica,sans-Serif\" font-size=\"14.00\">gini = 0.0</text>\n",
       "<text text-anchor=\"start\" x=\"22\" y=\"-749.8\" font-family=\"Helvetica,sans-Serif\" font-size=\"14.00\">samples = 44</text>\n",
       "<text text-anchor=\"start\" x=\"8\" y=\"-734.8\" font-family=\"Helvetica,sans-Serif\" font-size=\"14.00\">value = [0.0, 44.0]</text>\n",
       "<text text-anchor=\"start\" x=\"16\" y=\"-719.8\" font-family=\"Helvetica,sans-Serif\" font-size=\"14.00\">class = class_1</text>\n",
       "</g>\n",
       "<!-- 0&#45;&gt;1 -->\n",
       "<g id=\"edge1\" class=\"edge\"><title>0&#45;&gt;1</title>\n",
       "<path fill=\"none\" stroke=\"black\" d=\"M111.878,-824.391C104.779,-812.916 97.0417,-800.41 89.8981,-788.863\"/>\n",
       "<polygon fill=\"black\" stroke=\"black\" points=\"92.809,-786.915 84.5714,-780.252 86.856,-790.598 92.809,-786.915\"/>\n",
       "<text text-anchor=\"middle\" x=\"78.8383\" y=\"-800.886\" font-family=\"Helvetica,sans-Serif\" font-size=\"14.00\">True</text>\n",
       "</g>\n",
       "<!-- 2 -->\n",
       "<g id=\"node3\" class=\"node\"><title>2</title>\n",
       "<path fill=\"#e58139\" fill-opacity=\"0.878431\" stroke=\"black\" d=\"M262,-787.5C262,-787.5 158,-787.5 158,-787.5 152,-787.5 146,-781.5 146,-775.5 146,-775.5 146,-716.5 146,-716.5 146,-710.5 152,-704.5 158,-704.5 158,-704.5 262,-704.5 262,-704.5 268,-704.5 274,-710.5 274,-716.5 274,-716.5 274,-775.5 274,-775.5 274,-781.5 268,-787.5 262,-787.5\"/>\n",
       "<text text-anchor=\"start\" x=\"159\" y=\"-772.3\" font-family=\"Helvetica,sans-Serif\" font-size=\"14.00\">feature_0 ≤ 0.07</text>\n",
       "<text text-anchor=\"start\" x=\"173.5\" y=\"-757.3\" font-family=\"Helvetica,sans-Serif\" font-size=\"14.00\">gini = 0.191</text>\n",
       "<text text-anchor=\"start\" x=\"168\" y=\"-742.3\" font-family=\"Helvetica,sans-Serif\" font-size=\"14.00\">samples = 56</text>\n",
       "<text text-anchor=\"start\" x=\"154\" y=\"-727.3\" font-family=\"Helvetica,sans-Serif\" font-size=\"14.00\">value = [50.0, 6.0]</text>\n",
       "<text text-anchor=\"start\" x=\"162\" y=\"-712.3\" font-family=\"Helvetica,sans-Serif\" font-size=\"14.00\">class = class_0</text>\n",
       "</g>\n",
       "<!-- 0&#45;&gt;2 -->\n",
       "<g id=\"edge2\" class=\"edge\"><title>0&#45;&gt;2</title>\n",
       "<path fill=\"none\" stroke=\"black\" d=\"M162.122,-824.391C167.686,-815.398 173.641,-805.772 179.395,-796.471\"/>\n",
       "<polygon fill=\"black\" stroke=\"black\" points=\"182.547,-798.029 184.831,-787.684 176.594,-794.347 182.547,-798.029\"/>\n",
       "<text text-anchor=\"middle\" x=\"190.564\" y=\"-808.318\" font-family=\"Helvetica,sans-Serif\" font-size=\"14.00\">False</text>\n",
       "</g>\n",
       "<!-- 3 -->\n",
       "<g id=\"node4\" class=\"node\"><title>3</title>\n",
       "<path fill=\"#399de5\" fill-opacity=\"0.168627\" stroke=\"black\" d=\"M187.25,-667.5C187.25,-667.5 88.75,-667.5 88.75,-667.5 82.75,-667.5 76.75,-661.5 76.75,-655.5 76.75,-655.5 76.75,-596.5 76.75,-596.5 76.75,-590.5 82.75,-584.5 88.75,-584.5 88.75,-584.5 187.25,-584.5 187.25,-584.5 193.25,-584.5 199.25,-590.5 199.25,-596.5 199.25,-596.5 199.25,-655.5 199.25,-655.5 199.25,-661.5 193.25,-667.5 187.25,-667.5\"/>\n",
       "<text text-anchor=\"start\" x=\"84.5\" y=\"-652.3\" font-family=\"Helvetica,sans-Serif\" font-size=\"14.00\">feature_1 ≤ &#45;0.24</text>\n",
       "<text text-anchor=\"start\" x=\"101.5\" y=\"-637.3\" font-family=\"Helvetica,sans-Serif\" font-size=\"14.00\">gini = 0.496</text>\n",
       "<text text-anchor=\"start\" x=\"96\" y=\"-622.3\" font-family=\"Helvetica,sans-Serif\" font-size=\"14.00\">samples = 11</text>\n",
       "<text text-anchor=\"start\" x=\"86\" y=\"-607.3\" font-family=\"Helvetica,sans-Serif\" font-size=\"14.00\">value = [5.0, 6.0]</text>\n",
       "<text text-anchor=\"start\" x=\"90\" y=\"-592.3\" font-family=\"Helvetica,sans-Serif\" font-size=\"14.00\">class = class_1</text>\n",
       "</g>\n",
       "<!-- 2&#45;&gt;3 -->\n",
       "<g id=\"edge3\" class=\"edge\"><title>2&#45;&gt;3</title>\n",
       "<path fill=\"none\" stroke=\"black\" d=\"M185.222,-704.391C179.735,-695.398 173.861,-685.772 168.186,-676.471\"/>\n",
       "<polygon fill=\"black\" stroke=\"black\" points=\"171.02,-674.397 162.824,-667.684 165.045,-678.043 171.02,-674.397\"/>\n",
       "</g>\n",
       "<!-- 14 -->\n",
       "<g id=\"node15\" class=\"node\"><title>14</title>\n",
       "<path fill=\"#e58139\" stroke=\"black\" d=\"M334,-660C334,-660 230,-660 230,-660 224,-660 218,-654 218,-648 218,-648 218,-604 218,-604 218,-598 224,-592 230,-592 230,-592 334,-592 334,-592 340,-592 346,-598 346,-604 346,-604 346,-648 346,-648 346,-654 340,-660 334,-660\"/>\n",
       "<text text-anchor=\"start\" x=\"253\" y=\"-644.8\" font-family=\"Helvetica,sans-Serif\" font-size=\"14.00\">gini = 0.0</text>\n",
       "<text text-anchor=\"start\" x=\"240\" y=\"-629.8\" font-family=\"Helvetica,sans-Serif\" font-size=\"14.00\">samples = 45</text>\n",
       "<text text-anchor=\"start\" x=\"226\" y=\"-614.8\" font-family=\"Helvetica,sans-Serif\" font-size=\"14.00\">value = [45.0, 0.0]</text>\n",
       "<text text-anchor=\"start\" x=\"234\" y=\"-599.8\" font-family=\"Helvetica,sans-Serif\" font-size=\"14.00\">class = class_0</text>\n",
       "</g>\n",
       "<!-- 2&#45;&gt;14 -->\n",
       "<g id=\"edge14\" class=\"edge\"><title>2&#45;&gt;14</title>\n",
       "<path fill=\"none\" stroke=\"black\" d=\"M234.778,-704.391C241.78,-692.916 249.411,-680.41 256.457,-668.863\"/>\n",
       "<polygon fill=\"black\" stroke=\"black\" points=\"259.489,-670.612 261.71,-660.252 253.514,-666.966 259.489,-670.612\"/>\n",
       "</g>\n",
       "<!-- 13 -->\n",
       "<g id=\"node5\" class=\"node\"><title>13</title>\n",
       "<path fill=\"#e58139\" stroke=\"black\" d=\"M114,-540C114,-540 18,-540 18,-540 12,-540 6,-534 6,-528 6,-528 6,-484 6,-484 6,-478 12,-472 18,-472 18,-472 114,-472 114,-472 120,-472 126,-478 126,-484 126,-484 126,-528 126,-528 126,-534 120,-540 114,-540\"/>\n",
       "<text text-anchor=\"start\" x=\"37\" y=\"-524.8\" font-family=\"Helvetica,sans-Serif\" font-size=\"14.00\">gini = 0.0</text>\n",
       "<text text-anchor=\"start\" x=\"28\" y=\"-509.8\" font-family=\"Helvetica,sans-Serif\" font-size=\"14.00\">samples = 2</text>\n",
       "<text text-anchor=\"start\" x=\"14\" y=\"-494.8\" font-family=\"Helvetica,sans-Serif\" font-size=\"14.00\">value = [2.0, 0.0]</text>\n",
       "<text text-anchor=\"start\" x=\"18\" y=\"-479.8\" font-family=\"Helvetica,sans-Serif\" font-size=\"14.00\">class = class_0</text>\n",
       "</g>\n",
       "<!-- 3&#45;&gt;13 -->\n",
       "<g id=\"edge4\" class=\"edge\"><title>3&#45;&gt;13</title>\n",
       "<path fill=\"none\" stroke=\"black\" d=\"M113.222,-584.391C106.22,-572.916 98.5891,-560.41 91.5434,-548.863\"/>\n",
       "<polygon fill=\"black\" stroke=\"black\" points=\"94.486,-546.966 86.2896,-540.252 88.5106,-550.612 94.486,-546.966\"/>\n",
       "</g>\n",
       "<!-- 4 -->\n",
       "<g id=\"node6\" class=\"node\"><title>4</title>\n",
       "<path fill=\"#399de5\" fill-opacity=\"0.501961\" stroke=\"black\" d=\"M263.25,-547.5C263.25,-547.5 156.75,-547.5 156.75,-547.5 150.75,-547.5 144.75,-541.5 144.75,-535.5 144.75,-535.5 144.75,-476.5 144.75,-476.5 144.75,-470.5 150.75,-464.5 156.75,-464.5 156.75,-464.5 263.25,-464.5 263.25,-464.5 269.25,-464.5 275.25,-470.5 275.25,-476.5 275.25,-476.5 275.25,-535.5 275.25,-535.5 275.25,-541.5 269.25,-547.5 263.25,-547.5\"/>\n",
       "<text text-anchor=\"start\" x=\"152.5\" y=\"-532.3\" font-family=\"Helvetica,sans-Serif\" font-size=\"14.00\">feature_0 ≤ &#45;0.217</text>\n",
       "<text text-anchor=\"start\" x=\"173.5\" y=\"-517.3\" font-family=\"Helvetica,sans-Serif\" font-size=\"14.00\">gini = 0.444</text>\n",
       "<text text-anchor=\"start\" x=\"172\" y=\"-502.3\" font-family=\"Helvetica,sans-Serif\" font-size=\"14.00\">samples = 9</text>\n",
       "<text text-anchor=\"start\" x=\"158\" y=\"-487.3\" font-family=\"Helvetica,sans-Serif\" font-size=\"14.00\">value = [3.0, 6.0]</text>\n",
       "<text text-anchor=\"start\" x=\"162\" y=\"-472.3\" font-family=\"Helvetica,sans-Serif\" font-size=\"14.00\">class = class_1</text>\n",
       "</g>\n",
       "<!-- 3&#45;&gt;4 -->\n",
       "<g id=\"edge5\" class=\"edge\"><title>3&#45;&gt;4</title>\n",
       "<path fill=\"none\" stroke=\"black\" d=\"M162.778,-584.391C168.265,-575.398 174.139,-565.772 179.814,-556.471\"/>\n",
       "<polygon fill=\"black\" stroke=\"black\" points=\"182.955,-558.043 185.176,-547.684 176.98,-554.397 182.955,-558.043\"/>\n",
       "</g>\n",
       "<!-- 12 -->\n",
       "<g id=\"node7\" class=\"node\"><title>12</title>\n",
       "<path fill=\"#399de5\" stroke=\"black\" d=\"M186,-420C186,-420 90,-420 90,-420 84,-420 78,-414 78,-408 78,-408 78,-364 78,-364 78,-358 84,-352 90,-352 90,-352 186,-352 186,-352 192,-352 198,-358 198,-364 198,-364 198,-408 198,-408 198,-414 192,-420 186,-420\"/>\n",
       "<text text-anchor=\"start\" x=\"109\" y=\"-404.8\" font-family=\"Helvetica,sans-Serif\" font-size=\"14.00\">gini = 0.0</text>\n",
       "<text text-anchor=\"start\" x=\"100\" y=\"-389.8\" font-family=\"Helvetica,sans-Serif\" font-size=\"14.00\">samples = 3</text>\n",
       "<text text-anchor=\"start\" x=\"86\" y=\"-374.8\" font-family=\"Helvetica,sans-Serif\" font-size=\"14.00\">value = [0.0, 3.0]</text>\n",
       "<text text-anchor=\"start\" x=\"90\" y=\"-359.8\" font-family=\"Helvetica,sans-Serif\" font-size=\"14.00\">class = class_1</text>\n",
       "</g>\n",
       "<!-- 4&#45;&gt;12 -->\n",
       "<g id=\"edge6\" class=\"edge\"><title>4&#45;&gt;12</title>\n",
       "<path fill=\"none\" stroke=\"black\" d=\"M185.222,-464.391C178.22,-452.916 170.589,-440.41 163.543,-428.863\"/>\n",
       "<polygon fill=\"black\" stroke=\"black\" points=\"166.486,-426.966 158.29,-420.252 160.511,-430.612 166.486,-426.966\"/>\n",
       "</g>\n",
       "<!-- 5 -->\n",
       "<g id=\"node8\" class=\"node\"><title>5</title>\n",
       "<path fill=\"none\" stroke=\"black\" d=\"M335.25,-427.5C335.25,-427.5 228.75,-427.5 228.75,-427.5 222.75,-427.5 216.75,-421.5 216.75,-415.5 216.75,-415.5 216.75,-356.5 216.75,-356.5 216.75,-350.5 222.75,-344.5 228.75,-344.5 228.75,-344.5 335.25,-344.5 335.25,-344.5 341.25,-344.5 347.25,-350.5 347.25,-356.5 347.25,-356.5 347.25,-415.5 347.25,-415.5 347.25,-421.5 341.25,-427.5 335.25,-427.5\"/>\n",
       "<text text-anchor=\"start\" x=\"224.5\" y=\"-412.3\" font-family=\"Helvetica,sans-Serif\" font-size=\"14.00\">feature_0 ≤ &#45;0.217</text>\n",
       "<text text-anchor=\"start\" x=\"253\" y=\"-397.3\" font-family=\"Helvetica,sans-Serif\" font-size=\"14.00\">gini = 0.5</text>\n",
       "<text text-anchor=\"start\" x=\"244\" y=\"-382.3\" font-family=\"Helvetica,sans-Serif\" font-size=\"14.00\">samples = 6</text>\n",
       "<text text-anchor=\"start\" x=\"230\" y=\"-367.3\" font-family=\"Helvetica,sans-Serif\" font-size=\"14.00\">value = [3.0, 3.0]</text>\n",
       "<text text-anchor=\"start\" x=\"234\" y=\"-352.3\" font-family=\"Helvetica,sans-Serif\" font-size=\"14.00\">class = class_0</text>\n",
       "</g>\n",
       "<!-- 4&#45;&gt;5 -->\n",
       "<g id=\"edge7\" class=\"edge\"><title>4&#45;&gt;5</title>\n",
       "<path fill=\"none\" stroke=\"black\" d=\"M234.778,-464.391C240.265,-455.398 246.139,-445.772 251.814,-436.471\"/>\n",
       "<polygon fill=\"black\" stroke=\"black\" points=\"254.955,-438.043 257.176,-427.684 248.98,-434.397 254.955,-438.043\"/>\n",
       "</g>\n",
       "<!-- 6 -->\n",
       "<g id=\"node9\" class=\"node\"><title>6</title>\n",
       "<path fill=\"#399de5\" stroke=\"black\" d=\"M258,-300C258,-300 162,-300 162,-300 156,-300 150,-294 150,-288 150,-288 150,-244 150,-244 150,-238 156,-232 162,-232 162,-232 258,-232 258,-232 264,-232 270,-238 270,-244 270,-244 270,-288 270,-288 270,-294 264,-300 258,-300\"/>\n",
       "<text text-anchor=\"start\" x=\"181\" y=\"-284.8\" font-family=\"Helvetica,sans-Serif\" font-size=\"14.00\">gini = 0.0</text>\n",
       "<text text-anchor=\"start\" x=\"172\" y=\"-269.8\" font-family=\"Helvetica,sans-Serif\" font-size=\"14.00\">samples = 2</text>\n",
       "<text text-anchor=\"start\" x=\"158\" y=\"-254.8\" font-family=\"Helvetica,sans-Serif\" font-size=\"14.00\">value = [0.0, 2.0]</text>\n",
       "<text text-anchor=\"start\" x=\"162\" y=\"-239.8\" font-family=\"Helvetica,sans-Serif\" font-size=\"14.00\">class = class_1</text>\n",
       "</g>\n",
       "<!-- 5&#45;&gt;6 -->\n",
       "<g id=\"edge8\" class=\"edge\"><title>5&#45;&gt;6</title>\n",
       "<path fill=\"none\" stroke=\"black\" d=\"M257.222,-344.391C250.22,-332.916 242.589,-320.41 235.543,-308.863\"/>\n",
       "<polygon fill=\"black\" stroke=\"black\" points=\"238.486,-306.966 230.29,-300.252 232.511,-310.612 238.486,-306.966\"/>\n",
       "</g>\n",
       "<!-- 7 -->\n",
       "<g id=\"node10\" class=\"node\"><title>7</title>\n",
       "<path fill=\"#e58139\" fill-opacity=\"0.666667\" stroke=\"black\" d=\"M407.25,-307.5C407.25,-307.5 300.75,-307.5 300.75,-307.5 294.75,-307.5 288.75,-301.5 288.75,-295.5 288.75,-295.5 288.75,-236.5 288.75,-236.5 288.75,-230.5 294.75,-224.5 300.75,-224.5 300.75,-224.5 407.25,-224.5 407.25,-224.5 413.25,-224.5 419.25,-230.5 419.25,-236.5 419.25,-236.5 419.25,-295.5 419.25,-295.5 419.25,-301.5 413.25,-307.5 407.25,-307.5\"/>\n",
       "<text text-anchor=\"start\" x=\"296.5\" y=\"-292.3\" font-family=\"Helvetica,sans-Serif\" font-size=\"14.00\">feature_0 ≤ &#45;0.217</text>\n",
       "<text text-anchor=\"start\" x=\"317.5\" y=\"-277.3\" font-family=\"Helvetica,sans-Serif\" font-size=\"14.00\">gini = 0.375</text>\n",
       "<text text-anchor=\"start\" x=\"316\" y=\"-262.3\" font-family=\"Helvetica,sans-Serif\" font-size=\"14.00\">samples = 4</text>\n",
       "<text text-anchor=\"start\" x=\"302\" y=\"-247.3\" font-family=\"Helvetica,sans-Serif\" font-size=\"14.00\">value = [3.0, 1.0]</text>\n",
       "<text text-anchor=\"start\" x=\"306\" y=\"-232.3\" font-family=\"Helvetica,sans-Serif\" font-size=\"14.00\">class = class_0</text>\n",
       "</g>\n",
       "<!-- 5&#45;&gt;7 -->\n",
       "<g id=\"edge9\" class=\"edge\"><title>5&#45;&gt;7</title>\n",
       "<path fill=\"none\" stroke=\"black\" d=\"M306.778,-344.391C312.265,-335.398 318.139,-325.772 323.814,-316.471\"/>\n",
       "<polygon fill=\"black\" stroke=\"black\" points=\"326.955,-318.043 329.176,-307.684 320.98,-314.397 326.955,-318.043\"/>\n",
       "</g>\n",
       "<!-- 8 -->\n",
       "<g id=\"node11\" class=\"node\"><title>8</title>\n",
       "<path fill=\"#e58139\" stroke=\"black\" d=\"M330,-180C330,-180 234,-180 234,-180 228,-180 222,-174 222,-168 222,-168 222,-124 222,-124 222,-118 228,-112 234,-112 234,-112 330,-112 330,-112 336,-112 342,-118 342,-124 342,-124 342,-168 342,-168 342,-174 336,-180 330,-180\"/>\n",
       "<text text-anchor=\"start\" x=\"253\" y=\"-164.8\" font-family=\"Helvetica,sans-Serif\" font-size=\"14.00\">gini = 0.0</text>\n",
       "<text text-anchor=\"start\" x=\"244\" y=\"-149.8\" font-family=\"Helvetica,sans-Serif\" font-size=\"14.00\">samples = 2</text>\n",
       "<text text-anchor=\"start\" x=\"230\" y=\"-134.8\" font-family=\"Helvetica,sans-Serif\" font-size=\"14.00\">value = [2.0, 0.0]</text>\n",
       "<text text-anchor=\"start\" x=\"234\" y=\"-119.8\" font-family=\"Helvetica,sans-Serif\" font-size=\"14.00\">class = class_0</text>\n",
       "</g>\n",
       "<!-- 7&#45;&gt;8 -->\n",
       "<g id=\"edge10\" class=\"edge\"><title>7&#45;&gt;8</title>\n",
       "<path fill=\"none\" stroke=\"black\" d=\"M329.222,-224.391C322.22,-212.916 314.589,-200.41 307.543,-188.863\"/>\n",
       "<polygon fill=\"black\" stroke=\"black\" points=\"310.486,-186.966 302.29,-180.252 304.511,-190.612 310.486,-186.966\"/>\n",
       "</g>\n",
       "<!-- 9 -->\n",
       "<g id=\"node12\" class=\"node\"><title>9</title>\n",
       "<path fill=\"none\" stroke=\"black\" d=\"M479.25,-187.5C479.25,-187.5 372.75,-187.5 372.75,-187.5 366.75,-187.5 360.75,-181.5 360.75,-175.5 360.75,-175.5 360.75,-116.5 360.75,-116.5 360.75,-110.5 366.75,-104.5 372.75,-104.5 372.75,-104.5 479.25,-104.5 479.25,-104.5 485.25,-104.5 491.25,-110.5 491.25,-116.5 491.25,-116.5 491.25,-175.5 491.25,-175.5 491.25,-181.5 485.25,-187.5 479.25,-187.5\"/>\n",
       "<text text-anchor=\"start\" x=\"368.5\" y=\"-172.3\" font-family=\"Helvetica,sans-Serif\" font-size=\"14.00\">feature_0 ≤ &#45;0.217</text>\n",
       "<text text-anchor=\"start\" x=\"397\" y=\"-157.3\" font-family=\"Helvetica,sans-Serif\" font-size=\"14.00\">gini = 0.5</text>\n",
       "<text text-anchor=\"start\" x=\"388\" y=\"-142.3\" font-family=\"Helvetica,sans-Serif\" font-size=\"14.00\">samples = 2</text>\n",
       "<text text-anchor=\"start\" x=\"374\" y=\"-127.3\" font-family=\"Helvetica,sans-Serif\" font-size=\"14.00\">value = [1.0, 1.0]</text>\n",
       "<text text-anchor=\"start\" x=\"378\" y=\"-112.3\" font-family=\"Helvetica,sans-Serif\" font-size=\"14.00\">class = class_0</text>\n",
       "</g>\n",
       "<!-- 7&#45;&gt;9 -->\n",
       "<g id=\"edge11\" class=\"edge\"><title>7&#45;&gt;9</title>\n",
       "<path fill=\"none\" stroke=\"black\" d=\"M378.778,-224.391C384.265,-215.398 390.139,-205.772 395.814,-196.471\"/>\n",
       "<polygon fill=\"black\" stroke=\"black\" points=\"398.955,-198.043 401.176,-187.684 392.98,-194.397 398.955,-198.043\"/>\n",
       "</g>\n",
       "<!-- 11 -->\n",
       "<g id=\"node13\" class=\"node\"><title>11</title>\n",
       "<path fill=\"#e58139\" stroke=\"black\" d=\"M405,-68C405,-68 309,-68 309,-68 303,-68 297,-62 297,-56 297,-56 297,-12 297,-12 297,-6 303,-0 309,-0 309,-0 405,-0 405,-0 411,-0 417,-6 417,-12 417,-12 417,-56 417,-56 417,-62 411,-68 405,-68\"/>\n",
       "<text text-anchor=\"start\" x=\"328\" y=\"-52.8\" font-family=\"Helvetica,sans-Serif\" font-size=\"14.00\">gini = 0.0</text>\n",
       "<text text-anchor=\"start\" x=\"319\" y=\"-37.8\" font-family=\"Helvetica,sans-Serif\" font-size=\"14.00\">samples = 1</text>\n",
       "<text text-anchor=\"start\" x=\"305\" y=\"-22.8\" font-family=\"Helvetica,sans-Serif\" font-size=\"14.00\">value = [1.0, 0.0]</text>\n",
       "<text text-anchor=\"start\" x=\"309\" y=\"-7.8\" font-family=\"Helvetica,sans-Serif\" font-size=\"14.00\">class = class_0</text>\n",
       "</g>\n",
       "<!-- 9&#45;&gt;11 -->\n",
       "<g id=\"edge12\" class=\"edge\"><title>9&#45;&gt;11</title>\n",
       "<path fill=\"none\" stroke=\"black\" d=\"M400.503,-104.353C394.859,-95.3551 388.87,-85.8066 383.198,-76.7654\"/>\n",
       "<polygon fill=\"black\" stroke=\"black\" points=\"386.159,-74.8984 377.88,-68.287 380.229,-78.6182 386.159,-74.8984\"/>\n",
       "</g>\n",
       "<!-- 10 -->\n",
       "<g id=\"node14\" class=\"node\"><title>10</title>\n",
       "<path fill=\"#399de5\" stroke=\"black\" d=\"M543,-68C543,-68 447,-68 447,-68 441,-68 435,-62 435,-56 435,-56 435,-12 435,-12 435,-6 441,-0 447,-0 447,-0 543,-0 543,-0 549,-0 555,-6 555,-12 555,-12 555,-56 555,-56 555,-62 549,-68 543,-68\"/>\n",
       "<text text-anchor=\"start\" x=\"466\" y=\"-52.8\" font-family=\"Helvetica,sans-Serif\" font-size=\"14.00\">gini = 0.0</text>\n",
       "<text text-anchor=\"start\" x=\"457\" y=\"-37.8\" font-family=\"Helvetica,sans-Serif\" font-size=\"14.00\">samples = 1</text>\n",
       "<text text-anchor=\"start\" x=\"443\" y=\"-22.8\" font-family=\"Helvetica,sans-Serif\" font-size=\"14.00\">value = [0.0, 1.0]</text>\n",
       "<text text-anchor=\"start\" x=\"447\" y=\"-7.8\" font-family=\"Helvetica,sans-Serif\" font-size=\"14.00\">class = class_1</text>\n",
       "</g>\n",
       "<!-- 9&#45;&gt;10 -->\n",
       "<g id=\"edge13\" class=\"edge\"><title>9&#45;&gt;10</title>\n",
       "<path fill=\"none\" stroke=\"black\" d=\"M451.497,-104.353C457.141,-95.3551 463.13,-85.8066 468.802,-76.7654\"/>\n",
       "<polygon fill=\"black\" stroke=\"black\" points=\"471.771,-78.6182 474.12,-68.287 465.841,-74.8984 471.771,-78.6182\"/>\n",
       "</g>\n",
       "</g>\n",
       "</svg>\n"
      ],
      "text/plain": [
       "<graphviz.files.Source at 0x10ac60610>"
      ]
     },
     "execution_count": 208,
     "metadata": {},
     "output_type": "execute_result"
    }
   ],
   "source": [
    "import graphviz \n",
    "dot_data = tree.export_graphviz(clf, out_file=None, \n",
    "                         feature_names=[\"feature_\"+str(i) for i in range(D)],  \n",
    "                         class_names=[\"class_0\", \"class_1\"],  \n",
    "                         filled=True, rounded=True,  \n",
    "                         special_characters=True)  \n",
    "\n",
    "graph = graphviz.Source(dot_data)  \n",
    "graph "
   ]
  },
  {
   "cell_type": "code",
   "execution_count": 177,
   "metadata": {},
   "outputs": [
    {
     "data": {
      "text/plain": [
       "array([ 1, -2, -2])"
      ]
     },
     "execution_count": 177,
     "metadata": {},
     "output_type": "execute_result"
    }
   ],
   "source": [
    "clf.tree_.feature"
   ]
  },
  {
   "cell_type": "code",
   "execution_count": 178,
   "metadata": {},
   "outputs": [
    {
     "data": {
      "text/plain": [
       "array([ 0.47, -0.22, -0.22])"
      ]
     },
     "execution_count": 178,
     "metadata": {},
     "output_type": "execute_result"
    }
   ],
   "source": [
    "clf.tree_.threshold"
   ]
  },
  {
   "cell_type": "code",
   "execution_count": null,
   "metadata": {
    "collapsed": true
   },
   "outputs": [],
   "source": []
  }
 ],
 "metadata": {
  "kernelspec": {
   "display_name": "Python 2",
   "language": "python",
   "name": "python2"
  },
  "language_info": {
   "codemirror_mode": {
    "name": "ipython",
    "version": 2
   },
   "file_extension": ".py",
   "mimetype": "text/x-python",
   "name": "python",
   "nbconvert_exporter": "python",
   "pygments_lexer": "ipython2",
   "version": "2.7.11"
  }
 },
 "nbformat": 4,
 "nbformat_minor": 2
}
