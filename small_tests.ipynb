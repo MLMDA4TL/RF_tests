{
 "cells": [
  {
   "cell_type": "code",
   "execution_count": 90,
   "metadata": {
    "collapsed": true
   },
   "outputs": [],
   "source": [
    "%matplotlib inline"
   ]
  },
  {
   "cell_type": "code",
   "execution_count": 91,
   "metadata": {
    "collapsed": true
   },
   "outputs": [],
   "source": [
    "import numpy as np\n",
    "from sklearn import tree\n",
    "from sklearn.datasets import load_iris\n",
    "import matplotlib.pyplot as plt"
   ]
  },
  {
   "cell_type": "markdown",
   "metadata": {},
   "source": [
    "## Create test dataset"
   ]
  },
  {
   "cell_type": "code",
   "execution_count": 189,
   "metadata": {},
   "outputs": [],
   "source": [
    "dataset_length = 100\n",
    "D = 2\n",
    "X = np.random.randn(dataset_length,D)*0.1\n",
    "X[0:dataset_length/2,0] += 0.2\n",
    "X[0:dataset_length/2,1] += 1\n",
    "Y = np.ones(dataset_length)\n",
    "Y[0:dataset_length/2] *= 0"
   ]
  },
  {
   "cell_type": "code",
   "execution_count": 190,
   "metadata": {},
   "outputs": [
    {
     "data": {
      "text/plain": [
       "[<matplotlib.lines.Line2D at 0x10ad36fd0>]"
      ]
     },
     "execution_count": 190,
     "metadata": {},
     "output_type": "execute_result"
    },
    {
     "data": {
      "image/png": "[encoded data removed]",
      "text/plain": [
       "<matplotlib.figure.Figure at 0x10ac76390>"
      ]
     },
     "metadata": {},
     "output_type": "display_data"
    }
   ],
   "source": [
    "plt.plot(X[:,0],X[:,1],\"o\")"
   ]
  },
  {
   "cell_type": "markdown",
   "metadata": {},
   "source": [
    "## Create a Decision Tree trained on this dataset"
   ]
  },
  {
   "cell_type": "code",
   "execution_count": 191,
   "metadata": {
    "collapsed": true
   },
   "outputs": [],
   "source": [
    "clf = tree.DecisionTreeClassifier()\n",
    "clf = clf.fit(X, Y)"
   ]
  },
  {
   "cell_type": "code",
   "execution_count": 192,
   "metadata": {},
   "outputs": [
    {
     "data": {
      "image/svg+xml": [
       "<?xml version=\"1.0\" encoding=\"UTF-8\" standalone=\"no\"?>\n",
       "<!DOCTYPE svg PUBLIC \"-//W3C//DTD SVG 1.1//EN\"\n",
       " \"http://www.w3.org/Graphics/SVG/1.1/DTD/svg11.dtd\">\n",
       "<!-- Generated by graphviz version 2.36.0 (20140111.2315)\n",
       " -->\n",
       "<!-- Title: Tree Pages: 1 -->\n",
       "<svg width=\"250pt\" height=\"196pt\"\n",
       " viewBox=\"0.00 0.00 250.00 196.00\" xmlns=\"http://www.w3.org/2000/svg\" xmlns:xlink=\"http://www.w3.org/1999/xlink\">\n",
       "<g id=\"graph0\" class=\"graph\" transform=\"scale(1 1) rotate(0) translate(4 192)\">\n",
       "<title>Tree</title>\n",
       "<polygon fill=\"white\" stroke=\"none\" points=\"-4,4 -4,-192 246,-192 246,4 -4,4\"/>\n",
       "<!-- 0 -->\n",
       "<g id=\"node1\" class=\"node\"><title>0</title>\n",
       "<path fill=\"none\" stroke=\"black\" d=\"M172,-187.5C172,-187.5 70,-187.5 70,-187.5 64,-187.5 58,-181.5 58,-175.5 58,-175.5 58,-116.5 58,-116.5 58,-110.5 64,-104.5 70,-104.5 70,-104.5 172,-104.5 172,-104.5 178,-104.5 184,-110.5 184,-116.5 184,-116.5 184,-175.5 184,-175.5 184,-181.5 178,-187.5 172,-187.5\"/>\n",
       "<text text-anchor=\"start\" x=\"66\" y=\"-172.3\" font-family=\"Helvetica,sans-Serif\" font-size=\"14.00\">feature_1 ≤ 0.542</text>\n",
       "<text text-anchor=\"start\" x=\"92\" y=\"-157.3\" font-family=\"Helvetica,sans-Serif\" font-size=\"14.00\">gini = 0.5</text>\n",
       "<text text-anchor=\"start\" x=\"75\" y=\"-142.3\" font-family=\"Helvetica,sans-Serif\" font-size=\"14.00\">samples = 100</text>\n",
       "<text text-anchor=\"start\" x=\"72.5\" y=\"-127.3\" font-family=\"Helvetica,sans-Serif\" font-size=\"14.00\">value = [50, 50]</text>\n",
       "<text text-anchor=\"start\" x=\"73\" y=\"-112.3\" font-family=\"Helvetica,sans-Serif\" font-size=\"14.00\">class = class_0</text>\n",
       "</g>\n",
       "<!-- 1 -->\n",
       "<g id=\"node2\" class=\"node\"><title>1</title>\n",
       "<path fill=\"#399de5\" stroke=\"black\" d=\"M100,-68C100,-68 12,-68 12,-68 6,-68 7.10543e-15,-62 7.10543e-15,-56 7.10543e-15,-56 7.10543e-15,-12 7.10543e-15,-12 7.10543e-15,-6 6,-0 12,-0 12,-0 100,-0 100,-0 106,-0 112,-6 112,-12 112,-12 112,-56 112,-56 112,-62 106,-68 100,-68\"/>\n",
       "<text text-anchor=\"start\" x=\"27\" y=\"-52.8\" font-family=\"Helvetica,sans-Serif\" font-size=\"14.00\">gini = 0.0</text>\n",
       "<text text-anchor=\"start\" x=\"14\" y=\"-37.8\" font-family=\"Helvetica,sans-Serif\" font-size=\"14.00\">samples = 50</text>\n",
       "<text text-anchor=\"start\" x=\"11.5\" y=\"-22.8\" font-family=\"Helvetica,sans-Serif\" font-size=\"14.00\">value = [0, 50]</text>\n",
       "<text text-anchor=\"start\" x=\"8\" y=\"-7.8\" font-family=\"Helvetica,sans-Serif\" font-size=\"14.00\">class = class_1</text>\n",
       "</g>\n",
       "<!-- 0&#45;&gt;1 -->\n",
       "<g id=\"edge1\" class=\"edge\"><title>0&#45;&gt;1</title>\n",
       "<path fill=\"none\" stroke=\"black\" d=\"M96.9811,-104.353C91.7192,-95.4478 86.1384,-86.0034 80.8449,-77.0452\"/>\n",
       "<polygon fill=\"black\" stroke=\"black\" points=\"83.7702,-75.1157 75.6696,-68.287 77.7437,-78.6768 83.7702,-75.1157\"/>\n",
       "<text text-anchor=\"middle\" x=\"69.4435\" y=\"-88.7993\" font-family=\"Helvetica,sans-Serif\" font-size=\"14.00\">True</text>\n",
       "</g>\n",
       "<!-- 2 -->\n",
       "<g id=\"node3\" class=\"node\"><title>2</title>\n",
       "<path fill=\"#e58139\" stroke=\"black\" d=\"M230,-68C230,-68 142,-68 142,-68 136,-68 130,-62 130,-56 130,-56 130,-12 130,-12 130,-6 136,-0 142,-0 142,-0 230,-0 230,-0 236,-0 242,-6 242,-12 242,-12 242,-56 242,-56 242,-62 236,-68 230,-68\"/>\n",
       "<text text-anchor=\"start\" x=\"157\" y=\"-52.8\" font-family=\"Helvetica,sans-Serif\" font-size=\"14.00\">gini = 0.0</text>\n",
       "<text text-anchor=\"start\" x=\"144\" y=\"-37.8\" font-family=\"Helvetica,sans-Serif\" font-size=\"14.00\">samples = 50</text>\n",
       "<text text-anchor=\"start\" x=\"141.5\" y=\"-22.8\" font-family=\"Helvetica,sans-Serif\" font-size=\"14.00\">value = [50, 0]</text>\n",
       "<text text-anchor=\"start\" x=\"138\" y=\"-7.8\" font-family=\"Helvetica,sans-Serif\" font-size=\"14.00\">class = class_0</text>\n",
       "</g>\n",
       "<!-- 0&#45;&gt;2 -->\n",
       "<g id=\"edge2\" class=\"edge\"><title>0&#45;&gt;2</title>\n",
       "<path fill=\"none\" stroke=\"black\" d=\"M145.019,-104.353C150.281,-95.4478 155.862,-86.0034 161.155,-77.0452\"/>\n",
       "<polygon fill=\"black\" stroke=\"black\" points=\"164.256,-78.6768 166.33,-68.287 158.23,-75.1157 164.256,-78.6768\"/>\n",
       "<text text-anchor=\"middle\" x=\"172.556\" y=\"-88.7993\" font-family=\"Helvetica,sans-Serif\" font-size=\"14.00\">False</text>\n",
       "</g>\n",
       "</g>\n",
       "</svg>\n"
      ],
      "text/plain": [
       "<graphviz.files.Source at 0x10aca9710>"
      ]
     },
     "execution_count": 192,
     "metadata": {},
     "output_type": "execute_result"
    }
   ],
   "source": [
    "import graphviz \n",
    "dot_data = tree.export_graphviz(clf, out_file=None, \n",
    "                         feature_names=[\"feature_\"+str(i) for i in range(D)],  \n",
    "                         class_names=[\"class_0\", \"class_1\"],  \n",
    "                         filled=True, rounded=True,  \n",
    "                         special_characters=True)  \n",
    "\n",
    "graph = graphviz.Source(dot_data)  \n",
    "graph "
   ]
  },
  {
   "cell_type": "markdown",
   "metadata": {},
   "source": [
    "### Modify the threshold of the tree\n",
    "+ The first threshold is splitting the dataset along feature_1 at location 0.51\n",
    "+ Let us classify the point [0.1, 0.5]"
   ]
  },
  {
   "cell_type": "code",
   "execution_count": 7,
   "metadata": {},
   "outputs": [
    {
     "data": {
      "text/plain": [
       "array([ 0.51118094, -2.        , -2.        ])"
      ]
     },
     "execution_count": 7,
     "metadata": {},
     "output_type": "execute_result"
    }
   ],
   "source": [
    "clf.tree_.threshold"
   ]
  },
  {
   "cell_type": "code",
   "execution_count": 8,
   "metadata": {},
   "outputs": [
    {
     "data": {
      "text/plain": [
       "array([ 1.])"
      ]
     },
     "execution_count": 8,
     "metadata": {},
     "output_type": "execute_result"
    }
   ],
   "source": [
    "clf.predict(np.asarray([[0.1,0.5]]))"
   ]
  },
  {
   "cell_type": "code",
   "execution_count": 9,
   "metadata": {},
   "outputs": [
    {
     "data": {
      "text/plain": [
       "array([[1, 1, 0]])"
      ]
     },
     "execution_count": 9,
     "metadata": {},
     "output_type": "execute_result"
    }
   ],
   "source": [
    "clf.decision_path(np.asarray([[0.1,0.5]])).toarray()"
   ]
  },
  {
   "cell_type": "markdown",
   "metadata": {},
   "source": [
    "+ Let us modify the threshold and put it equal to 0\n",
    "+ Let us classify the same point"
   ]
  },
  {
   "cell_type": "code",
   "execution_count": 10,
   "metadata": {
    "collapsed": true
   },
   "outputs": [],
   "source": [
    "clf.tree_.threshold[0] = 0"
   ]
  },
  {
   "cell_type": "code",
   "execution_count": 11,
   "metadata": {},
   "outputs": [
    {
     "data": {
      "text/plain": [
       "array([ 0.])"
      ]
     },
     "execution_count": 11,
     "metadata": {},
     "output_type": "execute_result"
    }
   ],
   "source": [
    "clf.predict(np.asarray([[0.1,0.5]]))"
   ]
  },
  {
   "cell_type": "code",
   "execution_count": 12,
   "metadata": {},
   "outputs": [
    {
     "data": {
      "text/plain": [
       "array([[1, 0, 1]])"
      ]
     },
     "execution_count": 12,
     "metadata": {},
     "output_type": "execute_result"
    }
   ],
   "source": [
    "clf.decision_path(np.asarray([[0.1,0.5]])).toarray()"
   ]
  },
  {
   "cell_type": "markdown",
   "metadata": {},
   "source": [
    "## Conclusion\n",
    "Modifying the threshold outside the tree seems to work well :)"
   ]
  },
  {
   "cell_type": "markdown",
   "metadata": {},
   "source": [
    "## Let us access to important elements from the Decision Tree\n",
    "the object tree_ keeps the information describing the tree in lists, such that information contained at index $i$ corresponds to the node $i$ of the tree. The root of the tree is labeled 0. we can get the children's indexes using `children_left` or `children_right` arrays"
   ]
  },
  {
   "cell_type": "code",
   "execution_count": 55,
   "metadata": {},
   "outputs": [
    {
     "data": {
      "text/plain": [
       "array([ 1, -1, -1])"
      ]
     },
     "execution_count": 55,
     "metadata": {},
     "output_type": "execute_result"
    }
   ],
   "source": [
    "clf.tree_.children_left"
   ]
  },
  {
   "cell_type": "code",
   "execution_count": 56,
   "metadata": {},
   "outputs": [
    {
     "data": {
      "text/plain": [
       "array([ 2, -1, -1])"
      ]
     },
     "execution_count": 56,
     "metadata": {},
     "output_type": "execute_result"
    }
   ],
   "source": [
    "clf.tree_.children_right"
   ]
  },
  {
   "cell_type": "markdown",
   "metadata": {},
   "source": [
    "In this case, a leaf is simply a node $\\nu_i$ such that `clf.tree_.children_right[i] == -1` and `clf.tree_.children_left[i] ==1`"
   ]
  },
  {
   "cell_type": "markdown",
   "metadata": {},
   "source": [
    "+ The feature to split on is stored in list `feature`\n",
    "+ The thresholds in list `threshold`\n",
    "+ The number of training samples reaching the node are stored in `n_node_samples` \n",
    "+ The `decision_path` of the target dataset will be helpfull to re-attribute the instances\n",
    "+ The `value` list provides the number of elements from each class in the current node"
   ]
  },
  {
   "cell_type": "code",
   "execution_count": 15,
   "metadata": {},
   "outputs": [],
   "source": [
    "path = clf.decision_path(X[0:3,:])"
   ]
  },
  {
   "cell_type": "code",
   "execution_count": 16,
   "metadata": {},
   "outputs": [
    {
     "data": {
      "text/plain": [
       "array([[1, 0, 1],\n",
       "       [1, 0, 1],\n",
       "       [1, 0, 1]])"
      ]
     },
     "execution_count": 16,
     "metadata": {},
     "output_type": "execute_result"
    }
   ],
   "source": [
    "path.toarray()"
   ]
  },
  {
   "cell_type": "code",
   "execution_count": 22,
   "metadata": {},
   "outputs": [],
   "source": [
    "clf.tree_.value[0,:] = [10,10]"
   ]
  },
  {
   "cell_type": "code",
   "execution_count": 23,
   "metadata": {},
   "outputs": [
    {
     "data": {
      "text/plain": [
       "array([[[ 10.,  10.]],\n",
       "\n",
       "       [[  0.,  50.]],\n",
       "\n",
       "       [[ 50.,   0.]]])"
      ]
     },
     "execution_count": 23,
     "metadata": {},
     "output_type": "execute_result"
    }
   ],
   "source": [
    "clf.tree_.value"
   ]
  },
  {
   "cell_type": "code",
   "execution_count": 156,
   "metadata": {
    "collapsed": true
   },
   "outputs": [],
   "source": [
    "np.set_printoptions(precision=2)"
   ]
  },
  {
   "cell_type": "code",
   "execution_count": 441,
   "metadata": {},
   "outputs": [],
   "source": [
    "clf.tree_?"
   ]
  },
  {
   "cell_type": "markdown",
   "metadata": {},
   "source": [
    "# Create the STRUT algorithm step by step"
   ]
  },
  {
   "cell_type": "code",
   "execution_count": 621,
   "metadata": {},
   "outputs": [],
   "source": [
    "import sklearn\n",
    "def get_children_distributions(decisiontree,\n",
    "                               node_index):\n",
    "    tree = decisiontree.tree_\n",
    "    child_l = tree.children_left[node_index]\n",
    "    child_r = tree.children_right[node_index]\n",
    "    Q_source_l = tree.value[child_l]\n",
    "    Q_source_r = tree.value[child_r]\n",
    "    return [np.asarray(Q_source_l), np.asarray(Q_source_r)]\n",
    "                                              \n",
    "def get_node_distribution(decisiontree,\n",
    "                          node_index):\n",
    "    tree = decisiontree.tree_\n",
    "    Q = tree.value[node_index]\n",
    "    return np.asarray(Q)\n",
    "\n",
    "  \n",
    "def compute_class_distribution(classes,\n",
    "                               class_membership):\n",
    "    unique, counts = np.unique(class_membership, return_counts=True)\n",
    "    classes_counts = dict(zip(unique, counts))\n",
    "    classes_index = dict(zip(classes,range(len(classes))))\n",
    "    distribution = np.zeros(len(classes))\n",
    "    for label,count in classes_counts.iteritems():\n",
    "        class_index = classes_index[label]\n",
    "        distribution[class_index] = count\n",
    "    return distribution\n",
    "\n",
    "def KL_divergence(class_counts_P,\n",
    "                  class_counts_Q):\n",
    "    # KL Divergence to assess the difference between two distributions\n",
    "    # Definition: $D_{KL}(P||Q) = \\sum{i} P(i)ln(\\frac{P(i)}{Q(i)})$\n",
    "    # epsilon to avoid division by 0\n",
    "    epsilon = 1e-8\n",
    "    class_counts_P += epsilon\n",
    "    class_counts_Q += epsilon\n",
    "    P = class_counts_P * 1./ class_counts_P.sum()\n",
    "    Q = class_counts_Q * 1./ class_counts_Q.sum()\n",
    "    Dkl = (P * np.log(P * 1./ Q)).sum()\n",
    "    # another possibility is to use scipy.stats.entropy(P,Q) ... but this generates another dependency\n",
    "    return Dkl\n",
    "\n",
    "def H(class_counts):\n",
    "    # Entropy\n",
    "    # Definition: $H(P) = \\sum{i} -P(i) ln(P(i))$\n",
    "    epsilon = 1e-8\n",
    "    class_counts += epsilon\n",
    "    P = class_counts * 1./ class_counts.sum()\n",
    "    #print \"computing H\"\n",
    "    #print \"P\",class_counts,class_counts.sum()\n",
    "    #print \"H\", - (P * np.log(P)).sum()\n",
    "    return - (P * np.log(P)).sum()\n",
    "\n",
    "def IG(class_counts_parent,\n",
    "       class_counts_children):\n",
    "    # Information Gain\n",
    "    H_parent = H(class_counts_parent)\n",
    "    H_children = np.asarray([H(class_counts_child) for class_counts_child in class_counts_children])\n",
    "    N = class_counts_parent.sum()\n",
    "    #print \"class count parent\", class_counts_parent\n",
    "    #print \"class counts IG\", class_counts_children\n",
    "    p_children = np.asarray([class_counts_child.sum()*1./N for class_counts_child in class_counts_children])\n",
    "    information_gain = H_parent - (p_children * H_children).sum()\n",
    "    #print \"parent H\",H_parent\n",
    "    #print \"children H\", (p_children * H_children).sum()\n",
    "    #print \"compute information gain\",information_gain\n",
    "    return information_gain\n",
    "        \n",
    "def JSD(P,Q):\n",
    "    M = (P+Q) * 1./2\n",
    "    #print \"M\",M,\"P\",P,\"Q\",Q\n",
    "    Dkl_PM = KL_divergence(P,M)\n",
    "    Dkl_QM = KL_divergence(Q,M)\n",
    "    #print \"Dkl_PM\", Dkl_PM, \"Dkl_QM\", Dkl_QM\n",
    "    return (Dkl_PM + Dkl_QM) * 1./2\n",
    "\n",
    "def DG(Q_source_l,\n",
    "       Q_source_r,\n",
    "       Q_target_l,\n",
    "       Q_target_r):\n",
    "    # compute proportion of instances at left and right\n",
    "    p_l = Q_target_l.sum() \n",
    "    p_r = Q_target_r.sum() \n",
    "    total_counts = p_l + p_r\n",
    "    p_l /= total_counts\n",
    "    p_r /= total_counts\n",
    "    #print p_l, p_r, JSD(Q_target_l, Q_source_l), JSD(Q_target_r, Q_source_r)\n",
    "    # Compute the new distributions at right and left children\n",
    "   \n",
    "    # compute the DG\n",
    "    return 1. - p_l * JSD(Q_target_l, Q_source_l) - p_r * JSD(Q_target_r, Q_source_r)\n",
    "\n",
    "def compute_Q_children_target(X_target_node,\n",
    "                              Y_target_node,\n",
    "                              phi,\n",
    "                              threshold,\n",
    "                              classes):\n",
    "    # Split parent node target sample using the threshold provided\n",
    "    # instances <= threshold go to the left \n",
    "    # instances > threshold go to the right \n",
    "    decision_l = X_target_node[:,phi] <= threshold\n",
    "    decision_r = np.logical_not(decision_l)\n",
    "    Y_target_child_l = Y_target_node[decision_l]\n",
    "    Y_target_child_r = Y_target_node[decision_r]\n",
    "    Q_target_l = compute_class_distribution(classes, Y_target_child_l)\n",
    "    Q_target_r = compute_class_distribution(classes, Y_target_child_r) \n",
    "    return Q_target_l,Q_target_r\n",
    "\n",
    "\n",
    "def threshold_selection(Q_source_parent,\n",
    "                        Q_source_l,\n",
    "                        Q_source_r,\n",
    "                        X_target_node,\n",
    "                        Y_target_node,\n",
    "                        phi,\n",
    "                        classes):\n",
    "    # sort the corrdinates of X along phi\n",
    "    X_phi_sorted = np.sort(X_target_node[:,phi])\n",
    "    #print X_phi_sorted\n",
    "    nb_tested_thresholds = X_target_node.shape[0] - 1\n",
    "    measures_IG = np.zeros(nb_tested_thresholds)\n",
    "    measures_DG = np.zeros(nb_tested_thresholds)\n",
    "    for i in xrange(nb_tested_thresholds):\n",
    "        threshold = (X_phi_sorted[i] + X_phi_sorted[i+1]) * 1./2\n",
    "        Q_target_l,Q_target_r = compute_Q_children_target(X_target_node,\n",
    "                                                          Y_target_node,\n",
    "                                                          phi,\n",
    "                                                          threshold,\n",
    "                                                          classes)\n",
    "        \n",
    "        \n",
    "        measures_IG[i] = IG(Q_source_parent,\n",
    "                            [Q_target_l,Q_target_r])\n",
    "        measures_DG[i] = DG(Q_source_l,\n",
    "                            Q_source_r,\n",
    "                            Q_target_l,\n",
    "                            Q_target_r)\n",
    "    index = 0\n",
    "    for i in xrange(1,nb_tested_thresholds-1):\n",
    "        if measures_IG[i] >= measures_IG[i-1] and measures_IG[i] >= measures_IG[i+1] and measures_DG[i] > measures_DG[index]:\n",
    "            index = i\n",
    "    #print \"index\",index\n",
    "    #print \"IG\",measures_IG\n",
    "    #print \"DG\", measures_DG\n",
    "    threshold = (X_phi_sorted[index] + X_phi_sorted[index+1]) * 1./2\n",
    "    return threshold\n",
    "\n",
    "def prune_subtree(decisiontree,\n",
    "                  node_index):\n",
    "    tree = decisiontree.tree_\n",
    "    if tree.children_left[node_index] != -1:\n",
    "        prune_subtree(decisiontree,\n",
    "                      tree.children_left[node_index])\n",
    "        tree.children_left[node_index] = -1\n",
    "    if tree.children_right[node_index] != -1:\n",
    "        prune_subtree(decisiontree,\n",
    "                      tree.children_right[node_index])\n",
    "        tree.children_right[node_index] = -1\n",
    "\n",
    "def GINI(class_distribution):\n",
    "    p = class_distribution / class_distribution.sum()\n",
    "    return 1 - (p**2).sum()\n",
    "        \n",
    "def STRUT(decisiontree,\n",
    "          node_index,\n",
    "          X_target_node,\n",
    "          Y_target_node):\n",
    "    tree = decisiontree.tree_\n",
    "    phi = tree.feature[node_index]\n",
    "    classes = decisiontree.classes_\n",
    "    threshold = tree.threshold[node_index]\n",
    "    current_class_distribution = compute_class_distribution(classes,Y_target_node)\n",
    "    tree.weighted_n_node_samples[node_index] = Y_target_node.size\n",
    "    tree.value[node_index] = current_class_distribution\n",
    "    tree.impurity[node_index] = GINI(current_class_distribution)\n",
    "    print \" \"\n",
    "    print \"STRUT: node\", node_index, \"phi: \", phi ,\"child left:\", tree.children_left[node_index],\"child right:\", tree.children_right[node_index]\n",
    "    print \"distribution:\", current_class_distribution\n",
    "    \n",
    "    tree.n_node_samples[node_index] = Y_target_node.size\n",
    "    # If it is a leaf one, exit\n",
    "    if tree.children_left[node_index] == -1 and tree.children_right[node_index] == -1:\n",
    "        # Here we need to update the information of the leaf\n",
    "        print \"old leaf\"\n",
    "        return 0\n",
    "    \n",
    "    # Only one class is present in the node\n",
    "    if (current_class_distribution > 0).sum() == 1 :\n",
    "        # Prune unreachable subtree\n",
    "        print \"new leaf, unreachable subtree\",tree.children_left[node_index] , tree.children_right[node_index] \n",
    "        prune_subtree(decisiontree,\n",
    "                      node_index)\n",
    "        tree.feature[node_index] = -2\n",
    "        if Y_target_node.size >0:\n",
    "            print \"!!!!!!\"\n",
    "            #tree.value[node_index] = np.asarray([compute_class_distribution(classes,Y_target_node)])\n",
    "        return 0\n",
    "    \n",
    "    #tree.value[node_index] = compute_class_distribution(classes,Y_target_node)\n",
    "    if type(threshold) is np.float64:\n",
    "        # update threshold  \n",
    "        print \"changing threshold\", \"node=\", node_index, \"feature=\", phi, \"threshold=\", threshold\n",
    "        Q_source_l,Q_source_r = get_children_distributions(decisiontree,\n",
    "                                                           node_index)\n",
    "        Q_source_parent = get_node_distribution(decisiontree,\n",
    "                                                node_index)\n",
    "        #print \"left_child_distrib=\",Q_source_l,tree.children_left[node_index]\n",
    "        #print \"right child distrib\", Q_source_r,tree.children_right[node_index]\n",
    "        t1 = threshold_selection(Q_source_parent,\n",
    "                                 Q_source_l,\n",
    "                                 Q_source_r,\n",
    "                                 X_target_node,\n",
    "                                 Y_target_node,\n",
    "                                 phi,\n",
    "                                 classes)\n",
    "        Q_target_l,Q_target_r = compute_Q_children_target(X_target_node,\n",
    "                                                          Y_target_node,\n",
    "                                                          phi,\n",
    "                                                          t1,\n",
    "                                                          classes)\n",
    "        DG_t1 = DG(Q_source_l,\n",
    "                   Q_source_r,\n",
    "                   Q_target_l,\n",
    "                   Q_target_r)\n",
    "        print \"threshold selected 1\", t1, \"DG \",DG_t1\n",
    "        t2 = threshold_selection(Q_source_parent,\n",
    "                                 Q_source_r,\n",
    "                                 Q_source_l,\n",
    "                                 X_target_node,\n",
    "                                 Y_target_node,\n",
    "                                 phi,\n",
    "                                 classes)\n",
    "        Q_target_l,Q_target_r = compute_Q_children_target(X_target_node,\n",
    "                                                          Y_target_node,\n",
    "                                                          phi,\n",
    "                                                          t2,\n",
    "                                                          classes)\n",
    "        DG_t2 = DG(Q_source_r,\n",
    "                   Q_source_l,\n",
    "                   Q_target_l,\n",
    "                   Q_target_r)\n",
    "        print \"threshold selected 2\", t1, \"DG \",DG_t1\n",
    "        if DG_t1 >= DG_t2:\n",
    "            tree.threshold[node_index] = t1\n",
    "        else:\n",
    "            tree.threshold[node_index] = t2\n",
    "            # swap children\n",
    "            old_child_r_id = tree.children_right[node_index]\n",
    "            tree.children_right[node_index] = tree.children_left[node_index]\n",
    "            tree.children_left[node_index] = old_child_r_id\n",
    "    ###### beware it may not work for not numerical data\n",
    "    \n",
    "    if tree.children_left[node_index] != -1:\n",
    "        threshold = tree.threshold[node_index]\n",
    "        index_X_child_l = X_target_node[:,phi] <= threshold\n",
    "        X_target_child_l = X_target_node[index_X_child_l,:]\n",
    "        Y_target_child_l = Y_target_node[index_X_child_l]\n",
    "        STRUT(decisiontree,\n",
    "              tree.children_left[node_index],\n",
    "              X_target_child_l,\n",
    "              Y_target_child_l)        \n",
    "                \n",
    "    if tree.children_right[node_index] != -1:\n",
    "        threshold = tree.threshold[node_index]\n",
    "        index_X_child_r = X_target_node[:,phi] > threshold\n",
    "        X_target_child_r = X_target_node[index_X_child_r,:]\n",
    "        Y_target_child_r = Y_target_node[index_X_child_r]\n",
    "        STRUT(decisiontree,\n",
    "              tree.children_right[node_index],\n",
    "              X_target_child_r,\n",
    "              Y_target_child_r)\n"
   ]
  },
  {
   "cell_type": "code",
   "execution_count": 630,
   "metadata": {
    "collapsed": true
   },
   "outputs": [],
   "source": [
    "dataset_length = 100\n",
    "D = 2\n",
    "X = np.random.randn(dataset_length,D)*0.1\n",
    "X[0:dataset_length/2,0] += 0.1\n",
    "X[0:dataset_length/2,0] += 0.2\n",
    "Y = np.ones(dataset_length)\n",
    "Y[0:dataset_length/2] *= 0\n",
    "\n",
    "clf = tree.DecisionTreeClassifier()\n",
    "clf = clf.fit(X, Y)"
   ]
  },
  {
   "cell_type": "code",
   "execution_count": 631,
   "metadata": {},
   "outputs": [
    {
     "data": {
      "image/png": "[encoded data removed]",
      "text/plain": [
       "<matplotlib.figure.Figure at 0x10f899710>"
      ]
     },
     "metadata": {},
     "output_type": "display_data"
    }
   ],
   "source": [
    "plt.plot(X[0:dataset_length/2,0],X[0:dataset_length/2,1],\"ro\")\n",
    "plt.plot(X[dataset_length/2:,0],X[dataset_length/2:,1],\"bo\")\n",
    "for node,feature in enumerate(clf.tree_.feature):\n",
    "    if feature ==0:\n",
    "        plt.axvline(x = clf.tree_.threshold[node])\n",
    "    elif feature == 1:\n",
    "        plt.axhline(y = clf.tree_.threshold[node])\n",
    "        "
   ]
  },
  {
   "cell_type": "code",
   "execution_count": 632,
   "metadata": {},
   "outputs": [
    {
     "data": {
      "image/svg+xml": [
       "<?xml version=\"1.0\" encoding=\"UTF-8\" standalone=\"no\"?>\n",
       "<!DOCTYPE svg PUBLIC \"-//W3C//DTD SVG 1.1//EN\"\n",
       " \"http://www.w3.org/Graphics/SVG/1.1/DTD/svg11.dtd\">\n",
       "<!-- Generated by graphviz version 2.36.0 (20140111.2315)\n",
       " -->\n",
       "<!-- Title: Tree Pages: 1 -->\n",
       "<svg width=\"607pt\" height=\"916pt\"\n",
       " viewBox=\"0.00 0.00 607.00 916.00\" xmlns=\"http://www.w3.org/2000/svg\" xmlns:xlink=\"http://www.w3.org/1999/xlink\">\n",
       "<g id=\"graph0\" class=\"graph\" transform=\"scale(1 1) rotate(0) translate(4 912)\">\n",
       "<title>Tree</title>\n",
       "<polygon fill=\"white\" stroke=\"none\" points=\"-4,4 -4,-912 603,-912 603,4 -4,4\"/>\n",
       "<!-- 0 -->\n",
       "<g id=\"node1\" class=\"node\"><title>0</title>\n",
       "<path fill=\"none\" stroke=\"black\" d=\"M383,-907.5C383,-907.5 281,-907.5 281,-907.5 275,-907.5 269,-901.5 269,-895.5 269,-895.5 269,-836.5 269,-836.5 269,-830.5 275,-824.5 281,-824.5 281,-824.5 383,-824.5 383,-824.5 389,-824.5 395,-830.5 395,-836.5 395,-836.5 395,-895.5 395,-895.5 395,-901.5 389,-907.5 383,-907.5\"/>\n",
       "<text text-anchor=\"start\" x=\"277\" y=\"-892.3\" font-family=\"Helvetica,sans-Serif\" font-size=\"14.00\">feature_0 ≤ 0.157</text>\n",
       "<text text-anchor=\"start\" x=\"303\" y=\"-877.3\" font-family=\"Helvetica,sans-Serif\" font-size=\"14.00\">gini = 0.5</text>\n",
       "<text text-anchor=\"start\" x=\"286\" y=\"-862.3\" font-family=\"Helvetica,sans-Serif\" font-size=\"14.00\">samples = 100</text>\n",
       "<text text-anchor=\"start\" x=\"283.5\" y=\"-847.3\" font-family=\"Helvetica,sans-Serif\" font-size=\"14.00\">value = [50, 50]</text>\n",
       "<text text-anchor=\"start\" x=\"284\" y=\"-832.3\" font-family=\"Helvetica,sans-Serif\" font-size=\"14.00\">class = class_0</text>\n",
       "</g>\n",
       "<!-- 1 -->\n",
       "<g id=\"node2\" class=\"node\"><title>1</title>\n",
       "<path fill=\"#399de5\" fill-opacity=\"0.956863\" stroke=\"black\" d=\"M310,-787.5C310,-787.5 208,-787.5 208,-787.5 202,-787.5 196,-781.5 196,-775.5 196,-775.5 196,-716.5 196,-716.5 196,-710.5 202,-704.5 208,-704.5 208,-704.5 310,-704.5 310,-704.5 316,-704.5 322,-710.5 322,-716.5 322,-716.5 322,-775.5 322,-775.5 322,-781.5 316,-787.5 310,-787.5\"/>\n",
       "<text text-anchor=\"start\" x=\"204\" y=\"-772.3\" font-family=\"Helvetica,sans-Serif\" font-size=\"14.00\">feature_0 ≤ 0.096</text>\n",
       "<text text-anchor=\"start\" x=\"226.5\" y=\"-757.3\" font-family=\"Helvetica,sans-Serif\" font-size=\"14.00\">gini = 0.08</text>\n",
       "<text text-anchor=\"start\" x=\"217\" y=\"-742.3\" font-family=\"Helvetica,sans-Serif\" font-size=\"14.00\">samples = 48</text>\n",
       "<text text-anchor=\"start\" x=\"214.5\" y=\"-727.3\" font-family=\"Helvetica,sans-Serif\" font-size=\"14.00\">value = [2, 46]</text>\n",
       "<text text-anchor=\"start\" x=\"211\" y=\"-712.3\" font-family=\"Helvetica,sans-Serif\" font-size=\"14.00\">class = class_1</text>\n",
       "</g>\n",
       "<!-- 0&#45;&gt;1 -->\n",
       "<g id=\"edge1\" class=\"edge\"><title>0&#45;&gt;1</title>\n",
       "<path fill=\"none\" stroke=\"black\" d=\"M306.878,-824.391C301.314,-815.398 295.359,-805.772 289.605,-796.471\"/>\n",
       "<polygon fill=\"black\" stroke=\"black\" points=\"292.406,-794.347 284.169,-787.684 286.453,-798.029 292.406,-794.347\"/>\n",
       "<text text-anchor=\"middle\" x=\"278.436\" y=\"-808.318\" font-family=\"Helvetica,sans-Serif\" font-size=\"14.00\">True</text>\n",
       "</g>\n",
       "<!-- 8 -->\n",
       "<g id=\"node9\" class=\"node\"><title>8</title>\n",
       "<path fill=\"#e58139\" fill-opacity=\"0.917647\" stroke=\"black\" d=\"M457,-787.5C457,-787.5 355,-787.5 355,-787.5 349,-787.5 343,-781.5 343,-775.5 343,-775.5 343,-716.5 343,-716.5 343,-710.5 349,-704.5 355,-704.5 355,-704.5 457,-704.5 457,-704.5 463,-704.5 469,-710.5 469,-716.5 469,-716.5 469,-775.5 469,-775.5 469,-781.5 463,-787.5 457,-787.5\"/>\n",
       "<text text-anchor=\"start\" x=\"351\" y=\"-772.3\" font-family=\"Helvetica,sans-Serif\" font-size=\"14.00\">feature_1 ≤ 0.181</text>\n",
       "<text text-anchor=\"start\" x=\"369.5\" y=\"-757.3\" font-family=\"Helvetica,sans-Serif\" font-size=\"14.00\">gini = 0.142</text>\n",
       "<text text-anchor=\"start\" x=\"364\" y=\"-742.3\" font-family=\"Helvetica,sans-Serif\" font-size=\"14.00\">samples = 52</text>\n",
       "<text text-anchor=\"start\" x=\"361.5\" y=\"-727.3\" font-family=\"Helvetica,sans-Serif\" font-size=\"14.00\">value = [48, 4]</text>\n",
       "<text text-anchor=\"start\" x=\"358\" y=\"-712.3\" font-family=\"Helvetica,sans-Serif\" font-size=\"14.00\">class = class_0</text>\n",
       "</g>\n",
       "<!-- 0&#45;&gt;8 -->\n",
       "<g id=\"edge8\" class=\"edge\"><title>0&#45;&gt;8</title>\n",
       "<path fill=\"none\" stroke=\"black\" d=\"M357.467,-824.391C363.164,-815.306 369.267,-805.574 375.156,-796.183\"/>\n",
       "<polygon fill=\"black\" stroke=\"black\" points=\"378.139,-798.015 380.486,-787.684 372.208,-794.296 378.139,-798.015\"/>\n",
       "<text text-anchor=\"middle\" x=\"386.071\" y=\"-808.352\" font-family=\"Helvetica,sans-Serif\" font-size=\"14.00\">False</text>\n",
       "</g>\n",
       "<!-- 2 -->\n",
       "<g id=\"node3\" class=\"node\"><title>2</title>\n",
       "<path fill=\"#399de5\" stroke=\"black\" d=\"M163,-660C163,-660 75,-660 75,-660 69,-660 63,-654 63,-648 63,-648 63,-604 63,-604 63,-598 69,-592 75,-592 75,-592 163,-592 163,-592 169,-592 175,-598 175,-604 175,-604 175,-648 175,-648 175,-654 169,-660 163,-660\"/>\n",
       "<text text-anchor=\"start\" x=\"90\" y=\"-644.8\" font-family=\"Helvetica,sans-Serif\" font-size=\"14.00\">gini = 0.0</text>\n",
       "<text text-anchor=\"start\" x=\"77\" y=\"-629.8\" font-family=\"Helvetica,sans-Serif\" font-size=\"14.00\">samples = 37</text>\n",
       "<text text-anchor=\"start\" x=\"74.5\" y=\"-614.8\" font-family=\"Helvetica,sans-Serif\" font-size=\"14.00\">value = [0, 37]</text>\n",
       "<text text-anchor=\"start\" x=\"71\" y=\"-599.8\" font-family=\"Helvetica,sans-Serif\" font-size=\"14.00\">class = class_1</text>\n",
       "</g>\n",
       "<!-- 1&#45;&gt;2 -->\n",
       "<g id=\"edge2\" class=\"edge\"><title>1&#45;&gt;2</title>\n",
       "<path fill=\"none\" stroke=\"black\" d=\"M210.82,-704.391C196.405,-692.241 180.618,-678.935 166.262,-666.835\"/>\n",
       "<polygon fill=\"black\" stroke=\"black\" points=\"168.354,-664.021 158.452,-660.252 163.843,-669.373 168.354,-664.021\"/>\n",
       "</g>\n",
       "<!-- 3 -->\n",
       "<g id=\"node4\" class=\"node\"><title>3</title>\n",
       "<path fill=\"#399de5\" fill-opacity=\"0.776471\" stroke=\"black\" d=\"M312.25,-667.5C312.25,-667.5 205.75,-667.5 205.75,-667.5 199.75,-667.5 193.75,-661.5 193.75,-655.5 193.75,-655.5 193.75,-596.5 193.75,-596.5 193.75,-590.5 199.75,-584.5 205.75,-584.5 205.75,-584.5 312.25,-584.5 312.25,-584.5 318.25,-584.5 324.25,-590.5 324.25,-596.5 324.25,-596.5 324.25,-655.5 324.25,-655.5 324.25,-661.5 318.25,-667.5 312.25,-667.5\"/>\n",
       "<text text-anchor=\"start\" x=\"201.5\" y=\"-652.3\" font-family=\"Helvetica,sans-Serif\" font-size=\"14.00\">feature_1 ≤ &#45;0.067</text>\n",
       "<text text-anchor=\"start\" x=\"222.5\" y=\"-637.3\" font-family=\"Helvetica,sans-Serif\" font-size=\"14.00\">gini = 0.298</text>\n",
       "<text text-anchor=\"start\" x=\"217\" y=\"-622.3\" font-family=\"Helvetica,sans-Serif\" font-size=\"14.00\">samples = 11</text>\n",
       "<text text-anchor=\"start\" x=\"218.5\" y=\"-607.3\" font-family=\"Helvetica,sans-Serif\" font-size=\"14.00\">value = [2, 9]</text>\n",
       "<text text-anchor=\"start\" x=\"211\" y=\"-592.3\" font-family=\"Helvetica,sans-Serif\" font-size=\"14.00\">class = class_1</text>\n",
       "</g>\n",
       "<!-- 1&#45;&gt;3 -->\n",
       "<g id=\"edge3\" class=\"edge\"><title>1&#45;&gt;3</title>\n",
       "<path fill=\"none\" stroke=\"black\" d=\"M259,-704.391C259,-695.862 259,-686.763 259,-677.912\"/>\n",
       "<polygon fill=\"black\" stroke=\"black\" points=\"262.5,-677.684 259,-667.684 255.5,-677.684 262.5,-677.684\"/>\n",
       "</g>\n",
       "<!-- 4 -->\n",
       "<g id=\"node5\" class=\"node\"><title>4</title>\n",
       "<path fill=\"#e58139\" fill-opacity=\"0.498039\" stroke=\"black\" d=\"M174.25,-547.5C174.25,-547.5 67.75,-547.5 67.75,-547.5 61.75,-547.5 55.75,-541.5 55.75,-535.5 55.75,-535.5 55.75,-476.5 55.75,-476.5 55.75,-470.5 61.75,-464.5 67.75,-464.5 67.75,-464.5 174.25,-464.5 174.25,-464.5 180.25,-464.5 186.25,-470.5 186.25,-476.5 186.25,-476.5 186.25,-535.5 186.25,-535.5 186.25,-541.5 180.25,-547.5 174.25,-547.5\"/>\n",
       "<text text-anchor=\"start\" x=\"63.5\" y=\"-532.3\" font-family=\"Helvetica,sans-Serif\" font-size=\"14.00\">feature_1 ≤ &#45;0.129</text>\n",
       "<text text-anchor=\"start\" x=\"84.5\" y=\"-517.3\" font-family=\"Helvetica,sans-Serif\" font-size=\"14.00\">gini = 0.444</text>\n",
       "<text text-anchor=\"start\" x=\"83\" y=\"-502.3\" font-family=\"Helvetica,sans-Serif\" font-size=\"14.00\">samples = 3</text>\n",
       "<text text-anchor=\"start\" x=\"80.5\" y=\"-487.3\" font-family=\"Helvetica,sans-Serif\" font-size=\"14.00\">value = [2, 1]</text>\n",
       "<text text-anchor=\"start\" x=\"73\" y=\"-472.3\" font-family=\"Helvetica,sans-Serif\" font-size=\"14.00\">class = class_0</text>\n",
       "</g>\n",
       "<!-- 3&#45;&gt;4 -->\n",
       "<g id=\"edge4\" class=\"edge\"><title>3&#45;&gt;4</title>\n",
       "<path fill=\"none\" stroke=\"black\" d=\"M211.508,-584.391C200.232,-574.749 188.105,-564.38 176.507,-554.463\"/>\n",
       "<polygon fill=\"black\" stroke=\"black\" points=\"178.454,-551.523 168.579,-547.684 173.905,-556.843 178.454,-551.523\"/>\n",
       "</g>\n",
       "<!-- 7 -->\n",
       "<g id=\"node8\" class=\"node\"><title>7</title>\n",
       "<path fill=\"#399de5\" stroke=\"black\" d=\"M305,-540C305,-540 217,-540 217,-540 211,-540 205,-534 205,-528 205,-528 205,-484 205,-484 205,-478 211,-472 217,-472 217,-472 305,-472 305,-472 311,-472 317,-478 317,-484 317,-484 317,-528 317,-528 317,-534 311,-540 305,-540\"/>\n",
       "<text text-anchor=\"start\" x=\"232\" y=\"-524.8\" font-family=\"Helvetica,sans-Serif\" font-size=\"14.00\">gini = 0.0</text>\n",
       "<text text-anchor=\"start\" x=\"223\" y=\"-509.8\" font-family=\"Helvetica,sans-Serif\" font-size=\"14.00\">samples = 8</text>\n",
       "<text text-anchor=\"start\" x=\"220.5\" y=\"-494.8\" font-family=\"Helvetica,sans-Serif\" font-size=\"14.00\">value = [0, 8]</text>\n",
       "<text text-anchor=\"start\" x=\"213\" y=\"-479.8\" font-family=\"Helvetica,sans-Serif\" font-size=\"14.00\">class = class_1</text>\n",
       "</g>\n",
       "<!-- 3&#45;&gt;7 -->\n",
       "<g id=\"edge7\" class=\"edge\"><title>3&#45;&gt;7</title>\n",
       "<path fill=\"none\" stroke=\"black\" d=\"M259.688,-584.391C259.873,-573.479 260.074,-561.634 260.262,-550.568\"/>\n",
       "<polygon fill=\"black\" stroke=\"black\" points=\"263.766,-550.31 260.436,-540.252 256.767,-550.192 263.766,-550.31\"/>\n",
       "</g>\n",
       "<!-- 5 -->\n",
       "<g id=\"node6\" class=\"node\"><title>5</title>\n",
       "<path fill=\"#399de5\" stroke=\"black\" d=\"M100,-420C100,-420 12,-420 12,-420 6,-420 7.10543e-15,-414 7.10543e-15,-408 7.10543e-15,-408 7.10543e-15,-364 7.10543e-15,-364 7.10543e-15,-358 6,-352 12,-352 12,-352 100,-352 100,-352 106,-352 112,-358 112,-364 112,-364 112,-408 112,-408 112,-414 106,-420 100,-420\"/>\n",
       "<text text-anchor=\"start\" x=\"27\" y=\"-404.8\" font-family=\"Helvetica,sans-Serif\" font-size=\"14.00\">gini = 0.0</text>\n",
       "<text text-anchor=\"start\" x=\"18\" y=\"-389.8\" font-family=\"Helvetica,sans-Serif\" font-size=\"14.00\">samples = 1</text>\n",
       "<text text-anchor=\"start\" x=\"15.5\" y=\"-374.8\" font-family=\"Helvetica,sans-Serif\" font-size=\"14.00\">value = [0, 1]</text>\n",
       "<text text-anchor=\"start\" x=\"8\" y=\"-359.8\" font-family=\"Helvetica,sans-Serif\" font-size=\"14.00\">class = class_1</text>\n",
       "</g>\n",
       "<!-- 4&#45;&gt;5 -->\n",
       "<g id=\"edge5\" class=\"edge\"><title>4&#45;&gt;5</title>\n",
       "<path fill=\"none\" stroke=\"black\" d=\"M98.6307,-464.391C92.3717,-453.029 85.5557,-440.655 79.2472,-429.203\"/>\n",
       "<polygon fill=\"black\" stroke=\"black\" points=\"82.2076,-427.323 74.317,-420.252 76.0763,-430.7 82.2076,-427.323\"/>\n",
       "</g>\n",
       "<!-- 6 -->\n",
       "<g id=\"node7\" class=\"node\"><title>6</title>\n",
       "<path fill=\"#e58139\" stroke=\"black\" d=\"M230,-420C230,-420 142,-420 142,-420 136,-420 130,-414 130,-408 130,-408 130,-364 130,-364 130,-358 136,-352 142,-352 142,-352 230,-352 230,-352 236,-352 242,-358 242,-364 242,-364 242,-408 242,-408 242,-414 236,-420 230,-420\"/>\n",
       "<text text-anchor=\"start\" x=\"157\" y=\"-404.8\" font-family=\"Helvetica,sans-Serif\" font-size=\"14.00\">gini = 0.0</text>\n",
       "<text text-anchor=\"start\" x=\"148\" y=\"-389.8\" font-family=\"Helvetica,sans-Serif\" font-size=\"14.00\">samples = 2</text>\n",
       "<text text-anchor=\"start\" x=\"145.5\" y=\"-374.8\" font-family=\"Helvetica,sans-Serif\" font-size=\"14.00\">value = [2, 0]</text>\n",
       "<text text-anchor=\"start\" x=\"138\" y=\"-359.8\" font-family=\"Helvetica,sans-Serif\" font-size=\"14.00\">class = class_0</text>\n",
       "</g>\n",
       "<!-- 4&#45;&gt;6 -->\n",
       "<g id=\"edge6\" class=\"edge\"><title>4&#45;&gt;6</title>\n",
       "<path fill=\"none\" stroke=\"black\" d=\"M143.369,-464.391C149.628,-453.029 156.444,-440.655 162.753,-429.203\"/>\n",
       "<polygon fill=\"black\" stroke=\"black\" points=\"165.924,-430.7 167.683,-420.252 159.792,-427.323 165.924,-430.7\"/>\n",
       "</g>\n",
       "<!-- 9 -->\n",
       "<g id=\"node10\" class=\"node\"><title>9</title>\n",
       "<path fill=\"#e58139\" fill-opacity=\"0.937255\" stroke=\"black\" d=\"M457,-667.5C457,-667.5 355,-667.5 355,-667.5 349,-667.5 343,-661.5 343,-655.5 343,-655.5 343,-596.5 343,-596.5 343,-590.5 349,-584.5 355,-584.5 355,-584.5 457,-584.5 457,-584.5 463,-584.5 469,-590.5 469,-596.5 469,-596.5 469,-655.5 469,-655.5 469,-661.5 463,-667.5 457,-667.5\"/>\n",
       "<text text-anchor=\"start\" x=\"351\" y=\"-652.3\" font-family=\"Helvetica,sans-Serif\" font-size=\"14.00\">feature_0 ≤ 0.213</text>\n",
       "<text text-anchor=\"start\" x=\"369.5\" y=\"-637.3\" font-family=\"Helvetica,sans-Serif\" font-size=\"14.00\">gini = 0.111</text>\n",
       "<text text-anchor=\"start\" x=\"364\" y=\"-622.3\" font-family=\"Helvetica,sans-Serif\" font-size=\"14.00\">samples = 51</text>\n",
       "<text text-anchor=\"start\" x=\"361.5\" y=\"-607.3\" font-family=\"Helvetica,sans-Serif\" font-size=\"14.00\">value = [48, 3]</text>\n",
       "<text text-anchor=\"start\" x=\"358\" y=\"-592.3\" font-family=\"Helvetica,sans-Serif\" font-size=\"14.00\">class = class_0</text>\n",
       "</g>\n",
       "<!-- 8&#45;&gt;9 -->\n",
       "<g id=\"edge9\" class=\"edge\"><title>8&#45;&gt;9</title>\n",
       "<path fill=\"none\" stroke=\"black\" d=\"M406,-704.391C406,-695.862 406,-686.763 406,-677.912\"/>\n",
       "<polygon fill=\"black\" stroke=\"black\" points=\"409.5,-677.684 406,-667.684 402.5,-677.684 409.5,-677.684\"/>\n",
       "</g>\n",
       "<!-- 20 -->\n",
       "<g id=\"node21\" class=\"node\"><title>20</title>\n",
       "<path fill=\"#399de5\" stroke=\"black\" d=\"M587,-660C587,-660 499,-660 499,-660 493,-660 487,-654 487,-648 487,-648 487,-604 487,-604 487,-598 493,-592 499,-592 499,-592 587,-592 587,-592 593,-592 599,-598 599,-604 599,-604 599,-648 599,-648 599,-654 593,-660 587,-660\"/>\n",
       "<text text-anchor=\"start\" x=\"514\" y=\"-644.8\" font-family=\"Helvetica,sans-Serif\" font-size=\"14.00\">gini = 0.0</text>\n",
       "<text text-anchor=\"start\" x=\"505\" y=\"-629.8\" font-family=\"Helvetica,sans-Serif\" font-size=\"14.00\">samples = 1</text>\n",
       "<text text-anchor=\"start\" x=\"502.5\" y=\"-614.8\" font-family=\"Helvetica,sans-Serif\" font-size=\"14.00\">value = [0, 1]</text>\n",
       "<text text-anchor=\"start\" x=\"495\" y=\"-599.8\" font-family=\"Helvetica,sans-Serif\" font-size=\"14.00\">class = class_1</text>\n",
       "</g>\n",
       "<!-- 8&#45;&gt;20 -->\n",
       "<g id=\"edge20\" class=\"edge\"><title>8&#45;&gt;20</title>\n",
       "<path fill=\"none\" stroke=\"black\" d=\"M453.148,-704.391C467.254,-692.241 482.703,-678.935 496.75,-666.835\"/>\n",
       "<polygon fill=\"black\" stroke=\"black\" points=\"499.101,-669.43 504.393,-660.252 494.532,-664.127 499.101,-669.43\"/>\n",
       "</g>\n",
       "<!-- 10 -->\n",
       "<g id=\"node11\" class=\"node\"><title>10</title>\n",
       "<path fill=\"#e58139\" fill-opacity=\"0.701961\" stroke=\"black\" d=\"M454,-547.5C454,-547.5 352,-547.5 352,-547.5 346,-547.5 340,-541.5 340,-535.5 340,-535.5 340,-476.5 340,-476.5 340,-470.5 346,-464.5 352,-464.5 352,-464.5 454,-464.5 454,-464.5 460,-464.5 466,-470.5 466,-476.5 466,-476.5 466,-535.5 466,-535.5 466,-541.5 460,-547.5 454,-547.5\"/>\n",
       "<text text-anchor=\"start\" x=\"348\" y=\"-532.3\" font-family=\"Helvetica,sans-Serif\" font-size=\"14.00\">feature_1 ≤ 0.134</text>\n",
       "<text text-anchor=\"start\" x=\"366.5\" y=\"-517.3\" font-family=\"Helvetica,sans-Serif\" font-size=\"14.00\">gini = 0.355</text>\n",
       "<text text-anchor=\"start\" x=\"361\" y=\"-502.3\" font-family=\"Helvetica,sans-Serif\" font-size=\"14.00\">samples = 13</text>\n",
       "<text text-anchor=\"start\" x=\"358.5\" y=\"-487.3\" font-family=\"Helvetica,sans-Serif\" font-size=\"14.00\">value = [10, 3]</text>\n",
       "<text text-anchor=\"start\" x=\"355\" y=\"-472.3\" font-family=\"Helvetica,sans-Serif\" font-size=\"14.00\">class = class_0</text>\n",
       "</g>\n",
       "<!-- 9&#45;&gt;10 -->\n",
       "<g id=\"edge10\" class=\"edge\"><title>9&#45;&gt;10</title>\n",
       "<path fill=\"none\" stroke=\"black\" d=\"M404.968,-584.391C404.751,-575.862 404.519,-566.763 404.294,-557.912\"/>\n",
       "<polygon fill=\"black\" stroke=\"black\" points=\"407.787,-557.592 404.034,-547.684 400.79,-557.77 407.787,-557.592\"/>\n",
       "</g>\n",
       "<!-- 19 -->\n",
       "<g id=\"node20\" class=\"node\"><title>19</title>\n",
       "<path fill=\"#e58139\" stroke=\"black\" d=\"M584,-540C584,-540 496,-540 496,-540 490,-540 484,-534 484,-528 484,-528 484,-484 484,-484 484,-478 490,-472 496,-472 496,-472 584,-472 584,-472 590,-472 596,-478 596,-484 596,-484 596,-528 596,-528 596,-534 590,-540 584,-540\"/>\n",
       "<text text-anchor=\"start\" x=\"511\" y=\"-524.8\" font-family=\"Helvetica,sans-Serif\" font-size=\"14.00\">gini = 0.0</text>\n",
       "<text text-anchor=\"start\" x=\"498\" y=\"-509.8\" font-family=\"Helvetica,sans-Serif\" font-size=\"14.00\">samples = 38</text>\n",
       "<text text-anchor=\"start\" x=\"495.5\" y=\"-494.8\" font-family=\"Helvetica,sans-Serif\" font-size=\"14.00\">value = [38, 0]</text>\n",
       "<text text-anchor=\"start\" x=\"492\" y=\"-479.8\" font-family=\"Helvetica,sans-Serif\" font-size=\"14.00\">class = class_0</text>\n",
       "</g>\n",
       "<!-- 9&#45;&gt;19 -->\n",
       "<g id=\"edge19\" class=\"edge\"><title>9&#45;&gt;19</title>\n",
       "<path fill=\"none\" stroke=\"black\" d=\"M452.115,-584.391C465.785,-572.354 480.743,-559.181 494.381,-547.172\"/>\n",
       "<polygon fill=\"black\" stroke=\"black\" points=\"497.047,-549.488 502.239,-540.252 492.421,-544.235 497.047,-549.488\"/>\n",
       "</g>\n",
       "<!-- 11 -->\n",
       "<g id=\"node12\" class=\"node\"><title>11</title>\n",
       "<path fill=\"#e58139\" fill-opacity=\"0.800000\" stroke=\"black\" d=\"M379,-427.5C379,-427.5 277,-427.5 277,-427.5 271,-427.5 265,-421.5 265,-415.5 265,-415.5 265,-356.5 265,-356.5 265,-350.5 271,-344.5 277,-344.5 277,-344.5 379,-344.5 379,-344.5 385,-344.5 391,-350.5 391,-356.5 391,-356.5 391,-415.5 391,-415.5 391,-421.5 385,-427.5 379,-427.5\"/>\n",
       "<text text-anchor=\"start\" x=\"273\" y=\"-412.3\" font-family=\"Helvetica,sans-Serif\" font-size=\"14.00\">feature_0 ≤ 0.206</text>\n",
       "<text text-anchor=\"start\" x=\"291.5\" y=\"-397.3\" font-family=\"Helvetica,sans-Serif\" font-size=\"14.00\">gini = 0.278</text>\n",
       "<text text-anchor=\"start\" x=\"286\" y=\"-382.3\" font-family=\"Helvetica,sans-Serif\" font-size=\"14.00\">samples = 12</text>\n",
       "<text text-anchor=\"start\" x=\"283.5\" y=\"-367.3\" font-family=\"Helvetica,sans-Serif\" font-size=\"14.00\">value = [10, 2]</text>\n",
       "<text text-anchor=\"start\" x=\"280\" y=\"-352.3\" font-family=\"Helvetica,sans-Serif\" font-size=\"14.00\">class = class_0</text>\n",
       "</g>\n",
       "<!-- 10&#45;&gt;11 -->\n",
       "<g id=\"edge11\" class=\"edge\"><title>10&#45;&gt;11</title>\n",
       "<path fill=\"none\" stroke=\"black\" d=\"M377.189,-464.391C371.415,-455.306 365.229,-445.574 359.261,-436.183\"/>\n",
       "<polygon fill=\"black\" stroke=\"black\" points=\"362.176,-434.246 353.858,-427.684 356.269,-438.001 362.176,-434.246\"/>\n",
       "</g>\n",
       "<!-- 18 -->\n",
       "<g id=\"node19\" class=\"node\"><title>18</title>\n",
       "<path fill=\"#399de5\" stroke=\"black\" d=\"M509,-420C509,-420 421,-420 421,-420 415,-420 409,-414 409,-408 409,-408 409,-364 409,-364 409,-358 415,-352 421,-352 421,-352 509,-352 509,-352 515,-352 521,-358 521,-364 521,-364 521,-408 521,-408 521,-414 515,-420 509,-420\"/>\n",
       "<text text-anchor=\"start\" x=\"436\" y=\"-404.8\" font-family=\"Helvetica,sans-Serif\" font-size=\"14.00\">gini = 0.0</text>\n",
       "<text text-anchor=\"start\" x=\"427\" y=\"-389.8\" font-family=\"Helvetica,sans-Serif\" font-size=\"14.00\">samples = 1</text>\n",
       "<text text-anchor=\"start\" x=\"424.5\" y=\"-374.8\" font-family=\"Helvetica,sans-Serif\" font-size=\"14.00\">value = [0, 1]</text>\n",
       "<text text-anchor=\"start\" x=\"417\" y=\"-359.8\" font-family=\"Helvetica,sans-Serif\" font-size=\"14.00\">class = class_1</text>\n",
       "</g>\n",
       "<!-- 10&#45;&gt;18 -->\n",
       "<g id=\"edge18\" class=\"edge\"><title>10&#45;&gt;18</title>\n",
       "<path fill=\"none\" stroke=\"black\" d=\"M424.337,-464.391C430.307,-453.029 436.808,-440.655 442.826,-429.203\"/>\n",
       "<polygon fill=\"black\" stroke=\"black\" points=\"445.975,-430.733 447.528,-420.252 439.779,-427.477 445.975,-430.733\"/>\n",
       "</g>\n",
       "<!-- 12 -->\n",
       "<g id=\"node13\" class=\"node\"><title>12</title>\n",
       "<path fill=\"#e58139\" fill-opacity=\"0.901961\" stroke=\"black\" d=\"M310,-307.5C310,-307.5 208,-307.5 208,-307.5 202,-307.5 196,-301.5 196,-295.5 196,-295.5 196,-236.5 196,-236.5 196,-230.5 202,-224.5 208,-224.5 208,-224.5 310,-224.5 310,-224.5 316,-224.5 322,-230.5 322,-236.5 322,-236.5 322,-295.5 322,-295.5 322,-301.5 316,-307.5 310,-307.5\"/>\n",
       "<text text-anchor=\"start\" x=\"204\" y=\"-292.3\" font-family=\"Helvetica,sans-Serif\" font-size=\"14.00\">feature_0 ≤ 0.173</text>\n",
       "<text text-anchor=\"start\" x=\"222.5\" y=\"-277.3\" font-family=\"Helvetica,sans-Serif\" font-size=\"14.00\">gini = 0.165</text>\n",
       "<text text-anchor=\"start\" x=\"217\" y=\"-262.3\" font-family=\"Helvetica,sans-Serif\" font-size=\"14.00\">samples = 11</text>\n",
       "<text text-anchor=\"start\" x=\"214.5\" y=\"-247.3\" font-family=\"Helvetica,sans-Serif\" font-size=\"14.00\">value = [10, 1]</text>\n",
       "<text text-anchor=\"start\" x=\"211\" y=\"-232.3\" font-family=\"Helvetica,sans-Serif\" font-size=\"14.00\">class = class_0</text>\n",
       "</g>\n",
       "<!-- 11&#45;&gt;12 -->\n",
       "<g id=\"edge12\" class=\"edge\"><title>11&#45;&gt;12</title>\n",
       "<path fill=\"none\" stroke=\"black\" d=\"M304.254,-344.391C298.996,-335.398 293.367,-325.772 287.928,-316.471\"/>\n",
       "<polygon fill=\"black\" stroke=\"black\" points=\"290.859,-314.55 282.79,-307.684 284.816,-318.083 290.859,-314.55\"/>\n",
       "</g>\n",
       "<!-- 17 -->\n",
       "<g id=\"node18\" class=\"node\"><title>17</title>\n",
       "<path fill=\"#399de5\" stroke=\"black\" d=\"M440,-300C440,-300 352,-300 352,-300 346,-300 340,-294 340,-288 340,-288 340,-244 340,-244 340,-238 346,-232 352,-232 352,-232 440,-232 440,-232 446,-232 452,-238 452,-244 452,-244 452,-288 452,-288 452,-294 446,-300 440,-300\"/>\n",
       "<text text-anchor=\"start\" x=\"367\" y=\"-284.8\" font-family=\"Helvetica,sans-Serif\" font-size=\"14.00\">gini = 0.0</text>\n",
       "<text text-anchor=\"start\" x=\"358\" y=\"-269.8\" font-family=\"Helvetica,sans-Serif\" font-size=\"14.00\">samples = 1</text>\n",
       "<text text-anchor=\"start\" x=\"355.5\" y=\"-254.8\" font-family=\"Helvetica,sans-Serif\" font-size=\"14.00\">value = [0, 1]</text>\n",
       "<text text-anchor=\"start\" x=\"348\" y=\"-239.8\" font-family=\"Helvetica,sans-Serif\" font-size=\"14.00\">class = class_1</text>\n",
       "</g>\n",
       "<!-- 11&#45;&gt;17 -->\n",
       "<g id=\"edge17\" class=\"edge\"><title>11&#45;&gt;17</title>\n",
       "<path fill=\"none\" stroke=\"black\" d=\"M351.402,-344.391C357.95,-333.029 365.08,-320.655 371.68,-309.203\"/>\n",
       "<polygon fill=\"black\" stroke=\"black\" points=\"374.877,-310.664 376.838,-300.252 368.812,-307.169 374.877,-310.664\"/>\n",
       "</g>\n",
       "<!-- 13 -->\n",
       "<g id=\"node14\" class=\"node\"><title>13</title>\n",
       "<path fill=\"#e58139\" fill-opacity=\"0.498039\" stroke=\"black\" d=\"M242,-187.5C242,-187.5 140,-187.5 140,-187.5 134,-187.5 128,-181.5 128,-175.5 128,-175.5 128,-116.5 128,-116.5 128,-110.5 134,-104.5 140,-104.5 140,-104.5 242,-104.5 242,-104.5 248,-104.5 254,-110.5 254,-116.5 254,-116.5 254,-175.5 254,-175.5 254,-181.5 248,-187.5 242,-187.5\"/>\n",
       "<text text-anchor=\"start\" x=\"136\" y=\"-172.3\" font-family=\"Helvetica,sans-Serif\" font-size=\"14.00\">feature_0 ≤ 0.169</text>\n",
       "<text text-anchor=\"start\" x=\"154.5\" y=\"-157.3\" font-family=\"Helvetica,sans-Serif\" font-size=\"14.00\">gini = 0.444</text>\n",
       "<text text-anchor=\"start\" x=\"153\" y=\"-142.3\" font-family=\"Helvetica,sans-Serif\" font-size=\"14.00\">samples = 3</text>\n",
       "<text text-anchor=\"start\" x=\"150.5\" y=\"-127.3\" font-family=\"Helvetica,sans-Serif\" font-size=\"14.00\">value = [2, 1]</text>\n",
       "<text text-anchor=\"start\" x=\"143\" y=\"-112.3\" font-family=\"Helvetica,sans-Serif\" font-size=\"14.00\">class = class_0</text>\n",
       "</g>\n",
       "<!-- 12&#45;&gt;13 -->\n",
       "<g id=\"edge13\" class=\"edge\"><title>12&#45;&gt;13</title>\n",
       "<path fill=\"none\" stroke=\"black\" d=\"M235.598,-224.391C230.416,-215.398 224.869,-205.772 219.509,-196.471\"/>\n",
       "<polygon fill=\"black\" stroke=\"black\" points=\"222.47,-194.601 214.445,-187.684 216.405,-198.096 222.47,-194.601\"/>\n",
       "</g>\n",
       "<!-- 16 -->\n",
       "<g id=\"node17\" class=\"node\"><title>16</title>\n",
       "<path fill=\"#e58139\" stroke=\"black\" d=\"M372,-180C372,-180 284,-180 284,-180 278,-180 272,-174 272,-168 272,-168 272,-124 272,-124 272,-118 278,-112 284,-112 284,-112 372,-112 372,-112 378,-112 384,-118 384,-124 384,-124 384,-168 384,-168 384,-174 378,-180 372,-180\"/>\n",
       "<text text-anchor=\"start\" x=\"299\" y=\"-164.8\" font-family=\"Helvetica,sans-Serif\" font-size=\"14.00\">gini = 0.0</text>\n",
       "<text text-anchor=\"start\" x=\"290\" y=\"-149.8\" font-family=\"Helvetica,sans-Serif\" font-size=\"14.00\">samples = 8</text>\n",
       "<text text-anchor=\"start\" x=\"287.5\" y=\"-134.8\" font-family=\"Helvetica,sans-Serif\" font-size=\"14.00\">value = [8, 0]</text>\n",
       "<text text-anchor=\"start\" x=\"280\" y=\"-119.8\" font-family=\"Helvetica,sans-Serif\" font-size=\"14.00\">class = class_0</text>\n",
       "</g>\n",
       "<!-- 12&#45;&gt;16 -->\n",
       "<g id=\"edge16\" class=\"edge\"><title>12&#45;&gt;16</title>\n",
       "<path fill=\"none\" stroke=\"black\" d=\"M282.746,-224.391C289.39,-213.029 296.625,-200.655 303.322,-189.203\"/>\n",
       "<polygon fill=\"black\" stroke=\"black\" points=\"306.529,-190.652 308.556,-180.252 300.487,-187.118 306.529,-190.652\"/>\n",
       "</g>\n",
       "<!-- 14 -->\n",
       "<g id=\"node15\" class=\"node\"><title>14</title>\n",
       "<path fill=\"#e58139\" stroke=\"black\" d=\"M170,-68C170,-68 82,-68 82,-68 76,-68 70,-62 70,-56 70,-56 70,-12 70,-12 70,-6 76,-0 82,-0 82,-0 170,-0 170,-0 176,-0 182,-6 182,-12 182,-12 182,-56 182,-56 182,-62 176,-68 170,-68\"/>\n",
       "<text text-anchor=\"start\" x=\"97\" y=\"-52.8\" font-family=\"Helvetica,sans-Serif\" font-size=\"14.00\">gini = 0.0</text>\n",
       "<text text-anchor=\"start\" x=\"88\" y=\"-37.8\" font-family=\"Helvetica,sans-Serif\" font-size=\"14.00\">samples = 2</text>\n",
       "<text text-anchor=\"start\" x=\"85.5\" y=\"-22.8\" font-family=\"Helvetica,sans-Serif\" font-size=\"14.00\">value = [2, 0]</text>\n",
       "<text text-anchor=\"start\" x=\"78\" y=\"-7.8\" font-family=\"Helvetica,sans-Serif\" font-size=\"14.00\">class = class_0</text>\n",
       "</g>\n",
       "<!-- 13&#45;&gt;14 -->\n",
       "<g id=\"edge14\" class=\"edge\"><title>13&#45;&gt;14</title>\n",
       "<path fill=\"none\" stroke=\"black\" d=\"M166.981,-104.353C161.719,-95.4478 156.138,-86.0034 150.845,-77.0452\"/>\n",
       "<polygon fill=\"black\" stroke=\"black\" points=\"153.77,-75.1157 145.67,-68.287 147.744,-78.6768 153.77,-75.1157\"/>\n",
       "</g>\n",
       "<!-- 15 -->\n",
       "<g id=\"node16\" class=\"node\"><title>15</title>\n",
       "<path fill=\"#399de5\" stroke=\"black\" d=\"M300,-68C300,-68 212,-68 212,-68 206,-68 200,-62 200,-56 200,-56 200,-12 200,-12 200,-6 206,-0 212,-0 212,-0 300,-0 300,-0 306,-0 312,-6 312,-12 312,-12 312,-56 312,-56 312,-62 306,-68 300,-68\"/>\n",
       "<text text-anchor=\"start\" x=\"227\" y=\"-52.8\" font-family=\"Helvetica,sans-Serif\" font-size=\"14.00\">gini = 0.0</text>\n",
       "<text text-anchor=\"start\" x=\"218\" y=\"-37.8\" font-family=\"Helvetica,sans-Serif\" font-size=\"14.00\">samples = 1</text>\n",
       "<text text-anchor=\"start\" x=\"215.5\" y=\"-22.8\" font-family=\"Helvetica,sans-Serif\" font-size=\"14.00\">value = [0, 1]</text>\n",
       "<text text-anchor=\"start\" x=\"208\" y=\"-7.8\" font-family=\"Helvetica,sans-Serif\" font-size=\"14.00\">class = class_1</text>\n",
       "</g>\n",
       "<!-- 13&#45;&gt;15 -->\n",
       "<g id=\"edge15\" class=\"edge\"><title>13&#45;&gt;15</title>\n",
       "<path fill=\"none\" stroke=\"black\" d=\"M215.019,-104.353C220.281,-95.4478 225.862,-86.0034 231.155,-77.0452\"/>\n",
       "<polygon fill=\"black\" stroke=\"black\" points=\"234.256,-78.6768 236.33,-68.287 228.23,-75.1157 234.256,-78.6768\"/>\n",
       "</g>\n",
       "</g>\n",
       "</svg>\n"
      ],
      "text/plain": [
       "<graphviz.files.Source at 0x112504250>"
      ]
     },
     "execution_count": 632,
     "metadata": {},
     "output_type": "execute_result"
    }
   ],
   "source": [
    "import graphviz \n",
    "dot_data = tree.export_graphviz(clf, out_file=None, \n",
    "                         feature_names=[\"feature_\"+str(i) for i in range(D)],  \n",
    "                         class_names=[\"class_0\", \"class_1\"],  \n",
    "                         filled=True, rounded=True,  \n",
    "                         special_characters=True)  \n",
    "\n",
    "graph = graphviz.Source(dot_data)  \n",
    "graph "
   ]
  },
  {
   "cell_type": "code",
   "execution_count": 637,
   "metadata": {
    "collapsed": true
   },
   "outputs": [],
   "source": [
    "X = np.random.randn(dataset_length,D)*0.1\n",
    "X[0:dataset_length/2,0] += 0.3\n",
    "Y = np.ones(dataset_length)\n",
    "Y[0:dataset_length/2] *= 0"
   ]
  },
  {
   "cell_type": "code",
   "execution_count": 638,
   "metadata": {
    "scrolled": false
   },
   "outputs": [
    {
     "name": "stdout",
     "output_type": "stream",
     "text": [
      " \n",
      "STRUT: node 0 phi:  0 child left: 1 child right: 8\n",
      "distribution: [ 50.  50.]\n",
      "changing threshold node= 0 feature= 0 threshold= 0.0915068061298\n",
      "threshold selected 1 0.143068252579 DG  0.999051114037\n",
      "threshold selected 2 0.143068252579 DG  0.999051114037\n",
      " \n",
      "STRUT: node 1 phi:  0 child left: 2 child right: 3\n",
      "distribution: [  5.  43.]\n",
      "changing threshold node= 1 feature= 0 threshold= -0.0979939727638\n",
      "threshold selected 1 -0.217871610376 DG  0.996656091181\n",
      "threshold selected 2 -0.217871610376 DG  0.996656091181\n",
      " \n",
      "STRUT: node 2 phi:  -2 child left: -1 child right: -1\n",
      "distribution: [ 0.  1.]\n",
      "old leaf\n",
      " \n",
      "STRUT: node 3 phi:  1 child left: 4 child right: 7\n",
      "distribution: [  5.  42.]\n",
      "changing threshold node= 3 feature= 1 threshold= -0.056881573594\n",
      "threshold selected 1 -0.196505780348 DG  0.994081373891\n",
      "threshold selected 2 -0.196505780348 DG  0.994081373891\n",
      " \n",
      "STRUT: node 4 phi:  1 child left: 5 child right: 6\n",
      "distribution: [ 0.  1.]\n",
      "new leaf, unreachable subtree 5 6\n",
      "!!!!!!\n",
      " \n",
      "STRUT: node 7 phi:  -2 child left: -1 child right: -1\n",
      "distribution: [  5.  41.]\n",
      "old leaf\n",
      " \n",
      "STRUT: node 8 phi:  1 child left: 20 child right: 9\n",
      "distribution: [ 45.   7.]\n",
      "changing threshold node= 8 feature= 1 threshold= -0.204366585545\n",
      "threshold selected 1 -0.166097921565 DG  0.997974121426\n",
      "threshold selected 2 -0.166097921565 DG  0.997974121426\n",
      " \n",
      "STRUT: node 9 phi:  0 child left: 10 child right: 19\n",
      "distribution: [ 44.   6.]\n",
      "changing threshold node= 9 feature= 0 threshold= 0.246026554568\n",
      "threshold selected 1 0.211438235458 DG  0.984695909923\n",
      "threshold selected 2 0.211438235458 DG  0.984695909923\n",
      " \n",
      "STRUT: node 19 phi:  -2 child left: -1 child right: -1\n",
      "distribution: [ 1.  0.]\n",
      "old leaf\n",
      " \n",
      "STRUT: node 10 phi:  1 child left: 11 child right: 18\n",
      "distribution: [ 43.   6.]\n",
      "changing threshold node= 10 feature= 1 threshold= 0.156660736008\n",
      "threshold selected 1 0.0705031435805 DG  0.978411109605\n",
      "threshold selected 2 0.0705031435805 DG  0.978411109605\n",
      " \n",
      "STRUT: node 18 phi:  -2 child left: -1 child right: -1\n",
      "distribution: [ 2.  1.]\n",
      "old leaf\n",
      " \n",
      "STRUT: node 11 phi:  0 child left: 17 child right: 12\n",
      "distribution: [ 41.   5.]\n",
      "changing threshold node= 11 feature= 0 threshold= 0.0974126493515\n",
      "threshold selected 1 0.16820798838 DG  0.989250451126\n",
      "threshold selected 2 0.16820798838 DG  0.989250451126\n",
      " \n",
      "STRUT: node 17 phi:  -2 child left: -1 child right: -1\n",
      "distribution: [ 1.  0.]\n",
      "old leaf\n",
      " \n",
      "STRUT: node 12 phi:  0 child left: 16 child right: 13\n",
      "distribution: [ 40.   5.]\n",
      "changing threshold node= 12 feature= 0 threshold= 0.107760759532\n",
      "threshold selected 1 0.170908011382 DG  0.95588619671\n",
      "threshold selected 2 0.170908011382 DG  0.95588619671\n",
      " \n",
      "STRUT: node 13 phi:  0 child left: 15 child right: 14\n",
      "distribution: [ 3.  5.]\n",
      "changing threshold node= 13 feature= 0 threshold= 0.112428108979\n",
      "threshold selected 1 0.173695358575 DG  0.954088459159\n",
      "threshold selected 2 0.173695358575 DG  0.954088459159\n",
      " \n",
      "STRUT: node 15 phi:  -2 child left: -1 child right: -1\n",
      "distribution: [ 0.  2.]\n",
      "old leaf\n",
      " \n",
      "STRUT: node 14 phi:  -2 child left: -1 child right: -1\n",
      "distribution: [ 3.  3.]\n",
      "old leaf\n",
      " \n",
      "STRUT: node 16 phi:  -2 child left: -1 child right: -1\n",
      "distribution: [ 37.   0.]\n",
      "old leaf\n",
      " \n",
      "STRUT: node 20 phi:  -2 child left: -1 child right: -1\n",
      "distribution: [ 1.  1.]\n",
      "old leaf\n"
     ]
    }
   ],
   "source": [
    "\n",
    "\n",
    "STRUT(clf,\n",
    "      0,\n",
    "      X,\n",
    "      Y)"
   ]
  },
  {
   "cell_type": "code",
   "execution_count": 639,
   "metadata": {},
   "outputs": [
    {
     "data": {
      "image/png": "[encoded data removed]",
      "text/plain": [
       "<matplotlib.figure.Figure at 0x112c04610>"
      ]
     },
     "metadata": {},
     "output_type": "display_data"
    }
   ],
   "source": [
    "plt.plot(X[0:dataset_length/2,0],X[0:dataset_length/2,1],\"ro\")\n",
    "plt.plot(X[dataset_length/2:,0],X[dataset_length/2:,1],\"bo\")\n",
    "for node,feature in enumerate(clf.tree_.feature):\n",
    "    if feature ==0:\n",
    "        plt.axvline(x = clf.tree_.threshold[node])\n",
    "    elif feature == 1:\n",
    "        plt.axhline(y = clf.tree_.threshold[node])\n",
    "        "
   ]
  },
  {
   "cell_type": "code",
   "execution_count": 640,
   "metadata": {},
   "outputs": [
    {
     "data": {
      "image/svg+xml": [
       "<?xml version=\"1.0\" encoding=\"UTF-8\" standalone=\"no\"?>\n",
       "<!DOCTYPE svg PUBLIC \"-//W3C//DTD SVG 1.1//EN\"\n",
       " \"http://www.w3.org/Graphics/SVG/1.1/DTD/svg11.dtd\">\n",
       "<!-- Generated by graphviz version 2.36.0 (20140111.2315)\n",
       " -->\n",
       "<!-- Title: Tree Pages: 1 -->\n",
       "<svg width=\"749pt\" height=\"916pt\"\n",
       " viewBox=\"0.00 0.00 749.00 916.00\" xmlns=\"http://www.w3.org/2000/svg\" xmlns:xlink=\"http://www.w3.org/1999/xlink\">\n",
       "<g id=\"graph0\" class=\"graph\" transform=\"scale(1 1) rotate(0) translate(4 912)\">\n",
       "<title>Tree</title>\n",
       "<polygon fill=\"white\" stroke=\"none\" points=\"-4,4 -4,-912 745,-912 745,4 -4,4\"/>\n",
       "<!-- 0 -->\n",
       "<g id=\"node1\" class=\"node\"><title>0</title>\n",
       "<path fill=\"none\" stroke=\"black\" d=\"M326,-907.5C326,-907.5 214,-907.5 214,-907.5 208,-907.5 202,-901.5 202,-895.5 202,-895.5 202,-836.5 202,-836.5 202,-830.5 208,-824.5 214,-824.5 214,-824.5 326,-824.5 326,-824.5 332,-824.5 338,-830.5 338,-836.5 338,-836.5 338,-895.5 338,-895.5 338,-901.5 332,-907.5 326,-907.5\"/>\n",
       "<text text-anchor=\"start\" x=\"215\" y=\"-892.3\" font-family=\"Helvetica,sans-Serif\" font-size=\"14.00\">feature_0 ≤ 0.143</text>\n",
       "<text text-anchor=\"start\" x=\"241\" y=\"-877.3\" font-family=\"Helvetica,sans-Serif\" font-size=\"14.00\">gini = 0.5</text>\n",
       "<text text-anchor=\"start\" x=\"224\" y=\"-862.3\" font-family=\"Helvetica,sans-Serif\" font-size=\"14.00\">samples = 100</text>\n",
       "<text text-anchor=\"start\" x=\"210\" y=\"-847.3\" font-family=\"Helvetica,sans-Serif\" font-size=\"14.00\">value = [50.0, 50.0]</text>\n",
       "<text text-anchor=\"start\" x=\"222\" y=\"-832.3\" font-family=\"Helvetica,sans-Serif\" font-size=\"14.00\">class = class_0</text>\n",
       "</g>\n",
       "<!-- 1 -->\n",
       "<g id=\"node2\" class=\"node\"><title>1</title>\n",
       "<path fill=\"#399de5\" fill-opacity=\"0.882353\" stroke=\"black\" d=\"M249.25,-787.5C249.25,-787.5 142.75,-787.5 142.75,-787.5 136.75,-787.5 130.75,-781.5 130.75,-775.5 130.75,-775.5 130.75,-716.5 130.75,-716.5 130.75,-710.5 136.75,-704.5 142.75,-704.5 142.75,-704.5 249.25,-704.5 249.25,-704.5 255.25,-704.5 261.25,-710.5 261.25,-716.5 261.25,-716.5 261.25,-775.5 261.25,-775.5 261.25,-781.5 255.25,-787.5 249.25,-787.5\"/>\n",
       "<text text-anchor=\"start\" x=\"138.5\" y=\"-772.3\" font-family=\"Helvetica,sans-Serif\" font-size=\"14.00\">feature_0 ≤ &#45;0.218</text>\n",
       "<text text-anchor=\"start\" x=\"159.5\" y=\"-757.3\" font-family=\"Helvetica,sans-Serif\" font-size=\"14.00\">gini = 0.187</text>\n",
       "<text text-anchor=\"start\" x=\"154\" y=\"-742.3\" font-family=\"Helvetica,sans-Serif\" font-size=\"14.00\">samples = 48</text>\n",
       "<text text-anchor=\"start\" x=\"140\" y=\"-727.3\" font-family=\"Helvetica,sans-Serif\" font-size=\"14.00\">value = [5.0, 43.0]</text>\n",
       "<text text-anchor=\"start\" x=\"148\" y=\"-712.3\" font-family=\"Helvetica,sans-Serif\" font-size=\"14.00\">class = class_1</text>\n",
       "</g>\n",
       "<!-- 0&#45;&gt;1 -->\n",
       "<g id=\"edge1\" class=\"edge\"><title>0&#45;&gt;1</title>\n",
       "<path fill=\"none\" stroke=\"black\" d=\"M244.533,-824.391C238.836,-815.306 232.733,-805.574 226.844,-796.183\"/>\n",
       "<polygon fill=\"black\" stroke=\"black\" points=\"229.792,-794.296 221.514,-787.684 223.861,-798.015 229.792,-794.296\"/>\n",
       "<text text-anchor=\"middle\" x=\"215.929\" y=\"-808.352\" font-family=\"Helvetica,sans-Serif\" font-size=\"14.00\">True</text>\n",
       "</g>\n",
       "<!-- 8 -->\n",
       "<g id=\"node7\" class=\"node\"><title>8</title>\n",
       "<path fill=\"#e58139\" fill-opacity=\"0.843137\" stroke=\"black\" d=\"M396,-787.5C396,-787.5 292,-787.5 292,-787.5 286,-787.5 280,-781.5 280,-775.5 280,-775.5 280,-716.5 280,-716.5 280,-710.5 286,-704.5 292,-704.5 292,-704.5 396,-704.5 396,-704.5 402,-704.5 408,-710.5 408,-716.5 408,-716.5 408,-775.5 408,-775.5 408,-781.5 402,-787.5 396,-787.5\"/>\n",
       "<text text-anchor=\"start\" x=\"289\" y=\"-772.3\" font-family=\"Helvetica,sans-Serif\" font-size=\"14.00\">feature_1 ≤ 0.215</text>\n",
       "<text text-anchor=\"start\" x=\"307.5\" y=\"-757.3\" font-family=\"Helvetica,sans-Serif\" font-size=\"14.00\">gini = 0.233</text>\n",
       "<text text-anchor=\"start\" x=\"302\" y=\"-742.3\" font-family=\"Helvetica,sans-Serif\" font-size=\"14.00\">samples = 52</text>\n",
       "<text text-anchor=\"start\" x=\"288\" y=\"-727.3\" font-family=\"Helvetica,sans-Serif\" font-size=\"14.00\">value = [45.0, 7.0]</text>\n",
       "<text text-anchor=\"start\" x=\"296\" y=\"-712.3\" font-family=\"Helvetica,sans-Serif\" font-size=\"14.00\">class = class_0</text>\n",
       "</g>\n",
       "<!-- 0&#45;&gt;8 -->\n",
       "<g id=\"edge6\" class=\"edge\"><title>0&#45;&gt;8</title>\n",
       "<path fill=\"none\" stroke=\"black\" d=\"M295.467,-824.391C301.164,-815.306 307.267,-805.574 313.156,-796.183\"/>\n",
       "<polygon fill=\"black\" stroke=\"black\" points=\"316.139,-798.015 318.486,-787.684 310.208,-794.296 316.139,-798.015\"/>\n",
       "<text text-anchor=\"middle\" x=\"324.071\" y=\"-808.352\" font-family=\"Helvetica,sans-Serif\" font-size=\"14.00\">False</text>\n",
       "</g>\n",
       "<!-- 2 -->\n",
       "<g id=\"node3\" class=\"node\"><title>2</title>\n",
       "<path fill=\"#399de5\" stroke=\"black\" d=\"M100,-660C100,-660 12,-660 12,-660 6,-660 7.10543e-15,-654 7.10543e-15,-648 7.10543e-15,-648 7.10543e-15,-604 7.10543e-15,-604 7.10543e-15,-598 6,-592 12,-592 12,-592 100,-592 100,-592 106,-592 112,-598 112,-604 112,-604 112,-648 112,-648 112,-654 106,-660 100,-660\"/>\n",
       "<text text-anchor=\"start\" x=\"27\" y=\"-644.8\" font-family=\"Helvetica,sans-Serif\" font-size=\"14.00\">gini = 0.0</text>\n",
       "<text text-anchor=\"start\" x=\"18\" y=\"-629.8\" font-family=\"Helvetica,sans-Serif\" font-size=\"14.00\">samples = 1</text>\n",
       "<text text-anchor=\"start\" x=\"15.5\" y=\"-614.8\" font-family=\"Helvetica,sans-Serif\" font-size=\"14.00\">value = [0, 1]</text>\n",
       "<text text-anchor=\"start\" x=\"8\" y=\"-599.8\" font-family=\"Helvetica,sans-Serif\" font-size=\"14.00\">class = class_1</text>\n",
       "</g>\n",
       "<!-- 1&#45;&gt;2 -->\n",
       "<g id=\"edge2\" class=\"edge\"><title>1&#45;&gt;2</title>\n",
       "<path fill=\"none\" stroke=\"black\" d=\"M147.82,-704.391C133.405,-692.241 117.618,-678.935 103.262,-666.835\"/>\n",
       "<polygon fill=\"black\" stroke=\"black\" points=\"105.354,-664.021 95.452,-660.252 100.843,-669.373 105.354,-664.021\"/>\n",
       "</g>\n",
       "<!-- 3 -->\n",
       "<g id=\"node4\" class=\"node\"><title>3</title>\n",
       "<path fill=\"#399de5\" fill-opacity=\"0.882353\" stroke=\"black\" d=\"M249.25,-667.5C249.25,-667.5 142.75,-667.5 142.75,-667.5 136.75,-667.5 130.75,-661.5 130.75,-655.5 130.75,-655.5 130.75,-596.5 130.75,-596.5 130.75,-590.5 136.75,-584.5 142.75,-584.5 142.75,-584.5 249.25,-584.5 249.25,-584.5 255.25,-584.5 261.25,-590.5 261.25,-596.5 261.25,-596.5 261.25,-655.5 261.25,-655.5 261.25,-661.5 255.25,-667.5 249.25,-667.5\"/>\n",
       "<text text-anchor=\"start\" x=\"138.5\" y=\"-652.3\" font-family=\"Helvetica,sans-Serif\" font-size=\"14.00\">feature_1 ≤ &#45;0.197</text>\n",
       "<text text-anchor=\"start\" x=\"163.5\" y=\"-637.3\" font-family=\"Helvetica,sans-Serif\" font-size=\"14.00\">gini = 0.19</text>\n",
       "<text text-anchor=\"start\" x=\"154\" y=\"-622.3\" font-family=\"Helvetica,sans-Serif\" font-size=\"14.00\">samples = 47</text>\n",
       "<text text-anchor=\"start\" x=\"140\" y=\"-607.3\" font-family=\"Helvetica,sans-Serif\" font-size=\"14.00\">value = [5.0, 42.0]</text>\n",
       "<text text-anchor=\"start\" x=\"148\" y=\"-592.3\" font-family=\"Helvetica,sans-Serif\" font-size=\"14.00\">class = class_1</text>\n",
       "</g>\n",
       "<!-- 1&#45;&gt;3 -->\n",
       "<g id=\"edge3\" class=\"edge\"><title>1&#45;&gt;3</title>\n",
       "<path fill=\"none\" stroke=\"black\" d=\"M196,-704.391C196,-695.862 196,-686.763 196,-677.912\"/>\n",
       "<polygon fill=\"black\" stroke=\"black\" points=\"199.5,-677.684 196,-667.684 192.5,-677.684 199.5,-677.684\"/>\n",
       "</g>\n",
       "<!-- 4 -->\n",
       "<g id=\"node5\" class=\"node\"><title>4</title>\n",
       "<path fill=\"#399de5\" stroke=\"black\" d=\"M114,-540C114,-540 26,-540 26,-540 20,-540 14,-534 14,-528 14,-528 14,-484 14,-484 14,-478 20,-472 26,-472 26,-472 114,-472 114,-472 120,-472 126,-478 126,-484 126,-484 126,-528 126,-528 126,-534 120,-540 114,-540\"/>\n",
       "<text text-anchor=\"start\" x=\"41\" y=\"-524.8\" font-family=\"Helvetica,sans-Serif\" font-size=\"14.00\">gini = 0.0</text>\n",
       "<text text-anchor=\"start\" x=\"32\" y=\"-509.8\" font-family=\"Helvetica,sans-Serif\" font-size=\"14.00\">samples = 1</text>\n",
       "<text text-anchor=\"start\" x=\"29.5\" y=\"-494.8\" font-family=\"Helvetica,sans-Serif\" font-size=\"14.00\">value = [0, 1]</text>\n",
       "<text text-anchor=\"start\" x=\"22\" y=\"-479.8\" font-family=\"Helvetica,sans-Serif\" font-size=\"14.00\">class = class_1</text>\n",
       "</g>\n",
       "<!-- 3&#45;&gt;4 -->\n",
       "<g id=\"edge4\" class=\"edge\"><title>3&#45;&gt;4</title>\n",
       "<path fill=\"none\" stroke=\"black\" d=\"M152.638,-584.391C139.784,-572.354 125.719,-559.181 112.895,-547.172\"/>\n",
       "<polygon fill=\"black\" stroke=\"black\" points=\"115.198,-544.533 105.507,-540.252 110.413,-549.643 115.198,-544.533\"/>\n",
       "</g>\n",
       "<!-- 7 -->\n",
       "<g id=\"node6\" class=\"node\"><title>7</title>\n",
       "<path fill=\"#399de5\" fill-opacity=\"0.878431\" stroke=\"black\" d=\"M244,-540C244,-540 156,-540 156,-540 150,-540 144,-534 144,-528 144,-528 144,-484 144,-484 144,-478 150,-472 156,-472 156,-472 244,-472 244,-472 250,-472 256,-478 256,-484 256,-484 256,-528 256,-528 256,-534 250,-540 244,-540\"/>\n",
       "<text text-anchor=\"start\" x=\"163.5\" y=\"-524.8\" font-family=\"Helvetica,sans-Serif\" font-size=\"14.00\">gini = 0.194</text>\n",
       "<text text-anchor=\"start\" x=\"158\" y=\"-509.8\" font-family=\"Helvetica,sans-Serif\" font-size=\"14.00\">samples = 46</text>\n",
       "<text text-anchor=\"start\" x=\"155.5\" y=\"-494.8\" font-family=\"Helvetica,sans-Serif\" font-size=\"14.00\">value = [5, 41]</text>\n",
       "<text text-anchor=\"start\" x=\"152\" y=\"-479.8\" font-family=\"Helvetica,sans-Serif\" font-size=\"14.00\">class = class_1</text>\n",
       "</g>\n",
       "<!-- 3&#45;&gt;7 -->\n",
       "<g id=\"edge5\" class=\"edge\"><title>3&#45;&gt;7</title>\n",
       "<path fill=\"none\" stroke=\"black\" d=\"M197.377,-584.391C197.746,-573.479 198.148,-561.634 198.523,-550.568\"/>\n",
       "<polygon fill=\"black\" stroke=\"black\" points=\"202.032,-550.365 198.873,-540.252 195.036,-550.128 202.032,-550.365\"/>\n",
       "</g>\n",
       "<!-- 9 -->\n",
       "<g id=\"node8\" class=\"node\"><title>9</title>\n",
       "<path fill=\"#e58139\" fill-opacity=\"0.862745\" stroke=\"black\" d=\"M396,-667.5C396,-667.5 292,-667.5 292,-667.5 286,-667.5 280,-661.5 280,-655.5 280,-655.5 280,-596.5 280,-596.5 280,-590.5 286,-584.5 292,-584.5 292,-584.5 396,-584.5 396,-584.5 402,-584.5 408,-590.5 408,-596.5 408,-596.5 408,-655.5 408,-655.5 408,-661.5 402,-667.5 396,-667.5\"/>\n",
       "<text text-anchor=\"start\" x=\"293\" y=\"-652.3\" font-family=\"Helvetica,sans-Serif\" font-size=\"14.00\">feature_0 ≤ 0.16</text>\n",
       "<text text-anchor=\"start\" x=\"307.5\" y=\"-637.3\" font-family=\"Helvetica,sans-Serif\" font-size=\"14.00\">gini = 0.211</text>\n",
       "<text text-anchor=\"start\" x=\"302\" y=\"-622.3\" font-family=\"Helvetica,sans-Serif\" font-size=\"14.00\">samples = 50</text>\n",
       "<text text-anchor=\"start\" x=\"288\" y=\"-607.3\" font-family=\"Helvetica,sans-Serif\" font-size=\"14.00\">value = [44.0, 6.0]</text>\n",
       "<text text-anchor=\"start\" x=\"296\" y=\"-592.3\" font-family=\"Helvetica,sans-Serif\" font-size=\"14.00\">class = class_0</text>\n",
       "</g>\n",
       "<!-- 8&#45;&gt;9 -->\n",
       "<g id=\"edge7\" class=\"edge\"><title>8&#45;&gt;9</title>\n",
       "<path fill=\"none\" stroke=\"black\" d=\"M344,-704.391C344,-695.862 344,-686.763 344,-677.912\"/>\n",
       "<polygon fill=\"black\" stroke=\"black\" points=\"347.5,-677.684 344,-667.684 340.5,-677.684 347.5,-677.684\"/>\n",
       "</g>\n",
       "<!-- 20 -->\n",
       "<g id=\"node19\" class=\"node\"><title>20</title>\n",
       "<path fill=\"none\" stroke=\"black\" d=\"M526,-660C526,-660 438,-660 438,-660 432,-660 426,-654 426,-648 426,-648 426,-604 426,-604 426,-598 432,-592 438,-592 438,-592 526,-592 526,-592 532,-592 538,-598 538,-604 538,-604 538,-648 538,-648 538,-654 532,-660 526,-660\"/>\n",
       "<text text-anchor=\"start\" x=\"453\" y=\"-644.8\" font-family=\"Helvetica,sans-Serif\" font-size=\"14.00\">gini = 0.5</text>\n",
       "<text text-anchor=\"start\" x=\"444\" y=\"-629.8\" font-family=\"Helvetica,sans-Serif\" font-size=\"14.00\">samples = 2</text>\n",
       "<text text-anchor=\"start\" x=\"441.5\" y=\"-614.8\" font-family=\"Helvetica,sans-Serif\" font-size=\"14.00\">value = [1, 1]</text>\n",
       "<text text-anchor=\"start\" x=\"434\" y=\"-599.8\" font-family=\"Helvetica,sans-Serif\" font-size=\"14.00\">class = class_0</text>\n",
       "</g>\n",
       "<!-- 8&#45;&gt;20 -->\n",
       "<g id=\"edge18\" class=\"edge\"><title>8&#45;&gt;20</title>\n",
       "<path fill=\"none\" stroke=\"black\" d=\"M391.492,-704.391C405.701,-692.241 421.262,-678.935 435.413,-666.835\"/>\n",
       "<polygon fill=\"black\" stroke=\"black\" points=\"437.786,-669.411 443.112,-660.252 433.237,-664.091 437.786,-669.411\"/>\n",
       "</g>\n",
       "<!-- 19 -->\n",
       "<g id=\"node9\" class=\"node\"><title>19</title>\n",
       "<path fill=\"#e58139\" stroke=\"black\" d=\"M383,-540C383,-540 295,-540 295,-540 289,-540 283,-534 283,-528 283,-528 283,-484 283,-484 283,-478 289,-472 295,-472 295,-472 383,-472 383,-472 389,-472 395,-478 395,-484 395,-484 395,-528 395,-528 395,-534 389,-540 383,-540\"/>\n",
       "<text text-anchor=\"start\" x=\"310\" y=\"-524.8\" font-family=\"Helvetica,sans-Serif\" font-size=\"14.00\">gini = 0.0</text>\n",
       "<text text-anchor=\"start\" x=\"301\" y=\"-509.8\" font-family=\"Helvetica,sans-Serif\" font-size=\"14.00\">samples = 1</text>\n",
       "<text text-anchor=\"start\" x=\"298.5\" y=\"-494.8\" font-family=\"Helvetica,sans-Serif\" font-size=\"14.00\">value = [1, 0]</text>\n",
       "<text text-anchor=\"start\" x=\"291\" y=\"-479.8\" font-family=\"Helvetica,sans-Serif\" font-size=\"14.00\">class = class_0</text>\n",
       "</g>\n",
       "<!-- 9&#45;&gt;19 -->\n",
       "<g id=\"edge8\" class=\"edge\"><title>9&#45;&gt;19</title>\n",
       "<path fill=\"none\" stroke=\"black\" d=\"M342.279,-584.391C341.817,-573.479 341.315,-561.634 340.846,-550.568\"/>\n",
       "<polygon fill=\"black\" stroke=\"black\" points=\"344.329,-550.095 340.409,-540.252 337.336,-550.392 344.329,-550.095\"/>\n",
       "</g>\n",
       "<!-- 10 -->\n",
       "<g id=\"node10\" class=\"node\"><title>10</title>\n",
       "<path fill=\"#e58139\" fill-opacity=\"0.858824\" stroke=\"black\" d=\"M532.25,-547.5C532.25,-547.5 425.75,-547.5 425.75,-547.5 419.75,-547.5 413.75,-541.5 413.75,-535.5 413.75,-535.5 413.75,-476.5 413.75,-476.5 413.75,-470.5 419.75,-464.5 425.75,-464.5 425.75,-464.5 532.25,-464.5 532.25,-464.5 538.25,-464.5 544.25,-470.5 544.25,-476.5 544.25,-476.5 544.25,-535.5 544.25,-535.5 544.25,-541.5 538.25,-547.5 532.25,-547.5\"/>\n",
       "<text text-anchor=\"start\" x=\"421.5\" y=\"-532.3\" font-family=\"Helvetica,sans-Serif\" font-size=\"14.00\">feature_1 ≤ &#45;0.166</text>\n",
       "<text text-anchor=\"start\" x=\"442.5\" y=\"-517.3\" font-family=\"Helvetica,sans-Serif\" font-size=\"14.00\">gini = 0.215</text>\n",
       "<text text-anchor=\"start\" x=\"437\" y=\"-502.3\" font-family=\"Helvetica,sans-Serif\" font-size=\"14.00\">samples = 49</text>\n",
       "<text text-anchor=\"start\" x=\"423\" y=\"-487.3\" font-family=\"Helvetica,sans-Serif\" font-size=\"14.00\">value = [43.0, 6.0]</text>\n",
       "<text text-anchor=\"start\" x=\"431\" y=\"-472.3\" font-family=\"Helvetica,sans-Serif\" font-size=\"14.00\">class = class_0</text>\n",
       "</g>\n",
       "<!-- 9&#45;&gt;10 -->\n",
       "<g id=\"edge9\" class=\"edge\"><title>9&#45;&gt;10</title>\n",
       "<path fill=\"none\" stroke=\"black\" d=\"M390.459,-584.391C401.49,-574.749 413.354,-564.38 424.7,-554.463\"/>\n",
       "<polygon fill=\"black\" stroke=\"black\" points=\"427.229,-556.9 432.455,-547.684 422.622,-551.63 427.229,-556.9\"/>\n",
       "</g>\n",
       "<!-- 18 -->\n",
       "<g id=\"node11\" class=\"node\"><title>18</title>\n",
       "<path fill=\"#e58139\" fill-opacity=\"0.498039\" stroke=\"black\" d=\"M454,-420C454,-420 366,-420 366,-420 360,-420 354,-414 354,-408 354,-408 354,-364 354,-364 354,-358 360,-352 366,-352 366,-352 454,-352 454,-352 460,-352 466,-358 466,-364 466,-364 466,-408 466,-408 466,-414 460,-420 454,-420\"/>\n",
       "<text text-anchor=\"start\" x=\"373.5\" y=\"-404.8\" font-family=\"Helvetica,sans-Serif\" font-size=\"14.00\">gini = 0.444</text>\n",
       "<text text-anchor=\"start\" x=\"372\" y=\"-389.8\" font-family=\"Helvetica,sans-Serif\" font-size=\"14.00\">samples = 3</text>\n",
       "<text text-anchor=\"start\" x=\"369.5\" y=\"-374.8\" font-family=\"Helvetica,sans-Serif\" font-size=\"14.00\">value = [2, 1]</text>\n",
       "<text text-anchor=\"start\" x=\"362\" y=\"-359.8\" font-family=\"Helvetica,sans-Serif\" font-size=\"14.00\">class = class_0</text>\n",
       "</g>\n",
       "<!-- 10&#45;&gt;18 -->\n",
       "<g id=\"edge10\" class=\"edge\"><title>10&#45;&gt;18</title>\n",
       "<path fill=\"none\" stroke=\"black\" d=\"M455.254,-464.391C448.61,-453.029 441.375,-440.655 434.678,-429.203\"/>\n",
       "<polygon fill=\"black\" stroke=\"black\" points=\"437.513,-427.118 429.444,-420.252 431.471,-430.652 437.513,-427.118\"/>\n",
       "</g>\n",
       "<!-- 11 -->\n",
       "<g id=\"node12\" class=\"node\"><title>11</title>\n",
       "<path fill=\"#e58139\" fill-opacity=\"0.878431\" stroke=\"black\" d=\"M600,-427.5C600,-427.5 496,-427.5 496,-427.5 490,-427.5 484,-421.5 484,-415.5 484,-415.5 484,-356.5 484,-356.5 484,-350.5 490,-344.5 496,-344.5 496,-344.5 600,-344.5 600,-344.5 606,-344.5 612,-350.5 612,-356.5 612,-356.5 612,-415.5 612,-415.5 612,-421.5 606,-427.5 600,-427.5\"/>\n",
       "<text text-anchor=\"start\" x=\"493\" y=\"-412.3\" font-family=\"Helvetica,sans-Serif\" font-size=\"14.00\">feature_0 ≤ 0.168</text>\n",
       "<text text-anchor=\"start\" x=\"511.5\" y=\"-397.3\" font-family=\"Helvetica,sans-Serif\" font-size=\"14.00\">gini = 0.194</text>\n",
       "<text text-anchor=\"start\" x=\"506\" y=\"-382.3\" font-family=\"Helvetica,sans-Serif\" font-size=\"14.00\">samples = 46</text>\n",
       "<text text-anchor=\"start\" x=\"492\" y=\"-367.3\" font-family=\"Helvetica,sans-Serif\" font-size=\"14.00\">value = [41.0, 5.0]</text>\n",
       "<text text-anchor=\"start\" x=\"500\" y=\"-352.3\" font-family=\"Helvetica,sans-Serif\" font-size=\"14.00\">class = class_0</text>\n",
       "</g>\n",
       "<!-- 10&#45;&gt;11 -->\n",
       "<g id=\"edge11\" class=\"edge\"><title>10&#45;&gt;11</title>\n",
       "<path fill=\"none\" stroke=\"black\" d=\"M502.746,-464.391C508.004,-455.398 513.633,-445.772 519.072,-436.471\"/>\n",
       "<polygon fill=\"black\" stroke=\"black\" points=\"522.184,-438.083 524.21,-427.684 516.141,-434.55 522.184,-438.083\"/>\n",
       "</g>\n",
       "<!-- 17 -->\n",
       "<g id=\"node13\" class=\"node\"><title>17</title>\n",
       "<path fill=\"#e58139\" stroke=\"black\" d=\"M523,-300C523,-300 435,-300 435,-300 429,-300 423,-294 423,-288 423,-288 423,-244 423,-244 423,-238 429,-232 435,-232 435,-232 523,-232 523,-232 529,-232 535,-238 535,-244 535,-244 535,-288 535,-288 535,-294 529,-300 523,-300\"/>\n",
       "<text text-anchor=\"start\" x=\"450\" y=\"-284.8\" font-family=\"Helvetica,sans-Serif\" font-size=\"14.00\">gini = 0.0</text>\n",
       "<text text-anchor=\"start\" x=\"441\" y=\"-269.8\" font-family=\"Helvetica,sans-Serif\" font-size=\"14.00\">samples = 1</text>\n",
       "<text text-anchor=\"start\" x=\"438.5\" y=\"-254.8\" font-family=\"Helvetica,sans-Serif\" font-size=\"14.00\">value = [1, 0]</text>\n",
       "<text text-anchor=\"start\" x=\"431\" y=\"-239.8\" font-family=\"Helvetica,sans-Serif\" font-size=\"14.00\">class = class_0</text>\n",
       "</g>\n",
       "<!-- 11&#45;&gt;17 -->\n",
       "<g id=\"edge12\" class=\"edge\"><title>11&#45;&gt;17</title>\n",
       "<path fill=\"none\" stroke=\"black\" d=\"M524.254,-344.391C517.61,-333.029 510.375,-320.655 503.678,-309.203\"/>\n",
       "<polygon fill=\"black\" stroke=\"black\" points=\"506.513,-307.118 498.444,-300.252 500.471,-310.652 506.513,-307.118\"/>\n",
       "</g>\n",
       "<!-- 12 -->\n",
       "<g id=\"node14\" class=\"node\"><title>12</title>\n",
       "<path fill=\"#e58139\" fill-opacity=\"0.874510\" stroke=\"black\" d=\"M669,-307.5C669,-307.5 565,-307.5 565,-307.5 559,-307.5 553,-301.5 553,-295.5 553,-295.5 553,-236.5 553,-236.5 553,-230.5 559,-224.5 565,-224.5 565,-224.5 669,-224.5 669,-224.5 675,-224.5 681,-230.5 681,-236.5 681,-236.5 681,-295.5 681,-295.5 681,-301.5 675,-307.5 669,-307.5\"/>\n",
       "<text text-anchor=\"start\" x=\"562\" y=\"-292.3\" font-family=\"Helvetica,sans-Serif\" font-size=\"14.00\">feature_0 ≤ 0.211</text>\n",
       "<text text-anchor=\"start\" x=\"580.5\" y=\"-277.3\" font-family=\"Helvetica,sans-Serif\" font-size=\"14.00\">gini = 0.198</text>\n",
       "<text text-anchor=\"start\" x=\"575\" y=\"-262.3\" font-family=\"Helvetica,sans-Serif\" font-size=\"14.00\">samples = 45</text>\n",
       "<text text-anchor=\"start\" x=\"561\" y=\"-247.3\" font-family=\"Helvetica,sans-Serif\" font-size=\"14.00\">value = [40.0, 5.0]</text>\n",
       "<text text-anchor=\"start\" x=\"569\" y=\"-232.3\" font-family=\"Helvetica,sans-Serif\" font-size=\"14.00\">class = class_0</text>\n",
       "</g>\n",
       "<!-- 11&#45;&gt;12 -->\n",
       "<g id=\"edge13\" class=\"edge\"><title>11&#45;&gt;12</title>\n",
       "<path fill=\"none\" stroke=\"black\" d=\"M571.746,-344.391C577.004,-335.398 582.633,-325.772 588.072,-316.471\"/>\n",
       "<polygon fill=\"black\" stroke=\"black\" points=\"591.184,-318.083 593.21,-307.684 585.141,-314.55 591.184,-318.083\"/>\n",
       "</g>\n",
       "<!-- 13 -->\n",
       "<g id=\"node15\" class=\"node\"><title>13</title>\n",
       "<path fill=\"#399de5\" fill-opacity=\"0.400000\" stroke=\"black\" d=\"M599,-187.5C599,-187.5 497,-187.5 497,-187.5 491,-187.5 485,-181.5 485,-175.5 485,-175.5 485,-116.5 485,-116.5 485,-110.5 491,-104.5 497,-104.5 497,-104.5 599,-104.5 599,-104.5 605,-104.5 611,-110.5 611,-116.5 611,-116.5 611,-175.5 611,-175.5 611,-181.5 605,-187.5 599,-187.5\"/>\n",
       "<text text-anchor=\"start\" x=\"493\" y=\"-172.3\" font-family=\"Helvetica,sans-Serif\" font-size=\"14.00\">feature_0 ≤ 0.174</text>\n",
       "<text text-anchor=\"start\" x=\"511.5\" y=\"-157.3\" font-family=\"Helvetica,sans-Serif\" font-size=\"14.00\">gini = 0.469</text>\n",
       "<text text-anchor=\"start\" x=\"510\" y=\"-142.3\" font-family=\"Helvetica,sans-Serif\" font-size=\"14.00\">samples = 8</text>\n",
       "<text text-anchor=\"start\" x=\"496\" y=\"-127.3\" font-family=\"Helvetica,sans-Serif\" font-size=\"14.00\">value = [3.0, 5.0]</text>\n",
       "<text text-anchor=\"start\" x=\"500\" y=\"-112.3\" font-family=\"Helvetica,sans-Serif\" font-size=\"14.00\">class = class_1</text>\n",
       "</g>\n",
       "<!-- 12&#45;&gt;13 -->\n",
       "<g id=\"edge14\" class=\"edge\"><title>12&#45;&gt;13</title>\n",
       "<path fill=\"none\" stroke=\"black\" d=\"M593.254,-224.391C587.996,-215.398 582.367,-205.772 576.928,-196.471\"/>\n",
       "<polygon fill=\"black\" stroke=\"black\" points=\"579.859,-194.55 571.79,-187.684 573.816,-198.083 579.859,-194.55\"/>\n",
       "</g>\n",
       "<!-- 16 -->\n",
       "<g id=\"node18\" class=\"node\"><title>16</title>\n",
       "<path fill=\"#e58139\" stroke=\"black\" d=\"M729,-180C729,-180 641,-180 641,-180 635,-180 629,-174 629,-168 629,-168 629,-124 629,-124 629,-118 635,-112 641,-112 641,-112 729,-112 729,-112 735,-112 741,-118 741,-124 741,-124 741,-168 741,-168 741,-174 735,-180 729,-180\"/>\n",
       "<text text-anchor=\"start\" x=\"656\" y=\"-164.8\" font-family=\"Helvetica,sans-Serif\" font-size=\"14.00\">gini = 0.0</text>\n",
       "<text text-anchor=\"start\" x=\"643\" y=\"-149.8\" font-family=\"Helvetica,sans-Serif\" font-size=\"14.00\">samples = 37</text>\n",
       "<text text-anchor=\"start\" x=\"640.5\" y=\"-134.8\" font-family=\"Helvetica,sans-Serif\" font-size=\"14.00\">value = [37, 0]</text>\n",
       "<text text-anchor=\"start\" x=\"637\" y=\"-119.8\" font-family=\"Helvetica,sans-Serif\" font-size=\"14.00\">class = class_0</text>\n",
       "</g>\n",
       "<!-- 12&#45;&gt;16 -->\n",
       "<g id=\"edge17\" class=\"edge\"><title>12&#45;&gt;16</title>\n",
       "<path fill=\"none\" stroke=\"black\" d=\"M640.402,-224.391C646.95,-213.029 654.08,-200.655 660.68,-189.203\"/>\n",
       "<polygon fill=\"black\" stroke=\"black\" points=\"663.877,-190.664 665.838,-180.252 657.812,-187.169 663.877,-190.664\"/>\n",
       "</g>\n",
       "<!-- 15 -->\n",
       "<g id=\"node16\" class=\"node\"><title>15</title>\n",
       "<path fill=\"#399de5\" stroke=\"black\" d=\"M527,-68C527,-68 439,-68 439,-68 433,-68 427,-62 427,-56 427,-56 427,-12 427,-12 427,-6 433,-0 439,-0 439,-0 527,-0 527,-0 533,-0 539,-6 539,-12 539,-12 539,-56 539,-56 539,-62 533,-68 527,-68\"/>\n",
       "<text text-anchor=\"start\" x=\"454\" y=\"-52.8\" font-family=\"Helvetica,sans-Serif\" font-size=\"14.00\">gini = 0.0</text>\n",
       "<text text-anchor=\"start\" x=\"445\" y=\"-37.8\" font-family=\"Helvetica,sans-Serif\" font-size=\"14.00\">samples = 2</text>\n",
       "<text text-anchor=\"start\" x=\"442.5\" y=\"-22.8\" font-family=\"Helvetica,sans-Serif\" font-size=\"14.00\">value = [0, 2]</text>\n",
       "<text text-anchor=\"start\" x=\"435\" y=\"-7.8\" font-family=\"Helvetica,sans-Serif\" font-size=\"14.00\">class = class_1</text>\n",
       "</g>\n",
       "<!-- 13&#45;&gt;15 -->\n",
       "<g id=\"edge15\" class=\"edge\"><title>13&#45;&gt;15</title>\n",
       "<path fill=\"none\" stroke=\"black\" d=\"M523.981,-104.353C518.719,-95.4478 513.138,-86.0034 507.845,-77.0452\"/>\n",
       "<polygon fill=\"black\" stroke=\"black\" points=\"510.77,-75.1157 502.67,-68.287 504.744,-78.6768 510.77,-75.1157\"/>\n",
       "</g>\n",
       "<!-- 14 -->\n",
       "<g id=\"node17\" class=\"node\"><title>14</title>\n",
       "<path fill=\"none\" stroke=\"black\" d=\"M657,-68C657,-68 569,-68 569,-68 563,-68 557,-62 557,-56 557,-56 557,-12 557,-12 557,-6 563,-0 569,-0 569,-0 657,-0 657,-0 663,-0 669,-6 669,-12 669,-12 669,-56 669,-56 669,-62 663,-68 657,-68\"/>\n",
       "<text text-anchor=\"start\" x=\"584\" y=\"-52.8\" font-family=\"Helvetica,sans-Serif\" font-size=\"14.00\">gini = 0.5</text>\n",
       "<text text-anchor=\"start\" x=\"575\" y=\"-37.8\" font-family=\"Helvetica,sans-Serif\" font-size=\"14.00\">samples = 6</text>\n",
       "<text text-anchor=\"start\" x=\"572.5\" y=\"-22.8\" font-family=\"Helvetica,sans-Serif\" font-size=\"14.00\">value = [3, 3]</text>\n",
       "<text text-anchor=\"start\" x=\"565\" y=\"-7.8\" font-family=\"Helvetica,sans-Serif\" font-size=\"14.00\">class = class_0</text>\n",
       "</g>\n",
       "<!-- 13&#45;&gt;14 -->\n",
       "<g id=\"edge16\" class=\"edge\"><title>13&#45;&gt;14</title>\n",
       "<path fill=\"none\" stroke=\"black\" d=\"M572.019,-104.353C577.281,-95.4478 582.862,-86.0034 588.155,-77.0452\"/>\n",
       "<polygon fill=\"black\" stroke=\"black\" points=\"591.256,-78.6768 593.33,-68.287 585.23,-75.1157 591.256,-78.6768\"/>\n",
       "</g>\n",
       "</g>\n",
       "</svg>\n"
      ],
      "text/plain": [
       "<graphviz.files.Source at 0x1124ee2d0>"
      ]
     },
     "execution_count": 640,
     "metadata": {},
     "output_type": "execute_result"
    }
   ],
   "source": [
    "import graphviz \n",
    "dot_data = tree.export_graphviz(clf, out_file=None, \n",
    "                         feature_names=[\"feature_\"+str(i) for i in range(D)],  \n",
    "                         class_names=[\"class_0\", \"class_1\"],  \n",
    "                         filled=True, rounded=True,  \n",
    "                         special_characters=True)  \n",
    "\n",
    "graph = graphviz.Source(dot_data)  \n",
    "graph "
   ]
  },
  {
   "cell_type": "code",
   "execution_count": 365,
   "metadata": {},
   "outputs": [
    {
     "data": {
      "text/plain": [
       "array([[  0.,  50.]])"
      ]
     },
     "execution_count": 365,
     "metadata": {},
     "output_type": "execute_result"
    }
   ],
   "source": [
    "clf.tree_.value[1]"
   ]
  },
  {
   "cell_type": "code",
   "execution_count": 353,
   "metadata": {},
   "outputs": [
    {
     "data": {
      "text/plain": [
       "array([[ 1.,  3.]])"
      ]
     },
     "execution_count": 353,
     "metadata": {},
     "output_type": "execute_result"
    }
   ],
   "source": [
    "np.asarray([compute_class_distribution(clf.classes_,[0,1,1,1])])"
   ]
  },
  {
   "cell_type": "code",
   "execution_count": 367,
   "metadata": {},
   "outputs": [
    {
     "data": {
      "text/plain": [
       "array([[[  5.00e+01,   5.00e+01]],\n",
       "\n",
       "       [[  0.00e+00,   5.00e+01]],\n",
       "\n",
       "       [[  5.00e+01,   9.80e-07]],\n",
       "\n",
       "       [[  1.00e+00,   0.00e+00]],\n",
       "\n",
       "       [[  1.00e+00,   2.00e+00]],\n",
       "\n",
       "       [[  1.00e+00,   0.00e+00]],\n",
       "\n",
       "       [[  0.00e+00,   2.00e+00]],\n",
       "\n",
       "       [[  2.00e+00,   0.00e+00]],\n",
       "\n",
       "       [[  4.90e+01,   0.00e+00]]])"
      ]
     },
     "execution_count": 367,
     "metadata": {},
     "output_type": "execute_result"
    }
   ],
   "source": [
    "clf.tree_.value"
   ]
  },
  {
   "cell_type": "code",
   "execution_count": null,
   "metadata": {
    "collapsed": true
   },
   "outputs": [],
   "source": []
  }
 ],
 "metadata": {
  "kernelspec": {
   "display_name": "Python 2",
   "language": "python",
   "name": "python2"
  },
  "language_info": {
   "codemirror_mode": {
    "name": "ipython",
    "version": 2
   },
   "file_extension": ".py",
   "mimetype": "text/x-python",
   "name": "python",
   "nbconvert_exporter": "python",
   "pygments_lexer": "ipython2",
   "version": "2.7.11"
  }
 },
 "nbformat": 4,
 "nbformat_minor": 2
}
